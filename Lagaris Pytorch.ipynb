{
 "cells": [
  {
   "cell_type": "markdown",
   "metadata": {
    "id": "ghOOzkl2XuNL"
   },
   "source": [
    "https://www.analyticsvidhya.com/blog/2021/09/ordinary-differential-equations-made-easy-with-deep-learning/"
   ]
  },
  {
   "cell_type": "code",
   "execution_count": 7,
   "metadata": {
    "executionInfo": {
     "elapsed": 6315,
     "status": "ok",
     "timestamp": 1638300736897,
     "user": {
      "displayName": "Dmitry Rokhlin",
      "photoUrl": "https://lh3.googleusercontent.com/a/default-user=s64",
      "userId": "04125091294042394805"
     },
     "user_tz": -180
    },
    "id": "xz_GYq__VN5A"
   },
   "outputs": [],
   "source": [
    "import torch\n",
    "import torch.nn as nn\n",
    "import matplotlib.pyplot as plt\n",
    "import numpy as np\n",
    "\n",
    "## check if GPU is available and use it; otherwise use CPU\n",
    "device = torch.device(\"cuda:0\" if torch.cuda.is_available() else \"cpu\")\n"
   ]
  },
  {
   "cell_type": "markdown",
   "metadata": {
    "id": "_MSBok_ZXo5Q"
   },
   "source": [
    "Lagaris, 1"
   ]
  },
  {
   "cell_type": "code",
   "execution_count": 13,
   "metadata": {
    "executionInfo": {
     "elapsed": 626,
     "status": "ok",
     "timestamp": 1638300752485,
     "user": {
      "displayName": "Dmitry Rokhlin",
      "photoUrl": "https://lh3.googleusercontent.com/a/default-user=s64",
      "userId": "04125091294042394805"
     },
     "user_tz": -180
    },
    "id": "t64dpQtaVXWa"
   },
   "outputs": [],
   "source": [
    "\n",
    "N = nn.Sequential(nn.Linear(1, 50), nn.Sigmoid(), nn.Linear(50,1, bias=False))\n",
    "\n",
    "A = 0\n",
    "Psi_t = lambda x: A + x * N(x)  # A is the initial condition. Automatically satisfies init. condit\n",
    "f = lambda x, Psi: torch.exp(-x / 5.0) * torch.cos(x) - Psi / 5.0"
   ]
  },
  {
   "cell_type": "markdown",
   "metadata": {},
   "source": [
    "$$ \\frac{d\\psi}{dx} = e^{\\frac{-x}{5}}\\cos(x) - \\frac{\\psi}{5} $$ \n",
    "$$ \\psi(0) = A = 0$$"
   ]
  },
  {
   "cell_type": "markdown",
   "metadata": {},
   "source": [
    "# Our Loss function"
   ]
  },
  {
   "cell_type": "code",
   "execution_count": 9,
   "metadata": {
    "executionInfo": {
     "elapsed": 394,
     "status": "ok",
     "timestamp": 1638301143358,
     "user": {
      "displayName": "Dmitry Rokhlin",
      "photoUrl": "https://lh3.googleusercontent.com/a/default-user=s64",
      "userId": "04125091294042394805"
     },
     "user_tz": -180
    },
    "id": "0eZzL2dDWsUv"
   },
   "outputs": [],
   "source": [
    "def loss(x):\n",
    "    ''' will be np.linspace(0, 2, 100)[:, None],  which is, a strange array of numbers equidistant\n",
    "    from 0 to 2.'''\n",
    "\n",
    "    x.requires_grad = True  # We need to set it to true, because then we compute its gradient in autograd.grad below\n",
    "                            # in Psi_t_x, 4 lines of code below\n",
    "    outputs = Psi_t(x) # Here all the system/graph of neural network is applied\n",
    "    \n",
    "    \n",
    "    # Psi_t_x ----- is the guess function Psi derivated wrt x\n",
    "    Psi_t_x = torch.autograd.grad(outputs, x, grad_outputs=torch.ones_like(outputs),\n",
    "                        create_graph=True)[0]\n",
    "    \n",
    "    final_loss = torch.mean( ( Psi_t_x - f(x, outputs) )  ** 2)\n",
    "    \n",
    "    print('loss is', final_loss)\n",
    "\n",
    "    return  final_loss"
   ]
  },
  {
   "cell_type": "code",
   "execution_count": 10,
   "metadata": {
    "executionInfo": {
     "elapsed": 486,
     "status": "ok",
     "timestamp": 1638301172226,
     "user": {
      "displayName": "Dmitry Rokhlin",
      "photoUrl": "https://lh3.googleusercontent.com/a/default-user=s64",
      "userId": "04125091294042394805"
     },
     "user_tz": -180
    },
    "id": "Riew-gYkW_Kw"
   },
   "outputs": [],
   "source": [
    "optimizer = torch.optim.LBFGS(N.parameters())\n",
    "x = torch.Tensor(np.linspace(0, 2, 100)[:, None]) # x = input of the neural network"
   ]
  },
  {
   "cell_type": "code",
   "execution_count": 11,
   "metadata": {
    "executionInfo": {
     "elapsed": 406,
     "status": "ok",
     "timestamp": 1638301245613,
     "user": {
      "displayName": "Dmitry Rokhlin",
      "photoUrl": "https://lh3.googleusercontent.com/a/default-user=s64",
      "userId": "04125091294042394805"
     },
     "user_tz": -180
    },
    "id": "-n4Y1uBUXQ97"
   },
   "outputs": [
    {
     "name": "stdout",
     "output_type": "stream",
     "text": [
      "loss is tensor(0.2482, grad_fn=<MeanBackward0>)\n",
      "loss is tensor(0.2073, grad_fn=<MeanBackward0>)\n",
      "loss is tensor(0.2011, grad_fn=<MeanBackward0>)\n",
      "loss is tensor(0.2004, grad_fn=<MeanBackward0>)\n",
      "loss is tensor(0.1846, grad_fn=<MeanBackward0>)\n",
      "loss is tensor(0.1612, grad_fn=<MeanBackward0>)\n",
      "loss is tensor(0.1050, grad_fn=<MeanBackward0>)\n",
      "loss is tensor(0.0071, grad_fn=<MeanBackward0>)\n",
      "loss is tensor(0.0068, grad_fn=<MeanBackward0>)\n",
      "loss is tensor(0.0066, grad_fn=<MeanBackward0>)\n",
      "loss is tensor(0.0062, grad_fn=<MeanBackward0>)\n",
      "loss is tensor(0.0042, grad_fn=<MeanBackward0>)\n",
      "loss is tensor(0.0035, grad_fn=<MeanBackward0>)\n",
      "loss is tensor(0.0031, grad_fn=<MeanBackward0>)\n",
      "loss is tensor(0.0023, grad_fn=<MeanBackward0>)\n",
      "loss is tensor(0.0020, grad_fn=<MeanBackward0>)\n",
      "loss is tensor(0.0015, grad_fn=<MeanBackward0>)\n",
      "loss is tensor(0.0015, grad_fn=<MeanBackward0>)\n",
      "loss is tensor(0.0012, grad_fn=<MeanBackward0>)\n",
      "loss is tensor(0.0010, grad_fn=<MeanBackward0>)\n",
      "loss is tensor(0.0012, grad_fn=<MeanBackward0>)\n",
      "loss is tensor(0.0009, grad_fn=<MeanBackward0>)\n",
      "loss is tensor(0.0008, grad_fn=<MeanBackward0>)\n",
      "loss is tensor(0.0022, grad_fn=<MeanBackward0>)\n",
      "loss is tensor(0.0008, grad_fn=<MeanBackward0>)\n",
      "loss is tensor(0.0008, grad_fn=<MeanBackward0>)\n",
      "loss is tensor(0.0045, grad_fn=<MeanBackward0>)\n",
      "loss is tensor(0.0007, grad_fn=<MeanBackward0>)\n",
      "loss is tensor(0.0007, grad_fn=<MeanBackward0>)\n",
      "loss is tensor(0.0100, grad_fn=<MeanBackward0>)\n",
      "loss is tensor(0.0007, grad_fn=<MeanBackward0>)\n",
      "loss is tensor(0.0007, grad_fn=<MeanBackward0>)\n",
      "loss is tensor(0.0100, grad_fn=<MeanBackward0>)\n",
      "loss is tensor(0.0007, grad_fn=<MeanBackward0>)\n",
      "loss is tensor(0.0007, grad_fn=<MeanBackward0>)\n",
      "loss is tensor(0.0067, grad_fn=<MeanBackward0>)\n",
      "loss is tensor(0.0007, grad_fn=<MeanBackward0>)\n",
      "loss is tensor(0.0007, grad_fn=<MeanBackward0>)\n",
      "loss is tensor(0.0059, grad_fn=<MeanBackward0>)\n",
      "loss is tensor(0.0007, grad_fn=<MeanBackward0>)\n",
      "loss is tensor(0.0007, grad_fn=<MeanBackward0>)\n",
      "loss is tensor(0.0052, grad_fn=<MeanBackward0>)\n",
      "loss is tensor(0.0006, grad_fn=<MeanBackward0>)\n",
      "loss is tensor(0.0006, grad_fn=<MeanBackward0>)\n",
      "loss is tensor(0.0045, grad_fn=<MeanBackward0>)\n",
      "loss is tensor(0.0006, grad_fn=<MeanBackward0>)\n",
      "loss is tensor(0.0006, grad_fn=<MeanBackward0>)\n",
      "loss is tensor(0.0039, grad_fn=<MeanBackward0>)\n",
      "loss is tensor(0.0006, grad_fn=<MeanBackward0>)\n",
      "loss is tensor(0.0006, grad_fn=<MeanBackward0>)\n",
      "loss is tensor(0.0033, grad_fn=<MeanBackward0>)\n",
      "loss is tensor(0.0006, grad_fn=<MeanBackward0>)\n",
      "loss is tensor(0.0006, grad_fn=<MeanBackward0>)\n",
      "loss is tensor(0.0027, grad_fn=<MeanBackward0>)\n",
      "loss is tensor(0.0006, grad_fn=<MeanBackward0>)\n",
      "loss is tensor(0.0005, grad_fn=<MeanBackward0>)\n",
      "loss is tensor(0.0021, grad_fn=<MeanBackward0>)\n",
      "loss is tensor(0.0005, grad_fn=<MeanBackward0>)\n",
      "loss is tensor(0.0005, grad_fn=<MeanBackward0>)\n",
      "loss is tensor(0.0016, grad_fn=<MeanBackward0>)\n",
      "loss is tensor(0.0005, grad_fn=<MeanBackward0>)\n",
      "loss is tensor(0.0005, grad_fn=<MeanBackward0>)\n",
      "loss is tensor(0.0010, grad_fn=<MeanBackward0>)\n",
      "loss is tensor(0.0005, grad_fn=<MeanBackward0>)\n",
      "loss is tensor(0.0005, grad_fn=<MeanBackward0>)\n",
      "loss is tensor(0.0006, grad_fn=<MeanBackward0>)\n",
      "loss is tensor(0.0005, grad_fn=<MeanBackward0>)\n",
      "loss is tensor(0.0004, grad_fn=<MeanBackward0>)\n",
      "loss is tensor(0.0005, grad_fn=<MeanBackward0>)\n",
      "loss is tensor(0.0004, grad_fn=<MeanBackward0>)\n",
      "loss is tensor(0.0004, grad_fn=<MeanBackward0>)\n",
      "loss is tensor(0.0004, grad_fn=<MeanBackward0>)\n",
      "loss is tensor(0.0004, grad_fn=<MeanBackward0>)\n",
      "loss is tensor(0.0004, grad_fn=<MeanBackward0>)\n",
      "loss is tensor(0.0004, grad_fn=<MeanBackward0>)\n",
      "loss is tensor(0.0003, grad_fn=<MeanBackward0>)\n",
      "loss is tensor(0.0003, grad_fn=<MeanBackward0>)\n",
      "loss is tensor(0.0003, grad_fn=<MeanBackward0>)\n",
      "loss is tensor(0.0003, grad_fn=<MeanBackward0>)\n",
      "loss is tensor(0.0003, grad_fn=<MeanBackward0>)\n",
      "loss is tensor(0.0003, grad_fn=<MeanBackward0>)\n",
      "loss is tensor(0.0003, grad_fn=<MeanBackward0>)\n",
      "loss is tensor(0.0002, grad_fn=<MeanBackward0>)\n",
      "loss is tensor(0.0002, grad_fn=<MeanBackward0>)\n",
      "loss is tensor(0.0008, grad_fn=<MeanBackward0>)\n",
      "loss is tensor(0.0002, grad_fn=<MeanBackward0>)\n",
      "loss is tensor(0.0002, grad_fn=<MeanBackward0>)\n",
      "loss is tensor(0.0010, grad_fn=<MeanBackward0>)\n",
      "loss is tensor(0.0002, grad_fn=<MeanBackward0>)\n",
      "loss is tensor(0.0002, grad_fn=<MeanBackward0>)\n",
      "loss is tensor(0.0002, grad_fn=<MeanBackward0>)\n",
      "loss is tensor(0.0002, grad_fn=<MeanBackward0>)\n",
      "loss is tensor(0.0002, grad_fn=<MeanBackward0>)\n",
      "loss is tensor(0.0002, grad_fn=<MeanBackward0>)\n",
      "loss is tensor(0.0002, grad_fn=<MeanBackward0>)\n",
      "loss is tensor(0.0002, grad_fn=<MeanBackward0>)\n",
      "loss is tensor(410.0786, grad_fn=<MeanBackward0>)\n",
      "loss is tensor(0.0002, grad_fn=<MeanBackward0>)\n",
      "loss is tensor(0.0002, grad_fn=<MeanBackward0>)\n",
      "loss is tensor(0.0002, grad_fn=<MeanBackward0>)\n",
      "loss is tensor(0.0002, grad_fn=<MeanBackward0>)\n",
      "loss is tensor(0.0002, grad_fn=<MeanBackward0>)\n",
      "loss is tensor(0.0002, grad_fn=<MeanBackward0>)\n",
      "loss is tensor(0.0002, grad_fn=<MeanBackward0>)\n",
      "loss is tensor(0.0002, grad_fn=<MeanBackward0>)\n",
      "loss is tensor(0.0002, grad_fn=<MeanBackward0>)\n",
      "loss is tensor(0.0002, grad_fn=<MeanBackward0>)\n",
      "loss is tensor(0.0002, grad_fn=<MeanBackward0>)\n",
      "loss is tensor(0.0002, grad_fn=<MeanBackward0>)\n",
      "loss is tensor(0.0002, grad_fn=<MeanBackward0>)\n",
      "loss is tensor(0.0002, grad_fn=<MeanBackward0>)\n",
      "loss is tensor(0.0002, grad_fn=<MeanBackward0>)\n",
      "loss is tensor(0.0002, grad_fn=<MeanBackward0>)\n",
      "loss is tensor(0.0002, grad_fn=<MeanBackward0>)\n",
      "loss is tensor(0.0002, grad_fn=<MeanBackward0>)\n",
      "loss is tensor(0.0002, grad_fn=<MeanBackward0>)\n",
      "loss is tensor(0.0001, grad_fn=<MeanBackward0>)\n",
      "loss is tensor(9.1904e-05, grad_fn=<MeanBackward0>)\n",
      "loss is tensor(0.0003, grad_fn=<MeanBackward0>)\n",
      "loss is tensor(3.2070e-05, grad_fn=<MeanBackward0>)\n",
      "loss is tensor(2.8836e-05, grad_fn=<MeanBackward0>)\n",
      "loss is tensor(1.0160e-05, grad_fn=<MeanBackward0>)\n",
      "loss is tensor(3.5799e-06, grad_fn=<MeanBackward0>)\n",
      "loss is tensor(2.5521e-06, grad_fn=<MeanBackward0>)\n",
      "loss is tensor(2.0648e-06, grad_fn=<MeanBackward0>)\n",
      "loss is tensor(1.2488e-06, grad_fn=<MeanBackward0>)\n",
      "loss is tensor(2.9608e-07, grad_fn=<MeanBackward0>)\n",
      "loss is tensor(2.4293e-07, grad_fn=<MeanBackward0>)\n",
      "loss is tensor(2.3600e-07, grad_fn=<MeanBackward0>)\n",
      "loss is tensor(2.3600e-07, grad_fn=<MeanBackward0>)\n",
      "loss is tensor(2.3600e-07, grad_fn=<MeanBackward0>)\n",
      "loss is tensor(2.3600e-07, grad_fn=<MeanBackward0>)\n"
     ]
    }
   ],
   "source": [
    "def closure():\n",
    "\n",
    "    optimizer.zero_grad()\n",
    "    l = loss(x)\n",
    "    l.backward()\n",
    "    \n",
    "    return l\n",
    "\n",
    "\n",
    "# Here train the neural network\n",
    "for i in range(10):\n",
    "    optimizer.step(closure)"
   ]
  },
  {
   "cell_type": "code",
   "execution_count": null,
   "metadata": {},
   "outputs": [],
   "source": []
  },
  {
   "cell_type": "code",
   "execution_count": 12,
   "metadata": {
    "colab": {
     "base_uri": "https://localhost:8080/",
     "height": 382
    },
    "executionInfo": {
     "elapsed": 1037,
     "status": "ok",
     "timestamp": 1638301287536,
     "user": {
      "displayName": "Dmitry Rokhlin",
      "photoUrl": "https://lh3.googleusercontent.com/a/default-user=s64",
      "userId": "04125091294042394805"
     },
     "user_tz": -180
    },
    "id": "cX4_GKWeXbGQ",
    "outputId": "2558eca2-1e94-469b-8fa1-032ee857072b"
   },
   "outputs": [
    {
     "data": {
      "image/png": "[encoded data removed]",
      "text/plain": [
       "<Figure size 600x400 with 1 Axes>"
      ]
     },
     "metadata": {
      "needs_background": "light"
     },
     "output_type": "display_data"
    }
   ],
   "source": [
    "xx = np.linspace(0, 2, 100)[:, None]\n",
    "\n",
    "with torch.no_grad():\n",
    "    yy = Psi_t(torch.Tensor(xx)).numpy()\n",
    "yt = np.exp(-xx / 5.0) * np.sin(xx)\n",
    "\n",
    "fig, ax = plt.subplots(dpi=100)\n",
    "ax.plot(xx, yt, label='True')\n",
    "ax.plot(xx, yy, '--', label='Neural network approximation')\n",
    "ax.set_xlabel('$x$')\n",
    "ax.set_ylabel('$Psi(x)$')\n",
    "plt.legend(loc='best');"
   ]
  },
  {
   "cell_type": "markdown",
   "metadata": {
    "id": "hncyphHUXzdP"
   },
   "source": [
    "Lagaris, 2"
   ]
  },
  {
   "cell_type": "code",
   "execution_count": 12,
   "metadata": {
    "executionInfo": {
     "elapsed": 408,
     "status": "ok",
     "timestamp": 1638301421071,
     "user": {
      "displayName": "Dmitry Rokhlin",
      "photoUrl": "https://lh3.googleusercontent.com/a/default-user=s64",
      "userId": "04125091294042394805"
     },
     "user_tz": -180
    },
    "id": "vG5-YXs-X7of"
   },
   "outputs": [],
   "source": [
    "N = nn.Sequential(nn.Linear(1, 50), nn.Sigmoid(), nn.Linear(50,1, bias=False))"
   ]
  },
  {
   "cell_type": "code",
   "execution_count": 13,
   "metadata": {
    "executionInfo": {
     "elapsed": 401,
     "status": "ok",
     "timestamp": 1638301439034,
     "user": {
      "displayName": "Dmitry Rokhlin",
      "photoUrl": "https://lh3.googleusercontent.com/a/default-user=s64",
      "userId": "04125091294042394805"
     },
     "user_tz": -180
    },
    "id": "Vei6EbuKYAPL"
   },
   "outputs": [],
   "source": [
    "A = 0.\n",
    "B = 0."
   ]
  },
  {
   "cell_type": "code",
   "execution_count": 14,
   "metadata": {
    "executionInfo": {
     "elapsed": 395,
     "status": "ok",
     "timestamp": 1638301454130,
     "user": {
      "displayName": "Dmitry Rokhlin",
      "photoUrl": "https://lh3.googleusercontent.com/a/default-user=s64",
      "userId": "04125091294042394805"
     },
     "user_tz": -180
    },
    "id": "6XwVvYfZYD_7"
   },
   "outputs": [],
   "source": [
    "Psi_t = lambda x: A*(1-x) + B * x + (1-x)* x * N(x)"
   ]
  },
  {
   "cell_type": "code",
   "execution_count": 15,
   "metadata": {
    "executionInfo": {
     "elapsed": 383,
     "status": "ok",
     "timestamp": 1638301473437,
     "user": {
      "displayName": "Dmitry Rokhlin",
      "photoUrl": "https://lh3.googleusercontent.com/a/default-user=s64",
      "userId": "04125091294042394805"
     },
     "user_tz": -180
    },
    "id": "4qj8PRmLYIVP"
   },
   "outputs": [],
   "source": [
    "f = lambda x, Psi: -1"
   ]
  },
  {
   "cell_type": "code",
   "execution_count": 16,
   "metadata": {
    "executionInfo": {
     "elapsed": 429,
     "status": "ok",
     "timestamp": 1638301522416,
     "user": {
      "displayName": "Dmitry Rokhlin",
      "photoUrl": "https://lh3.googleusercontent.com/a/default-user=s64",
      "userId": "04125091294042394805"
     },
     "user_tz": -180
    },
    "id": "ukZcD34pYUJv"
   },
   "outputs": [],
   "source": [
    "def loss(x):\n",
    "\n",
    "    x.requires_grad = True\n",
    "    outputs = Psi_t(x)\n",
    "\n",
    "    #we need Psi_x_x \n",
    "    #calculating gradient twice \n",
    "\n",
    "    Psi_t_x = torch.autograd.grad(outputs, x, grad_outputs=torch.ones_like(outputs),\n",
    "                                            create_graph=True)[0]\n",
    "    Psi_t_x_x = torch.autograd.grad(Psi_t_x, x, grad_outputs=torch.ones_like(Psi_t_x),\n",
    "                                            create_graph=True )[0]\n",
    "\n",
    "    total_loss = torch.mean((Psi_t_x_x - f(x, outputs)) ** 2)\n",
    "    print(\"loss is \", total_loss)\n",
    "    \n",
    "    return torch.mean((Psi_t_x_x - f(x, outputs)) ** 2)"
   ]
  },
  {
   "cell_type": "code",
   "execution_count": 17,
   "metadata": {
    "executionInfo": {
     "elapsed": 401,
     "status": "ok",
     "timestamp": 1638301535599,
     "user": {
      "displayName": "Dmitry Rokhlin",
      "photoUrl": "https://lh3.googleusercontent.com/a/default-user=s64",
      "userId": "04125091294042394805"
     },
     "user_tz": -180
    },
    "id": "PzGQ7EyeYX30"
   },
   "outputs": [],
   "source": [
    "optimizer = torch.optim.LBFGS(N.parameters())\n",
    "x = torch.Tensor(np.linspace(0, 1, 100)[:, None])"
   ]
  },
  {
   "cell_type": "code",
   "execution_count": 20,
   "metadata": {
    "executionInfo": {
     "elapsed": 393,
     "status": "ok",
     "timestamp": 1638301552942,
     "user": {
      "displayName": "Dmitry Rokhlin",
      "photoUrl": "https://lh3.googleusercontent.com/a/default-user=s64",
      "userId": "04125091294042394805"
     },
     "user_tz": -180
    },
    "id": "2Ga1XOcQYcJH"
   },
   "outputs": [
    {
     "name": "stdout",
     "output_type": "stream",
     "text": [
      "loss is  tensor(7.8883e-07, grad_fn=<MeanBackward0>)\n",
      "loss is  tensor(7.8883e-07, grad_fn=<MeanBackward0>)\n",
      "loss is  tensor(7.8883e-07, grad_fn=<MeanBackward0>)\n",
      "loss is  tensor(7.8883e-07, grad_fn=<MeanBackward0>)\n",
      "loss is  tensor(7.8883e-07, grad_fn=<MeanBackward0>)\n",
      "loss is  tensor(7.8883e-07, grad_fn=<MeanBackward0>)\n",
      "loss is  tensor(7.8883e-07, grad_fn=<MeanBackward0>)\n",
      "loss is  tensor(7.8883e-07, grad_fn=<MeanBackward0>)\n",
      "loss is  tensor(7.8883e-07, grad_fn=<MeanBackward0>)\n",
      "loss is  tensor(7.8883e-07, grad_fn=<MeanBackward0>)\n"
     ]
    }
   ],
   "source": [
    "def closure():\n",
    "    optimizer.zero_grad()\n",
    "    l = loss(x)\n",
    "    l.backward()\n",
    "    return l\n",
    "\n",
    "for i in range(10):\n",
    "    optimizer.step(closure)"
   ]
  },
  {
   "cell_type": "code",
   "execution_count": 26,
   "metadata": {
    "colab": {
     "base_uri": "https://localhost:8080/",
     "height": 382
    },
    "executionInfo": {
     "elapsed": 692,
     "status": "ok",
     "timestamp": 1638301567684,
     "user": {
      "displayName": "Dmitry Rokhlin",
      "photoUrl": "https://lh3.googleusercontent.com/a/default-user=s64",
      "userId": "04125091294042394805"
     },
     "user_tz": -180
    },
    "id": "E6Ev1kRIYfN5",
    "outputId": "a6aeac3e-7a16-4111-d334-1dc4671eb8d2"
   },
   "outputs": [
    {
     "data": {
      "image/png": "[encoded data removed]",
      "text/plain": [
       "<Figure size 600x400 with 1 Axes>"
      ]
     },
     "metadata": {
      "needs_background": "light"
     },
     "output_type": "display_data"
    }
   ],
   "source": [
    "xx = np.linspace(0, 1, 100)[:, None]\n",
    "\n",
    "with torch.no_grad():\n",
    "    yy = Psi_t(torch.Tensor(xx)).numpy()\n",
    "\n",
    "yt = (0.5) * (-xx**2 + xx ) #actual function pts\n",
    "\n",
    "fig, ax = plt.subplots(dpi=100)\n",
    "ax.plot(xx, yt, label='True')\n",
    "ax.plot(xx, yy, '--', label='Neural network approximation')\n",
    "ax.set_xlabel('$x$')\n",
    "ax.set_ylabel('$Psi(x)$')\n",
    "plt.legend(loc='best');"
   ]
  }
 ],
 "metadata": {
  "colab": {
   "authorship_tag": "ABX9TyOhXh5rtScV0JQ7dek+MCV0",
   "name": "Копия блокнота \"Untitled29.ipynb\"",
   "provenance": [
    {
     "file_id": "1U77MbLZz9lKwWXQwtFP93S50ezqGbE_H",
     "timestamp": 1638301709942
    }
   ]
  },
  "kernelspec": {
   "display_name": "Python 3 (ipykernel)",
   "language": "python",
   "name": "python3"
  },
  "language_info": {
   "codemirror_mode": {
    "name": "ipython",
    "version": 3
   },
   "file_extension": ".py",
   "mimetype": "text/x-python",
   "name": "python",
   "nbconvert_exporter": "python",
   "pygments_lexer": "ipython3",
   "version": "3.8.10"
  }
 },
 "nbformat": 4,
 "nbformat_minor": 1
}
