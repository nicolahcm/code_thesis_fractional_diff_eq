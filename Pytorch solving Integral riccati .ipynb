{
 "cells": [
  {
   "cell_type": "markdown",
   "metadata": {},
   "source": [
    "# We will try with \n",
    "\n",
    "https://pytorch.org/docs/stable/generated/torch.trapz.html\n",
    "\n",
    "https://pytorch.org/docs/stable/generated/torch.trapezoid.html#torch.trapezoid\n",
    "\n",
    "in the Integral Riccati:\n",
    "\n",
    "$$ \\psi = I_\\alpha (\\lambda \\psi^2 + \\mu \\psi + \\nu) = I_\\alpha(g)$$\n",
    "\n",
    "(if the initial condition $I_{1-\\alpha} \\psi(0) = 0$.) where \n",
    "\n",
    "$$g = \\lambda \\psi^2 + \\mu \\psi + \\nu$$"
   ]
  },
  {
   "cell_type": "markdown",
   "metadata": {},
   "source": [
    "We will compute $I_\\alpha(\\lambda \\psi^2 + \\mu \\psi + \\nu)$ throught the trapezioid. We will use $\\psi_t$ as \n",
    "a function of the neural network. \n",
    "\n",
    "We can use $\\psi_t := x^\\alpha N(x)$ "
   ]
  },
  {
   "cell_type": "code",
   "execution_count": 1,
   "metadata": {},
   "outputs": [],
   "source": [
    "import torch\n",
    "import torch.nn as nn\n",
    "import math\n",
    "import matplotlib.pyplot as plt\n",
    "import numpy as np\n",
    "import pandas as pd"
   ]
  },
  {
   "cell_type": "code",
   "execution_count": 2,
   "metadata": {},
   "outputs": [],
   "source": [
    "T = 1/252\n",
    "alph = 0.64\n",
    "lamb = 0.045\n",
    "mu = -64.938\n",
    "nu = 0"
   ]
  },
  {
   "cell_type": "code",
   "execution_count": 3,
   "metadata": {},
   "outputs": [],
   "source": [
    "N = nn.Sequential(nn.Linear(1, 30), nn.Sigmoid(),nn.Linear(30,1, bias=False))\n",
    "\n",
    "\n",
    "Psi_t = lambda x: x**alph * N(x)  # Trial solution"
   ]
  },
  {
   "cell_type": "markdown",
   "metadata": {},
   "source": [
    "### We remind the fractional R-L integral is defined as:\n",
    "\n",
    "$$I_\\alpha g(t) = \\frac{1}{\\Gamma(\\alpha)}\\int_0^t (t-s)^{\\alpha -1} g(s) ds $$"
   ]
  },
  {
   "cell_type": "markdown",
   "metadata": {},
   "source": [
    "# Test With Trapezoid. Doesn't work"
   ]
  },
  {
   "cell_type": "code",
   "execution_count": 4,
   "metadata": {},
   "outputs": [],
   "source": [
    "n_points = 50\n",
    "x_train = np.linspace(0, T, n_points)[:, None]\n",
    "x = torch.Tensor(x_train)\n",
    "x.requires_grad = True\n",
    "\n",
    "\n",
    "n_rectangles = 50\n",
    "x_in_the_integral = np.linspace(0, T, n_rectangles)[:, None]\n",
    "x_in_the_integral = torch.Tensor(x_in_the_integral)\n",
    "x_in_the_integral.requires_grad = True\n",
    "\n",
    "def I_alp(t):\n",
    "    ''' Be careful, t cannot be a tensor with more than 1 dimension. So we will use this fact in loss function'''\n",
    "    x_truncated_up_to_t = x_in_the_integral[x_in_the_integral<=t]\n",
    "    shape = x_truncated_up_to_t.shape[0]\n",
    "    x_trun = torch.reshape(x_truncated_up_to_t, (shape,1))\n",
    "    \n",
    "    # print(\"x_trun =\", x_trun)\n",
    "    \n",
    "    y = Psi_t(x_trun)\n",
    "    # print(\"y=\", y)\n",
    "    \n",
    "    g = lamb*y**2 + mu*y + nu\n",
    "    # print(\"g =\",g)\n",
    "    integrand = (t-x_trun)**(alph-1)*g\n",
    "    integral = torch.trapezoid(integrand[:,0], x_trun[:,0])\n",
    "    \n",
    "    result = 1/math.gamma(alph)*integral\n",
    "    return result"
   ]
  },
  {
   "cell_type": "code",
   "execution_count": 5,
   "metadata": {},
   "outputs": [
    {
     "data": {
      "text/plain": [
       "tensor(2.7571e-05, grad_fn=<MulBackward0>)"
      ]
     },
     "execution_count": 5,
     "metadata": {},
     "output_type": "execute_result"
    }
   ],
   "source": [
    "I_alp(0.0001)"
   ]
  },
  {
   "cell_type": "code",
   "execution_count": 6,
   "metadata": {},
   "outputs": [],
   "source": [
    "# x_in_the_integral[x_in_the_integral<= x[3]]        OK\n",
    "# x_in_the_integral[x_in_the_integral<= x]           ERROR"
   ]
  },
  {
   "cell_type": "code",
   "execution_count": 7,
   "metadata": {},
   "outputs": [],
   "source": [
    "def loss(x):\n",
    "    \n",
    "    outputs = Psi_t(x).T\n",
    "    integrals_vector = torch.tensor([[I_alp(i) for i in x]])\n",
    "\n",
    "    final_loss = torch.mean((outputs - integrals_vector)**2)\n",
    "    \n",
    "    print('loss is', final_loss)\n",
    "\n",
    "    return final_loss"
   ]
  },
  {
   "cell_type": "code",
   "execution_count": 8,
   "metadata": {},
   "outputs": [],
   "source": [
    "optimizer = torch.optim.Adadelta(N.parameters())\n",
    "\n",
    "def closure():\n",
    "\n",
    "    optimizer.zero_grad()\n",
    "    l = loss(x)\n",
    "    l.backward()\n",
    "    \n",
    "    return l"
   ]
  },
  {
   "cell_type": "code",
   "execution_count": 9,
   "metadata": {},
   "outputs": [
    {
     "name": "stdout",
     "output_type": "stream",
     "text": [
      "loss is tensor(inf, grad_fn=<MeanBackward0>)\n",
      "loss is tensor(nan, grad_fn=<MeanBackward0>)\n",
      "loss is tensor(nan, grad_fn=<MeanBackward0>)\n",
      "loss is tensor(nan, grad_fn=<MeanBackward0>)\n",
      "loss is tensor(nan, grad_fn=<MeanBackward0>)\n",
      "loss is tensor(nan, grad_fn=<MeanBackward0>)\n",
      "loss is tensor(nan, grad_fn=<MeanBackward0>)\n",
      "loss is tensor(nan, grad_fn=<MeanBackward0>)\n",
      "loss is tensor(nan, grad_fn=<MeanBackward0>)\n",
      "loss is tensor(nan, grad_fn=<MeanBackward0>)\n"
     ]
    }
   ],
   "source": [
    "# Here train the neural network\n",
    "for i in range(10):\n",
    "    optimizer.step(closure)"
   ]
  },
  {
   "cell_type": "markdown",
   "metadata": {},
   "source": [
    "# Comparing results with Euler"
   ]
  },
  {
   "cell_type": "code",
   "execution_count": 10,
   "metadata": {},
   "outputs": [
    {
     "data": {
      "text/html": [
       "<div>\n",
       "<style scoped>\n",
       "    .dataframe tbody tr th:only-of-type {\n",
       "        vertical-align: middle;\n",
       "    }\n",
       "\n",
       "    .dataframe tbody tr th {\n",
       "        vertical-align: top;\n",
       "    }\n",
       "\n",
       "    .dataframe thead th {\n",
       "        text-align: right;\n",
       "    }\n",
       "</style>\n",
       "<table border=\"1\" class=\"dataframe\">\n",
       "  <thead>\n",
       "    <tr style=\"text-align: right;\">\n",
       "      <th></th>\n",
       "      <th>value</th>\n",
       "    </tr>\n",
       "    <tr>\n",
       "      <th>time</th>\n",
       "      <th></th>\n",
       "    </tr>\n",
       "  </thead>\n",
       "  <tbody>\n",
       "    <tr>\n",
       "      <th>0.000000</th>\n",
       "      <td>0.000000</td>\n",
       "    </tr>\n",
       "    <tr>\n",
       "      <th>0.000124</th>\n",
       "      <td>0.007018</td>\n",
       "    </tr>\n",
       "    <tr>\n",
       "      <th>0.000248</th>\n",
       "      <td>0.010921</td>\n",
       "    </tr>\n",
       "    <tr>\n",
       "      <th>0.000372</th>\n",
       "      <td>0.014140</td>\n",
       "    </tr>\n",
       "    <tr>\n",
       "      <th>0.000496</th>\n",
       "      <td>0.016982</td>\n",
       "    </tr>\n",
       "  </tbody>\n",
       "</table>\n",
       "</div>"
      ],
      "text/plain": [
       "             value\n",
       "time              \n",
       "0.000000  0.000000\n",
       "0.000124  0.007018\n",
       "0.000248  0.010921\n",
       "0.000372  0.014140\n",
       "0.000496  0.016982"
      ]
     },
     "execution_count": 10,
     "metadata": {},
     "output_type": "execute_result"
    }
   ],
   "source": [
    "euler_df = pd.read_csv('results_from_tests/for_test_conformable_nn.csv').set_index('time')\n",
    "euler_df.head()"
   ]
  },
  {
   "cell_type": "code",
   "execution_count": null,
   "metadata": {},
   "outputs": [],
   "source": [
    "with torch.no_grad():\n",
    "    yy = Psi_t(x).detach().numpy()\n",
    "y_euler = euler_df.value\n",
    "x_euler = euler_df.index\n",
    "\n",
    "fig, ax = plt.subplots(dpi=100)\n",
    "ax.plot(x_euler, y_euler, label='True')\n",
    "ax.plot(x_train, yy, 'x', label='Neural network approximation')\n",
    "ax.set_xlabel('$x$')\n",
    "ax.set_ylabel('$Psi(x)$')\n",
    "plt.legend(loc='best');"
   ]
  },
  {
   "cell_type": "code",
   "execution_count": null,
   "metadata": {},
   "outputs": [],
   "source": []
  }
 ],
 "metadata": {
  "kernelspec": {
   "display_name": "Python 3",
   "language": "python",
   "name": "python3"
  },
  "language_info": {
   "codemirror_mode": {
    "name": "ipython",
    "version": 3
   },
   "file_extension": ".py",
   "mimetype": "text/x-python",
   "name": "python",
   "nbconvert_exporter": "python",
   "pygments_lexer": "ipython3",
   "version": "3.7.0"
  }
 },
 "nbformat": 4,
 "nbformat_minor": 4
}
