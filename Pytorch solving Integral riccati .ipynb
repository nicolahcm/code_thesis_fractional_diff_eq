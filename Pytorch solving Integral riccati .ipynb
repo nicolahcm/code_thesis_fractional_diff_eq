{
 "cells": [
  {
   "cell_type": "markdown",
   "metadata": {},
   "source": [
    "in the Integral Riccati:\n",
    "\n",
    "$$ \\psi = I_\\alpha (\\lambda \\psi^2 + \\mu \\psi + \\nu) = I_\\alpha(g)$$\n",
    "\n",
    "(if the initial condition $I_{1-\\alpha} \\psi(0) = 0$.) where \n",
    "\n",
    "$$g = \\lambda \\psi^2 + \\mu \\psi + \\nu$$"
   ]
  },
  {
   "cell_type": "markdown",
   "metadata": {},
   "source": [
    "We will compute $I_\\alpha(\\lambda \\psi^2 + \\mu \\psi + \\nu)$ throught the left-rectangles. We will use $\\psi_t$ as \n",
    "a function of the neural network. \n",
    "\n",
    "We can use $\\psi_t := x^\\alpha N(x)$ "
   ]
  },
  {
   "cell_type": "code",
   "execution_count": 1,
   "metadata": {},
   "outputs": [],
   "source": [
    "import torch\n",
    "import torch.nn as nn\n",
    "import math\n",
    "import matplotlib.pyplot as plt\n",
    "import numpy as np\n",
    "import pandas as pd\n",
    "import scipy\n",
    "import scipy.integrate as integrate"
   ]
  },
  {
   "cell_type": "code",
   "execution_count": 111,
   "metadata": {},
   "outputs": [],
   "source": [
    "T = 1/252\n",
    "\n",
    "# We want to solve:\n",
    "# alpha = 0.64, lambd = 0.045, mu = -64.938, nu = 44850\n",
    "# Let's rescale\n",
    "\n",
    "alpha = 0.64\n",
    "lambd = 60\n",
    "mu = -64.938\n",
    "nu = 4485"
   ]
  },
  {
   "cell_type": "code",
   "execution_count": 112,
   "metadata": {},
   "outputs": [],
   "source": [
    "N = nn.Sequential(nn.Linear(1, 10), nn.Sigmoid(),nn.Linear(10,1,bias=False))\n",
    "\n",
    "\n",
    "Psi_t = lambda x: N(x)*x**alpha\n",
    "\n",
    "def g(x):\n",
    "    result = lambd*Psi_t(x)**2+mu*Psi_t(x)+nu\n",
    "    return result\n",
    "\n",
    "def g_ia(s,t):\n",
    "    return (t-s)**(alpha-1)*g(s)"
   ]
  },
  {
   "cell_type": "code",
   "execution_count": 113,
   "metadata": {},
   "outputs": [
    {
     "data": {
      "text/plain": [
       "[<matplotlib.lines.Line2D at 0x7f678cf067f0>]"
      ]
     },
     "execution_count": 113,
     "metadata": {},
     "output_type": "execute_result"
    },
    {
     "data": {
      "image/png": "[encoded data removed]",
      "text/plain": [
       "<Figure size 432x288 with 1 Axes>"
      ]
     },
     "metadata": {
      "needs_background": "light"
     },
     "output_type": "display_data"
    }
   ],
   "source": [
    "n_x_s = 3000000\n",
    "res = g_ia(torch.tensor(np.linspace(0,T,n_x_s))[:,None].float(),T)[:,0].tolist()[:-1]\n",
    "\n",
    "fig,ax = plt.subplots()\n",
    "ax.plot(np.linspace(0,T,n_x_s)[:-1], res)"
   ]
  },
  {
   "cell_type": "markdown",
   "metadata": {},
   "source": [
    "Plot of $ \\lambda \\psi^2 + \\mu \\psi + \\nu$"
   ]
  },
  {
   "cell_type": "markdown",
   "metadata": {},
   "source": [
    "### We remind the fractional R-L integral is defined as:\n",
    "\n",
    "$$I_\\alpha g(t) = \\frac{1}{\\Gamma(\\alpha)}\\int_0^t (t-s)^{\\alpha -1} g(s) ds $$"
   ]
  },
  {
   "cell_type": "code",
   "execution_count": 114,
   "metadata": {},
   "outputs": [],
   "source": [
    "N = nn.Sequential(nn.Linear(1, 10), nn.Sigmoid(),nn.Linear(10,1,bias=False))\n",
    "\n",
    "\n",
    "Psi_t = lambda x: N(x)*x**alpha\n",
    "\n",
    "def g(x):\n",
    "    result = lambd*Psi_t(x)**2+mu*Psi_t(x)+nu\n",
    "    return result\n",
    "\n",
    "def g_ia(s,t):\n",
    "    return (t-s)**(alpha-1)*g(s)\n",
    "\n",
    "n_points = 100\n",
    "\n",
    "n_legendre = 200\n",
    "\n",
    "nodes, weights = scipy.special.roots_legendre(n_legendre)\n",
    "weights_tensor = torch.tensor(weights)[:,None].float()\n",
    "nodes_tensor = torch.tensor(nodes)[:,None].float()\n",
    "\n",
    "x_train = np.linspace(0, T, n_points)[:, None]\n",
    "x = torch.Tensor(x_train)\n",
    "x.requires_grad = True"
   ]
  },
  {
   "cell_type": "code",
   "execution_count": 117,
   "metadata": {},
   "outputs": [
    {
     "name": "stdout",
     "output_type": "stream",
     "text": [
      "loss is tensor(9014.3165, dtype=torch.float64, grad_fn=<MeanBackward0>)\n",
      "loss is tensor(9014.3166, dtype=torch.float64, grad_fn=<MeanBackward0>)\n",
      "loss is tensor(9014.3165, dtype=torch.float64, grad_fn=<MeanBackward0>)\n",
      "loss is tensor(9014.3165, dtype=torch.float64, grad_fn=<MeanBackward0>)\n",
      "loss is tensor(9014.3166, dtype=torch.float64, grad_fn=<MeanBackward0>)\n",
      "loss is tensor(9014.3164, dtype=torch.float64, grad_fn=<MeanBackward0>)\n",
      "loss is tensor(9014.3167, dtype=torch.float64, grad_fn=<MeanBackward0>)\n",
      "loss is tensor(9014.3166, dtype=torch.float64, grad_fn=<MeanBackward0>)\n",
      "loss is tensor(9014.3168, dtype=torch.float64, grad_fn=<MeanBackward0>)\n",
      "loss is tensor(9014.3168, dtype=torch.float64, grad_fn=<MeanBackward0>)\n",
      "loss is tensor(9014.3165, dtype=torch.float64, grad_fn=<MeanBackward0>)\n",
      "loss is tensor(9014.3167, dtype=torch.float64, grad_fn=<MeanBackward0>)\n",
      "loss is tensor(9014.3164, dtype=torch.float64, grad_fn=<MeanBackward0>)\n",
      "loss is tensor(9014.3167, dtype=torch.float64, grad_fn=<MeanBackward0>)\n",
      "loss is tensor(9014.3166, dtype=torch.float64, grad_fn=<MeanBackward0>)\n",
      "loss is tensor(9014.3166, dtype=torch.float64, grad_fn=<MeanBackward0>)\n",
      "loss is tensor(9014.3210, dtype=torch.float64, grad_fn=<MeanBackward0>)\n",
      "loss is tensor(9014.3166, dtype=torch.float64, grad_fn=<MeanBackward0>)\n",
      "loss is tensor(9014.3166, dtype=torch.float64, grad_fn=<MeanBackward0>)\n",
      "loss is tensor(9014.3418, dtype=torch.float64, grad_fn=<MeanBackward0>)\n",
      "loss is tensor(9014.3165, dtype=torch.float64, grad_fn=<MeanBackward0>)\n",
      "loss is tensor(9014.3164, dtype=torch.float64, grad_fn=<MeanBackward0>)\n",
      "loss is tensor(9014.3165, dtype=torch.float64, grad_fn=<MeanBackward0>)\n",
      "loss is tensor(9014.3165, dtype=torch.float64, grad_fn=<MeanBackward0>)\n",
      "loss is tensor(9014.3166, dtype=torch.float64, grad_fn=<MeanBackward0>)\n",
      "loss is tensor(9014.3165, dtype=torch.float64, grad_fn=<MeanBackward0>)\n",
      "loss is tensor(9014.3165, dtype=torch.float64, grad_fn=<MeanBackward0>)\n",
      "loss is tensor(9014.3165, dtype=torch.float64, grad_fn=<MeanBackward0>)\n",
      "loss is tensor(9014.3173, dtype=torch.float64, grad_fn=<MeanBackward0>)\n",
      "loss is tensor(9014.3164, dtype=torch.float64, grad_fn=<MeanBackward0>)\n",
      "loss is tensor(9014.3166, dtype=torch.float64, grad_fn=<MeanBackward0>)\n",
      "loss is tensor(9014.3317, dtype=torch.float64, grad_fn=<MeanBackward0>)\n",
      "loss is tensor(9014.3164, dtype=torch.float64, grad_fn=<MeanBackward0>)\n",
      "loss is tensor(9014.3164, dtype=torch.float64, grad_fn=<MeanBackward0>)\n",
      "loss is tensor(9014.3277, dtype=torch.float64, grad_fn=<MeanBackward0>)\n",
      "loss is tensor(9014.3165, dtype=torch.float64, grad_fn=<MeanBackward0>)\n",
      "loss is tensor(9014.3166, dtype=torch.float64, grad_fn=<MeanBackward0>)\n",
      "loss is tensor(9015.3159, dtype=torch.float64, grad_fn=<MeanBackward0>)\n",
      "loss is tensor(9014.3162, dtype=torch.float64, grad_fn=<MeanBackward0>)\n",
      "loss is tensor(9014.3180, dtype=torch.float64, grad_fn=<MeanBackward0>)\n",
      "loss is tensor(9014.3163, dtype=torch.float64, grad_fn=<MeanBackward0>)\n",
      "loss is tensor(9014.3163, dtype=torch.float64, grad_fn=<MeanBackward0>)\n",
      "loss is tensor(9014.3197, dtype=torch.float64, grad_fn=<MeanBackward0>)\n",
      "loss is tensor(9014.3161, dtype=torch.float64, grad_fn=<MeanBackward0>)\n",
      "loss is tensor(9014.3163, dtype=torch.float64, grad_fn=<MeanBackward0>)\n",
      "loss is tensor(9014.3164, dtype=torch.float64, grad_fn=<MeanBackward0>)\n",
      "loss is tensor(9014.3161, dtype=torch.float64, grad_fn=<MeanBackward0>)\n",
      "loss is tensor(9014.3161, dtype=torch.float64, grad_fn=<MeanBackward0>)\n",
      "loss is tensor(9014.3161, dtype=torch.float64, grad_fn=<MeanBackward0>)\n",
      "loss is tensor(9014.3160, dtype=torch.float64, grad_fn=<MeanBackward0>)\n",
      "loss is tensor(9014.3161, dtype=torch.float64, grad_fn=<MeanBackward0>)\n",
      "loss is tensor(9014.3160, dtype=torch.float64, grad_fn=<MeanBackward0>)\n",
      "loss is tensor(9014.3160, dtype=torch.float64, grad_fn=<MeanBackward0>)\n",
      "loss is tensor(9014.3160, dtype=torch.float64, grad_fn=<MeanBackward0>)\n",
      "loss is tensor(9014.3160, dtype=torch.float64, grad_fn=<MeanBackward0>)\n",
      "loss is tensor(9014.3158, dtype=torch.float64, grad_fn=<MeanBackward0>)\n",
      "loss is tensor(9014.3160, dtype=torch.float64, grad_fn=<MeanBackward0>)\n",
      "loss is tensor(9014.3159, dtype=torch.float64, grad_fn=<MeanBackward0>)\n",
      "loss is tensor(9014.3160, dtype=torch.float64, grad_fn=<MeanBackward0>)\n",
      "loss is tensor(9014.3159, dtype=torch.float64, grad_fn=<MeanBackward0>)\n",
      "loss is tensor(9014.3162, dtype=torch.float64, grad_fn=<MeanBackward0>)\n",
      "loss is tensor(9014.3206, dtype=torch.float64, grad_fn=<MeanBackward0>)\n",
      "loss is tensor(9014.3180, dtype=torch.float64, grad_fn=<MeanBackward0>)\n",
      "loss is tensor(9016.1925, dtype=torch.float64, grad_fn=<MeanBackward0>)\n",
      "loss is tensor(19402.1601, dtype=torch.float64, grad_fn=<MeanBackward0>)\n",
      "loss is tensor(9015.5911, dtype=torch.float64, grad_fn=<MeanBackward0>)\n",
      "loss is tensor(9014.9011, dtype=torch.float64, grad_fn=<MeanBackward0>)\n",
      "loss is tensor(9014.3197, dtype=torch.float64, grad_fn=<MeanBackward0>)\n",
      "loss is tensor(9014.3175, dtype=torch.float64, grad_fn=<MeanBackward0>)\n",
      "loss is tensor(9014.3176, dtype=torch.float64, grad_fn=<MeanBackward0>)\n",
      "loss is tensor(9014.3177, dtype=torch.float64, grad_fn=<MeanBackward0>)\n",
      "loss is tensor(9014.3177, dtype=torch.float64, grad_fn=<MeanBackward0>)\n",
      "loss is tensor(9014.3175, dtype=torch.float64, grad_fn=<MeanBackward0>)\n",
      "loss is tensor(9014.3176, dtype=torch.float64, grad_fn=<MeanBackward0>)\n",
      "loss is tensor(9014.3174, dtype=torch.float64, grad_fn=<MeanBackward0>)\n",
      "loss is tensor(9014.3176, dtype=torch.float64, grad_fn=<MeanBackward0>)\n",
      "loss is tensor(9014.3175, dtype=torch.float64, grad_fn=<MeanBackward0>)\n",
      "loss is tensor(9014.3175, dtype=torch.float64, grad_fn=<MeanBackward0>)\n",
      "loss is tensor(9014.3177, dtype=torch.float64, grad_fn=<MeanBackward0>)\n",
      "loss is tensor(9014.3176, dtype=torch.float64, grad_fn=<MeanBackward0>)\n",
      "loss is tensor(9014.3175, dtype=torch.float64, grad_fn=<MeanBackward0>)\n",
      "loss is tensor(9014.3175, dtype=torch.float64, grad_fn=<MeanBackward0>)\n",
      "loss is tensor(9014.3175, dtype=torch.float64, grad_fn=<MeanBackward0>)\n",
      "loss is tensor(9014.3176, dtype=torch.float64, grad_fn=<MeanBackward0>)\n",
      "loss is tensor(9014.3175, dtype=torch.float64, grad_fn=<MeanBackward0>)\n",
      "loss is tensor(9014.3176, dtype=torch.float64, grad_fn=<MeanBackward0>)\n",
      "loss is tensor(9049.1106, dtype=torch.float64, grad_fn=<MeanBackward0>)\n",
      "loss is tensor(9014.3175, dtype=torch.float64, grad_fn=<MeanBackward0>)\n",
      "loss is tensor(9014.3175, dtype=torch.float64, grad_fn=<MeanBackward0>)\n",
      "loss is tensor(9014.3176, dtype=torch.float64, grad_fn=<MeanBackward0>)\n",
      "loss is tensor(9014.3177, dtype=torch.float64, grad_fn=<MeanBackward0>)\n",
      "loss is tensor(9014.3176, dtype=torch.float64, grad_fn=<MeanBackward0>)\n",
      "loss is tensor(9014.3176, dtype=torch.float64, grad_fn=<MeanBackward0>)\n",
      "loss is tensor(9014.3176, dtype=torch.float64, grad_fn=<MeanBackward0>)\n",
      "loss is tensor(9014.3180, dtype=torch.float64, grad_fn=<MeanBackward0>)\n",
      "loss is tensor(9014.3175, dtype=torch.float64, grad_fn=<MeanBackward0>)\n",
      "loss is tensor(9014.3175, dtype=torch.float64, grad_fn=<MeanBackward0>)\n",
      "loss is tensor(9014.3177, dtype=torch.float64, grad_fn=<MeanBackward0>)\n",
      "loss is tensor(9075.8777, dtype=torch.float64, grad_fn=<MeanBackward0>)\n",
      "loss is tensor(9014.3175, dtype=torch.float64, grad_fn=<MeanBackward0>)\n"
     ]
    }
   ],
   "source": [
    "def loss(x):\n",
    "    \n",
    "    outputs = Psi_t(x)\n",
    "    \n",
    "    \n",
    "    # Notice that the below is indipendent by how x is distributed (could be a different distribution of points)\n",
    "    integrals_vector = x.double() # just copying x, but then we will change it, only to have something with same dimen.\n",
    "    for i in range(n_points):\n",
    "        if i == 0:\n",
    "            integrals_vector[0][0] = 0\n",
    "        else:\n",
    "            t = x[i]\n",
    "            transf_x_vals_tens = nodes_tensor*t/2 + t/2\n",
    "\n",
    "            integrands_values = g_ia(transf_x_vals_tens, t)\n",
    "            # print(\"integrands_values\", integrands_values)\n",
    "            integral_at_time_t = 1/math.gamma(alpha)*t/2*torch.sum(integrands_values * weights_tensor)\n",
    "\n",
    "            integrals_vector[i][0] = integral_at_time_t\n",
    "        \n",
    "    final_loss = torch.mean((outputs - integrals_vector)**2)\n",
    "    \n",
    "    print('loss is', final_loss)\n",
    "\n",
    "    return final_loss\n",
    "\n",
    "optimizer = torch.optim.LBFGS(N.parameters(), lr=1)\n",
    "\n",
    "def closure():\n",
    "\n",
    "    optimizer.zero_grad()\n",
    "    l = loss(x)\n",
    "    l.backward()\n",
    "    \n",
    "    return l\n",
    "\n",
    "for i in range(5):\n",
    "    optimizer.step(closure)"
   ]
  },
  {
   "cell_type": "markdown",
   "metadata": {},
   "source": [
    "# Comparing results with Euler"
   ]
  },
  {
   "cell_type": "code",
   "execution_count": 118,
   "metadata": {},
   "outputs": [],
   "source": [
    "# error measures\n",
    "epsilon = 0.01\n",
    "theta = 0.9\n",
    "\n",
    "r_max = 105\n",
    "\n",
    "def returns_all_the_first_r_max_coefficients_as_list_2():\n",
    "    ''' Run this function. This returns the list of coefficients. Up to a_k where \n",
    "        k = r_max. '''\n",
    "    \n",
    "    coefficients = [np.nan]*(r_max+1)\n",
    "\n",
    "    a0 = 0 \n",
    "    a1 = nu/math.gamma(alpha+1)\n",
    "    coefficients[0] = a0\n",
    "    coefficients[1] = a1\n",
    "    \n",
    "    \n",
    "    def recursive_convol_coefficients(list_of_coefficients, k):\n",
    "        ''' return a*_k^2  given the first k-1 a_m coefficients. \n",
    "        k is the coefficient a^_k^2 to be returned'''\n",
    "        if k==1:\n",
    "            return 0\n",
    "        else: \n",
    "            sum = 0\n",
    "            for l in range(1,k):\n",
    "                a_l = list_of_coefficients[l]\n",
    "                a_k_l = list_of_coefficients[k-l]\n",
    "                sum += a_l*a_k_l\n",
    "            return sum\n",
    "    \n",
    "    \n",
    "    def recursive_coefficients(list_of_coefficients, n):\n",
    "        ''' Given the convoluted coefficient a_k_star_quadro, \n",
    "        Given also n, the coefficient a_n to be returned... Note that n = k+1 !!! \n",
    "        returns a_k'''\n",
    "        k = n-1 # n-1 = k\n",
    "        a_k_star_quadro = recursive_convol_coefficients(list_of_coefficients, k) \n",
    "        a_k = list_of_coefficients[k]  \n",
    "        a_n = (lambd*a_k_star_quadro + mu*a_k)*math.gamma(alpha*k + 1)/math.gamma(alpha*k + alpha + 1)\n",
    "    \n",
    "        return a_n\n",
    "\n",
    "    for i in range(2, r_max+1):\n",
    "        coefficients[i] = recursive_coefficients( coefficients, i)\n",
    "        \n",
    "    return coefficients\n",
    "\n",
    "coeff = returns_all_the_first_r_max_coefficients_as_list_2()\n",
    "\n",
    "coeff_df = pd.DataFrame(coeff)\n",
    "\n",
    "a_r_max = coeff[-1]\n",
    "a_primo_r_max = a_r_max*math.gamma(alpha*r_max+1)/(math.gamma(alpha*r_max-alpha+1)*(alpha*r_max+1-alpha))\n",
    "\n",
    "R_estimate = abs(a_primo_r_max)**(-1/(alpha*r_max))\n",
    "\n",
    "r_0 = math.log(epsilon*(1-theta))/alpha/math.log(theta)-1\n",
    "r_0 = int(np.round(r_0)+1)\n",
    "\n",
    "slicing = slice(0,r_0)\n",
    "\n",
    "coeff_truncated = coeff[slicing]\n",
    "\n",
    "def poly(lst, x):   \n",
    "    ''' Evaluate the polynomial with coefficients lst= [a0,a1,a2,...] in x\n",
    "    Pol: a0 + a1*x**alpha + a2*x**(2*alpha) + .... '''\n",
    "    n, tmp = 0, 0\n",
    "    for a in lst:\n",
    "        tmp = tmp + (a * (x**(n*alpha)))\n",
    "        n += 1\n",
    "\n",
    "    return tmp\n",
    "\n",
    "def computing_psi_n(n):\n",
    "    ''' Just Give n. This function makes use of the parameters. Then also of the list \"coeff_truncated\" \n",
    "    '''\n",
    "    \n",
    "    disc_times = [k*T/n for k in range(0,n+1)]\n",
    "    \n",
    "    theta = 0.9\n",
    "    #theta = theta_n(n) # Only In This Example, Because The Theta fixed at the beginning would go out otherwise!\n",
    "    \n",
    "    \n",
    "    \n",
    "    k_0 = math.floor(R_estimate*theta*n/T)  ### Up to t_k_0 we will use truncated series. Then Euler Schema\n",
    "    \n",
    "    if k_0 >= len(disc_times):\n",
    "        t_k_0 = \"Doesn't exist t_k_0\"\n",
    "    else: \n",
    "        t_k_0 = disc_times[k_0]\n",
    "    \n",
    "    values_assumed_in_disc_times = [np.nan]*(n+1)\n",
    "    \n",
    "\n",
    "    \n",
    "    \n",
    "    ### Here We Evaluate The Truncated Series!\n",
    "    \n",
    "    if k_0 <= len(disc_times):\n",
    "        for k in range(0,k_0+1):\n",
    "            values_assumed_in_disc_times[k] = poly(coeff_truncated, disc_times[k])\n",
    "    else:\n",
    "        for k in range(0,n):\n",
    "            values_assumed_in_disc_times[k] = poly(coeff_truncated, disc_times[k])\n",
    "    \n",
    "    \n",
    "    \n",
    "    \n",
    "    ### Here Instead We Use The Euler Scheme\n",
    "    def compute_c_i(alpha, l):\n",
    "        if l == 0:\n",
    "            return 1\n",
    "        else: \n",
    "            return (l+1)**alpha - l**alpha\n",
    "    \n",
    "    \n",
    "    \n",
    "    for k in range(k_0+1, n+1):\n",
    "        factor_1 = 1/math.gamma(alpha + 1)*(T/n)**alpha\n",
    "        addend_2 = nu*k**alpha \n",
    "        addend_3 = 0\n",
    "        for l in range(1,k):\n",
    "            psi_n_t_l = values_assumed_in_disc_times[l]\n",
    "            addend_3 += compute_c_i(alpha, k-l-1)*psi_n_t_l*(lambd*psi_n_t_l + mu)\n",
    "        \n",
    "        factor_2 = addend_2 + addend_3\n",
    "        \n",
    "        result = factor_1*factor_2\n",
    "        \n",
    "        values_assumed_in_disc_times[k] = result\n",
    "            \n",
    "    \n",
    "    print(\"t_k0=\", t_k_0)\n",
    "    \n",
    "    #return disc_times, values_assumed_in_disc_times\n",
    "    return pd.DataFrame({\"time\": disc_times, \"value\": values_assumed_in_disc_times}), t_k_0"
   ]
  },
  {
   "cell_type": "code",
   "execution_count": 119,
   "metadata": {},
   "outputs": [
    {
     "data": {
      "text/plain": [
       "0.0"
      ]
     },
     "execution_count": 119,
     "metadata": {},
     "output_type": "execute_result"
    }
   ],
   "source": [
    "R_estimate"
   ]
  },
  {
   "cell_type": "code",
   "execution_count": 120,
   "metadata": {},
   "outputs": [
    {
     "data": {
      "text/plain": [
       "0.003968253968253968"
      ]
     },
     "execution_count": 120,
     "metadata": {},
     "output_type": "execute_result"
    }
   ],
   "source": [
    "T"
   ]
  },
  {
   "cell_type": "code",
   "execution_count": 121,
   "metadata": {},
   "outputs": [
    {
     "data": {
      "text/plain": [
       "102"
      ]
     },
     "execution_count": 121,
     "metadata": {},
     "output_type": "execute_result"
    }
   ],
   "source": [
    "r_0"
   ]
  },
  {
   "cell_type": "code",
   "execution_count": 122,
   "metadata": {},
   "outputs": [],
   "source": [
    "# Problem is that if we set r_max too high, then the coefficients go to infinity. \n",
    "# coeff"
   ]
  },
  {
   "cell_type": "code",
   "execution_count": 123,
   "metadata": {},
   "outputs": [
    {
     "name": "stdout",
     "output_type": "stream",
     "text": [
      "t_k0= 0.0\n"
     ]
    }
   ],
   "source": [
    "comparison = computing_psi_n(1028)"
   ]
  },
  {
   "cell_type": "code",
   "execution_count": 124,
   "metadata": {},
   "outputs": [],
   "source": [
    "results_euler_scheme = comparison[0]"
   ]
  },
  {
   "cell_type": "code",
   "execution_count": 125,
   "metadata": {},
   "outputs": [
    {
     "data": {
      "image/png": "[encoded data removed]",
      "text/plain": [
       "<Figure size 600x400 with 1 Axes>"
      ]
     },
     "metadata": {
      "needs_background": "light"
     },
     "output_type": "display_data"
    }
   ],
   "source": [
    "fig, ax = plt.subplots(dpi=100)\n",
    "xx = x.tolist()\n",
    "yy = (Psi_t(x)[:,0]).tolist()\n",
    "# yt = Psi_real(x).tolist()\n",
    "ax.plot(xx, yy, \"-\",  label='Neural network approximation')\n",
    "ax.plot(results_euler_scheme.time, results_euler_scheme.value,  label='Euler Scheme')\n",
    "\n",
    "ax.legend(loc=\"best\")\n",
    "\n",
    "if type(comparison[1]) == type(2.0):\n",
    "    ax.axvline(x = comparison[1], linewidth=1, color='r')"
   ]
  },
  {
   "cell_type": "code",
   "execution_count": null,
   "metadata": {},
   "outputs": [],
   "source": []
  },
  {
   "cell_type": "code",
   "execution_count": null,
   "metadata": {},
   "outputs": [],
   "source": []
  }
 ],
 "metadata": {
  "kernelspec": {
   "display_name": "Python 3",
   "language": "python",
   "name": "python3"
  },
  "language_info": {
   "codemirror_mode": {
    "name": "ipython",
    "version": 3
   },
   "file_extension": ".py",
   "mimetype": "text/x-python",
   "name": "python",
   "nbconvert_exporter": "python",
   "pygments_lexer": "ipython3",
   "version": "3.7.0"
  }
 },
 "nbformat": 4,
 "nbformat_minor": 4
}
