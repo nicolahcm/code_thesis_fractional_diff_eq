{
 "cells": [
  {
   "cell_type": "code",
   "execution_count": 1,
   "metadata": {},
   "outputs": [],
   "source": [
    "import pandas as pd\n",
    "import numpy as np\n",
    "import matplotlib.pyplot as plt"
   ]
  },
  {
   "cell_type": "markdown",
   "metadata": {},
   "source": [
    "# Here we consider the fractional riccati equation with fractional derivative, but here intended as conformable"
   ]
  },
  {
   "cell_type": "markdown",
   "metadata": {},
   "source": [
    "# We use 3 layers with one hidden node\n",
    "\n",
    "Moreover, we define the solution to the Riccati $$y_N := xN$$, where $N$ is the neural network,. Note that in such a way, the initial condition of the Riccati is automatically satisfied (see below). Moreover, in the main paper we found $a_0=0$ in the series expansion, and this automatically satisfies it.\n",
    "\n",
    "$$D^\\alpha y_N = \\lambda y_N^2 + \\mu y_N + \\nu $$\n",
    "\n",
    "with initial condition\n",
    "\n",
    "$$I_{1-\\alpha} y_N(0) = 0 $$\n",
    "\n",
    "Where $I_\\alpha$ defined as in the main paper (riemannliouv)\n",
    "\n",
    "We consider interval $(0,1/252)$, with $T=\\frac{1}{252}$.\n",
    "\n",
    "We try to replicate the example in the paper, with \n",
    "$$\\alpha = 0.64, \\lambda = 0.045, \\mu = -64.938, \\nu = 44850 $$\n",
    "\n",
    "We have $$f(x,y_N(x,\\Omega)) = \\lambda y_N^2 + \\mu y_N + \\nu $$\n",
    "\n",
    "And The loss\n",
    "\n",
    "$$ E[\\Omega] = \\sum_{i=1}^n [D^\\alpha y_N(x_i,\\Omega) - f]^2 $$"
   ]
  },
  {
   "cell_type": "markdown",
   "metadata": {},
   "source": [
    "$$N(x,\\Omega) = \\sum_{j=1}^5 v_j\\phi(w_jx+u_j) $$\n",
    "\n",
    "$$ D_x^\\alpha (N) := D_x^\\alpha N(x,\\Omega) = \\sum_{j=1}^5 v_j \\phi'(w_jx+u_j)w_jx^{1-\\alpha} $$"
   ]
  },
  {
   "cell_type": "markdown",
   "metadata": {},
   "source": [
    "$$D_x^\\alpha y_N(x,\\Omega) = D_x^\\alpha (xN) = x^{1-\\alpha}N + xD_x^\\alpha (N) $$"
   ]
  },
  {
   "cell_type": "code",
   "execution_count": 2,
   "metadata": {},
   "outputs": [],
   "source": [
    "T = 1/252\n",
    "alp = 0.64\n",
    "lamb = 0.2\n",
    "mu = -1\n",
    "nu = 2"
   ]
  },
  {
   "cell_type": "code",
   "execution_count": 3,
   "metadata": {},
   "outputs": [
    {
     "name": "stdout",
     "output_type": "stream",
     "text": [
      "[ 5.42641287 -9.58496101  2.6729647   4.97607765 -0.02985975 -5.50406709\n",
      " -6.0387427   5.21061424 -6.61778327 -8.23320372  3.70719637  9.06786692\n",
      " -9.92103467  0.24384527  6.25241923]\n"
     ]
    }
   ],
   "source": [
    "def sigm_fun(x):\n",
    "    return 1/(1+np.exp(-x))\n",
    "\n",
    "def phi_prime(z): #1st derivative\n",
    "    result = np.exp(-z)/((1+np.exp(-z))**2)\n",
    "    return result\n",
    "\n",
    "def phi_second(z): #2nd derivative\n",
    "    first_addend = -np.exp(-z)/((1+np.exp(-z))**2)\n",
    "    second_addend = 2*np.exp(-2*z)/((1+np.exp(-z))**3)\n",
    "    return first_addend + second_addend\n",
    "\n",
    "# Usa *args, come input e spacchetta\n",
    "\n",
    "def compute_neural_network(x,v0,v1,v2,v3,v4,w0,w1,w2,w3,w4,u0,u1,u2,u3,u4):\n",
    "    ''' NN '''\n",
    "    result = v0*sigm_fun(w0*x+u0)\n",
    "    result += v1*sigm_fun(w1*x+u1)\n",
    "    result += v2*sigm_fun(w2*x+u2)\n",
    "    result += v3*sigm_fun(w3*x+u3)\n",
    "    result += v4*sigm_fun(w4*x+u4)\n",
    "    return result\n",
    "\n",
    "\n",
    "np.random.seed(10)\n",
    "weights = np.random.uniform(low=-10, high=10, size=(15,))\n",
    "v0,v1,v2,v3,v4,w0,w1,w2,w3,w4,u0,u1,u2,u3,u4 = weights\n",
    "print(weights)"
   ]
  },
  {
   "cell_type": "code",
   "execution_count": 4,
   "metadata": {},
   "outputs": [],
   "source": [
    "def der_alpha_y_N(x,alp,v0,v1,v2,v3,v4,w0,w1,w2,w3,w4,u0,u1,u2,u3,u4): # Depends on the fDe\n",
    "\n",
    "    first_addend = x**(1-alp)*compute_neural_network(x,v0,v1,v2,v3,v4,w0,w1,w2,w3,w4,u0,u1,u2,u3,u4)\n",
    "\n",
    "    def der_alpha_N(alp,x,v0,v1,v2,v3,v4,w0,w1,w2,w3,w4,u0,u1,u2,u3,u4):\n",
    "\n",
    "        tot_sum = v0*phi_prime(w0*x+u0)*w0*x**(1-alp)\n",
    "        tot_sum += v1*phi_prime(w1*x+u1)*w1*x**(1-alp)\n",
    "        tot_sum += v2*phi_prime(w2*x+u2)*w2*x**(1-alp)\n",
    "        tot_sum += v3*phi_prime(w3*x+u3)*w3*x**(1-alp)\n",
    "        tot_sum += v4*phi_prime(w4*x+u4)*w4*x**(1-alp)\n",
    "\n",
    "        return tot_sum\n",
    "\n",
    "    second_addend = x*der_alpha_N(alp,x,v0,v1,v2,v3,v4,w0,w1,w2,w3,w4,u0,u1,u2,u3,u4)\n",
    "\n",
    "    return first_addend + second_addend"
   ]
  },
  {
   "cell_type": "code",
   "execution_count": 5,
   "metadata": {},
   "outputs": [
    {
     "data": {
      "text/plain": [
       "2.434350776822021"
      ]
     },
     "execution_count": 5,
     "metadata": {},
     "output_type": "execute_result"
    }
   ],
   "source": [
    "def y_n(x,*weights):\n",
    "    return x*compute_neural_network(x,*weights)\n",
    "y_n(2,*(v0,v1,v2,v3,v4,w0,w1,w2,w3,w4,u0,u1,u2,u3,u4))"
   ]
  },
  {
   "cell_type": "code",
   "execution_count": 6,
   "metadata": {},
   "outputs": [
    {
     "data": {
      "text/plain": [
       "0.7508619641007745"
      ]
     },
     "execution_count": 6,
     "metadata": {},
     "output_type": "execute_result"
    }
   ],
   "source": [
    "def f_x_i_y_N(x,*weights):\n",
    "    \n",
    "    yn = y_n(x,*weights)\n",
    "    return lamb*yn**2 + mu*yn + nu\n",
    "\n",
    "f_x_i_y_N(2,*(v0,v1,v2,v3,v4,w0,w1,w2,w3,w4,u0,u1,u2,u3,u4))"
   ]
  },
  {
   "cell_type": "markdown",
   "metadata": {},
   "source": [
    "# Compute E"
   ]
  },
  {
   "cell_type": "code",
   "execution_count": 7,
   "metadata": {},
   "outputs": [
    {
     "data": {
      "text/plain": [
       "225.8388382434742"
      ]
     },
     "execution_count": 7,
     "metadata": {},
     "output_type": "execute_result"
    }
   ],
   "source": [
    "points_to_evaluate = np.linspace(0,T,50)\n",
    "\n",
    "def E(alp,v0,v1,v2,v3,v4,w0,w1,w2,w3,w4,u0,u1,u2,u3,u4,points_to_evaluate=points_to_evaluate): #E[weights]\n",
    "    ''' \n",
    "    returns the value of E, knowing \n",
    "    alpha, weights of the NN, and the points_to_evaluate.\n",
    "    '''\n",
    "    \n",
    "    weights = [v0,v1,v2,v3,v4,w0,w1,w2,w3,w4,u0,u1,u2,u3,u4]\n",
    "    \n",
    "    def addend_in_E_w(x,alp,*weights):\n",
    "        \n",
    "        return (der_alpha_y_N(x,alp,*weights) - f_x_i_y_N(x,*weights))**2\n",
    "    \n",
    "    tot_sum = 0\n",
    "    for x in points_to_evaluate:\n",
    "        tot_sum += addend_in_E_w(x,alp,*weights)\n",
    "    \n",
    "    return tot_sum\n",
    "\n",
    "E(0.6,*weights)"
   ]
  },
  {
   "cell_type": "markdown",
   "metadata": {},
   "source": [
    "# Compute Derivative Of E wrt Weights\n",
    "\n",
    "It is similar to the first example of Mall, only add $\\frac{\\partial f}{\\partial weights}$. \n",
    "\n",
    "We know that \n",
    "$$ N=\\sum_{j=1}^5 v_j \\phi(w_jx+u_j)$$\n",
    "\n",
    "So that\n",
    "\n",
    "$$ \\frac{\\partial N}{\\partial w_k} =  v_k \\phi'(w_kx+u_k)x $$\n",
    "$$ \\frac{\\partial N}{\\partial v_k} =  \\phi(w_kx+u_k) $$\n",
    "$$ \\frac{\\partial N}{\\partial u_k} =  v_k \\phi'(w_kx+u_k)$$"
   ]
  },
  {
   "cell_type": "markdown",
   "metadata": {},
   "source": [
    "### Derivative of N wrt to weights"
   ]
  },
  {
   "cell_type": "code",
   "execution_count": 8,
   "metadata": {},
   "outputs": [],
   "source": [
    "def der_N_wrt_wj(x,j,v0,v1,v2,v3,v4,w0,w1,w2,w3,w4,u0,u1,u2,u3,u4):\n",
    "    if j==0:\n",
    "        return v0*phi_prime(w0*x+u0)*x\n",
    "    if j==1:\n",
    "        return v1*phi_prime(w1*x+u1)*x\n",
    "    if j==2:\n",
    "        return v2*phi_prime(w2*x+u2)*x\n",
    "    if j==3:\n",
    "        return v3*phi_prime(w3*x+u3)*x\n",
    "    if j==4:\n",
    "        return v4*phi_prime(w4*x+u4)*x\n",
    "    \n",
    "def der_N_wrt_vj(x,j,v0,v1,v2,v3,v4,w0,w1,w2,w3,w4,u0,u1,u2,u3,u4):\n",
    "    if j==0:\n",
    "        return sigm_fun(w0*x+u0)\n",
    "    if j==1:\n",
    "        return sigm_fun(w1*x+u1)\n",
    "    if j==2:\n",
    "        return sigm_fun(w2*x+u2)\n",
    "    if j==3:\n",
    "        return sigm_fun(w3*x+u3)\n",
    "    if j==4:\n",
    "        return sigm_fun(w4*x+u4)\n",
    "    \n",
    "def der_N_wrt_uj(x,j,v0,v1,v2,v3,v4,w0,w1,w2,w3,w4,u0,u1,u2,u3,u4):\n",
    "    if j==0:\n",
    "        return v0*phi_prime(w0*x+u0)\n",
    "    if j==1:\n",
    "        return v1*phi_prime(w1*x+u1)\n",
    "    if j==2:\n",
    "        return v2*phi_prime(w2*x+u2)\n",
    "    if j==3:\n",
    "        return v3*phi_prime(w3*x+u3)\n",
    "    if j==4:\n",
    "        return v4*phi_prime(w4*x+u4)"
   ]
  },
  {
   "cell_type": "markdown",
   "metadata": {},
   "source": [
    "Moreover, \n",
    "\n",
    "$$ f = \\lambda y_N^2 + \\mu y_N + \\nu = \\lambda (xN)^2 + \\mu (xN) + \\nu$$\n",
    "\n",
    "Thus\n",
    "\n",
    "$$ \\frac{\\partial f}{\\partial weight} = \\lambda 2 x^2 N \\frac{\\partial N}{\\partial weight} + \\mu x \\frac{\\partial N}{\\partial weight} $$ \n",
    "And these $\\frac{\\partial N}{\\partial weight}$ we just wrote above"
   ]
  },
  {
   "cell_type": "markdown",
   "metadata": {},
   "source": [
    "### Derivative of $f$ wrt to weights"
   ]
  },
  {
   "cell_type": "code",
   "execution_count": 9,
   "metadata": {},
   "outputs": [
    {
     "data": {
      "text/plain": [
       "-0.10652673305818114"
      ]
     },
     "execution_count": 9,
     "metadata": {},
     "output_type": "execute_result"
    }
   ],
   "source": [
    "def der_f_wrt_wj(x,j,v0,v1,v2,v3,v4,w0,w1,w2,w3,w4,u0,u1,u2,u3,u4):\n",
    "    \n",
    "    weights = [v0,v1,v2,v3,v4,w0,w1,w2,w3,w4,u0,u1,u2,u3,u4]\n",
    "    \n",
    "    first_addend = lamb*2*x**2*compute_neural_network(x,*weights)*der_N_wrt_wj(x,j,*weights)\n",
    "    second_addend = mu*x*der_N_wrt_wj(x,j,*weights)\n",
    "    \n",
    "    return first_addend + second_addend\n",
    "\n",
    "der_f_wrt_wj(0.4,3,*weights)"
   ]
  },
  {
   "cell_type": "code",
   "execution_count": 10,
   "metadata": {},
   "outputs": [
    {
     "data": {
      "text/plain": [
       "-0.058358760647241256"
      ]
     },
     "execution_count": 10,
     "metadata": {},
     "output_type": "execute_result"
    }
   ],
   "source": [
    "def der_f_wrt_vj(x,j,v0,v1,v2,v3,v4,w0,w1,w2,w3,w4,u0,u1,u2,u3,u4):\n",
    "    \n",
    "    weights = [v0,v1,v2,v3,v4,w0,w1,w2,w3,w4,u0,u1,u2,u3,u4]\n",
    "    \n",
    "    first_addend = lamb*2*x**2*compute_neural_network(x,*weights)*der_N_wrt_vj(x,j,*weights)\n",
    "    second_addend = mu*x*der_N_wrt_vj(x,j,*weights)\n",
    "    \n",
    "    return first_addend + second_addend\n",
    "\n",
    "der_f_wrt_vj(0.4,3,*weights)"
   ]
  },
  {
   "cell_type": "code",
   "execution_count": 11,
   "metadata": {},
   "outputs": [
    {
     "data": {
      "text/plain": [
       "-0.2663168326454528"
      ]
     },
     "execution_count": 11,
     "metadata": {},
     "output_type": "execute_result"
    }
   ],
   "source": [
    "def der_f_wrt_uj(x,j,v0,v1,v2,v3,v4,w0,w1,w2,w3,w4,u0,u1,u2,u3,u4):\n",
    "    \n",
    "    weights = [v0,v1,v2,v3,v4,w0,w1,w2,w3,w4,u0,u1,u2,u3,u4]\n",
    "    \n",
    "    first_addend = lamb*2*x**2*compute_neural_network(x,*weights)*der_N_wrt_uj(x,j,*weights)\n",
    "    second_addend = mu*x*der_N_wrt_uj(x,j,*weights)\n",
    "    \n",
    "    return first_addend + second_addend\n",
    "\n",
    "der_f_wrt_uj(0.4,3,*weights)"
   ]
  },
  {
   "cell_type": "markdown",
   "metadata": {},
   "source": [
    "## Derivative of E wrt weights"
   ]
  },
  {
   "cell_type": "markdown",
   "metadata": {},
   "source": [
    "$$\\frac{\\partial E[weights]}{\\partial w_k} = \\sum_{j=1}^{10} 2[D^\\alpha y_N(x_i,weights) - f(x_i, y_N(x_i,weights))] [\\frac{\\partial D^\\alpha y_N}{\\partial w_k}-\\frac{\\partial f}{\\partial w_k}]$$"
   ]
  },
  {
   "cell_type": "code",
   "execution_count": 12,
   "metadata": {},
   "outputs": [
    {
     "name": "stdout",
     "output_type": "stream",
     "text": [
      "this is the derivative of E wrt to w1, evaluated 0.00017096397732572745\n"
     ]
    }
   ],
   "source": [
    "def der_E_wrt_wj(alp,j,v0,v1,v2,v3,v4,w0,w1,w2,w3,w4,u0,u1,u2,u3,u4,points_to_evaluate=points_to_evaluate):\n",
    "    ''' As input, exactly the parameters of the function E'''\n",
    "    \n",
    "    weights = [v0,v1,v2,v3,v4,w0,w1,w2,w3,w4,u0,u1,u2,u3,u4]\n",
    "    \n",
    "    def addend_in_E_wrt_wj(x,j,alp,*weights):\n",
    "        \n",
    "        def der_D_alpha_y_N_wrt_wj(j):\n",
    "            if j==0:\n",
    "                first_addend = x**(2-alp)*v0*phi_prime(w0*x+u0)\n",
    "                second_addend = v0*x**(2-alp)*(phi_prime(w0*x+u0) + phi_second(w0*x+u0)*w0*x)\n",
    "            if j==1:\n",
    "                first_addend = x**(2-alp)*v1*phi_prime(w1*x+u1)\n",
    "                second_addend = v1*x**(2-alp)*(phi_prime(w1*x+u1) + phi_second(w1*x+u1)*w1*x)\n",
    "            if j==2:\n",
    "                first_addend = x**(2-alp)*v2*phi_prime(w2*x+u2)\n",
    "                second_addend = v2*x**(2-alp)*(phi_prime(w2*x+u2) + phi_second(w2*x+u2)*w2*x)\n",
    "            if j==3:\n",
    "                first_addend = x**(2-alp)*v3*phi_prime(w3*x+u3)\n",
    "                second_addend = v3*x**(2-alp)*(phi_prime(w3*x+u3) + phi_second(w3*x+u3)*w3*x)\n",
    "            if j==4:\n",
    "                first_addend = x**(2-alp)*v4*phi_prime(w4*x+u4)\n",
    "                second_addend = v4*x**(2-alp)*(phi_prime(w4*x+u4) + phi_second(w4*x+u4)*w4*x)\n",
    "                \n",
    "            return first_addend + second_addend\n",
    "        \n",
    "        first_factor = der_alpha_y_N(x,alp,*weights) - f_x_i_y_N(x,*weights)\n",
    "        second_factor = der_D_alpha_y_N_wrt_wj(j)-der_f_wrt_wj(x,j,*weights)\n",
    "        \n",
    "        return 2*first_factor*second_factor\n",
    "\n",
    "    tot_sum = 0\n",
    "    for x in points_to_evaluate:\n",
    "        tot_sum += addend_in_E_wrt_wj(x,j,alp,*weights)\n",
    "    \n",
    "    return tot_sum\n",
    "\n",
    "# alpha = 0.5, let's derive wrt. j=2 ---> w2\n",
    "\n",
    "j = 1\n",
    "print(\"this is the derivative of E wrt to w%d, evaluated\"%j,\n",
    "     der_E_wrt_wj(0.7,j,v0,v1,v2,v3,v4,w0,w1,w2,w3,w4,u0,u1,u2,u3,u4))"
   ]
  },
  {
   "cell_type": "code",
   "execution_count": 13,
   "metadata": {},
   "outputs": [
    {
     "name": "stdout",
     "output_type": "stream",
     "text": [
      "this is the derivative of E wrt to v4, evaluated -32.98931445543874\n"
     ]
    }
   ],
   "source": [
    "def der_E_wrt_vj(alp,j,v0,v1,v2,v3,v4,w0,w1,w2,w3,w4,u0,u1,u2,u3,u4,points_to_evaluate=points_to_evaluate):\n",
    "    ''' As input, exactly the parameters of the function E'''\n",
    "    \n",
    "    weights = [v0,v1,v2,v3,v4,w0,w1,w2,w3,w4,u0,u1,u2,u3,u4]\n",
    "    \n",
    "    def addend_in_E_wrt_vj(x,j,alp,v0,v1,v2,v3,v4,w0,w1,w2,w3,w4,u0,u1,u2,u3,u4):\n",
    "        \n",
    "        def der_D_alpha_y_N_wrt_vj(j):\n",
    "            if j==0:\n",
    "                first_addend = x**(1-alp)*sigm_fun(w0*x+u0)\n",
    "                second_addend = w0*x**(2-alp)*phi_prime(w0*x+u0)\n",
    "            if j==1:\n",
    "                first_addend = x**(1-alp)*sigm_fun(w1*x+u1)\n",
    "                second_addend = w1*x**(2-alp)*phi_prime(w1*x+u1)\n",
    "            if j==2:\n",
    "                first_addend = x**(1-alp)*sigm_fun(w2*x+u2)\n",
    "                second_addend = w2*x**(2-alp)*phi_prime(w2*x+u2)\n",
    "            if j==3:\n",
    "                first_addend = x**(1-alp)*sigm_fun(w3*x+u3)\n",
    "                second_addend = w3*x**(2-alp)*phi_prime(w3*x+u3)\n",
    "            if j==4:\n",
    "                first_addend = x**(1-alp)*sigm_fun(w4*x+u4)\n",
    "                second_addend = w4*x**(2-alp)*phi_prime(w4*x+u4)\n",
    "\n",
    "            return first_addend + second_addend\n",
    "        \n",
    "        first_factor = der_alpha_y_N(x,alp,*weights) - f_x_i_y_N(x,*weights)\n",
    "        second_factor = der_D_alpha_y_N_wrt_vj(j)-der_f_wrt_vj(x,j,*weights)\n",
    "    \n",
    "        return 2*first_factor*second_factor\n",
    "\n",
    "    tot_sum = 0\n",
    "    for x in points_to_evaluate:\n",
    "        tot_sum += addend_in_E_wrt_vj(x,j,alp,*weights)\n",
    "    \n",
    "    return tot_sum\n",
    "\n",
    "# alpha = 0.5, let's derive wrt. j=2 ---> v2\n",
    "\n",
    "j = 4\n",
    "print(\"this is the derivative of E wrt to v%d, evaluated\"%j,\n",
    "     der_E_wrt_vj(0.7,j,v0,v1,v2,v3,v4,w0,w1,w2,w3,w4,u0,u1,u2,u3,u4))"
   ]
  },
  {
   "cell_type": "code",
   "execution_count": 14,
   "metadata": {},
   "outputs": [
    {
     "name": "stdout",
     "output_type": "stream",
     "text": [
      "this is the derivative of E wrt to u0, evaluated -4.295812889591501\n"
     ]
    }
   ],
   "source": [
    "def der_E_wrt_uj(alp,j,v0,v1,v2,v3,v4,w0,w1,w2,w3,w4,u0,u1,u2,u3,u4,points_to_evaluate=points_to_evaluate):\n",
    "    ''' As input, exactly the parameters of the function E'''\n",
    "    \n",
    "    def addend_in_E_wrt_uj(x,j,alp,v0,v1,v2,v3,v4,w0,w1,w2,w3,w4,u0,u1,u2,u3,u4):\n",
    "\n",
    "        def der_D_alpha_y_N_wrt_uj(j):\n",
    "            if j==0:\n",
    "                first_addend = x**(1-alp)*v0*phi_prime(w0*x+u0)\n",
    "                second_addend = w0*v0*x**(2-alp)*phi_second(w0*x+u0)\n",
    "            if j==1:\n",
    "                first_addend = x**(1-alp)*v1*phi_prime(w1*x+u1)\n",
    "                second_addend = w1*v1*x**(2-alp)*phi_second(w1*x+u1)\n",
    "            if j==2:\n",
    "                first_addend = x**(1-alp)*v2*phi_prime(w2*x+u2)\n",
    "                second_addend = w2*v2*x**(2-alp)*phi_second(w2*x+u2)\n",
    "            if j==3:\n",
    "                first_addend = x**(1-alp)*v3*phi_prime(w3*x+u3)\n",
    "                second_addend = w3*v3*x**(2-alp)*phi_second(w3*x+u3)\n",
    "            if j==4:\n",
    "                first_addend = x**(1-alp)*v4*phi_prime(w4*x+u4)\n",
    "                second_addend = w4*v4*x**(2-alp)*phi_second(w4*x+u4)\n",
    "\n",
    "            return first_addend + second_addend\n",
    "        \n",
    "        first_factor = der_alpha_y_N(x,alp,*weights) - f_x_i_y_N(x,*weights)\n",
    "        second_factor = der_D_alpha_y_N_wrt_uj(j)-der_f_wrt_uj(x,j,*weights)\n",
    "    \n",
    "        return 2*first_factor*second_factor\n",
    "\n",
    "    tot_sum = 0\n",
    "    for x in points_to_evaluate:\n",
    "        tot_sum += addend_in_E_wrt_uj(x,j,alp,*weights)\n",
    "    \n",
    "    return tot_sum\n",
    "\n",
    "# alpha = 0.5, let's derive wrt. j=2 ---> u2\n",
    "\n",
    "j = 0\n",
    "print(\"this is the derivative of E wrt to u%d, evaluated\"%j,\n",
    "     der_E_wrt_uj(0.7,j,v0,v1,v2,v3,v4,w0,w1,w2,w3,w4,u0,u1,u2,u3,u4))"
   ]
  },
  {
   "cell_type": "markdown",
   "metadata": {},
   "source": [
    "# Update the weights"
   ]
  },
  {
   "cell_type": "code",
   "execution_count": 15,
   "metadata": {},
   "outputs": [],
   "source": [
    "def update_weights(alp,h,v0,v1,v2,v3,v4,w0,w1,w2,w3,w4,u0,u1,u2,u3,u4,points_to_evaluate=points_to_evaluate):\n",
    "    ''' Inputs: alpha, h=learning_rate, Omega, points_to_evaluate.\n",
    "        Output: E, and new weights'''\n",
    "    \n",
    "    old_weights = [v0,v1,v2,v3,v4,w0,w1,w2,w3,w4,u0,u1,u2,u3,u4]\n",
    "    \n",
    "    new_weights = [np.nan]*15  # new weights = [v0',v1',v2',v3',v4',w0',w1',w2',w3',w4',u0',u1',u2',u3',u4']\n",
    "    for j in [0,1,2,3,4]:\n",
    "        vj_new = old_weights[j] - h*der_E_wrt_vj(alp,j,v0,v1,v2,v3,v4,w0,w1,w2,w3,w4,u0,u1,u2,u3,u4)\n",
    "        wj_new = old_weights[5+j] - h*der_E_wrt_wj(alp,j,v0,v1,v2,v3,v4,w0,w1,w2,w3,w4,u0,u1,u2,u3,u4)\n",
    "        uj_new = old_weights[10+j] - h*der_E_wrt_uj(alp,j,v0,v1,v2,v3,v4,w0,w1,w2,w3,w4,u0,u1,u2,u3,u4)\n",
    "        \n",
    "        new_weights[j] = vj_new\n",
    "        new_weights[j+5] = wj_new\n",
    "        new_weights[j+10] = uj_new\n",
    "    \n",
    "    #print(\"old weights = \", old_weights, \"\\n\")\n",
    "    #print(\"new weights = \", new_weights, \"\\n\")\n",
    "    \n",
    "    # Old Value of E and New value\n",
    "    old_val_E = E(alp,*old_weights)\n",
    "    new_val_E = E(alp,*new_weights)\n",
    "    #print(\"old_value_of_E = \", old_val_E)\n",
    "    #print(\"new_value_of_E = \", new_val_E)\n",
    "    \n",
    "    return new_weights, new_val_E, old_val_E"
   ]
  },
  {
   "cell_type": "code",
   "execution_count": 16,
   "metadata": {},
   "outputs": [
    {
     "data": {
      "text/plain": [
       "([9.737366522290369,\n",
       "  -5.16598669305339,\n",
       "  2.6731871121566697,\n",
       "  7.420526130559232,\n",
       "  4.380815206341039,\n",
       "  -5.501413923265362,\n",
       "  -6.038765887428013,\n",
       "  5.210616989214224,\n",
       "  -6.59263550502185,\n",
       "  -8.233204929318697,\n",
       "  4.281738923016362,\n",
       "  9.06284514896945,\n",
       "  -9.920440199574386,\n",
       "  5.679875148168944,\n",
       "  6.252156296093084],\n",
       " 18.819657370028175,\n",
       " 233.255679574629)"
      ]
     },
     "execution_count": 16,
     "metadata": {},
     "output_type": "execute_result"
    }
   ],
   "source": [
    "learn_rate = 0.2\n",
    "alp = 0.64\n",
    "\n",
    "update_weights(alp,learn_rate,v0,v1,v2,v3,v4,w0,w1,w2,w3,w4,u0,u1,u2,u3,u4)"
   ]
  },
  {
   "cell_type": "code",
   "execution_count": 17,
   "metadata": {},
   "outputs": [],
   "source": [
    "def iterate_updation_of_weights(nr_iterations,alp,learn_rate,v0,v1,v2,v3,v4,w0,w1,w2,w3,w4,u0,u1,u2,u3,u4):\n",
    "    \n",
    "    weights = [v0,v1,v2,v3,v4,w0,w1,w2,w3,w4,u0,u1,u2,u3,u4]\n",
    "    \n",
    "    weights_df = pd.DataFrame(data = {\"E/Loss function\": E(alp,*weights), \n",
    "                                  \"weights\": [weights]})\n",
    "    \n",
    "    for i in range(nr_iterations):\n",
    "        weights, new_E, old_E = update_weights(alp,learn_rate,*weights)\n",
    "        \n",
    "        new_weights_df = pd.DataFrame(data = {\"E/Loss function\": new_E, \n",
    "                                  \"weights\": [weights]})\n",
    "        \n",
    "        weights_df = weights_df.append(new_weights_df)\n",
    "    \n",
    "    weights_df.index = list(range(0,nr_iterations+1))\n",
    "    weights_df.index = weights_df.index.rename(\"iteration\")\n",
    "    \n",
    "    return weights_df"
   ]
  },
  {
   "cell_type": "markdown",
   "metadata": {},
   "source": [
    "# Problem!!! With the parameters as in the paper, it doesn't bring results, because there is overflow of numbers"
   ]
  },
  {
   "cell_type": "code",
   "execution_count": 18,
   "metadata": {},
   "outputs": [
    {
     "data": {
      "text/html": [
       "<div>\n",
       "<style scoped>\n",
       "    .dataframe tbody tr th:only-of-type {\n",
       "        vertical-align: middle;\n",
       "    }\n",
       "\n",
       "    .dataframe tbody tr th {\n",
       "        vertical-align: top;\n",
       "    }\n",
       "\n",
       "    .dataframe thead th {\n",
       "        text-align: right;\n",
       "    }\n",
       "</style>\n",
       "<table border=\"1\" class=\"dataframe\">\n",
       "  <thead>\n",
       "    <tr style=\"text-align: right;\">\n",
       "      <th></th>\n",
       "      <th>E/Loss function</th>\n",
       "      <th>weights</th>\n",
       "    </tr>\n",
       "    <tr>\n",
       "      <th>iteration</th>\n",
       "      <th></th>\n",
       "      <th></th>\n",
       "    </tr>\n",
       "  </thead>\n",
       "  <tbody>\n",
       "    <tr>\n",
       "      <th>0</th>\n",
       "      <td>157.270763</td>\n",
       "      <td>[0.6523937077237265, 1.1244434678543147, -0.12...</td>\n",
       "    </tr>\n",
       "    <tr>\n",
       "      <th>1</th>\n",
       "      <td>132.601068</td>\n",
       "      <td>[0.8577119940533213, 1.544984808988296, 0.3853...</td>\n",
       "    </tr>\n",
       "    <tr>\n",
       "      <th>2</th>\n",
       "      <td>108.907136</td>\n",
       "      <td>[1.0596891693640027, 1.926601443747802, 0.8506...</td>\n",
       "    </tr>\n",
       "    <tr>\n",
       "      <th>3</th>\n",
       "      <td>88.630385</td>\n",
       "      <td>[1.2542863572612442, 2.2667317174362336, 1.265...</td>\n",
       "    </tr>\n",
       "    <tr>\n",
       "      <th>4</th>\n",
       "      <td>72.452330</td>\n",
       "      <td>[1.4393698961431518, 2.566888903816525, 1.6319...</td>\n",
       "    </tr>\n",
       "    <tr>\n",
       "      <th>5</th>\n",
       "      <td>59.793702</td>\n",
       "      <td>[1.614278813983534, 2.8308843112654083, 1.9543...</td>\n",
       "    </tr>\n",
       "    <tr>\n",
       "      <th>6</th>\n",
       "      <td>49.904885</td>\n",
       "      <td>[1.7787972499997713, 3.062715086686798, 2.2375...</td>\n",
       "    </tr>\n",
       "    <tr>\n",
       "      <th>7</th>\n",
       "      <td>42.177155</td>\n",
       "      <td>[1.9327680405510563, 3.2659349234589237, 2.485...</td>\n",
       "    </tr>\n",
       "    <tr>\n",
       "      <th>8</th>\n",
       "      <td>36.146921</td>\n",
       "      <td>[2.0760482411294907, 3.443642814518906, 2.7031...</td>\n",
       "    </tr>\n",
       "    <tr>\n",
       "      <th>9</th>\n",
       "      <td>31.457087</td>\n",
       "      <td>[2.208539927458066, 3.5985733476366164, 2.8926...</td>\n",
       "    </tr>\n",
       "    <tr>\n",
       "      <th>10</th>\n",
       "      <td>27.827441</td>\n",
       "      <td>[2.3302198446425173, 3.73317011686935, 3.05729...</td>\n",
       "    </tr>\n",
       "    <tr>\n",
       "      <th>11</th>\n",
       "      <td>25.035387</td>\n",
       "      <td>[2.441157046157787, 3.8496350028468544, 3.1998...</td>\n",
       "    </tr>\n",
       "    <tr>\n",
       "      <th>12</th>\n",
       "      <td>22.902990</td>\n",
       "      <td>[2.5415206841944378, 3.949961885515786, 3.3227...</td>\n",
       "    </tr>\n",
       "    <tr>\n",
       "      <th>13</th>\n",
       "      <td>21.287692</td>\n",
       "      <td>[2.63158070117499, 4.03596121250019, 3.4280790...</td>\n",
       "    </tr>\n",
       "    <tr>\n",
       "      <th>14</th>\n",
       "      <td>20.075319</td>\n",
       "      <td>[2.711703170372994, 4.109278897297288, 3.51793...</td>\n",
       "    </tr>\n",
       "    <tr>\n",
       "      <th>15</th>\n",
       "      <td>19.174645</td>\n",
       "      <td>[2.782341414854826, 4.1714113760535145, 3.5941...</td>\n",
       "    </tr>\n",
       "    <tr>\n",
       "      <th>16</th>\n",
       "      <td>18.513076</td>\n",
       "      <td>[2.8440238304066603, 4.223717896111489, 3.6582...</td>\n",
       "    </tr>\n",
       "    <tr>\n",
       "      <th>17</th>\n",
       "      <td>18.033177</td>\n",
       "      <td>[2.897339331744719, 4.267430774200823, 3.71188...</td>\n",
       "    </tr>\n",
       "    <tr>\n",
       "      <th>18</th>\n",
       "      <td>17.689834</td>\n",
       "      <td>[2.942921375831987, 4.303664193498687, 3.75635...</td>\n",
       "    </tr>\n",
       "    <tr>\n",
       "      <th>19</th>\n",
       "      <td>17.447924</td>\n",
       "      <td>[2.981431512988754, 4.333421996448635, 3.79288...</td>\n",
       "    </tr>\n",
       "    <tr>\n",
       "      <th>20</th>\n",
       "      <td>17.280374</td>\n",
       "      <td>[3.0135433487016243, 4.357604833622944, 3.8225...</td>\n",
       "    </tr>\n",
       "    <tr>\n",
       "      <th>21</th>\n",
       "      <td>17.166557</td>\n",
       "      <td>[3.0399276692454844, 4.377016937357005, 3.8464...</td>\n",
       "    </tr>\n",
       "    <tr>\n",
       "      <th>22</th>\n",
       "      <td>17.090953</td>\n",
       "      <td>[3.06123931024485, 4.392372703016548, 3.865263...</td>\n",
       "    </tr>\n",
       "    <tr>\n",
       "      <th>23</th>\n",
       "      <td>17.042045</td>\n",
       "      <td>[3.0781061525758404, 4.4043031843971905, 3.879...</td>\n",
       "    </tr>\n",
       "    <tr>\n",
       "      <th>24</th>\n",
       "      <td>17.011415</td>\n",
       "      <td>[3.0911204373578154, 4.413362546453656, 3.8910...</td>\n",
       "    </tr>\n",
       "    <tr>\n",
       "      <th>25</th>\n",
       "      <td>16.993012</td>\n",
       "      <td>[3.100832419527105, 4.420034470326713, 3.89921...</td>\n",
       "    </tr>\n",
       "    <tr>\n",
       "      <th>26</th>\n",
       "      <td>16.982561</td>\n",
       "      <td>[3.107746239669633, 4.424738472723, 3.90497040...</td>\n",
       "    </tr>\n",
       "    <tr>\n",
       "      <th>27</th>\n",
       "      <td>16.977107</td>\n",
       "      <td>[3.1123177920084055, 4.427836082854811, 3.9087...</td>\n",
       "    </tr>\n",
       "    <tr>\n",
       "      <th>28</th>\n",
       "      <td>16.974651</td>\n",
       "      <td>[3.1149543027663555, 4.429636813100152, 3.9109...</td>\n",
       "    </tr>\n",
       "    <tr>\n",
       "      <th>29</th>\n",
       "      <td>16.973879</td>\n",
       "      <td>[3.11601530360766, 4.430403861535847, 3.911841...</td>\n",
       "    </tr>\n",
       "    <tr>\n",
       "      <th>30</th>\n",
       "      <td>16.973956</td>\n",
       "      <td>[3.115814683173029, 4.430359492706839, 3.91174...</td>\n",
       "    </tr>\n",
       "    <tr>\n",
       "      <th>31</th>\n",
       "      <td>16.974375</td>\n",
       "      <td>[3.1146235186120195, 4.429690054859352, 3.9108...</td>\n",
       "    </tr>\n",
       "    <tr>\n",
       "      <th>32</th>\n",
       "      <td>16.974846</td>\n",
       "      <td>[3.11267342140396, 4.428550605265289, 3.909432...</td>\n",
       "    </tr>\n",
       "    <tr>\n",
       "      <th>33</th>\n",
       "      <td>16.975221</td>\n",
       "      <td>[3.110160171468207, 4.427069128599635, 3.90756...</td>\n",
       "    </tr>\n",
       "    <tr>\n",
       "      <th>34</th>\n",
       "      <td>16.975439</td>\n",
       "      <td>[3.1072474556654077, 4.425350345509707, 3.9053...</td>\n",
       "    </tr>\n",
       "    <tr>\n",
       "      <th>35</th>\n",
       "      <td>16.975489</td>\n",
       "      <td>[3.104070567690476, 4.42347911888819, 3.903038...</td>\n",
       "    </tr>\n",
       "    <tr>\n",
       "      <th>36</th>\n",
       "      <td>16.975389</td>\n",
       "      <td>[3.1007399636960344, 4.421523473640754, 3.9005...</td>\n",
       "    </tr>\n",
       "    <tr>\n",
       "      <th>37</th>\n",
       "      <td>16.975168</td>\n",
       "      <td>[3.09734460043754, 4.419537251895216, 3.898076...</td>\n",
       "    </tr>\n",
       "    <tr>\n",
       "      <th>38</th>\n",
       "      <td>16.974859</td>\n",
       "      <td>[3.0939550097701174, 4.417562429779229, 3.8955...</td>\n",
       "    </tr>\n",
       "    <tr>\n",
       "      <th>39</th>\n",
       "      <td>16.974493</td>\n",
       "      <td>[3.0906260849893266, 4.4156311243459, 3.893154...</td>\n",
       "    </tr>\n",
       "    <tr>\n",
       "      <th>40</th>\n",
       "      <td>16.974095</td>\n",
       "      <td>[3.087399571194369, 4.413767320246928, 3.89080...</td>\n",
       "    </tr>\n",
       "    <tr>\n",
       "      <th>41</th>\n",
       "      <td>16.973688</td>\n",
       "      <td>[3.0843062641663597, 4.411988345642863, 3.8885...</td>\n",
       "    </tr>\n",
       "    <tr>\n",
       "      <th>42</th>\n",
       "      <td>16.973287</td>\n",
       "      <td>[3.0813679308841357, 4.410306125883459, 3.8864...</td>\n",
       "    </tr>\n",
       "    <tr>\n",
       "      <th>43</th>\n",
       "      <td>16.972903</td>\n",
       "      <td>[3.0785989704362517, 4.408728241938034, 3.8844...</td>\n",
       "    </tr>\n",
       "    <tr>\n",
       "      <th>44</th>\n",
       "      <td>16.972545</td>\n",
       "      <td>[3.076007837372635, 4.40725881861673, 3.882558...</td>\n",
       "    </tr>\n",
       "    <tr>\n",
       "      <th>45</th>\n",
       "      <td>16.972216</td>\n",
       "      <td>[3.0735982510392375, 4.40589926546824, 3.88082...</td>\n",
       "    </tr>\n",
       "    <tr>\n",
       "      <th>46</th>\n",
       "      <td>16.971919</td>\n",
       "      <td>[3.07137021463312, 4.404648890999608, 3.879231...</td>\n",
       "    </tr>\n",
       "    <tr>\n",
       "      <th>47</th>\n",
       "      <td>16.971654</td>\n",
       "      <td>[3.0693208669955436, 4.40350540863676, 3.87776...</td>\n",
       "    </tr>\n",
       "    <tr>\n",
       "      <th>48</th>\n",
       "      <td>16.971419</td>\n",
       "      <td>[3.0674451888374157, 4.402465350699934, 3.8764...</td>\n",
       "    </tr>\n",
       "    <tr>\n",
       "      <th>49</th>\n",
       "      <td>16.971213</td>\n",
       "      <td>[3.0657365834041097, 4.401524404652055, 3.8752...</td>\n",
       "    </tr>\n",
       "    <tr>\n",
       "      <th>50</th>\n",
       "      <td>16.971034</td>\n",
       "      <td>[3.0641873497140226, 4.40067768401828, 3.87412...</td>\n",
       "    </tr>\n",
       "  </tbody>\n",
       "</table>\n",
       "</div>"
      ],
      "text/plain": [
       "           E/Loss function                                            weights\n",
       "iteration                                                                    \n",
       "0               157.270763  [0.6523937077237265, 1.1244434678543147, -0.12...\n",
       "1               132.601068  [0.8577119940533213, 1.544984808988296, 0.3853...\n",
       "2               108.907136  [1.0596891693640027, 1.926601443747802, 0.8506...\n",
       "3                88.630385  [1.2542863572612442, 2.2667317174362336, 1.265...\n",
       "4                72.452330  [1.4393698961431518, 2.566888903816525, 1.6319...\n",
       "5                59.793702  [1.614278813983534, 2.8308843112654083, 1.9543...\n",
       "6                49.904885  [1.7787972499997713, 3.062715086686798, 2.2375...\n",
       "7                42.177155  [1.9327680405510563, 3.2659349234589237, 2.485...\n",
       "8                36.146921  [2.0760482411294907, 3.443642814518906, 2.7031...\n",
       "9                31.457087  [2.208539927458066, 3.5985733476366164, 2.8926...\n",
       "10               27.827441  [2.3302198446425173, 3.73317011686935, 3.05729...\n",
       "11               25.035387  [2.441157046157787, 3.8496350028468544, 3.1998...\n",
       "12               22.902990  [2.5415206841944378, 3.949961885515786, 3.3227...\n",
       "13               21.287692  [2.63158070117499, 4.03596121250019, 3.4280790...\n",
       "14               20.075319  [2.711703170372994, 4.109278897297288, 3.51793...\n",
       "15               19.174645  [2.782341414854826, 4.1714113760535145, 3.5941...\n",
       "16               18.513076  [2.8440238304066603, 4.223717896111489, 3.6582...\n",
       "17               18.033177  [2.897339331744719, 4.267430774200823, 3.71188...\n",
       "18               17.689834  [2.942921375831987, 4.303664193498687, 3.75635...\n",
       "19               17.447924  [2.981431512988754, 4.333421996448635, 3.79288...\n",
       "20               17.280374  [3.0135433487016243, 4.357604833622944, 3.8225...\n",
       "21               17.166557  [3.0399276692454844, 4.377016937357005, 3.8464...\n",
       "22               17.090953  [3.06123931024485, 4.392372703016548, 3.865263...\n",
       "23               17.042045  [3.0781061525758404, 4.4043031843971905, 3.879...\n",
       "24               17.011415  [3.0911204373578154, 4.413362546453656, 3.8910...\n",
       "25               16.993012  [3.100832419527105, 4.420034470326713, 3.89921...\n",
       "26               16.982561  [3.107746239669633, 4.424738472723, 3.90497040...\n",
       "27               16.977107  [3.1123177920084055, 4.427836082854811, 3.9087...\n",
       "28               16.974651  [3.1149543027663555, 4.429636813100152, 3.9109...\n",
       "29               16.973879  [3.11601530360766, 4.430403861535847, 3.911841...\n",
       "30               16.973956  [3.115814683173029, 4.430359492706839, 3.91174...\n",
       "31               16.974375  [3.1146235186120195, 4.429690054859352, 3.9108...\n",
       "32               16.974846  [3.11267342140396, 4.428550605265289, 3.909432...\n",
       "33               16.975221  [3.110160171468207, 4.427069128599635, 3.90756...\n",
       "34               16.975439  [3.1072474556654077, 4.425350345509707, 3.9053...\n",
       "35               16.975489  [3.104070567690476, 4.42347911888819, 3.903038...\n",
       "36               16.975389  [3.1007399636960344, 4.421523473640754, 3.9005...\n",
       "37               16.975168  [3.09734460043754, 4.419537251895216, 3.898076...\n",
       "38               16.974859  [3.0939550097701174, 4.417562429779229, 3.8955...\n",
       "39               16.974493  [3.0906260849893266, 4.4156311243459, 3.893154...\n",
       "40               16.974095  [3.087399571194369, 4.413767320246928, 3.89080...\n",
       "41               16.973688  [3.0843062641663597, 4.411988345642863, 3.8885...\n",
       "42               16.973287  [3.0813679308841357, 4.410306125883459, 3.8864...\n",
       "43               16.972903  [3.0785989704362517, 4.408728241938034, 3.8844...\n",
       "44               16.972545  [3.076007837372635, 4.40725881861673, 3.882558...\n",
       "45               16.972216  [3.0735982510392375, 4.40589926546824, 3.88082...\n",
       "46               16.971919  [3.07137021463312, 4.404648890999608, 3.879231...\n",
       "47               16.971654  [3.0693208669955436, 4.40350540863676, 3.87776...\n",
       "48               16.971419  [3.0674451888374157, 4.402465350699934, 3.8764...\n",
       "49               16.971213  [3.0657365834041097, 4.401524404652055, 3.8752...\n",
       "50               16.971034  [3.0641873497140226, 4.40067768401828, 3.87412..."
      ]
     },
     "execution_count": 18,
     "metadata": {},
     "output_type": "execute_result"
    }
   ],
   "source": [
    "learn_rate = 0.04\n",
    "nr_iterations = 50\n",
    "\n",
    "np.random.seed(3)\n",
    "sampl = np.random.uniform(low=-1, high=2, size=(15,))\n",
    "v0,v1,v2,v3,v4,w0,w1,w2,w3,w4,u0,u1,u2,u3,u4 = sampl\n",
    "\n",
    "\n",
    "final_df = iterate_updation_of_weights(nr_iterations,alp,learn_rate,v0,v1,v2,v3,v4,w0,w1,w2,w3,w4,u0,u1,u2,u3,u4)\n",
    "final_df\n"
   ]
  },
  {
   "cell_type": "code",
   "execution_count": 23,
   "metadata": {},
   "outputs": [
    {
     "name": "stdout",
     "output_type": "stream",
     "text": [
      "for i = 1 we got error = 16.977624415263293\n",
      "for i = 2 we got error = 16.986206589097467\n",
      "for i = 3 we got error = 16.976441009325747\n",
      "for i = 4 we got error = 16.99311775820518\n",
      "for i = 5 we got error = 16.992016138122395\n",
      "for i = 6 we got error = 16.99131694338619\n",
      "for i = 7 we got error = 16.986833773357862\n",
      "for i = 8 we got error = 16.986645415253864\n"
     ]
    },
    {
     "ename": "KeyboardInterrupt",
     "evalue": "",
     "output_type": "error",
     "traceback": [
      "\u001b[0;31m---------------------------------------------------------------------------\u001b[0m",
      "\u001b[0;31mKeyboardInterrupt\u001b[0m                         Traceback (most recent call last)",
      "\u001b[0;32m<ipython-input-23-7af222625a9a>\u001b[0m in \u001b[0;36m<module>\u001b[0;34m\u001b[0m\n\u001b[1;32m     24\u001b[0m     \u001b[0;32mreturn\u001b[0m \u001b[0mbest_index\u001b[0m\u001b[0;34m,\u001b[0m \u001b[0mbest_error\u001b[0m\u001b[0;34m\u001b[0m\u001b[0m\n\u001b[1;32m     25\u001b[0m \u001b[0;34m\u001b[0m\u001b[0m\n\u001b[0;32m---> 26\u001b[0;31m \u001b[0mtesting_many_seeds\u001b[0m\u001b[0;34m(\u001b[0m\u001b[0;36m100\u001b[0m\u001b[0;34m)\u001b[0m\u001b[0;34m\u001b[0m\u001b[0m\n\u001b[0m",
      "\u001b[0;32m<ipython-input-23-7af222625a9a>\u001b[0m in \u001b[0;36mtesting_many_seeds\u001b[0;34m(nr_seeds)\u001b[0m\n\u001b[1;32m      6\u001b[0m         \u001b[0mv0\u001b[0m\u001b[0;34m,\u001b[0m\u001b[0mv1\u001b[0m\u001b[0;34m,\u001b[0m\u001b[0mv2\u001b[0m\u001b[0;34m,\u001b[0m\u001b[0mv3\u001b[0m\u001b[0;34m,\u001b[0m\u001b[0mv4\u001b[0m\u001b[0;34m,\u001b[0m\u001b[0mw0\u001b[0m\u001b[0;34m,\u001b[0m\u001b[0mw1\u001b[0m\u001b[0;34m,\u001b[0m\u001b[0mw2\u001b[0m\u001b[0;34m,\u001b[0m\u001b[0mw3\u001b[0m\u001b[0;34m,\u001b[0m\u001b[0mw4\u001b[0m\u001b[0;34m,\u001b[0m\u001b[0mu0\u001b[0m\u001b[0;34m,\u001b[0m\u001b[0mu1\u001b[0m\u001b[0;34m,\u001b[0m\u001b[0mu2\u001b[0m\u001b[0;34m,\u001b[0m\u001b[0mu3\u001b[0m\u001b[0;34m,\u001b[0m\u001b[0mu4\u001b[0m \u001b[0;34m=\u001b[0m \u001b[0msampl\u001b[0m\u001b[0;34m\u001b[0m\u001b[0m\n\u001b[1;32m      7\u001b[0m \u001b[0;34m\u001b[0m\u001b[0m\n\u001b[0;32m----> 8\u001b[0;31m         \u001b[0mfinal_df\u001b[0m \u001b[0;34m=\u001b[0m \u001b[0miterate_updation_of_weights\u001b[0m\u001b[0;34m(\u001b[0m\u001b[0mnr_iterations\u001b[0m\u001b[0;34m,\u001b[0m\u001b[0malp\u001b[0m\u001b[0;34m,\u001b[0m\u001b[0mlearn_rate\u001b[0m\u001b[0;34m,\u001b[0m\u001b[0mv0\u001b[0m\u001b[0;34m,\u001b[0m\u001b[0mv1\u001b[0m\u001b[0;34m,\u001b[0m\u001b[0mv2\u001b[0m\u001b[0;34m,\u001b[0m\u001b[0mv3\u001b[0m\u001b[0;34m,\u001b[0m\u001b[0mv4\u001b[0m\u001b[0;34m,\u001b[0m\u001b[0mw0\u001b[0m\u001b[0;34m,\u001b[0m\u001b[0mw1\u001b[0m\u001b[0;34m,\u001b[0m\u001b[0mw2\u001b[0m\u001b[0;34m,\u001b[0m\u001b[0mw3\u001b[0m\u001b[0;34m,\u001b[0m\u001b[0mw4\u001b[0m\u001b[0;34m,\u001b[0m\u001b[0mu0\u001b[0m\u001b[0;34m,\u001b[0m\u001b[0mu1\u001b[0m\u001b[0;34m,\u001b[0m\u001b[0mu2\u001b[0m\u001b[0;34m,\u001b[0m\u001b[0mu3\u001b[0m\u001b[0;34m,\u001b[0m\u001b[0mu4\u001b[0m\u001b[0;34m)\u001b[0m\u001b[0;34m\u001b[0m\u001b[0m\n\u001b[0m\u001b[1;32m      9\u001b[0m         \u001b[0;31m# final_df.to_csv('results_from_tests/best_results_example1_paper_alpha05.csv')\u001b[0m\u001b[0;34m\u001b[0m\u001b[0;34m\u001b[0m\u001b[0m\n\u001b[1;32m     10\u001b[0m         \u001b[0;31m# final_df = pd.read_csv('results_from_tests/best_results_example1_paper_alpha05.csv')\u001b[0m\u001b[0;34m\u001b[0m\u001b[0;34m\u001b[0m\u001b[0m\n",
      "\u001b[0;32m<ipython-input-17-4c06d6c8c03b>\u001b[0m in \u001b[0;36miterate_updation_of_weights\u001b[0;34m(nr_iterations, alp, learn_rate, v0, v1, v2, v3, v4, w0, w1, w2, w3, w4, u0, u1, u2, u3, u4)\u001b[0m\n\u001b[1;32m      7\u001b[0m \u001b[0;34m\u001b[0m\u001b[0m\n\u001b[1;32m      8\u001b[0m     \u001b[0;32mfor\u001b[0m \u001b[0mi\u001b[0m \u001b[0;32min\u001b[0m \u001b[0mrange\u001b[0m\u001b[0;34m(\u001b[0m\u001b[0mnr_iterations\u001b[0m\u001b[0;34m)\u001b[0m\u001b[0;34m:\u001b[0m\u001b[0;34m\u001b[0m\u001b[0m\n\u001b[0;32m----> 9\u001b[0;31m         \u001b[0mweights\u001b[0m\u001b[0;34m,\u001b[0m \u001b[0mnew_E\u001b[0m\u001b[0;34m,\u001b[0m \u001b[0mold_E\u001b[0m \u001b[0;34m=\u001b[0m \u001b[0mupdate_weights\u001b[0m\u001b[0;34m(\u001b[0m\u001b[0malp\u001b[0m\u001b[0;34m,\u001b[0m\u001b[0mlearn_rate\u001b[0m\u001b[0;34m,\u001b[0m\u001b[0;34m*\u001b[0m\u001b[0mweights\u001b[0m\u001b[0;34m)\u001b[0m\u001b[0;34m\u001b[0m\u001b[0m\n\u001b[0m\u001b[1;32m     10\u001b[0m \u001b[0;34m\u001b[0m\u001b[0m\n\u001b[1;32m     11\u001b[0m         new_weights_df = pd.DataFrame(data = {\"E/Loss function\": new_E, \n",
      "\u001b[0;32m<ipython-input-15-709f48280e28>\u001b[0m in \u001b[0;36mupdate_weights\u001b[0;34m(alp, h, v0, v1, v2, v3, v4, w0, w1, w2, w3, w4, u0, u1, u2, u3, u4, points_to_evaluate)\u001b[0m\n\u001b[1;32m      7\u001b[0m     \u001b[0mnew_weights\u001b[0m \u001b[0;34m=\u001b[0m \u001b[0;34m[\u001b[0m\u001b[0mnp\u001b[0m\u001b[0;34m.\u001b[0m\u001b[0mnan\u001b[0m\u001b[0;34m]\u001b[0m\u001b[0;34m*\u001b[0m\u001b[0;36m15\u001b[0m  \u001b[0;31m# new weights = [v0',v1',v2',v3',v4',w0',w1',w2',w3',w4',u0',u1',u2',u3',u4']\u001b[0m\u001b[0;34m\u001b[0m\u001b[0m\n\u001b[1;32m      8\u001b[0m     \u001b[0;32mfor\u001b[0m \u001b[0mj\u001b[0m \u001b[0;32min\u001b[0m \u001b[0;34m[\u001b[0m\u001b[0;36m0\u001b[0m\u001b[0;34m,\u001b[0m\u001b[0;36m1\u001b[0m\u001b[0;34m,\u001b[0m\u001b[0;36m2\u001b[0m\u001b[0;34m,\u001b[0m\u001b[0;36m3\u001b[0m\u001b[0;34m,\u001b[0m\u001b[0;36m4\u001b[0m\u001b[0;34m]\u001b[0m\u001b[0;34m:\u001b[0m\u001b[0;34m\u001b[0m\u001b[0m\n\u001b[0;32m----> 9\u001b[0;31m         \u001b[0mvj_new\u001b[0m \u001b[0;34m=\u001b[0m \u001b[0mold_weights\u001b[0m\u001b[0;34m[\u001b[0m\u001b[0mj\u001b[0m\u001b[0;34m]\u001b[0m \u001b[0;34m-\u001b[0m \u001b[0mh\u001b[0m\u001b[0;34m*\u001b[0m\u001b[0mder_E_wrt_vj\u001b[0m\u001b[0;34m(\u001b[0m\u001b[0malp\u001b[0m\u001b[0;34m,\u001b[0m\u001b[0mj\u001b[0m\u001b[0;34m,\u001b[0m\u001b[0mv0\u001b[0m\u001b[0;34m,\u001b[0m\u001b[0mv1\u001b[0m\u001b[0;34m,\u001b[0m\u001b[0mv2\u001b[0m\u001b[0;34m,\u001b[0m\u001b[0mv3\u001b[0m\u001b[0;34m,\u001b[0m\u001b[0mv4\u001b[0m\u001b[0;34m,\u001b[0m\u001b[0mw0\u001b[0m\u001b[0;34m,\u001b[0m\u001b[0mw1\u001b[0m\u001b[0;34m,\u001b[0m\u001b[0mw2\u001b[0m\u001b[0;34m,\u001b[0m\u001b[0mw3\u001b[0m\u001b[0;34m,\u001b[0m\u001b[0mw4\u001b[0m\u001b[0;34m,\u001b[0m\u001b[0mu0\u001b[0m\u001b[0;34m,\u001b[0m\u001b[0mu1\u001b[0m\u001b[0;34m,\u001b[0m\u001b[0mu2\u001b[0m\u001b[0;34m,\u001b[0m\u001b[0mu3\u001b[0m\u001b[0;34m,\u001b[0m\u001b[0mu4\u001b[0m\u001b[0;34m)\u001b[0m\u001b[0;34m\u001b[0m\u001b[0m\n\u001b[0m\u001b[1;32m     10\u001b[0m         \u001b[0mwj_new\u001b[0m \u001b[0;34m=\u001b[0m \u001b[0mold_weights\u001b[0m\u001b[0;34m[\u001b[0m\u001b[0;36m5\u001b[0m\u001b[0;34m+\u001b[0m\u001b[0mj\u001b[0m\u001b[0;34m]\u001b[0m \u001b[0;34m-\u001b[0m \u001b[0mh\u001b[0m\u001b[0;34m*\u001b[0m\u001b[0mder_E_wrt_wj\u001b[0m\u001b[0;34m(\u001b[0m\u001b[0malp\u001b[0m\u001b[0;34m,\u001b[0m\u001b[0mj\u001b[0m\u001b[0;34m,\u001b[0m\u001b[0mv0\u001b[0m\u001b[0;34m,\u001b[0m\u001b[0mv1\u001b[0m\u001b[0;34m,\u001b[0m\u001b[0mv2\u001b[0m\u001b[0;34m,\u001b[0m\u001b[0mv3\u001b[0m\u001b[0;34m,\u001b[0m\u001b[0mv4\u001b[0m\u001b[0;34m,\u001b[0m\u001b[0mw0\u001b[0m\u001b[0;34m,\u001b[0m\u001b[0mw1\u001b[0m\u001b[0;34m,\u001b[0m\u001b[0mw2\u001b[0m\u001b[0;34m,\u001b[0m\u001b[0mw3\u001b[0m\u001b[0;34m,\u001b[0m\u001b[0mw4\u001b[0m\u001b[0;34m,\u001b[0m\u001b[0mu0\u001b[0m\u001b[0;34m,\u001b[0m\u001b[0mu1\u001b[0m\u001b[0;34m,\u001b[0m\u001b[0mu2\u001b[0m\u001b[0;34m,\u001b[0m\u001b[0mu3\u001b[0m\u001b[0;34m,\u001b[0m\u001b[0mu4\u001b[0m\u001b[0;34m)\u001b[0m\u001b[0;34m\u001b[0m\u001b[0m\n\u001b[1;32m     11\u001b[0m         \u001b[0muj_new\u001b[0m \u001b[0;34m=\u001b[0m \u001b[0mold_weights\u001b[0m\u001b[0;34m[\u001b[0m\u001b[0;36m10\u001b[0m\u001b[0;34m+\u001b[0m\u001b[0mj\u001b[0m\u001b[0;34m]\u001b[0m \u001b[0;34m-\u001b[0m \u001b[0mh\u001b[0m\u001b[0;34m*\u001b[0m\u001b[0mder_E_wrt_uj\u001b[0m\u001b[0;34m(\u001b[0m\u001b[0malp\u001b[0m\u001b[0;34m,\u001b[0m\u001b[0mj\u001b[0m\u001b[0;34m,\u001b[0m\u001b[0mv0\u001b[0m\u001b[0;34m,\u001b[0m\u001b[0mv1\u001b[0m\u001b[0;34m,\u001b[0m\u001b[0mv2\u001b[0m\u001b[0;34m,\u001b[0m\u001b[0mv3\u001b[0m\u001b[0;34m,\u001b[0m\u001b[0mv4\u001b[0m\u001b[0;34m,\u001b[0m\u001b[0mw0\u001b[0m\u001b[0;34m,\u001b[0m\u001b[0mw1\u001b[0m\u001b[0;34m,\u001b[0m\u001b[0mw2\u001b[0m\u001b[0;34m,\u001b[0m\u001b[0mw3\u001b[0m\u001b[0;34m,\u001b[0m\u001b[0mw4\u001b[0m\u001b[0;34m,\u001b[0m\u001b[0mu0\u001b[0m\u001b[0;34m,\u001b[0m\u001b[0mu1\u001b[0m\u001b[0;34m,\u001b[0m\u001b[0mu2\u001b[0m\u001b[0;34m,\u001b[0m\u001b[0mu3\u001b[0m\u001b[0;34m,\u001b[0m\u001b[0mu4\u001b[0m\u001b[0;34m)\u001b[0m\u001b[0;34m\u001b[0m\u001b[0m\n",
      "\u001b[0;32m<ipython-input-13-c1fe0e6f148c>\u001b[0m in \u001b[0;36mder_E_wrt_vj\u001b[0;34m(alp, j, v0, v1, v2, v3, v4, w0, w1, w2, w3, w4, u0, u1, u2, u3, u4, points_to_evaluate)\u001b[0m\n\u001b[1;32m     32\u001b[0m     \u001b[0mtot_sum\u001b[0m \u001b[0;34m=\u001b[0m \u001b[0;36m0\u001b[0m\u001b[0;34m\u001b[0m\u001b[0m\n\u001b[1;32m     33\u001b[0m     \u001b[0;32mfor\u001b[0m \u001b[0mx\u001b[0m \u001b[0;32min\u001b[0m \u001b[0mpoints_to_evaluate\u001b[0m\u001b[0;34m:\u001b[0m\u001b[0;34m\u001b[0m\u001b[0m\n\u001b[0;32m---> 34\u001b[0;31m         \u001b[0mtot_sum\u001b[0m \u001b[0;34m+=\u001b[0m \u001b[0maddend_in_E_wrt_vj\u001b[0m\u001b[0;34m(\u001b[0m\u001b[0mx\u001b[0m\u001b[0;34m,\u001b[0m\u001b[0mj\u001b[0m\u001b[0;34m,\u001b[0m\u001b[0malp\u001b[0m\u001b[0;34m,\u001b[0m\u001b[0;34m*\u001b[0m\u001b[0mweights\u001b[0m\u001b[0;34m)\u001b[0m\u001b[0;34m\u001b[0m\u001b[0m\n\u001b[0m\u001b[1;32m     35\u001b[0m \u001b[0;34m\u001b[0m\u001b[0m\n\u001b[1;32m     36\u001b[0m     \u001b[0;32mreturn\u001b[0m \u001b[0mtot_sum\u001b[0m\u001b[0;34m\u001b[0m\u001b[0m\n",
      "\u001b[0;32m<ipython-input-13-c1fe0e6f148c>\u001b[0m in \u001b[0;36maddend_in_E_wrt_vj\u001b[0;34m(x, j, alp, v0, v1, v2, v3, v4, w0, w1, w2, w3, w4, u0, u1, u2, u3, u4)\u001b[0m\n\u001b[1;32m     26\u001b[0m \u001b[0;34m\u001b[0m\u001b[0m\n\u001b[1;32m     27\u001b[0m         \u001b[0mfirst_factor\u001b[0m \u001b[0;34m=\u001b[0m \u001b[0mder_alpha_y_N\u001b[0m\u001b[0;34m(\u001b[0m\u001b[0mx\u001b[0m\u001b[0;34m,\u001b[0m\u001b[0malp\u001b[0m\u001b[0;34m,\u001b[0m\u001b[0;34m*\u001b[0m\u001b[0mweights\u001b[0m\u001b[0;34m)\u001b[0m \u001b[0;34m-\u001b[0m \u001b[0mf_x_i_y_N\u001b[0m\u001b[0;34m(\u001b[0m\u001b[0mx\u001b[0m\u001b[0;34m,\u001b[0m\u001b[0;34m*\u001b[0m\u001b[0mweights\u001b[0m\u001b[0;34m)\u001b[0m\u001b[0;34m\u001b[0m\u001b[0m\n\u001b[0;32m---> 28\u001b[0;31m         \u001b[0msecond_factor\u001b[0m \u001b[0;34m=\u001b[0m \u001b[0mder_D_alpha_y_N_wrt_vj\u001b[0m\u001b[0;34m(\u001b[0m\u001b[0mj\u001b[0m\u001b[0;34m)\u001b[0m\u001b[0;34m-\u001b[0m\u001b[0mder_f_wrt_vj\u001b[0m\u001b[0;34m(\u001b[0m\u001b[0mx\u001b[0m\u001b[0;34m,\u001b[0m\u001b[0mj\u001b[0m\u001b[0;34m,\u001b[0m\u001b[0;34m*\u001b[0m\u001b[0mweights\u001b[0m\u001b[0;34m)\u001b[0m\u001b[0;34m\u001b[0m\u001b[0m\n\u001b[0m\u001b[1;32m     29\u001b[0m \u001b[0;34m\u001b[0m\u001b[0m\n\u001b[1;32m     30\u001b[0m         \u001b[0;32mreturn\u001b[0m \u001b[0;36m2\u001b[0m\u001b[0;34m*\u001b[0m\u001b[0mfirst_factor\u001b[0m\u001b[0;34m*\u001b[0m\u001b[0msecond_factor\u001b[0m\u001b[0;34m\u001b[0m\u001b[0m\n",
      "\u001b[0;32m<ipython-input-10-5326ada1ba0c>\u001b[0m in \u001b[0;36mder_f_wrt_vj\u001b[0;34m(x, j, v0, v1, v2, v3, v4, w0, w1, w2, w3, w4, u0, u1, u2, u3, u4)\u001b[0m\n\u001b[1;32m      4\u001b[0m \u001b[0;34m\u001b[0m\u001b[0m\n\u001b[1;32m      5\u001b[0m     \u001b[0mfirst_addend\u001b[0m \u001b[0;34m=\u001b[0m \u001b[0mlamb\u001b[0m\u001b[0;34m*\u001b[0m\u001b[0;36m2\u001b[0m\u001b[0;34m*\u001b[0m\u001b[0mx\u001b[0m\u001b[0;34m**\u001b[0m\u001b[0;36m2\u001b[0m\u001b[0;34m*\u001b[0m\u001b[0mcompute_neural_network\u001b[0m\u001b[0;34m(\u001b[0m\u001b[0mx\u001b[0m\u001b[0;34m,\u001b[0m\u001b[0;34m*\u001b[0m\u001b[0mweights\u001b[0m\u001b[0;34m)\u001b[0m\u001b[0;34m*\u001b[0m\u001b[0mder_N_wrt_vj\u001b[0m\u001b[0;34m(\u001b[0m\u001b[0mx\u001b[0m\u001b[0;34m,\u001b[0m\u001b[0mj\u001b[0m\u001b[0;34m,\u001b[0m\u001b[0;34m*\u001b[0m\u001b[0mweights\u001b[0m\u001b[0;34m)\u001b[0m\u001b[0;34m\u001b[0m\u001b[0m\n\u001b[0;32m----> 6\u001b[0;31m     \u001b[0msecond_addend\u001b[0m \u001b[0;34m=\u001b[0m \u001b[0mmu\u001b[0m\u001b[0;34m*\u001b[0m\u001b[0mx\u001b[0m\u001b[0;34m*\u001b[0m\u001b[0mder_N_wrt_vj\u001b[0m\u001b[0;34m(\u001b[0m\u001b[0mx\u001b[0m\u001b[0;34m,\u001b[0m\u001b[0mj\u001b[0m\u001b[0;34m,\u001b[0m\u001b[0;34m*\u001b[0m\u001b[0mweights\u001b[0m\u001b[0;34m)\u001b[0m\u001b[0;34m\u001b[0m\u001b[0m\n\u001b[0m\u001b[1;32m      7\u001b[0m \u001b[0;34m\u001b[0m\u001b[0m\n\u001b[1;32m      8\u001b[0m     \u001b[0;32mreturn\u001b[0m \u001b[0mfirst_addend\u001b[0m \u001b[0;34m+\u001b[0m \u001b[0msecond_addend\u001b[0m\u001b[0;34m\u001b[0m\u001b[0m\n",
      "\u001b[0;32m<ipython-input-8-6b2ead9b5c5b>\u001b[0m in \u001b[0;36mder_N_wrt_vj\u001b[0;34m(x, j, v0, v1, v2, v3, v4, w0, w1, w2, w3, w4, u0, u1, u2, u3, u4)\u001b[0m\n\u001b[1;32m     11\u001b[0m         \u001b[0;32mreturn\u001b[0m \u001b[0mv4\u001b[0m\u001b[0;34m*\u001b[0m\u001b[0mphi_prime\u001b[0m\u001b[0;34m(\u001b[0m\u001b[0mw4\u001b[0m\u001b[0;34m*\u001b[0m\u001b[0mx\u001b[0m\u001b[0;34m+\u001b[0m\u001b[0mu4\u001b[0m\u001b[0;34m)\u001b[0m\u001b[0;34m*\u001b[0m\u001b[0mx\u001b[0m\u001b[0;34m\u001b[0m\u001b[0m\n\u001b[1;32m     12\u001b[0m \u001b[0;34m\u001b[0m\u001b[0m\n\u001b[0;32m---> 13\u001b[0;31m \u001b[0;32mdef\u001b[0m \u001b[0mder_N_wrt_vj\u001b[0m\u001b[0;34m(\u001b[0m\u001b[0mx\u001b[0m\u001b[0;34m,\u001b[0m\u001b[0mj\u001b[0m\u001b[0;34m,\u001b[0m\u001b[0mv0\u001b[0m\u001b[0;34m,\u001b[0m\u001b[0mv1\u001b[0m\u001b[0;34m,\u001b[0m\u001b[0mv2\u001b[0m\u001b[0;34m,\u001b[0m\u001b[0mv3\u001b[0m\u001b[0;34m,\u001b[0m\u001b[0mv4\u001b[0m\u001b[0;34m,\u001b[0m\u001b[0mw0\u001b[0m\u001b[0;34m,\u001b[0m\u001b[0mw1\u001b[0m\u001b[0;34m,\u001b[0m\u001b[0mw2\u001b[0m\u001b[0;34m,\u001b[0m\u001b[0mw3\u001b[0m\u001b[0;34m,\u001b[0m\u001b[0mw4\u001b[0m\u001b[0;34m,\u001b[0m\u001b[0mu0\u001b[0m\u001b[0;34m,\u001b[0m\u001b[0mu1\u001b[0m\u001b[0;34m,\u001b[0m\u001b[0mu2\u001b[0m\u001b[0;34m,\u001b[0m\u001b[0mu3\u001b[0m\u001b[0;34m,\u001b[0m\u001b[0mu4\u001b[0m\u001b[0;34m)\u001b[0m\u001b[0;34m:\u001b[0m\u001b[0;34m\u001b[0m\u001b[0m\n\u001b[0m\u001b[1;32m     14\u001b[0m     \u001b[0;32mif\u001b[0m \u001b[0mj\u001b[0m\u001b[0;34m==\u001b[0m\u001b[0;36m0\u001b[0m\u001b[0;34m:\u001b[0m\u001b[0;34m\u001b[0m\u001b[0m\n\u001b[1;32m     15\u001b[0m         \u001b[0;32mreturn\u001b[0m \u001b[0msigm_fun\u001b[0m\u001b[0;34m(\u001b[0m\u001b[0mw0\u001b[0m\u001b[0;34m*\u001b[0m\u001b[0mx\u001b[0m\u001b[0;34m+\u001b[0m\u001b[0mu0\u001b[0m\u001b[0;34m)\u001b[0m\u001b[0;34m\u001b[0m\u001b[0m\n",
      "\u001b[0;31mKeyboardInterrupt\u001b[0m: "
     ]
    }
   ],
   "source": [
    "def testing_many_seeds(nr_seeds):\n",
    "    \n",
    "    for i in range(1,nr_seeds):\n",
    "        np.random.seed(i)\n",
    "        sampl = np.random.uniform(low=-1, high=3, size=(15,))\n",
    "        v0,v1,v2,v3,v4,w0,w1,w2,w3,w4,u0,u1,u2,u3,u4 = sampl\n",
    "\n",
    "        final_df = iterate_updation_of_weights(nr_iterations,alp,learn_rate,v0,v1,v2,v3,v4,w0,w1,w2,w3,w4,u0,u1,u2,u3,u4)\n",
    "        # final_df.to_csv('results_from_tests/best_results_example1_paper_alpha05.csv')\n",
    "        # final_df = pd.read_csv('results_from_tests/best_results_example1_paper_alpha05.csv')\n",
    "\n",
    "        error = final_df.iloc[-1,0]\n",
    "        print(\"for i =\", i, \"we got error =\", error)\n",
    "\n",
    "\n",
    "        if i == 1:\n",
    "            best_error = error\n",
    "            best_index = 1\n",
    "        if i >= 1:\n",
    "            if best_error >= error:\n",
    "                best_error = error\n",
    "                best_index = i\n",
    "\n",
    "    return best_index, best_error\n",
    "\n",
    "testing_many_seeds(100)"
   ]
  },
  {
   "cell_type": "code",
   "execution_count": 19,
   "metadata": {},
   "outputs": [
    {
     "data": {
      "text/plain": [
       "[3.0641873497140226,\n",
       " 4.40067768401828,\n",
       " 3.874124083551623,\n",
       " 5.415476025247805,\n",
       " 5.769875032989906,\n",
       " 1.6938036716075766,\n",
       " -0.6228784667861778,\n",
       " -0.38081827622945236,\n",
       " -0.8440510989306419,\n",
       " 0.3233733028296939,\n",
       " 4.835054189239875,\n",
       " 0.3202819238913336,\n",
       " 0.9533768815175125,\n",
       " 54.19576065247799,\n",
       " 1.026135336448514]"
      ]
     },
     "execution_count": 19,
     "metadata": {},
     "output_type": "execute_result"
    }
   ],
   "source": [
    "final_weights = final_df.weights.iloc[-1]\n",
    "final_weights"
   ]
  },
  {
   "cell_type": "code",
   "execution_count": 20,
   "metadata": {},
   "outputs": [
    {
     "data": {
      "text/plain": [
       "[<matplotlib.lines.Line2D at 0x7fa1fe7edcc0>]"
      ]
     },
     "execution_count": 20,
     "metadata": {},
     "output_type": "execute_result"
    },
    {
     "data": {
      "image/png": "[encoded data removed]",
      "text/plain": [
       "<Figure size 432x288 with 1 Axes>"
      ]
     },
     "metadata": {
      "needs_background": "light"
     },
     "output_type": "display_data"
    }
   ],
   "source": [
    "x = np.linspace(0,T,50)\n",
    "y = [i*compute_neural_network(i,*final_weights) for i in x]\n",
    "plt.plot(x,y)"
   ]
  },
  {
   "cell_type": "markdown",
   "metadata": {},
   "source": [
    "### Next, use again the notebook on the Euler method on these parameters, because it doesn't end well with other parameters, overflow of numbers! And Compare!"
   ]
  },
  {
   "cell_type": "markdown",
   "metadata": {},
   "source": [
    "# Comparison"
   ]
  },
  {
   "cell_type": "code",
   "execution_count": 21,
   "metadata": {},
   "outputs": [
    {
     "data": {
      "text/html": [
       "<div>\n",
       "<style scoped>\n",
       "    .dataframe tbody tr th:only-of-type {\n",
       "        vertical-align: middle;\n",
       "    }\n",
       "\n",
       "    .dataframe tbody tr th {\n",
       "        vertical-align: top;\n",
       "    }\n",
       "\n",
       "    .dataframe thead th {\n",
       "        text-align: right;\n",
       "    }\n",
       "</style>\n",
       "<table border=\"1\" class=\"dataframe\">\n",
       "  <thead>\n",
       "    <tr style=\"text-align: right;\">\n",
       "      <th></th>\n",
       "      <th>value</th>\n",
       "    </tr>\n",
       "    <tr>\n",
       "      <th>time</th>\n",
       "      <th></th>\n",
       "    </tr>\n",
       "  </thead>\n",
       "  <tbody>\n",
       "    <tr>\n",
       "      <th>0.000000</th>\n",
       "      <td>0.000000</td>\n",
       "    </tr>\n",
       "    <tr>\n",
       "      <th>0.000124</th>\n",
       "      <td>0.007018</td>\n",
       "    </tr>\n",
       "    <tr>\n",
       "      <th>0.000248</th>\n",
       "      <td>0.010921</td>\n",
       "    </tr>\n",
       "    <tr>\n",
       "      <th>0.000372</th>\n",
       "      <td>0.014140</td>\n",
       "    </tr>\n",
       "    <tr>\n",
       "      <th>0.000496</th>\n",
       "      <td>0.016982</td>\n",
       "    </tr>\n",
       "  </tbody>\n",
       "</table>\n",
       "</div>"
      ],
      "text/plain": [
       "             value\n",
       "time              \n",
       "0.000000  0.000000\n",
       "0.000124  0.007018\n",
       "0.000248  0.010921\n",
       "0.000372  0.014140\n",
       "0.000496  0.016982"
      ]
     },
     "execution_count": 21,
     "metadata": {},
     "output_type": "execute_result"
    }
   ],
   "source": [
    "euler_df = pd.read_csv('results_from_tests/for_test_conformable_nn.csv').set_index('time')\n",
    "euler_df.head()"
   ]
  },
  {
   "cell_type": "code",
   "execution_count": 22,
   "metadata": {},
   "outputs": [
    {
     "data": {
      "text/plain": [
       "[<matplotlib.lines.Line2D at 0x7fa1fe0540f0>]"
      ]
     },
     "execution_count": 22,
     "metadata": {},
     "output_type": "execute_result"
    },
    {
     "data": {
      "image/png": "[encoded data removed]",
      "text/plain": [
       "<Figure size 432x288 with 1 Axes>"
      ]
     },
     "metadata": {
      "needs_background": "light"
     },
     "output_type": "display_data"
    }
   ],
   "source": [
    "x = euler_df.index\n",
    "y_neural_net = [i*compute_neural_network(i,*final_weights) for i in x]\n",
    "plt.plot(x,y_neural_net)\n",
    "\n",
    "y_euler = euler_df.value\n",
    "plt.plot(x,y_euler)\n",
    "\n",
    "#For the Conformable Riccati Equation!!, Know that, in this Euler Scheme, \n",
    "#t_k0 was too big. Means that we only used the fractional power series. \n",
    "#The Euler scheme, which is applied after the line tk0, is too big"
   ]
  },
  {
   "cell_type": "code",
   "execution_count": null,
   "metadata": {},
   "outputs": [],
   "source": []
  },
  {
   "cell_type": "code",
   "execution_count": null,
   "metadata": {},
   "outputs": [],
   "source": []
  }
 ],
 "metadata": {
  "kernelspec": {
   "display_name": "Python 3",
   "language": "python",
   "name": "python3"
  },
  "language_info": {
   "codemirror_mode": {
    "name": "ipython",
    "version": 3
   },
   "file_extension": ".py",
   "mimetype": "text/x-python",
   "name": "python",
   "nbconvert_exporter": "python",
   "pygments_lexer": "ipython3",
   "version": "3.7.0"
  }
 },
 "nbformat": 4,
 "nbformat_minor": 4
}
