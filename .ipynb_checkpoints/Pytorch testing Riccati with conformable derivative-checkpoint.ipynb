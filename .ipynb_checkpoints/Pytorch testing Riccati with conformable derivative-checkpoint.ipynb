{
 "cells": [
  {
   "cell_type": "code",
   "execution_count": 1,
   "metadata": {},
   "outputs": [],
   "source": [
    "import torch\n",
    "import torch.nn as nn\n",
    "import matplotlib.pyplot as plt\n",
    "import numpy as np"
   ]
  },
  {
   "cell_type": "code",
   "execution_count": 2,
   "metadata": {},
   "outputs": [],
   "source": [
    "T = 1/252\n",
    "alph = 0.64\n",
    "lamb = 0.2\n",
    "mu = -44\n",
    "nu = 230"
   ]
  },
  {
   "cell_type": "code",
   "execution_count": 3,
   "metadata": {},
   "outputs": [],
   "source": [
    "phi_prime = lambda x: torch.exp(-x)/torch.pow((1+torch.exp(-x)),2)"
   ]
  },
  {
   "cell_type": "markdown",
   "metadata": {},
   "source": [
    "$$y_N := x^\\alpha N$$, where $N$ is the neural network,. Note that in such a way, the initial condition of the Riccati is automatically satisfied (see below). Moreover, in the main paper we found $a_0=0$ in the series expansion, and this automatically satisfies it.\n",
    "\n",
    "$$D^\\alpha y_N = \\lambda y_N^2 + \\mu y_N + \\nu $$\n",
    "\n",
    "with initial condition\n",
    "\n",
    "$$I_{1-\\alpha} y_N(0) = 0 $$\n",
    "\n",
    "Where $I_\\alpha$ defined as in the main paper (riemannliouv)\n",
    "\n",
    "We consider interval $(0,1/252)$, with $T=\\frac{1}{252}$.\n",
    "\n",
    "We try to replicate the example in the paper, with \n",
    "$$\\alpha = 0.64, \\lambda = 0.045, \\mu = -64.938, \\nu = 44850 $$\n",
    "\n",
    "We have $$f(x,y_N(x,\\Omega)) = \\lambda y_N^2 + \\mu y_N + \\nu $$\n",
    "\n",
    "And The loss\n",
    "\n",
    "$$ E[\\Omega] = \\sum_{i=1}^n [D^\\alpha y_N(x_i,\\Omega) - f]^2 $$"
   ]
  },
  {
   "cell_type": "markdown",
   "metadata": {},
   "source": [
    "$$N(x,\\Omega) = \\sum_{j=1}^5 v_j\\phi(w_jx+u_j) $$\n",
    "\n",
    "$$ D_x^\\alpha (N) := D_x^\\alpha N(x,\\Omega) = \\sum_{j=1}^5 v_j \\phi'(w_jx+u_j)w_jx^{1-\\alpha} $$\n",
    "    \n",
    "$$D_x^\\alpha y_N(x,\\Omega) = D_x^\\alpha (xN) = \\alpha\\cdot N + xD_x^\\alpha (N) $$"
   ]
  },
  {
   "cell_type": "code",
   "execution_count": 4,
   "metadata": {},
   "outputs": [],
   "source": [
    "N = nn.Sequential(nn.Linear(1, 50), nn.Sigmoid(), nn.Linear(50,1, bias=False))\n",
    "\n",
    "\n",
    "Psi_t = lambda x: x**alph * N(x)  # Trial solution\n",
    "f = lambda x, Psi: lamb*Psi**2 + mu*Psi + nu"
   ]
  },
  {
   "cell_type": "code",
   "execution_count": 5,
   "metadata": {},
   "outputs": [],
   "source": [
    "def loss(x):\n",
    "    \n",
    "    outputs = Psi_t(x) \n",
    "    \n",
    "    wj = N[0].weight.T[0]\n",
    "    uj = N[0].bias\n",
    "    vj = N[2].weight[0]\n",
    "    \n",
    "    D_alpha_N = 0\n",
    "    for j in range(len(wj)):\n",
    "        D_alpha_N += wj[j]*vj[j]*x**(1-alph)*phi_prime(wj[j]*x+uj[j])\n",
    "    \n",
    "    D_alph_y_n = alph*N(x) + D_alpha_N*x          # Vector tensor + scalar tensor = Vector tensor\n",
    "    \n",
    "    final_loss = torch.mean((D_alph_y_n - f(x, outputs))**2)\n",
    "    \n",
    "    print('loss is', final_loss)\n",
    "\n",
    "    return final_loss"
   ]
  },
  {
   "cell_type": "code",
   "execution_count": 6,
   "metadata": {},
   "outputs": [],
   "source": [
    "x_train = np.linspace(0, T, 50)[:, None]\n",
    "x = torch.Tensor(x_train)\n",
    "x.requires_grad = True"
   ]
  },
  {
   "cell_type": "code",
   "execution_count": 7,
   "metadata": {},
   "outputs": [],
   "source": [
    "optimizer = torch.optim.ASGD(N.parameters())\n",
    "\n",
    "def closure():\n",
    "\n",
    "    optimizer.zero_grad()\n",
    "    l = loss(x)\n",
    "    l.backward()\n",
    "    \n",
    "    return l"
   ]
  },
  {
   "cell_type": "code",
   "execution_count": 23,
   "metadata": {},
   "outputs": [
    {
     "name": "stdout",
     "output_type": "stream",
     "text": [
      "loss is tensor(2813.5618, grad_fn=<MeanBackward0>)\n",
      "loss is tensor(2813.5601, grad_fn=<MeanBackward0>)\n",
      "loss is tensor(2813.5571, grad_fn=<MeanBackward0>)\n",
      "loss is tensor(2813.5554, grad_fn=<MeanBackward0>)\n",
      "loss is tensor(2813.5535, grad_fn=<MeanBackward0>)\n",
      "loss is tensor(2813.5513, grad_fn=<MeanBackward0>)\n",
      "loss is tensor(2813.5488, grad_fn=<MeanBackward0>)\n",
      "loss is tensor(2813.5469, grad_fn=<MeanBackward0>)\n",
      "loss is tensor(2813.5449, grad_fn=<MeanBackward0>)\n",
      "loss is tensor(2813.5427, grad_fn=<MeanBackward0>)\n"
     ]
    }
   ],
   "source": [
    "# Here train the neural network\n",
    "for i in range(10):\n",
    "    optimizer.step(closure)"
   ]
  },
  {
   "cell_type": "code",
   "execution_count": null,
   "metadata": {},
   "outputs": [],
   "source": []
  },
  {
   "cell_type": "code",
   "execution_count": null,
   "metadata": {},
   "outputs": [],
   "source": []
  }
 ],
 "metadata": {
  "kernelspec": {
   "display_name": "Python 3",
   "language": "python",
   "name": "python3"
  },
  "language_info": {
   "codemirror_mode": {
    "name": "ipython",
    "version": 3
   },
   "file_extension": ".py",
   "mimetype": "text/x-python",
   "name": "python",
   "nbconvert_exporter": "python",
   "pygments_lexer": "ipython3",
   "version": "3.7.0"
  }
 },
 "nbformat": 4,
 "nbformat_minor": 4
}
