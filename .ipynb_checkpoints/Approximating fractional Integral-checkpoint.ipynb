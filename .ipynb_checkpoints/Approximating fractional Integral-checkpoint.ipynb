{
 "cells": [
  {
   "cell_type": "markdown",
   "metadata": {},
   "source": [
    "Here we will approximate $I_\\alpha$, the fractional integral of Riemann-Liouville of order $\\alpha$"
   ]
  },
  {
   "cell_type": "code",
   "execution_count": 1,
   "metadata": {},
   "outputs": [],
   "source": [
    "import torch\n",
    "import torch.nn as nn\n",
    "import matplotlib.pyplot as plt\n",
    "import numpy as np\n",
    "import math"
   ]
  },
  {
   "cell_type": "markdown",
   "metadata": {},
   "source": [
    "# Definition\n",
    "Given $\\alpha,t>0$ and $f\\in L^1(0,T)$\n",
    "$$I_{\\alpha} f(t) := \\frac{1}{\\Gamma(\\alpha)}\\int_0^t (t-s)^{\\alpha-1}f(s)\\,ds$$\n",
    "for $t\\in(0,T)$.\n",
    "\n",
    "Q1) Notice that if $\\alpha\\ge 1$, it is always finite and well-defined. But if $1>\\alpha>0$? What happens?"
   ]
  },
  {
   "cell_type": "markdown",
   "metadata": {},
   "source": [
    "# Approximating the integral with rectangles"
   ]
  },
  {
   "cell_type": "code",
   "execution_count": 483,
   "metadata": {},
   "outputs": [],
   "source": [
    "alpha = 0.64\n",
    "t = 1/252*(1/10)\n",
    "\n",
    "n_rectangles = 100"
   ]
  },
  {
   "cell_type": "code",
   "execution_count": 484,
   "metadata": {},
   "outputs": [
    {
     "data": {
      "text/plain": [
       "[<matplotlib.lines.Line2D at 0x7f1051af4780>]"
      ]
     },
     "execution_count": 484,
     "metadata": {},
     "output_type": "execute_result"
    },
    {
     "data": {
      "image/png": "[encoded data removed]",
      "text/plain": [
       "<Figure size 432x288 with 1 Axes>"
      ]
     },
     "metadata": {
      "needs_background": "light"
     },
     "output_type": "display_data"
    }
   ],
   "source": [
    "random_x = np.random.uniform(0,t,n_rectangles)  # between 0 and 1, 10 random points\n",
    "fix, ax = plt.subplots()\n",
    "ax.plot(random_x, np.zeros(n_rectangles), \"x\")"
   ]
  },
  {
   "cell_type": "code",
   "execution_count": 485,
   "metadata": {},
   "outputs": [],
   "source": [
    "def resampling(x):\n",
    "    return x**(1/2)\n",
    "x = resampling(np.linspace(0, t**(2/1), n_rectangles))"
   ]
  },
  {
   "cell_type": "code",
   "execution_count": 486,
   "metadata": {},
   "outputs": [
    {
     "data": {
      "text/plain": [
       "[<matplotlib.lines.Line2D at 0x7f1051b68b38>]"
      ]
     },
     "execution_count": 486,
     "metadata": {},
     "output_type": "execute_result"
    },
    {
     "data": {
      "image/png": "[encoded data removed]",
      "text/plain": [
       "<Figure size 432x288 with 1 Axes>"
      ]
     },
     "metadata": {
      "needs_background": "light"
     },
     "output_type": "display_data"
    }
   ],
   "source": [
    "fix, ax = plt.subplots()\n",
    "ax.plot(x, np.zeros(n_rectangles), \"x\")"
   ]
  },
  {
   "cell_type": "markdown",
   "metadata": {},
   "source": [
    "x = np.sort(np.random.uniform(0,t,n_rectangles))\n",
    "fix, ax = plt.subplots()\n",
    "ax.plot(x, np.zeros(n_rectangles), \"x\")"
   ]
  },
  {
   "cell_type": "code",
   "execution_count": 487,
   "metadata": {},
   "outputs": [],
   "source": [
    "f = lambda s: s      # f(s) = s\n",
    "integrand_f = lambda s,f_s: (t-s)**(alpha-1)*f_s"
   ]
  },
  {
   "cell_type": "code",
   "execution_count": 488,
   "metadata": {},
   "outputs": [],
   "source": [
    "integrands_values = integrand_f(x[:-1],f(x)[:-1])  #[:-1] because last value is infinity\n",
    "\n",
    "integral = 0\n",
    "for i in range(n_rectangles):\n",
    "    if i>0:\n",
    "        delta_x = x[i]-x[i-1]\n",
    "        integral += integrands_values[i-1]*delta_x"
   ]
  },
  {
   "cell_type": "code",
   "execution_count": 489,
   "metadata": {},
   "outputs": [],
   "source": [
    "integral = 1/math.gamma(alpha)*integral"
   ]
  },
  {
   "cell_type": "code",
   "execution_count": 490,
   "metadata": {},
   "outputs": [
    {
     "data": {
      "text/plain": [
       "1.7066016862130858e-06"
      ]
     },
     "execution_count": 490,
     "metadata": {},
     "output_type": "execute_result"
    }
   ],
   "source": [
    "integral"
   ]
  },
  {
   "cell_type": "markdown",
   "metadata": {},
   "source": [
    "It is really biased if $\\alpha$ is very close to $1$. "
   ]
  },
  {
   "cell_type": "markdown",
   "metadata": {},
   "source": [
    "## Testing with scipy"
   ]
  },
  {
   "cell_type": "code",
   "execution_count": 491,
   "metadata": {},
   "outputs": [],
   "source": [
    "function_integrand = lambda s: (t-s)**(alpha-1)*s"
   ]
  },
  {
   "cell_type": "code",
   "execution_count": 492,
   "metadata": {},
   "outputs": [
    {
     "data": {
      "text/plain": [
       "1.7917298871894148e-06"
      ]
     },
     "execution_count": 492,
     "metadata": {},
     "output_type": "execute_result"
    }
   ],
   "source": [
    "import scipy.integrate as integrate\n",
    "result = integrate.quad(function_integrand, 0, t)\n",
    "result[0]/math.gamma(alpha)"
   ]
  },
  {
   "cell_type": "markdown",
   "metadata": {},
   "source": [
    "Problem is that it does not work with pytorch!"
   ]
  },
  {
   "cell_type": "markdown",
   "metadata": {},
   "source": [
    "# Let's compare with trapezoids!"
   ]
  },
  {
   "cell_type": "code",
   "execution_count": 511,
   "metadata": {},
   "outputs": [
    {
     "data": {
      "text/plain": [
       "[<matplotlib.lines.Line2D at 0x7f10519272b0>]"
      ]
     },
     "execution_count": 511,
     "metadata": {},
     "output_type": "execute_result"
    },
    {
     "data": {
      "image/png": "[encoded data removed]",
      "text/plain": [
       "<Figure size 432x288 with 1 Axes>"
      ]
     },
     "metadata": {
      "needs_background": "light"
     },
     "output_type": "display_data"
    }
   ],
   "source": [
    "def resampling(x):\n",
    "    return x**(1/2)\n",
    "x = resampling(np.linspace(0, t**(2/1), n_rectangles))\n",
    "\n",
    "fix, ax = plt.subplots()\n",
    "ax.plot(x, np.zeros(n_rectangles), \"x\")"
   ]
  },
  {
   "cell_type": "markdown",
   "metadata": {},
   "source": [
    "Here we use trapezoids, until the last interval, we take the left rectangle"
   ]
  },
  {
   "cell_type": "code",
   "execution_count": 512,
   "metadata": {},
   "outputs": [],
   "source": [
    "integrands_values = integrand_f(x[:-1],f(x)[:-1])  #[:-1] because last value is infinity\n",
    "\n",
    "integral = 0\n",
    "for i in range(n_rectangles):\n",
    "    delta_x = x[i]-x[i-1]\n",
    "    \n",
    "    if i==n_rectangles-1:\n",
    "        integral += integrands_values[i-1]*delta_x\n",
    "    elif i>0:\n",
    "        integral += (integrands_values[i]+integrands_values[i-1])*delta_x/2\n",
    "    "
   ]
  },
  {
   "cell_type": "code",
   "execution_count": 513,
   "metadata": {},
   "outputs": [
    {
     "data": {
      "text/plain": [
       "1.7577614445709754e-06"
      ]
     },
     "execution_count": 513,
     "metadata": {},
     "output_type": "execute_result"
    }
   ],
   "source": [
    "integral = 1/math.gamma(alpha)*integral\n",
    "integral"
   ]
  },
  {
   "cell_type": "markdown",
   "metadata": {},
   "source": [
    "Interesting! By parity of n_rectangles, the trapezoids perform much much better!"
   ]
  },
  {
   "cell_type": "markdown",
   "metadata": {},
   "source": [
    "# Gauss-legendre quadrature?"
   ]
  },
  {
   "cell_type": "markdown",
   "metadata": {},
   "source": [
    "https://rosettacode.org/wiki/Numerical_integration/Gauss-Legendre_Quadrature\n",
    "https://docs.scipy.org/doc/scipy/reference/generated/scipy.special.roots_legendre.html"
   ]
  },
  {
   "cell_type": "code",
   "execution_count": 573,
   "metadata": {},
   "outputs": [],
   "source": [
    "import scipy\n",
    "\n",
    "n_legendre = 100\n",
    "\n",
    "nodes, weights = scipy.special.roots_legendre(n_legendre)"
   ]
  },
  {
   "cell_type": "code",
   "execution_count": 574,
   "metadata": {},
   "outputs": [],
   "source": [
    "transformed_x_vals = nodes*t/2 + t/2\n",
    "\n",
    "integrands_values = integrand_f(transformed_x_vals, f(transformed_x_vals))"
   ]
  },
  {
   "cell_type": "code",
   "execution_count": 575,
   "metadata": {},
   "outputs": [
    {
     "data": {
      "text/plain": [
       "1.7893714144378053e-06"
      ]
     },
     "execution_count": 575,
     "metadata": {},
     "output_type": "execute_result"
    }
   ],
   "source": [
    "integral = 1/math.gamma(alpha)*t/2*np.sum(integrands_values * weights)\n",
    "integral"
   ]
  },
  {
   "cell_type": "code",
   "execution_count": null,
   "metadata": {},
   "outputs": [],
   "source": []
  }
 ],
 "metadata": {
  "kernelspec": {
   "display_name": "Python 3",
   "language": "python",
   "name": "python3"
  },
  "language_info": {
   "codemirror_mode": {
    "name": "ipython",
    "version": 3
   },
   "file_extension": ".py",
   "mimetype": "text/x-python",
   "name": "python",
   "nbconvert_exporter": "python",
   "pygments_lexer": "ipython3",
   "version": "3.7.0"
  }
 },
 "nbformat": 4,
 "nbformat_minor": 5
}
