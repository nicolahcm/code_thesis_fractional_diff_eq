{
 "cells": [
  {
   "cell_type": "code",
   "execution_count": 1,
   "metadata": {},
   "outputs": [],
   "source": [
    "import torch\n",
    "import torch.nn as nn\n",
    "import matplotlib.pyplot as plt\n",
    "import numpy as np"
   ]
  },
  {
   "cell_type": "markdown",
   "metadata": {},
   "source": [
    "# Trapezoid"
   ]
  },
  {
   "cell_type": "code",
   "execution_count": 7,
   "metadata": {},
   "outputs": [
    {
     "data": {
      "text/plain": [
       "tensor(8.5000)"
      ]
     },
     "execution_count": 7,
     "metadata": {},
     "output_type": "execute_result"
    }
   ],
   "source": [
    "y = torch.tensor([4,2,3])\n",
    "x = torch.tensor([1,3,4])\n",
    "\n",
    "torch.trapezoid(y,x) # = (4+2)*2/2  + (2+3)*1/2"
   ]
  },
  {
   "cell_type": "code",
   "execution_count": 9,
   "metadata": {},
   "outputs": [],
   "source": [
    "f = lambda x: x**2"
   ]
  },
  {
   "cell_type": "code",
   "execution_count": 12,
   "metadata": {},
   "outputs": [
    {
     "data": {
      "text/plain": [
       "array([0.        , 0.33333333, 0.66666667, 1.        , 1.33333333,\n",
       "       1.66666667, 2.        , 2.33333333, 2.66666667, 3.        ])"
      ]
     },
     "execution_count": 12,
     "metadata": {},
     "output_type": "execute_result"
    }
   ],
   "source": [
    "np.linspace(0,3,10)"
   ]
  },
  {
   "cell_type": "code",
   "execution_count": 22,
   "metadata": {},
   "outputs": [],
   "source": [
    "def int_f(t, n_points=10):\n",
    "    x_in_the_integral = torch.tensor(np.linspace(0,t,n_points))\n",
    "    y = f(x_in_the_integral)\n",
    "    \n",
    "    return torch.trapezoid(y, x_in_the_integral)"
   ]
  },
  {
   "cell_type": "code",
   "execution_count": 39,
   "metadata": {},
   "outputs": [
    {
     "data": {
      "text/plain": [
       "tensor(243.1445, dtype=torch.float64)"
      ]
     },
     "execution_count": 39,
     "metadata": {},
     "output_type": "execute_result"
    }
   ],
   "source": [
    "int_f(9, n_points=30)  # x^3/3   "
   ]
  },
  {
   "cell_type": "code",
   "execution_count": 27,
   "metadata": {},
   "outputs": [
    {
     "data": {
      "text/plain": [
       "243"
      ]
     },
     "execution_count": 27,
     "metadata": {},
     "output_type": "execute_result"
    }
   ],
   "source": [
    "9*9*3"
   ]
  },
  {
   "cell_type": "markdown",
   "metadata": {},
   "source": [
    "# Simpson"
   ]
  },
  {
   "cell_type": "code",
   "execution_count": null,
   "metadata": {},
   "outputs": [],
   "source": []
  },
  {
   "cell_type": "code",
   "execution_count": null,
   "metadata": {},
   "outputs": [],
   "source": [
    "def simpsonint1(function,a,b,n):\n",
    "    h = (b-a)/n\n",
    "    m = n/2\n",
    "    sumval = 0\n",
    "    if n % 2 == 0:\n",
    "        for i in range(1,int(m-1)):\n",
    "            x = a + 2*i*h\n",
    "            sumval = sumval+2*function(x);\n",
    "        for i in range(1,int(m)):\n",
    "            x = a+(2*i-1)*h;\n",
    "            sumval = sumval+4*function(x);\n",
    "        sumval = h*(sumval+function(a)+function(b))/3\n",
    "    else:\n",
    "        print(\"Simpson’s rule requires n to be even.\")\n",
    "    return sumval\n",
    "def simpsonint2(function,a,b,n):\n",
    "    h = (b-a)/n\n",
    "    sumval = 0; evensum= 0\n",
    "    if n % 2 == 0:\n",
    "        evensum = np.sum(function(a+2*j*h)     for j in range(1,int(n/2-1)))\n",
    "        oddsum  = np.sum(function(a+(2*j-1)*h) for j in range(1,int(n/2)))\n",
    "        sumval  = h/3 * (function(a)+function(b)+2*evensum+4*oddsum)\n",
    "    else:\n",
    "        print(\"Simpson’s rule requires n to be even.\")\n",
    "    return sumval"
   ]
  },
  {
   "cell_type": "markdown",
   "metadata": {},
   "source": [
    "# MonteCarlo ... not deterministic"
   ]
  },
  {
   "cell_type": "code",
   "execution_count": 8,
   "metadata": {},
   "outputs": [
    {
     "data": {
      "text/plain": [
       "array([2.17170015, 2.90606903, 2.26897984, 2.01815349, 2.8360814 ,\n",
       "       2.27698988, 2.99975679, 2.64010085, 2.70378451, 2.97092296])"
      ]
     },
     "execution_count": 8,
     "metadata": {},
     "output_type": "execute_result"
    }
   ],
   "source": [
    "np.random.uniform(2,3,10)"
   ]
  },
  {
   "cell_type": "code",
   "execution_count": null,
   "metadata": {},
   "outputs": [],
   "source": []
  }
 ],
 "metadata": {
  "kernelspec": {
   "display_name": "Python 3",
   "language": "python",
   "name": "python3"
  },
  "language_info": {
   "codemirror_mode": {
    "name": "ipython",
    "version": 3
   },
   "file_extension": ".py",
   "mimetype": "text/x-python",
   "name": "python",
   "nbconvert_exporter": "python",
   "pygments_lexer": "ipython3",
   "version": "3.7.0"
  }
 },
 "nbformat": 4,
 "nbformat_minor": 4
}
