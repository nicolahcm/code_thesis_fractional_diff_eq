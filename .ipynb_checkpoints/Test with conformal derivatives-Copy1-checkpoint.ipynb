{
 "cells": [
  {
   "cell_type": "code",
   "execution_count": 1,
   "metadata": {},
   "outputs": [],
   "source": [
    "import pandas as pd\n",
    "import numpy as np\n",
    "import matplotlib.pyplot as plt"
   ]
  },
  {
   "cell_type": "markdown",
   "metadata": {},
   "source": [
    "# He uses 3 layers, with the hidden layers that uses 5 nodes\n",
    "\n",
    "We will denote by $\\Omega$, the set of weights of the neural Network, that is\n",
    "\n",
    "$$\\Omega = \\left\\{ v0,v1,v2,v3,v4,w0,w1,w2,w3,w4,u0,u1,u2,u3,u4 \\right\\} $$\n",
    "\n",
    "And $$N(x,\\Omega) = \\sum_{j=1}^5 v_j\\phi(w_jx+u_j) $$\n",
    "\n",
    "Where we use $5$ hidden nodes and one hidden layer"
   ]
  },
  {
   "cell_type": "code",
   "execution_count": 2,
   "metadata": {},
   "outputs": [],
   "source": [
    "\n",
    "def sigm_fun(x):\n",
    "    return 1/(1+np.exp(-x))\n",
    "\n",
    "def phi_prime(z): #1st derivative\n",
    "    result = np.exp(-z)/((1+np.exp(-z))**2)\n",
    "    return result\n",
    "\n",
    "def phi_second(z): #2nd derivative\n",
    "    first_addend = -np.exp(-z)/((1+np.exp(-z))**2)\n",
    "    second_addend = 2*np.exp(-2*z)/((1+np.exp(-z))**3)\n",
    "    return first_addend + second_addend\n",
    "\n",
    "# Usa *args, come input e spacchetta\n",
    "\n",
    "def compute_neural_network(x,v0,v1,v2,v3,v4,w0,w1,w2,w3,w4,u0,u1,u2,u3,u4):\n",
    "    ''' NN '''\n",
    "    result = v0*sigm_fun(w0*x+u0)\n",
    "    result += v1*sigm_fun(w1*x+u1)\n",
    "    result += v2*sigm_fun(w2*x+u2)\n",
    "    result += v3*sigm_fun(w3*x+u3)\n",
    "    result += v4*sigm_fun(w4*x+u4)\n",
    "    return result"
   ]
  },
  {
   "cell_type": "code",
   "execution_count": 3,
   "metadata": {},
   "outputs": [
    {
     "name": "stdout",
     "output_type": "stream",
     "text": [
      "[ 5.42641287 -9.58496101  2.6729647   4.97607765 -0.02985975 -5.50406709\n",
      " -6.0387427   5.21061424 -6.61778327 -8.23320372  3.70719637  9.06786692\n",
      " -9.92103467  0.24384527  6.25241923]\n"
     ]
    }
   ],
   "source": [
    "np.random.seed(10)\n",
    "sampl = np.random.uniform(low=-10, high=10, size=(15,))\n",
    "v0,v1,v2,v3,v4,w0,w1,w2,w3,w4,u0,u1,u2,u3,u4 = sampl\n",
    "print(sampl)"
   ]
  },
  {
   "cell_type": "code",
   "execution_count": 4,
   "metadata": {},
   "outputs": [
    {
     "data": {
      "text/plain": [
       "1.2171753884110106"
      ]
     },
     "execution_count": 4,
     "metadata": {},
     "output_type": "execute_result"
    }
   ],
   "source": [
    "compute_neural_network(2,v0,v1,v2,v3,v4,w0,w1,w2,w3,w4,u0,u1,u2,u3,u4)"
   ]
  },
  {
   "cell_type": "markdown",
   "metadata": {},
   "source": [
    "Some tricks for writing better code... Later\n",
    "\n",
    "Usa *args, come input e spacchetta\n",
    "\n",
    "def comp_neur_net(x,*weights):\n",
    "    for i in weights:\n",
    "        print(i)\n",
    "\n",
    "comp_neur_net(2,*(v0,v1,v2,v3,v4,w0,w1,w2,w3,w4,u0,u1,u2,u3,u4))\n",
    "\n",
    "----\n",
    "\n",
    "my_vars = {}\n",
    "for i in range(10):\n",
    "    var_name = \"var%d\" % i\n",
    "    my_vars[var_name] = i\n",
    "\n",
    "print(my_vars[\"var2\"])\n",
    "\n",
    "This is equivalent to creating var0 = 0, var1 = 1, and so on."
   ]
  },
  {
   "cell_type": "markdown",
   "metadata": {},
   "source": [
    "# First example in the paper of Mall, Charkaverty"
   ]
  },
  {
   "cell_type": "code",
   "execution_count": 5,
   "metadata": {},
   "outputs": [
    {
     "data": {
      "text/plain": [
       "2.434350776822021"
      ]
     },
     "execution_count": 5,
     "metadata": {},
     "output_type": "execute_result"
    }
   ],
   "source": [
    "def y_n(x,*weights):\n",
    "    return x*compute_neural_network(x,*weights)\n",
    "y_n(2,*(v0,v1,v2,v3,v4,w0,w1,w2,w3,w4,u0,u1,u2,u3,u4))"
   ]
  },
  {
   "cell_type": "markdown",
   "metadata": {},
   "source": [
    "## 1 Computing E (we need alpha-derivative)\n",
    "\n",
    "we take $10$ equidistant points\n",
    "\n",
    "$$E[weights] = \\sum_{i=1}^{10} [D^\\alpha y_N(x_i,weights) - f(x_i, y_N(x_i,weights))]^2 =$$ \n",
    "\n",
    "$$=\\sum_{i=1}^{10} addend-in-E-w $$\n",
    "how it is named in the code below\n",
    "\n",
    "where \n",
    "\n",
    "$$ D^\\alpha y(x) = x$$\n",
    "\n",
    "so $f(x,weights) = x$\n",
    "\n",
    "then \n",
    "\n",
    "$$ y_N(x,weights) = xN(x,weights)$$\n",
    "\n",
    "Moreover, \n",
    "\n",
    "$$ D_x^\\alpha (N) := D_x^\\alpha N(x,weights) = \\sum_{j=1}^5 v_j \\phi'(w_jx+u_j)w_jx^{1-\\alpha} $$\n",
    "\n",
    "So that we get, if $x_0=0$ (centered in $0$ the initial condition)\n",
    "\n",
    "$$D_x^\\alpha y_N(x,weights) = D_x^\\alpha (xN) = x^{1-\\alpha}N + xD_x^\\alpha (N) $$"
   ]
  },
  {
   "cell_type": "code",
   "execution_count": 6,
   "metadata": {},
   "outputs": [],
   "source": [
    "# 10 equidistant points between 0 and 1 included\n",
    "# np.linspace(0,1,10)"
   ]
  },
  {
   "cell_type": "code",
   "execution_count": 7,
   "metadata": {},
   "outputs": [],
   "source": [
    "def der_alpha_y_N(x,alp,v0,v1,v2,v3,v4,w0,w1,w2,w3,w4,u0,u1,u2,u3,u4): # Depends on the fDe\n",
    "\n",
    "    first_addend = x**(1-alp)*compute_neural_network(x,v0,v1,v2,v3,v4,w0,w1,w2,w3,w4,u0,u1,u2,u3,u4)\n",
    "\n",
    "    def der_alpha_N(alp,x,v0,v1,v2,v3,v4,w0,w1,w2,w3,w4,u0,u1,u2,u3,u4):\n",
    "\n",
    "        tot_sum = v0*phi_prime(w0*x+u0)*w0*x**(1-alp)\n",
    "        tot_sum += v1*phi_prime(w1*x+u1)*w1*x**(1-alp)\n",
    "        tot_sum += v2*phi_prime(w2*x+u2)*w2*x**(1-alp)\n",
    "        tot_sum += v3*phi_prime(w3*x+u3)*w3*x**(1-alp)\n",
    "        tot_sum += v4*phi_prime(w4*x+u4)*w4*x**(1-alp)\n",
    "\n",
    "        return tot_sum\n",
    "\n",
    "    second_addend = x*der_alpha_N(alp,x,v0,v1,v2,v3,v4,w0,w1,w2,w3,w4,u0,u1,u2,u3,u4)\n",
    "\n",
    "    return first_addend + second_addend"
   ]
  },
  {
   "cell_type": "code",
   "execution_count": 8,
   "metadata": {},
   "outputs": [],
   "source": [
    "points_to_evaluate = np.linspace(0,1,50)\n",
    "\n",
    "def E(alp,v0,v1,v2,v3,v4,w0,w1,w2,w3,w4,u0,u1,u2,u3,u4,points_to_evaluate=points_to_evaluate): #E[weights]\n",
    "    ''' \n",
    "    returns the value of E, knowing \n",
    "    alpha, weights of the NN, and the points_to_evaluate.\n",
    "    '''\n",
    "    \n",
    "    def addend_in_E_w(x,alp,v0,v1,v2,v3,v4,w0,w1,w2,w3,w4,u0,u1,u2,u3,u4):\n",
    "        \n",
    "        def f_x_i_y_N(x): # In this special case is x\n",
    "            return x\n",
    "        \n",
    "        return (der_alpha_y_N(x,alp,v0,v1,v2,v3,v4,w0,w1,w2,w3,w4,u0,u1,u2,u3,u4) - f_x_i_y_N(x))**2\n",
    "    \n",
    "    tot_sum = 0\n",
    "    for x in points_to_evaluate:\n",
    "        tot_sum += addend_in_E_w(x,alp,v0,v1,v2,v3,v4,w0,w1,w2,w3,w4,u0,u1,u2,u3,u4)\n",
    "    \n",
    "    return tot_sum\n",
    "\n",
    "# Check again that the function is correct"
   ]
  },
  {
   "cell_type": "code",
   "execution_count": 9,
   "metadata": {},
   "outputs": [
    {
     "data": {
      "text/plain": [
       "3124.747807239304"
      ]
     },
     "execution_count": 9,
     "metadata": {},
     "output_type": "execute_result"
    }
   ],
   "source": [
    "# alpha = 0.5\n",
    "E(0.5,v0,v1,v2,v3,v4,w0,w1,w2,w3,w4,u0,u1,u2,u3,u4)"
   ]
  },
  {
   "cell_type": "markdown",
   "metadata": {},
   "source": [
    "## 2 Compute partial derivatives of E wrt to the weights "
   ]
  },
  {
   "cell_type": "markdown",
   "metadata": {},
   "source": [
    "We know that \n",
    "$$ D_x^\\alpha (N) := D_x^\\alpha N(x,weights) = \\sum_{j=1}^5 v_j \\phi'(w_jx+u_j)w_jx^{1-\\alpha} $$.\n",
    "\n",
    "Thus"
   ]
  },
  {
   "cell_type": "markdown",
   "metadata": {},
   "source": [
    "## Let's start by computing derivative of E wrt to w_k\n",
    "\n",
    "$$\\frac{\\partial E[weights]}{\\partial w_k} = \\sum_{j=1}^{10} 2[D^\\alpha y_N(x_i,weights) - f(x_i, y_N(x_i,weights))] [\\frac{\\partial D^\\alpha y_N}{\\partial w_k}-\\frac{\\partial f}{\\partial w_k}]$$\n",
    "\n",
    "In the first example in the paper of Mall, $f(x,y_N(x,weights)) = x$. Thus $\\frac{\\partial f}{\\partial w_k}=0$ .\n",
    "\n",
    "Moreover, we use equation 16 from the paper of Mall. We remember that in this particular case we have\n",
    "\n",
    "$$ y_N(x,weights) = xN(x,weights)$$\n",
    "\n",
    "that is \n",
    "\n",
    "$$D_x^\\alpha y_N(x,weights) = D_x^\\alpha (xN) = x^{1-\\alpha}N + xD_x^\\alpha (N) $$\n",
    "\n",
    "so that from eq.16, we get\n",
    "\n",
    "\\begin{equation}\n",
    "\\frac{\\partial D^\\alpha y_N}{\\partial w_k} =x^{1-\\alpha}\\frac{\\partial N}{\\partial w_k} + x\\frac{\\partial D_x^\\alpha (N)}{\\partial w_k} = x^{1-\\alpha}\\frac{\\partial N}{\\partial w_k} + x(v_kx^{1-\\alpha}(\\phi'(w_kx+u_k) + \\phi''(w_kx+u_k) w_kx))\n",
    "\\end{equation}\n",
    "\n",
    "It is left to compute $\\frac{\\partial N}{\\partial w_k}$. We remind that $N=\\sum_{j=1}^5 v_j\\phi(w_jx+u_j)$. So that we get $\\frac{\\partial N}{\\partial w_k}= v_k\\phi'(w_kx+u_k)x$. So that we get \n",
    "\n",
    "$$\\frac{\\partial D^\\alpha y_N}{\\partial w_k} = x^{2-\\alpha}v_k\\phi'(w_kx+u_k) + (v_kx^{2-\\alpha}(\\phi'(w_kx+u_k) + \\phi''(w_kx+u_k) w_kx)) $$\n",
    "\n",
    "And finally\n",
    "\n",
    "$$\\frac{\\partial E}{\\partial w_k} = \\sum_{j=1}^{10} 2[D^\\alpha y_N(x_i,weights) - f(x_i, y_N(x_i,weights))] [\\frac{\\partial D^\\alpha y_N}{\\partial w_k}] $$"
   ]
  },
  {
   "cell_type": "code",
   "execution_count": 10,
   "metadata": {},
   "outputs": [
    {
     "name": "stdout",
     "output_type": "stream",
     "text": [
      "this is the derivative of E wrt to w1, evaluated 486.8661468581863\n"
     ]
    }
   ],
   "source": [
    "def der_E_wrt_wj(alp,j,v0,v1,v2,v3,v4,w0,w1,w2,w3,w4,u0,u1,u2,u3,u4,points_to_evaluate=points_to_evaluate):\n",
    "    ''' As input, exactly the parameters of the function E'''\n",
    "    \n",
    "    def addend_in_E_wrt_wj(x,j,alp,v0,v1,v2,v3,v4,w0,w1,w2,w3,w4,u0,u1,u2,u3,u4):\n",
    "        \n",
    "        def f_x_i_y_N(x): # In this special case is x\n",
    "            return x\n",
    "        \n",
    "        def der_D_alpha_y_N_wrt_wj(j):\n",
    "            if j==0:\n",
    "                first_addend = x**(2-alp)*v0*phi_prime(w0*x+u0)\n",
    "                second_addend = v0*x**(2-alp)*(phi_prime(w0*x+u0) + phi_second(w0*x+u0)*w0*x)\n",
    "            if j==1:\n",
    "                first_addend = x**(2-alp)*v1*phi_prime(w1*x+u1)\n",
    "                second_addend = v1*x**(2-alp)*(phi_prime(w1*x+u1) + phi_second(w1*x+u1)*w1*x)\n",
    "            if j==2:\n",
    "                first_addend = x**(2-alp)*v2*phi_prime(w2*x+u2)\n",
    "                second_addend = v2*x**(2-alp)*(phi_prime(w2*x+u2) + phi_second(w2*x+u2)*w2*x)\n",
    "            if j==3:\n",
    "                first_addend = x**(2-alp)*v3*phi_prime(w3*x+u3)\n",
    "                second_addend = v3*x**(2-alp)*(phi_prime(w3*x+u3) + phi_second(w3*x+u3)*w3*x)\n",
    "            if j==4:\n",
    "                first_addend = x**(2-alp)*v4*phi_prime(w4*x+u4)\n",
    "                second_addend = v4*x**(2-alp)*(phi_prime(w4*x+u4) + phi_second(w4*x+u4)*w4*x)\n",
    "                \n",
    "            return first_addend + second_addend\n",
    "    \n",
    "        return 2*(der_alpha_y_N(x,alp,v0,v1,v2,v3,v4,w0,w1,w2,w3,w4,u0,u1,u2,u3,u4) - f_x_i_y_N(x))*der_D_alpha_y_N_wrt_wj(j)\n",
    "\n",
    "    tot_sum = 0\n",
    "    for x in points_to_evaluate:\n",
    "        tot_sum += addend_in_E_wrt_wj(x,j,alp,v0,v1,v2,v3,v4,w0,w1,w2,w3,w4,u0,u1,u2,u3,u4)\n",
    "    \n",
    "    return tot_sum\n",
    "\n",
    "# alpha = 0.5, let's derive wrt. j=2 ---> w2\n",
    "\n",
    "j = 1\n",
    "print(\"this is the derivative of E wrt to w%d, evaluated\"%j,\n",
    "     der_E_wrt_wj(0.7,j,v0,v1,v2,v3,v4,w0,w1,w2,w3,w4,u0,u1,u2,u3,u4))"
   ]
  },
  {
   "cell_type": "markdown",
   "metadata": {},
   "source": [
    "## derivative of E wrt to v_k\n",
    "\n",
    "$$\\frac{\\partial E}{\\partial v_k} = \\sum_{j=1}^{10} 2[D^\\alpha y_N(x_i,weights) - f(x_i, y_N(x_i,weights))] [\\frac{\\partial D^\\alpha y_N}{\\partial v_k}] $$"
   ]
  },
  {
   "cell_type": "markdown",
   "metadata": {},
   "source": [
    "Where, $[\\frac{\\partial D^\\alpha y_N}{\\partial v_k}]$ is computed here\n",
    "\n",
    "In our special case, we have\n",
    "\n",
    "$$D_x^\\alpha y_N(x,weights) = D_x^\\alpha (xN) = x^{1-\\alpha}N + xD_x^\\alpha (N) $$\n",
    "\n",
    "So that from eq.17, we get\n",
    "\n",
    "\\begin{equation}\n",
    "\\frac{\\partial D^\\alpha y_N}{\\partial v_k} =x^{1-\\alpha}\\frac{\\partial N}{\\partial v_k} + x\\frac{\\partial D_x^\\alpha (N)}{\\partial v_k} = x^{1-\\alpha}\\frac{\\partial N}{\\partial v_k} + x\\cdot w_k \\cdot x^{1-\\alpha}\\phi'(w_kx+u_k) \n",
    "\\end{equation}\n",
    "\n",
    "It is left to compute $\\frac{\\partial N}{\\partial v_k}$. We remind that $N=\\sum_{j=1}^5 v_j\\phi(w_jx+u_j)$. So that we get $\\frac{\\partial N}{\\partial v_k}=\\phi(w_kx+u_k)$. So that we get \n",
    "\n",
    "$$\\frac{\\partial D^\\alpha y_N}{\\partial v_k} = x^{1-\\alpha}\\phi(w_kx+u_k) + x^{2-\\alpha}\\phi'(w_kx+u_k) w_k$$\n",
    "\n"
   ]
  },
  {
   "cell_type": "code",
   "execution_count": 11,
   "metadata": {},
   "outputs": [
    {
     "name": "stdout",
     "output_type": "stream",
     "text": [
      "this is the derivative of E wrt to v4, evaluated 263.5734361506602\n"
     ]
    }
   ],
   "source": [
    "def der_E_wrt_vj(alp,j,v0,v1,v2,v3,v4,w0,w1,w2,w3,w4,u0,u1,u2,u3,u4,points_to_evaluate=points_to_evaluate):\n",
    "    ''' As input, exactly the parameters of the function E'''\n",
    "    \n",
    "    def addend_in_E_wrt_vj(x,j,alp,v0,v1,v2,v3,v4,w0,w1,w2,w3,w4,u0,u1,u2,u3,u4):\n",
    "        \n",
    "        def f_x_i_y_N(x): # In this special case is x\n",
    "            return x\n",
    "        \n",
    "        def der_D_alpha_y_N_wrt_vj(j):\n",
    "            if j==0:\n",
    "                first_addend = x**(1-alp)*sigm_fun(w0*x+u0)\n",
    "                second_addend = w0*x**(2-alp)*phi_prime(w0*x+u0)\n",
    "            if j==1:\n",
    "                first_addend = x**(1-alp)*sigm_fun(w1*x+u1)\n",
    "                second_addend = w1*x**(2-alp)*phi_prime(w1*x+u1)\n",
    "            if j==2:\n",
    "                first_addend = x**(1-alp)*sigm_fun(w2*x+u2)\n",
    "                second_addend = w2*x**(2-alp)*phi_prime(w2*x+u2)\n",
    "            if j==3:\n",
    "                first_addend = x**(1-alp)*sigm_fun(w3*x+u3)\n",
    "                second_addend = w3*x**(2-alp)*phi_prime(w3*x+u3)\n",
    "            if j==4:\n",
    "                first_addend = x**(1-alp)*sigm_fun(w4*x+u4)\n",
    "                second_addend = w4*x**(2-alp)*phi_prime(w4*x+u4)\n",
    "\n",
    "            return first_addend + second_addend\n",
    "    \n",
    "        return 2*(der_alpha_y_N(x,alp,v0,v1,v2,v3,v4,w0,w1,w2,w3,w4,u0,u1,u2,u3,u4) - f_x_i_y_N(x))*der_D_alpha_y_N_wrt_vj(j)\n",
    "\n",
    "    tot_sum = 0\n",
    "    for x in points_to_evaluate:\n",
    "        tot_sum += addend_in_E_wrt_vj(x,j,alp,v0,v1,v2,v3,v4,w0,w1,w2,w3,w4,u0,u1,u2,u3,u4)\n",
    "    \n",
    "    return tot_sum\n",
    "\n",
    "# alpha = 0.5, let's derive wrt. j=2 ---> v2\n",
    "\n",
    "j = 4\n",
    "print(\"this is the derivative of E wrt to v%d, evaluated\"%j,\n",
    "     der_E_wrt_vj(0.7,j,v0,v1,v2,v3,v4,w0,w1,w2,w3,w4,u0,u1,u2,u3,u4))"
   ]
  },
  {
   "cell_type": "markdown",
   "metadata": {},
   "source": [
    "## derivative of E wrt to u_k\n",
    "\n",
    "$$ \\frac{\\partial E}{\\partial u_k} = \\sum_{j=1}^{10} 2[D^\\alpha y_N(x_i,weights) - f(x_i, y_N(x_i,weights))] [\\frac{\\partial D^\\alpha y_N}{\\partial u_k}] $$"
   ]
  },
  {
   "cell_type": "markdown",
   "metadata": {},
   "source": [
    "Where, $[\\frac{\\partial D^\\alpha y_N}{\\partial u_k}]$ is computed here\n",
    "\n",
    "In our special case, we have\n",
    "\n",
    "$$D_x^\\alpha y_N(x,weights) = D_x^\\alpha (xN) = x^{1-\\alpha}N + xD_x^\\alpha (N) $$\n",
    "\n",
    "So that from eq.18, we get\n",
    "\n",
    "\\begin{equation}\n",
    "\\frac{\\partial D^\\alpha y_N}{\\partial u_k} =x^{1-\\alpha}\\frac{\\partial N}{\\partial u_k} + x\\frac{\\partial D_x^\\alpha (N)}{\\partial u_k} = x^{1-\\alpha}\\frac{\\partial N}{\\partial u_k} + x\\cdot w_k\\cdot v_k \\cdot x^{1-\\alpha}\\phi''(w_kx+u_k) \n",
    "\\end{equation}\n",
    "\n",
    "It is left to compute $\\frac{\\partial N}{\\partial u_k}$. We remind that $N=\\sum_{j=1}^5 v_j\\phi(w_jx+u_j)$. So that we get $\\frac{\\partial N}{\\partial u_k}=v_k \\phi'(w_kx+u_k)$. So that we get \n",
    "\n",
    "$$\\frac{\\partial D^\\alpha y_N}{\\partial u_k} = x^{1-\\alpha}v_k\\phi'(w_kx+u_k) + x^{2-\\alpha}\\phi''(w_kx+u_k) w_k v_k$$\n"
   ]
  },
  {
   "cell_type": "code",
   "execution_count": 12,
   "metadata": {},
   "outputs": [
    {
     "name": "stdout",
     "output_type": "stream",
     "text": [
      "this is the derivative of E wrt to u0, evaluated -198.58195765966923\n"
     ]
    }
   ],
   "source": [
    "def der_E_wrt_uj(alp,j,v0,v1,v2,v3,v4,w0,w1,w2,w3,w4,u0,u1,u2,u3,u4,points_to_evaluate=points_to_evaluate):\n",
    "    ''' As input, exactly the parameters of the function E'''\n",
    "    \n",
    "    def addend_in_E_wrt_uj(x,j,alp,v0,v1,v2,v3,v4,w0,w1,w2,w3,w4,u0,u1,u2,u3,u4):\n",
    "        \n",
    "        def f_x_i_y_N(x): # In this special case is x\n",
    "            return x\n",
    "        \n",
    "        def der_D_alpha_y_N_wrt_uj(j):\n",
    "            if j==0:\n",
    "                first_addend = x**(1-alp)*v0*phi_prime(w0*x+u0)\n",
    "                second_addend = w0*v0*x**(2-alp)*phi_second(w0*x+u0)\n",
    "            if j==1:\n",
    "                first_addend = x**(1-alp)*v1*phi_prime(w1*x+u1)\n",
    "                second_addend = w1*v1*x**(2-alp)*phi_second(w1*x+u1)\n",
    "            if j==2:\n",
    "                first_addend = x**(1-alp)*v2*phi_prime(w2*x+u2)\n",
    "                second_addend = w2*v2*x**(2-alp)*phi_second(w2*x+u2)\n",
    "            if j==3:\n",
    "                first_addend = x**(1-alp)*v3*phi_prime(w3*x+u3)\n",
    "                second_addend = w3*v3*x**(2-alp)*phi_second(w3*x+u3)\n",
    "            if j==4:\n",
    "                first_addend = x**(1-alp)*v4*phi_prime(w4*x+u4)\n",
    "                second_addend = w4*v4*x**(2-alp)*phi_second(w4*x+u4)\n",
    "\n",
    "            return first_addend + second_addend\n",
    "    \n",
    "        return 2*(der_alpha_y_N(x,alp,v0,v1,v2,v3,v4,w0,w1,w2,w3,w4,u0,u1,u2,u3,u4) - f_x_i_y_N(x))*der_D_alpha_y_N_wrt_uj(j)\n",
    "\n",
    "    tot_sum = 0\n",
    "    for x in points_to_evaluate:\n",
    "        tot_sum += addend_in_E_wrt_uj(x,j,alp,v0,v1,v2,v3,v4,w0,w1,w2,w3,w4,u0,u1,u2,u3,u4)\n",
    "    \n",
    "    return tot_sum\n",
    "\n",
    "# alpha = 0.5, let's derive wrt. j=2 ---> u2\n",
    "\n",
    "j = 0\n",
    "print(\"this is the derivative of E wrt to u%d, evaluated\"%j,\n",
    "     der_E_wrt_uj(0.7,j,v0,v1,v2,v3,v4,w0,w1,w2,w3,w4,u0,u1,u2,u3,u4))"
   ]
  },
  {
   "cell_type": "markdown",
   "metadata": {},
   "source": [
    "## 3 Update the weights"
   ]
  },
  {
   "cell_type": "code",
   "execution_count": 13,
   "metadata": {},
   "outputs": [
    {
     "data": {
      "text/plain": [
       "3124.747807239304"
      ]
     },
     "execution_count": 13,
     "metadata": {},
     "output_type": "execute_result"
    }
   ],
   "source": [
    "E(0.5,*[v0,v1,v2,v3,v4,w0,w1,w2,w3,w4,u0,u1,u2,u3,u4])"
   ]
  },
  {
   "cell_type": "code",
   "execution_count": 14,
   "metadata": {},
   "outputs": [],
   "source": [
    "def update_weights(alp,h,v0,v1,v2,v3,v4,w0,w1,w2,w3,w4,u0,u1,u2,u3,u4,points_to_evaluate=points_to_evaluate):\n",
    "    ''' Inputs: alpha, h=learning_rate, Omega, points_to_evaluate.\n",
    "        Output: E, and new weights'''\n",
    "    \n",
    "    old_weights = [v0,v1,v2,v3,v4,w0,w1,w2,w3,w4,u0,u1,u2,u3,u4]\n",
    "    \n",
    "    new_weights = [np.nan]*15  # new weights = [v0',v1',v2',v3',v4',w0',w1',w2',w3',w4',u0',u1',u2',u3',u4']\n",
    "    for j in [0,1,2,3,4]:\n",
    "        vj_new = old_weights[j] - h*der_E_wrt_vj(alp,j,v0,v1,v2,v3,v4,w0,w1,w2,w3,w4,u0,u1,u2,u3,u4)\n",
    "        wj_new = old_weights[5+j] - h*der_E_wrt_wj(alp,j,v0,v1,v2,v3,v4,w0,w1,w2,w3,w4,u0,u1,u2,u3,u4)\n",
    "        uj_new = old_weights[10+j] - h*der_E_wrt_uj(alp,j,v0,v1,v2,v3,v4,w0,w1,w2,w3,w4,u0,u1,u2,u3,u4)\n",
    "        \n",
    "        new_weights[j] = vj_new\n",
    "        new_weights[j+5] = wj_new\n",
    "        new_weights[j+10] = uj_new\n",
    "    \n",
    "    #print(\"old weights = \", old_weights, \"\\n\")\n",
    "    #print(\"new weights = \", new_weights, \"\\n\")\n",
    "    \n",
    "    # Old Value of E and New value\n",
    "    old_val_E = E(alp,*old_weights)\n",
    "    new_val_E = E(alp,*new_weights)\n",
    "    #print(\"old_value_of_E = \", old_val_E)\n",
    "    #print(\"new_value_of_E = \", new_val_E)\n",
    "    \n",
    "    return new_weights, new_val_E, old_val_E\n",
    "        \n",
    "    "
   ]
  },
  {
   "cell_type": "code",
   "execution_count": 15,
   "metadata": {},
   "outputs": [
    {
     "data": {
      "text/plain": [
       "([-27.471392409024133,\n",
       "  108.41098867033658,\n",
       "  4.663178674874452,\n",
       "  -0.5670845632986428,\n",
       "  -52.74454698408023,\n",
       "  79.7420639155642,\n",
       "  -103.41197207644478,\n",
       "  10.619175511473236,\n",
       "  -13.986801808984588,\n",
       "  -8.67721183659582,\n",
       "  43.4235878992898,\n",
       "  -86.2186030647713,\n",
       "  -4.652611290418733,\n",
       "  -22.597485248715433,\n",
       "  5.96219728262189],\n",
       " 56046.42651228375,\n",
       " 3568.299138316662)"
      ]
     },
     "execution_count": 15,
     "metadata": {},
     "output_type": "execute_result"
    }
   ],
   "source": [
    "learn_rate = 0.2\n",
    "alp = 0.7\n",
    "\n",
    "update_weights(alp,learn_rate,v0,v1,v2,v3,v4,w0,w1,w2,w3,w4,u0,u1,u2,u3,u4)"
   ]
  },
  {
   "cell_type": "code",
   "execution_count": 16,
   "metadata": {},
   "outputs": [],
   "source": [
    "def iterate_updation_of_weights(nr_iterations,alp,learn_rate,v0,v1,v2,v3,v4,w0,w1,w2,w3,w4,u0,u1,u2,u3,u4):\n",
    "    \n",
    "    weights = [v0,v1,v2,v3,v4,w0,w1,w2,w3,w4,u0,u1,u2,u3,u4]\n",
    "    \n",
    "    weights_df = pd.DataFrame(data = {\"E/Loss function\": E(alp,*weights), \n",
    "                                  \"weights\": [weights]})\n",
    "    \n",
    "    for i in range(nr_iterations):\n",
    "        weights, new_E, old_E = update_weights(alp,learn_rate,*weights)\n",
    "        \n",
    "        new_weights_df = pd.DataFrame(data = {\"E/Loss function\": new_E, \n",
    "                                  \"weights\": [weights]})\n",
    "        \n",
    "        weights_df = weights_df.append(new_weights_df)\n",
    "    \n",
    "    weights_df.index = list(range(0,nr_iterations+1))\n",
    "    weights_df.index = weights_df.index.rename(\"iteration\")\n",
    "    \n",
    "    return weights_df\n",
    "        \n",
    "        "
   ]
  },
  {
   "cell_type": "code",
   "execution_count": 17,
   "metadata": {},
   "outputs": [],
   "source": [
    "# DON'T RUN THE FOLLOWING. GIVES THE BEST RESULT"
   ]
  },
  {
   "cell_type": "code",
   "execution_count": 1,
   "metadata": {},
   "outputs": [
    {
     "ename": "NameError",
     "evalue": "name 'np' is not defined",
     "output_type": "error",
     "traceback": [
      "\u001b[0;31m---------------------------------------------------------------------------\u001b[0m",
      "\u001b[0;31mNameError\u001b[0m                                 Traceback (most recent call last)",
      "\u001b[0;32m<ipython-input-1-299a04ab644b>\u001b[0m in \u001b[0;36m<module>\u001b[0;34m\u001b[0m\n\u001b[1;32m      5\u001b[0m \u001b[0;31m# 123 approximates pretty well\u001b[0m\u001b[0;34m\u001b[0m\u001b[0;34m\u001b[0m\u001b[0m\n\u001b[1;32m      6\u001b[0m \u001b[0;31m# 131 seed also approximates well. Learn_rate 0.02 and nr iterations 2500\u001b[0m\u001b[0;34m\u001b[0m\u001b[0;34m\u001b[0m\u001b[0m\n\u001b[0;32m----> 7\u001b[0;31m \u001b[0mnp\u001b[0m\u001b[0;34m.\u001b[0m\u001b[0mrandom\u001b[0m\u001b[0;34m.\u001b[0m\u001b[0mseed\u001b[0m\u001b[0;34m(\u001b[0m\u001b[0;36m131\u001b[0m\u001b[0;34m)\u001b[0m\u001b[0;34m\u001b[0m\u001b[0m\n\u001b[0m\u001b[1;32m      8\u001b[0m \u001b[0msampl\u001b[0m \u001b[0;34m=\u001b[0m \u001b[0mnp\u001b[0m\u001b[0;34m.\u001b[0m\u001b[0mrandom\u001b[0m\u001b[0;34m.\u001b[0m\u001b[0muniform\u001b[0m\u001b[0;34m(\u001b[0m\u001b[0mlow\u001b[0m\u001b[0;34m=\u001b[0m\u001b[0;34m-\u001b[0m\u001b[0;36m2\u001b[0m\u001b[0;34m,\u001b[0m \u001b[0mhigh\u001b[0m\u001b[0;34m=\u001b[0m\u001b[0;36m5\u001b[0m\u001b[0;34m,\u001b[0m \u001b[0msize\u001b[0m\u001b[0;34m=\u001b[0m\u001b[0;34m(\u001b[0m\u001b[0;36m15\u001b[0m\u001b[0;34m,\u001b[0m\u001b[0;34m)\u001b[0m\u001b[0;34m)\u001b[0m\u001b[0;34m\u001b[0m\u001b[0m\n\u001b[1;32m      9\u001b[0m \u001b[0mv0\u001b[0m\u001b[0;34m,\u001b[0m\u001b[0mv1\u001b[0m\u001b[0;34m,\u001b[0m\u001b[0mv2\u001b[0m\u001b[0;34m,\u001b[0m\u001b[0mv3\u001b[0m\u001b[0;34m,\u001b[0m\u001b[0mv4\u001b[0m\u001b[0;34m,\u001b[0m\u001b[0mw0\u001b[0m\u001b[0;34m,\u001b[0m\u001b[0mw1\u001b[0m\u001b[0;34m,\u001b[0m\u001b[0mw2\u001b[0m\u001b[0;34m,\u001b[0m\u001b[0mw3\u001b[0m\u001b[0;34m,\u001b[0m\u001b[0mw4\u001b[0m\u001b[0;34m,\u001b[0m\u001b[0mu0\u001b[0m\u001b[0;34m,\u001b[0m\u001b[0mu1\u001b[0m\u001b[0;34m,\u001b[0m\u001b[0mu2\u001b[0m\u001b[0;34m,\u001b[0m\u001b[0mu3\u001b[0m\u001b[0;34m,\u001b[0m\u001b[0mu4\u001b[0m \u001b[0;34m=\u001b[0m \u001b[0msampl\u001b[0m\u001b[0;34m\u001b[0m\u001b[0m\n",
      "\u001b[0;31mNameError\u001b[0m: name 'np' is not defined"
     ]
    }
   ],
   "source": [
    "learn_rate = 0.02\n",
    "nr_iterations = 2500\n",
    "alp = 0.64\n",
    "\n",
    "# 123 approximates pretty well\n",
    "# 131 seed also approximates well. Learn_rate 0.02 and nr iterations 2500\n",
    "np.random.seed(131)\n",
    "sampl = np.random.uniform(low=-2, high=5, size=(15,))\n",
    "v0,v1,v2,v3,v4,w0,w1,w2,w3,w4,u0,u1,u2,u3,u4 = sampl\n",
    "\n",
    "\n",
    "# final_df = iterate_updation_of_weights(nr_iterations,alp,learn_rate,v0,v1,v2,v3,v4,w0,w1,w2,w3,w4,u0,u1,u2,u3,u4)\n",
    "# final_df.to_csv('results_from_tests/best_results_example1_paper_alpha05.csv')\n",
    "final_df = pd.read_csv('results_from_tests/best_results_example1_paper_alpha05.csv')\n",
    "\n",
    "final_df.tail()"
   ]
  },
  {
   "cell_type": "code",
   "execution_count": 19,
   "metadata": {},
   "outputs": [
    {
     "data": {
      "text/plain": [
       "'[-3.2500425074739066, 0.06517764929896742, -2.456870562726377, -0.8857496494748025, 1.0374173439365972, -4.285306660360693, -12.748119921500095, -0.9823376868048198, -5.452885363756848, 3.920820543709355, -3.4549412752160857, -8.75876944658546, -0.7446350973460544, -6.8020451112389315, 2.827700193317643]'"
      ]
     },
     "execution_count": 19,
     "metadata": {},
     "output_type": "execute_result"
    }
   ],
   "source": [
    "final_weights = final_df.weights.iloc[-1]\n",
    "final_weights"
   ]
  },
  {
   "cell_type": "code",
   "execution_count": 20,
   "metadata": {},
   "outputs": [
    {
     "data": {
      "text/plain": [
       "[-3.2500425074739066,\n",
       " 0.06517764929896742,\n",
       " -2.456870562726377,\n",
       " -0.8857496494748025,\n",
       " 1.0374173439365972,\n",
       " -4.285306660360693,\n",
       " -12.748119921500095,\n",
       " -0.9823376868048198,\n",
       " -5.452885363756848,\n",
       " 3.920820543709355,\n",
       " -3.4549412752160857,\n",
       " -8.75876944658546,\n",
       " -0.7446350973460544,\n",
       " -6.8020451112389315,\n",
       " 2.827700193317643]"
      ]
     },
     "execution_count": 20,
     "metadata": {},
     "output_type": "execute_result"
    }
   ],
   "source": [
    "final_weights = final_df.weights.iloc[-1]\n",
    "final_weights = final_weights.replace('[','').replace(']','').split(',')\n",
    "final_weights = [float(x) for x in final_weights]\n",
    "final_weights"
   ]
  },
  {
   "cell_type": "code",
   "execution_count": 23,
   "metadata": {},
   "outputs": [
    {
     "data": {
      "text/html": [
       "<div>\n",
       "<style scoped>\n",
       "    .dataframe tbody tr th:only-of-type {\n",
       "        vertical-align: middle;\n",
       "    }\n",
       "\n",
       "    .dataframe tbody tr th {\n",
       "        vertical-align: top;\n",
       "    }\n",
       "\n",
       "    .dataframe thead th {\n",
       "        text-align: right;\n",
       "    }\n",
       "</style>\n",
       "<table border=\"1\" class=\"dataframe\">\n",
       "  <thead>\n",
       "    <tr style=\"text-align: right;\">\n",
       "      <th></th>\n",
       "      <th>E/Loss function</th>\n",
       "      <th>weights</th>\n",
       "    </tr>\n",
       "    <tr>\n",
       "      <th>iteration</th>\n",
       "      <th></th>\n",
       "      <th></th>\n",
       "    </tr>\n",
       "  </thead>\n",
       "  <tbody>\n",
       "    <tr>\n",
       "      <th>0</th>\n",
       "      <td>0.002070</td>\n",
       "      <td>[-3.249505783726952, 0.06517730944141648, -2.4...</td>\n",
       "    </tr>\n",
       "    <tr>\n",
       "      <th>1</th>\n",
       "      <td>0.002067</td>\n",
       "      <td>[-3.249488122092342, 0.06517729817391775, -2.4...</td>\n",
       "    </tr>\n",
       "    <tr>\n",
       "      <th>2</th>\n",
       "      <td>0.002064</td>\n",
       "      <td>[-3.2494704750292933, 0.06517728691030297, -2....</td>\n",
       "    </tr>\n",
       "    <tr>\n",
       "      <th>3</th>\n",
       "      <td>0.002061</td>\n",
       "      <td>[-3.249452842518182, 0.0651772756505669, -2.45...</td>\n",
       "    </tr>\n",
       "    <tr>\n",
       "      <th>4</th>\n",
       "      <td>0.002058</td>\n",
       "      <td>[-3.2494352245394222, 0.06517726439470427, -2....</td>\n",
       "    </tr>\n",
       "    <tr>\n",
       "      <th>5</th>\n",
       "      <td>0.002055</td>\n",
       "      <td>[-3.249417621073466, 0.06517725314270985, -2.4...</td>\n",
       "    </tr>\n",
       "    <tr>\n",
       "      <th>6</th>\n",
       "      <td>0.002052</td>\n",
       "      <td>[-3.249400032100805, 0.0651772418945784, -2.45...</td>\n",
       "    </tr>\n",
       "    <tr>\n",
       "      <th>7</th>\n",
       "      <td>0.002049</td>\n",
       "      <td>[-3.2493824576019676, 0.06517723065030469, -2....</td>\n",
       "    </tr>\n",
       "    <tr>\n",
       "      <th>8</th>\n",
       "      <td>0.002046</td>\n",
       "      <td>[-3.2493648975575202, 0.06517721940988352, -2....</td>\n",
       "    </tr>\n",
       "    <tr>\n",
       "      <th>9</th>\n",
       "      <td>0.002043</td>\n",
       "      <td>[-3.2493473519480682, 0.06517720817330971, -2....</td>\n",
       "    </tr>\n",
       "    <tr>\n",
       "      <th>10</th>\n",
       "      <td>0.002040</td>\n",
       "      <td>[-3.249329820754254, 0.06517719694057805, -2.4...</td>\n",
       "    </tr>\n",
       "    <tr>\n",
       "      <th>11</th>\n",
       "      <td>0.002037</td>\n",
       "      <td>[-3.2493123039567577, 0.06517718571168338, -2....</td>\n",
       "    </tr>\n",
       "    <tr>\n",
       "      <th>12</th>\n",
       "      <td>0.002034</td>\n",
       "      <td>[-3.2492948015362977, 0.06517717448662051, -2....</td>\n",
       "    </tr>\n",
       "    <tr>\n",
       "      <th>13</th>\n",
       "      <td>0.002031</td>\n",
       "      <td>[-3.2492773134736295, 0.0651771632653843, -2.4...</td>\n",
       "    </tr>\n",
       "    <tr>\n",
       "      <th>14</th>\n",
       "      <td>0.002029</td>\n",
       "      <td>[-3.249259839749546, 0.06517715204796957, -2.4...</td>\n",
       "    </tr>\n",
       "    <tr>\n",
       "      <th>15</th>\n",
       "      <td>0.002026</td>\n",
       "      <td>[-3.249242380344877, 0.06517714083437123, -2.4...</td>\n",
       "    </tr>\n",
       "    <tr>\n",
       "      <th>16</th>\n",
       "      <td>0.002023</td>\n",
       "      <td>[-3.249224935240491, 0.06517712962458413, -2.4...</td>\n",
       "    </tr>\n",
       "    <tr>\n",
       "      <th>17</th>\n",
       "      <td>0.002020</td>\n",
       "      <td>[-3.2492075044172926, 0.06517711841860317, -2....</td>\n",
       "    </tr>\n",
       "    <tr>\n",
       "      <th>18</th>\n",
       "      <td>0.002017</td>\n",
       "      <td>[-3.2491900878562237, 0.06517710721642322, -2....</td>\n",
       "    </tr>\n",
       "    <tr>\n",
       "      <th>19</th>\n",
       "      <td>0.002014</td>\n",
       "      <td>[-3.249172685538263, 0.06517709601803921, -2.4...</td>\n",
       "    </tr>\n",
       "    <tr>\n",
       "      <th>20</th>\n",
       "      <td>0.002011</td>\n",
       "      <td>[-3.249155297444427, 0.06517708482344604, -2.4...</td>\n",
       "    </tr>\n",
       "    <tr>\n",
       "      <th>21</th>\n",
       "      <td>0.002009</td>\n",
       "      <td>[-3.2491379235557676, 0.06517707363263865, -2....</td>\n",
       "    </tr>\n",
       "    <tr>\n",
       "      <th>22</th>\n",
       "      <td>0.002006</td>\n",
       "      <td>[-3.249120563853375, 0.06517706244561197, -2.4...</td>\n",
       "    </tr>\n",
       "    <tr>\n",
       "      <th>23</th>\n",
       "      <td>0.002003</td>\n",
       "      <td>[-3.2491032183183752, 0.06517705126236095, -2....</td>\n",
       "    </tr>\n",
       "    <tr>\n",
       "      <th>24</th>\n",
       "      <td>0.002000</td>\n",
       "      <td>[-3.2490858869319306, 0.06517704008288054, -2....</td>\n",
       "    </tr>\n",
       "    <tr>\n",
       "      <th>25</th>\n",
       "      <td>0.001997</td>\n",
       "      <td>[-3.2490685696752406, 0.06517702890716572, -2....</td>\n",
       "    </tr>\n",
       "    <tr>\n",
       "      <th>26</th>\n",
       "      <td>0.001994</td>\n",
       "      <td>[-3.2490512665295403, 0.06517701773521145, -2....</td>\n",
       "    </tr>\n",
       "    <tr>\n",
       "      <th>27</th>\n",
       "      <td>0.001992</td>\n",
       "      <td>[-3.249033977476102, 0.06517700656701272, -2.4...</td>\n",
       "    </tr>\n",
       "    <tr>\n",
       "      <th>28</th>\n",
       "      <td>0.001989</td>\n",
       "      <td>[-3.2490167024962338, 0.06517699540256455, -2....</td>\n",
       "    </tr>\n",
       "    <tr>\n",
       "      <th>29</th>\n",
       "      <td>0.001986</td>\n",
       "      <td>[-3.2489994415712795, 0.06517698424186193, -2....</td>\n",
       "    </tr>\n",
       "    <tr>\n",
       "      <th>30</th>\n",
       "      <td>0.001983</td>\n",
       "      <td>[-3.2489821946826196, 0.06517697308489988, -2....</td>\n",
       "    </tr>\n",
       "  </tbody>\n",
       "</table>\n",
       "</div>"
      ],
      "text/plain": [
       "           E/Loss function                                            weights\n",
       "iteration                                                                    \n",
       "0                 0.002070  [-3.249505783726952, 0.06517730944141648, -2.4...\n",
       "1                 0.002067  [-3.249488122092342, 0.06517729817391775, -2.4...\n",
       "2                 0.002064  [-3.2494704750292933, 0.06517728691030297, -2....\n",
       "3                 0.002061  [-3.249452842518182, 0.0651772756505669, -2.45...\n",
       "4                 0.002058  [-3.2494352245394222, 0.06517726439470427, -2....\n",
       "5                 0.002055  [-3.249417621073466, 0.06517725314270985, -2.4...\n",
       "6                 0.002052  [-3.249400032100805, 0.0651772418945784, -2.45...\n",
       "7                 0.002049  [-3.2493824576019676, 0.06517723065030469, -2....\n",
       "8                 0.002046  [-3.2493648975575202, 0.06517721940988352, -2....\n",
       "9                 0.002043  [-3.2493473519480682, 0.06517720817330971, -2....\n",
       "10                0.002040  [-3.249329820754254, 0.06517719694057805, -2.4...\n",
       "11                0.002037  [-3.2493123039567577, 0.06517718571168338, -2....\n",
       "12                0.002034  [-3.2492948015362977, 0.06517717448662051, -2....\n",
       "13                0.002031  [-3.2492773134736295, 0.0651771632653843, -2.4...\n",
       "14                0.002029  [-3.249259839749546, 0.06517715204796957, -2.4...\n",
       "15                0.002026  [-3.249242380344877, 0.06517714083437123, -2.4...\n",
       "16                0.002023  [-3.249224935240491, 0.06517712962458413, -2.4...\n",
       "17                0.002020  [-3.2492075044172926, 0.06517711841860317, -2....\n",
       "18                0.002017  [-3.2491900878562237, 0.06517710721642322, -2....\n",
       "19                0.002014  [-3.249172685538263, 0.06517709601803921, -2.4...\n",
       "20                0.002011  [-3.249155297444427, 0.06517708482344604, -2.4...\n",
       "21                0.002009  [-3.2491379235557676, 0.06517707363263865, -2....\n",
       "22                0.002006  [-3.249120563853375, 0.06517706244561197, -2.4...\n",
       "23                0.002003  [-3.2491032183183752, 0.06517705126236095, -2....\n",
       "24                0.002000  [-3.2490858869319306, 0.06517704008288054, -2....\n",
       "25                0.001997  [-3.2490685696752406, 0.06517702890716572, -2....\n",
       "26                0.001994  [-3.2490512665295403, 0.06517701773521145, -2....\n",
       "27                0.001992  [-3.249033977476102, 0.06517700656701272, -2.4...\n",
       "28                0.001989  [-3.2490167024962338, 0.06517699540256455, -2....\n",
       "29                0.001986  [-3.2489994415712795, 0.06517698424186193, -2....\n",
       "30                0.001983  [-3.2489821946826196, 0.06517697308489988, -2...."
      ]
     },
     "execution_count": 23,
     "metadata": {},
     "output_type": "execute_result"
    }
   ],
   "source": [
    "# iterate again\n",
    "learn_rate = 0.02\n",
    "final_df = iterate_updation_of_weights(30,alp,learn_rate,*final_weights)\n",
    "final_weights = final_df.weights.iloc[-1]\n",
    "final_df.to_csv('results_from_tests/best_results_example1_paper_alpha05.csv')\n",
    "final_df"
   ]
  },
  {
   "cell_type": "code",
   "execution_count": 24,
   "metadata": {},
   "outputs": [
    {
     "data": {
      "text/plain": [
       "[-3.2489821946826196,\n",
       " 0.06517697308489988,\n",
       " -2.4579038836339446,\n",
       " -0.8857218260473451,\n",
       " 1.0432864849222523,\n",
       " -4.2859273125337785,\n",
       " -12.748119912114529,\n",
       " -0.9715596788071368,\n",
       " -5.452893225269985,\n",
       " 3.921073537347592,\n",
       " -3.4583691993701153,\n",
       " -8.75876949065217,\n",
       " -0.7379962283055045,\n",
       " -6.8020697573777404,\n",
       " 2.829837668911569]"
      ]
     },
     "execution_count": 24,
     "metadata": {},
     "output_type": "execute_result"
    }
   ],
   "source": [
    "final_weights"
   ]
  },
  {
   "cell_type": "markdown",
   "metadata": {},
   "source": [
    "# Testing The results"
   ]
  },
  {
   "cell_type": "code",
   "execution_count": 25,
   "metadata": {},
   "outputs": [
    {
     "data": {
      "image/png": "[encoded data removed]",
      "text/plain": [
       "<Figure size 432x288 with 1 Axes>"
      ]
     },
     "metadata": {
      "needs_background": "light"
     },
     "output_type": "display_data"
    }
   ],
   "source": [
    "x = np.linspace(0,1,10)\n",
    "y = [i*compute_neural_network(i,*final_weights) for i in x]\n",
    "plt.plot(x,y)\n",
    "\n",
    "x_a = [n*0.1 for n in range(0,10)]\n",
    "y_a = [2/3*i**(3/2) for i in x_a]\n",
    "plt.plot(x_a,y_a)\n",
    "\n",
    "plt.show()"
   ]
  },
  {
   "cell_type": "markdown",
   "metadata": {},
   "source": [
    "I tested it and the results are consistent: i.e., if I use different weights and find the Error, the output\n",
    "function is always the same. \n",
    "The problem is that the results are not the same as in the paper\n"
   ]
  },
  {
   "cell_type": "markdown",
   "metadata": {},
   "source": [
    "The analytical solution is $$2/3x^{3/2}$$"
   ]
  },
  {
   "cell_type": "code",
   "execution_count": 94,
   "metadata": {},
   "outputs": [
    {
     "data": {
      "text/plain": [
       "[0.0,\n",
       " 0.024691358024691357,\n",
       " 0.06983770678385653,\n",
       " 0.12830005981991682,\n",
       " 0.19753086419753085,\n",
       " 0.276057774999974,\n",
       " 0.36288736930121157,\n",
       " 0.4572903500605464,\n",
       " 0.5587016542708523,\n",
       " 0.6666666666666666]"
      ]
     },
     "execution_count": 94,
     "metadata": {},
     "output_type": "execute_result"
    }
   ],
   "source": [
    "y_a"
   ]
  },
  {
   "cell_type": "code",
   "execution_count": null,
   "metadata": {},
   "outputs": [],
   "source": []
  }
 ],
 "metadata": {
  "kernelspec": {
   "display_name": "Python 3",
   "language": "python",
   "name": "python3"
  },
  "language_info": {
   "codemirror_mode": {
    "name": "ipython",
    "version": 3
   },
   "file_extension": ".py",
   "mimetype": "text/x-python",
   "name": "python",
   "nbconvert_exporter": "python",
   "pygments_lexer": "ipython3",
   "version": "3.7.0"
  }
 },
 "nbformat": 4,
 "nbformat_minor": 4
}
