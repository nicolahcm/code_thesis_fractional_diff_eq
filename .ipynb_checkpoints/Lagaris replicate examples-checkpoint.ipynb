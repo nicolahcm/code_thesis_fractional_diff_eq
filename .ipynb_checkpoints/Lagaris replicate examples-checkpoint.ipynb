{
 "cells": [
  {
   "cell_type": "markdown",
   "metadata": {},
   "source": [
    "# To do: \n",
    "1) test all the lagaris example,\n",
    "\n",
    "2) Test the paper of the Mall with conformable derivatives"
   ]
  },
  {
   "cell_type": "code",
   "execution_count": 1,
   "metadata": {},
   "outputs": [],
   "source": [
    "import torch\n",
    "import torch.nn as nn\n",
    "import matplotlib.pyplot as plt\n",
    "import numpy as np"
   ]
  },
  {
   "cell_type": "markdown",
   "metadata": {},
   "source": [
    "$$ \\frac{d\\psi}{dx} = e^{\\frac{-x}{5}}\\cos(x) - \\frac{\\psi}{5} = f $$ \n",
    "$$ \\psi(0) = A $$"
   ]
  },
  {
   "cell_type": "markdown",
   "metadata": {},
   "source": [
    "### To modify basing on the example:\n",
    "1) A, the initial condition.\n",
    "\n",
    "2) Psi_t, the guess function\n",
    "\n",
    "3) f, on the RHS\n",
    "\n",
    "4) the loss function\n",
    "\n",
    "5) the grid of x's inputs where to train. less important but need to modify"
   ]
  },
  {
   "cell_type": "markdown",
   "metadata": {},
   "source": [
    "### plus, eventually, the Neural network (how many nodes, etc.. etc..), and the optimizer"
   ]
  },
  {
   "cell_type": "markdown",
   "metadata": {},
   "source": [
    "### Example 1"
   ]
  },
  {
   "cell_type": "code",
   "execution_count": 4,
   "metadata": {},
   "outputs": [],
   "source": [
    "N = nn.Sequential(nn.Linear(1, 10), nn.Sigmoid(), nn.Linear(10,1, bias=False))\n",
    "\n",
    "# 1,2,3 here to modify\n",
    "\n",
    "# torch.pow(2,3) = 2^3 = 8\n",
    "\n",
    "A = 1.\n",
    "Psi_t = lambda x: A + x * N(x)  # A is the initial condition. Automatically satisfies init. condit\n",
    "f = lambda x, Psi: torch.pow(x, 3) + 2*x + torch.pow(x,2)*(1+3*torch.pow(x,2))/(1+x+torch.pow(x,3))-Psi*(x + (1+3*torch.pow(x,2))/(1+x+torch.pow(x,3)))"
   ]
  },
  {
   "cell_type": "code",
   "execution_count": 5,
   "metadata": {},
   "outputs": [],
   "source": [
    "# 4 to modify here \n",
    "def loss(x):\n",
    "    \n",
    "    outputs = Psi_t(x) # Here all the system/graph of neural network is applied\n",
    "    \n",
    "    # Psi_t_x ----- is the guess function Psi derivated wrt x\n",
    "    Psi_t_x = torch.autograd.grad(outputs, x, grad_outputs=torch.ones_like(outputs),\n",
    "                        create_graph=True)[0]\n",
    "    \n",
    "    final_loss = torch.mean( ( Psi_t_x - f(x, outputs) )  ** 2)\n",
    "    \n",
    "    print('loss is', final_loss)\n",
    "\n",
    "    return  final_loss"
   ]
  },
  {
   "cell_type": "code",
   "execution_count": 6,
   "metadata": {},
   "outputs": [],
   "source": [
    "# 5 to modify here\n",
    "x_train = np.linspace(0, 2, 100)[:, None]\n",
    "x = torch.Tensor(x_train)\n",
    "x.requires_grad = True"
   ]
  },
  {
   "cell_type": "code",
   "execution_count": 7,
   "metadata": {
    "scrolled": false
   },
   "outputs": [
    {
     "data": {
      "text/plain": [
       "Parameter containing:\n",
       "tensor([[ 0.2811],\n",
       "        [ 0.7578],\n",
       "        [-0.0231],\n",
       "        [ 0.8103],\n",
       "        [ 0.9376],\n",
       "        [-0.2474],\n",
       "        [-0.0340],\n",
       "        [ 0.3983],\n",
       "        [-0.9907],\n",
       "        [-0.5719]], requires_grad=True)"
      ]
     },
     "execution_count": 7,
     "metadata": {},
     "output_type": "execute_result"
    }
   ],
   "source": [
    "N[0].weight"
   ]
  },
  {
   "cell_type": "code",
   "execution_count": 8,
   "metadata": {},
   "outputs": [],
   "source": [
    "optimizer = torch.optim.LBFGS(N.parameters(), lr=0.01)\n",
    "\n",
    "def closure():\n",
    "\n",
    "    optimizer.zero_grad()\n",
    "    l = loss(x)\n",
    "    l.backward()\n",
    "    \n",
    "    return l"
   ]
  },
  {
   "cell_type": "code",
   "execution_count": 34,
   "metadata": {},
   "outputs": [
    {
     "name": "stdout",
     "output_type": "stream",
     "text": [
      "loss is tensor(0.0010, grad_fn=<MeanBackward0>)\n",
      "loss is tensor(0.0010, grad_fn=<MeanBackward0>)\n",
      "loss is tensor(0.0010, grad_fn=<MeanBackward0>)\n",
      "loss is tensor(0.0010, grad_fn=<MeanBackward0>)\n",
      "loss is tensor(0.0010, grad_fn=<MeanBackward0>)\n",
      "loss is tensor(0.0010, grad_fn=<MeanBackward0>)\n",
      "loss is tensor(0.0009, grad_fn=<MeanBackward0>)\n",
      "loss is tensor(0.0009, grad_fn=<MeanBackward0>)\n",
      "loss is tensor(0.0009, grad_fn=<MeanBackward0>)\n",
      "loss is tensor(0.0009, grad_fn=<MeanBackward0>)\n",
      "loss is tensor(0.0009, grad_fn=<MeanBackward0>)\n",
      "loss is tensor(0.0009, grad_fn=<MeanBackward0>)\n",
      "loss is tensor(0.0009, grad_fn=<MeanBackward0>)\n",
      "loss is tensor(0.0009, grad_fn=<MeanBackward0>)\n",
      "loss is tensor(0.0008, grad_fn=<MeanBackward0>)\n",
      "loss is tensor(0.0008, grad_fn=<MeanBackward0>)\n",
      "loss is tensor(0.0008, grad_fn=<MeanBackward0>)\n",
      "loss is tensor(0.0008, grad_fn=<MeanBackward0>)\n",
      "loss is tensor(0.0008, grad_fn=<MeanBackward0>)\n",
      "loss is tensor(0.0008, grad_fn=<MeanBackward0>)\n"
     ]
    },
    {
     "data": {
      "text/plain": [
       "tensor(0.0010, grad_fn=<MeanBackward0>)"
      ]
     },
     "execution_count": 34,
     "metadata": {},
     "output_type": "execute_result"
    }
   ],
   "source": [
    "# Here train the neural network\n",
    "optimizer.step(closure)"
   ]
  },
  {
   "cell_type": "markdown",
   "metadata": {},
   "source": [
    "# Drawing the plots"
   ]
  },
  {
   "cell_type": "code",
   "execution_count": 35,
   "metadata": {},
   "outputs": [
    {
     "data": {
      "image/png": "[encoded data removed]",
      "text/plain": [
       "<Figure size 600x400 with 1 Axes>"
      ]
     },
     "metadata": {
      "needs_background": "light"
     },
     "output_type": "display_data"
    }
   ],
   "source": [
    "with torch.no_grad():\n",
    "    yy = Psi_t(torch.Tensor(x_train)).numpy()  # Neural network\n",
    "yt = np.exp(-x_train**2/2)/(1+x_train+x_train**2)+x_train**2 #f..... of x_train... Analyticas solution\n",
    "\n",
    "\n",
    "fig, ax = plt.subplots(dpi=100)\n",
    "ax.plot(x_train, yt, label='True')\n",
    "ax.plot(x_train, yy, '--', label='Neural network approximation')\n",
    "ax.set_xlabel('$x$')\n",
    "ax.set_ylabel('$Psi(x)$')\n",
    "plt.legend(loc='best');"
   ]
  },
  {
   "cell_type": "markdown",
   "metadata": {},
   "source": [
    "### Example 2 already seen. To see example 3 and 4 and we are done"
   ]
  },
  {
   "cell_type": "markdown",
   "metadata": {},
   "source": [
    "### Example 3\n",
    "\n",
    "$$ \\frac{d^2 \\psi}{dx^2} + \\frac{1}{5} \\frac{d\\psi}{dx} = -\\frac{1}{5}e^{-x/5}\\cos(x) - \\psi$$\n",
    "\n",
    "where RHS = f\n",
    "\n",
    "\n",
    "Loss function will be\n",
    "\n",
    "$$ \\sum_{x_i}[\\frac{d^2 \\psi_t}{dx^2} + \\frac{1}{5} \\frac{d\\psi_t}{dx} +\\frac{1}{5}e^{-x/5}\\cos(x) + \\psi_t]^2 $$"
   ]
  },
  {
   "cell_type": "code",
   "execution_count": 36,
   "metadata": {},
   "outputs": [],
   "source": [
    "N = nn.Sequential(nn.Linear(1, 50), nn.Sigmoid(), nn.Linear(50,1, bias=False))\n",
    "\n",
    "\n",
    "Psi_t = lambda x: x + torch.pow(x, 2) * N(x)  # A is the initial condition. Automatically satisfies init. condit\n",
    "f = lambda x, Psi: -1/5*torch.cos(x)*torch.exp(-x/5) - Psi"
   ]
  },
  {
   "cell_type": "code",
   "execution_count": 37,
   "metadata": {},
   "outputs": [],
   "source": [
    "def loss(x):\n",
    "    \n",
    "    outputs = Psi_t(x) \n",
    "    \n",
    "    Psi_t_x = torch.autograd.grad(outputs, x, grad_outputs=torch.ones_like(outputs),\n",
    "                        create_graph=True)[0]\n",
    "    Psi_t_x_x = torch.autograd.grad(Psi_t_x, x, grad_outputs=torch.ones_like(Psi_t_x),\n",
    "                        create_graph=True)[0]\n",
    "    \n",
    "    final_loss = torch.mean( ( Psi_t_x_x + 1/5*Psi_t_x - f(x, outputs) )  ** 2)\n",
    "    \n",
    "    print('loss is', final_loss)\n",
    "\n",
    "    return  final_loss"
   ]
  },
  {
   "cell_type": "code",
   "execution_count": 38,
   "metadata": {},
   "outputs": [],
   "source": [
    "# 5 to modify here\n",
    "x_train = np.linspace(0, 2, 100)[:, None]\n",
    "x = torch.Tensor(x_train)\n",
    "x.requires_grad = True"
   ]
  },
  {
   "cell_type": "code",
   "execution_count": 39,
   "metadata": {},
   "outputs": [],
   "source": [
    "optimizer = torch.optim.Adagrad(N.parameters(), lr=0.1, lr_decay=0, weight_decay=0.01, initial_accumulator_value=0, eps=1e-10)\n",
    "\n",
    "def closure():\n",
    "\n",
    "    optimizer.zero_grad()\n",
    "    l = loss(x)\n",
    "    l.backward()\n",
    "    \n",
    "    return l"
   ]
  },
  {
   "cell_type": "code",
   "execution_count": 94,
   "metadata": {},
   "outputs": [
    {
     "name": "stdout",
     "output_type": "stream",
     "text": [
      "loss is tensor(0.0058, grad_fn=<MeanBackward0>)\n",
      "loss is tensor(0.0058, grad_fn=<MeanBackward0>)\n",
      "loss is tensor(0.0058, grad_fn=<MeanBackward0>)\n",
      "loss is tensor(0.0058, grad_fn=<MeanBackward0>)\n",
      "loss is tensor(0.0058, grad_fn=<MeanBackward0>)\n",
      "loss is tensor(0.0057, grad_fn=<MeanBackward0>)\n",
      "loss is tensor(0.0057, grad_fn=<MeanBackward0>)\n",
      "loss is tensor(0.0057, grad_fn=<MeanBackward0>)\n",
      "loss is tensor(0.0057, grad_fn=<MeanBackward0>)\n",
      "loss is tensor(0.0057, grad_fn=<MeanBackward0>)\n"
     ]
    }
   ],
   "source": [
    "for i in range(10):\n",
    "    optimizer.step(closure)"
   ]
  },
  {
   "cell_type": "code",
   "execution_count": 95,
   "metadata": {},
   "outputs": [
    {
     "data": {
      "image/png": "[encoded data removed]",
      "text/plain": [
       "<Figure size 600x400 with 1 Axes>"
      ]
     },
     "metadata": {
      "needs_background": "light"
     },
     "output_type": "display_data"
    }
   ],
   "source": [
    "with torch.no_grad():\n",
    "    yy = Psi_t(torch.Tensor(x_train)).numpy()  # Neural network\n",
    "yt = np.exp(-x_train/5)*np.sin(x_train)\n",
    "\n",
    "\n",
    "fig, ax = plt.subplots(dpi=100)\n",
    "ax.plot(x_train, yt, label='True')\n",
    "ax.plot(x_train, yy, '--', label='Neural network approximation')\n",
    "ax.set_xlabel('$x$')\n",
    "ax.set_ylabel('$Psi(x)$')\n",
    "plt.legend(loc='best');"
   ]
  },
  {
   "cell_type": "markdown",
   "metadata": {},
   "source": [
    "# Now Replicating Lagaris with Integral Equations"
   ]
  },
  {
   "cell_type": "markdown",
   "metadata": {},
   "source": [
    "### Example 1"
   ]
  },
  {
   "cell_type": "markdown",
   "metadata": {},
   "source": [
    "$$\\psi(x) =\\int_0^x \\left(s^3 + 2s + s^2\\frac{1+3s^2}{1+s+s^3} - \\psi \\left(s + \\frac{1+3s^2}{1+s+s^3}\\right)\\, \\right)ds + \\psi(0)$$\n",
    "\n",
    "With $\\psi(0) = 1$.\n",
    "\n",
    "We will use $\\psi_t(x) := N(x)$ because the initial condition is already included in the equation \n",
    "\n",
    "(Remark: for the integral Riccati also set this, instead of $\\psi_t(x) = t^\\alpha N(x)$, because anyways the Neural Network can approximate any continuous function). \n",
    "\n",
    "Did not work. I also tried\n",
    "\n",
    "$\\psi_t(x)= 1+x*N(x)$ "
   ]
  },
  {
   "cell_type": "code",
   "execution_count": 229,
   "metadata": {},
   "outputs": [],
   "source": [
    "N = nn.Sequential(nn.Linear(1, 10), nn.Sigmoid(), nn.Linear(10,1, bias=False))\n",
    "\n",
    "Psi_t = lambda x: 1 + x*N(x)\n",
    "f_integrand = lambda x, Psi: x**3+2*x +(x**2)*(1+3*x**2)/(1+x+x**3)-Psi*(x+(1+3*x**2)/(1+x+x**3))\n",
    "psi_0 = 1\n",
    "\n",
    "Psi_real = lambda x: torch.exp(-x**2/2)/(1+x+x**2)+x**2"
   ]
  },
  {
   "cell_type": "code",
   "execution_count": 241,
   "metadata": {},
   "outputs": [],
   "source": [
    "n_points = 10\n",
    "x_train = np.linspace(0, 1, n_points)[:, None]\n",
    "x = torch.Tensor(x_train)\n",
    "x.requires_grad = True\n",
    "\n",
    "\n",
    "n_rectangles = 1000\n",
    "x_in_the_integral = np.linspace(0, 1, n_rectangles)[:, None]\n",
    "x_in_the_integral = torch.Tensor(x_in_the_integral)\n",
    "x_in_the_integral.requires_grad = True\n",
    "\n",
    "def Integ(t):\n",
    "    x_truncated_up_to_t = x_in_the_integral[x_in_the_integral<=t]\n",
    "    shape = x_truncated_up_to_t.shape[0]\n",
    "    x_trun = torch.reshape(x_truncated_up_to_t, (shape,1))\n",
    "    \n",
    "    y = Psi_real(x_trun)\n",
    "    integrand = f_integrand(x_trun, y)\n",
    "    integral = torch.trapezoid(integrand[:,0], x_trun[:,0])\n",
    "    \n",
    "    return integral"
   ]
  },
  {
   "cell_type": "code",
   "execution_count": 242,
   "metadata": {},
   "outputs": [
    {
     "data": {
      "text/plain": [
       "tensor(-0.1844, grad_fn=<DivBackward1>)"
      ]
     },
     "execution_count": 242,
     "metadata": {},
     "output_type": "execute_result"
    }
   ],
   "source": [
    "Integ(0.3)"
   ]
  },
  {
   "cell_type": "code",
   "execution_count": 243,
   "metadata": {},
   "outputs": [],
   "source": [
    "def loss(x):\n",
    "    \n",
    "    outputs = Psi_real(x) \n",
    "    integrals_vector = torch.tensor([[Integ(i) for i in x]]) + psi_0\n",
    "    \n",
    "    final_loss = torch.mean( (outputs - integrals_vector)  ** 2)\n",
    "    \n",
    "    print('loss is', final_loss)\n",
    "\n",
    "    return  final_loss"
   ]
  },
  {
   "cell_type": "code",
   "execution_count": 262,
   "metadata": {},
   "outputs": [
    {
     "name": "stdout",
     "output_type": "stream",
     "text": [
      "loss is tensor(2.9515e-06)\n"
     ]
    },
    {
     "data": {
      "text/plain": [
       "tensor(2.9515e-06)"
      ]
     },
     "execution_count": 262,
     "metadata": {},
     "output_type": "execute_result"
    }
   ],
   "source": [
    "loss(torch.tensor([0.03]))"
   ]
  },
  {
   "cell_type": "code",
   "execution_count": 278,
   "metadata": {},
   "outputs": [],
   "source": [
    "x_test = torch.tensor([i for i in np.linspace(0,1,1000)])"
   ]
  },
  {
   "cell_type": "code",
   "execution_count": 292,
   "metadata": {},
   "outputs": [
    {
     "data": {
      "text/plain": [
       "tensor([0.0000, 0.0010], dtype=torch.float64)"
      ]
     },
     "execution_count": 292,
     "metadata": {},
     "output_type": "execute_result"
    }
   ],
   "source": [
    "x_test[0:2]"
   ]
  },
  {
   "cell_type": "code",
   "execution_count": 279,
   "metadata": {},
   "outputs": [
    {
     "name": "stdout",
     "output_type": "stream",
     "text": [
      "loss is tensor(0.0018, dtype=torch.float64)\n"
     ]
    },
    {
     "ename": "ValueError",
     "evalue": "x and y must have same first dimension, but have shapes torch.Size([1000]) and (1,)",
     "output_type": "error",
     "traceback": [
      "\u001b[0;31m---------------------------------------------------------------------------\u001b[0m",
      "\u001b[0;31mValueError\u001b[0m                                Traceback (most recent call last)",
      "\u001b[0;32m<ipython-input-279-f0c1a3be2e7f>\u001b[0m in \u001b[0;36m<module>\u001b[0;34m\u001b[0m\n\u001b[1;32m      2\u001b[0m \u001b[0mx_test\u001b[0m \u001b[0;34m=\u001b[0m \u001b[0mtorch\u001b[0m\u001b[0;34m.\u001b[0m\u001b[0mtensor\u001b[0m\u001b[0;34m(\u001b[0m\u001b[0;34m[\u001b[0m\u001b[0mi\u001b[0m \u001b[0;32mfor\u001b[0m \u001b[0mi\u001b[0m \u001b[0;32min\u001b[0m \u001b[0mnp\u001b[0m\u001b[0;34m.\u001b[0m\u001b[0mlinspace\u001b[0m\u001b[0;34m(\u001b[0m\u001b[0;36m0\u001b[0m\u001b[0;34m,\u001b[0m\u001b[0;36m1\u001b[0m\u001b[0;34m,\u001b[0m\u001b[0;36m1000\u001b[0m\u001b[0;34m)\u001b[0m\u001b[0;34m]\u001b[0m\u001b[0;34m)\u001b[0m\u001b[0;34m\u001b[0m\u001b[0m\n\u001b[1;32m      3\u001b[0m \u001b[0;34m\u001b[0m\u001b[0m\n\u001b[0;32m----> 4\u001b[0;31m \u001b[0max\u001b[0m\u001b[0;34m.\u001b[0m\u001b[0mplot\u001b[0m\u001b[0;34m(\u001b[0m\u001b[0mx_test\u001b[0m\u001b[0;34m,\u001b[0m \u001b[0mloss\u001b[0m\u001b[0;34m(\u001b[0m\u001b[0mx_test\u001b[0m\u001b[0;34m)\u001b[0m\u001b[0;34m)\u001b[0m\u001b[0;34m\u001b[0m\u001b[0m\n\u001b[0m",
      "\u001b[0;32m~/.local/lib/python3.7/site-packages/matplotlib/axes/_axes.py\u001b[0m in \u001b[0;36mplot\u001b[0;34m(self, scalex, scaley, data, *args, **kwargs)\u001b[0m\n\u001b[1;32m   1644\u001b[0m         \"\"\"\n\u001b[1;32m   1645\u001b[0m         \u001b[0mkwargs\u001b[0m \u001b[0;34m=\u001b[0m \u001b[0mcbook\u001b[0m\u001b[0;34m.\u001b[0m\u001b[0mnormalize_kwargs\u001b[0m\u001b[0;34m(\u001b[0m\u001b[0mkwargs\u001b[0m\u001b[0;34m,\u001b[0m \u001b[0mmlines\u001b[0m\u001b[0;34m.\u001b[0m\u001b[0mLine2D\u001b[0m\u001b[0;34m)\u001b[0m\u001b[0;34m\u001b[0m\u001b[0m\n\u001b[0;32m-> 1646\u001b[0;31m         \u001b[0mlines\u001b[0m \u001b[0;34m=\u001b[0m \u001b[0;34m[\u001b[0m\u001b[0;34m*\u001b[0m\u001b[0mself\u001b[0m\u001b[0;34m.\u001b[0m\u001b[0m_get_lines\u001b[0m\u001b[0;34m(\u001b[0m\u001b[0;34m*\u001b[0m\u001b[0margs\u001b[0m\u001b[0;34m,\u001b[0m \u001b[0mdata\u001b[0m\u001b[0;34m=\u001b[0m\u001b[0mdata\u001b[0m\u001b[0;34m,\u001b[0m \u001b[0;34m**\u001b[0m\u001b[0mkwargs\u001b[0m\u001b[0;34m)\u001b[0m\u001b[0;34m]\u001b[0m\u001b[0;34m\u001b[0m\u001b[0m\n\u001b[0m\u001b[1;32m   1647\u001b[0m         \u001b[0;32mfor\u001b[0m \u001b[0mline\u001b[0m \u001b[0;32min\u001b[0m \u001b[0mlines\u001b[0m\u001b[0;34m:\u001b[0m\u001b[0;34m\u001b[0m\u001b[0m\n\u001b[1;32m   1648\u001b[0m             \u001b[0mself\u001b[0m\u001b[0;34m.\u001b[0m\u001b[0madd_line\u001b[0m\u001b[0;34m(\u001b[0m\u001b[0mline\u001b[0m\u001b[0;34m)\u001b[0m\u001b[0;34m\u001b[0m\u001b[0m\n",
      "\u001b[0;32m~/.local/lib/python3.7/site-packages/matplotlib/axes/_base.py\u001b[0m in \u001b[0;36m__call__\u001b[0;34m(self, *args, **kwargs)\u001b[0m\n\u001b[1;32m    214\u001b[0m                 \u001b[0mthis\u001b[0m \u001b[0;34m+=\u001b[0m \u001b[0margs\u001b[0m\u001b[0;34m[\u001b[0m\u001b[0;36m0\u001b[0m\u001b[0;34m]\u001b[0m\u001b[0;34m,\u001b[0m\u001b[0;34m\u001b[0m\u001b[0m\n\u001b[1;32m    215\u001b[0m                 \u001b[0margs\u001b[0m \u001b[0;34m=\u001b[0m \u001b[0margs\u001b[0m\u001b[0;34m[\u001b[0m\u001b[0;36m1\u001b[0m\u001b[0;34m:\u001b[0m\u001b[0;34m]\u001b[0m\u001b[0;34m\u001b[0m\u001b[0m\n\u001b[0;32m--> 216\u001b[0;31m             \u001b[0;32myield\u001b[0m \u001b[0;32mfrom\u001b[0m \u001b[0mself\u001b[0m\u001b[0;34m.\u001b[0m\u001b[0m_plot_args\u001b[0m\u001b[0;34m(\u001b[0m\u001b[0mthis\u001b[0m\u001b[0;34m,\u001b[0m \u001b[0mkwargs\u001b[0m\u001b[0;34m)\u001b[0m\u001b[0;34m\u001b[0m\u001b[0m\n\u001b[0m\u001b[1;32m    217\u001b[0m \u001b[0;34m\u001b[0m\u001b[0m\n\u001b[1;32m    218\u001b[0m     \u001b[0;32mdef\u001b[0m \u001b[0mget_next_color\u001b[0m\u001b[0;34m(\u001b[0m\u001b[0mself\u001b[0m\u001b[0;34m)\u001b[0m\u001b[0;34m:\u001b[0m\u001b[0;34m\u001b[0m\u001b[0m\n",
      "\u001b[0;32m~/.local/lib/python3.7/site-packages/matplotlib/axes/_base.py\u001b[0m in \u001b[0;36m_plot_args\u001b[0;34m(self, tup, kwargs)\u001b[0m\n\u001b[1;32m    340\u001b[0m \u001b[0;34m\u001b[0m\u001b[0m\n\u001b[1;32m    341\u001b[0m         \u001b[0;32mif\u001b[0m \u001b[0mx\u001b[0m\u001b[0;34m.\u001b[0m\u001b[0mshape\u001b[0m\u001b[0;34m[\u001b[0m\u001b[0;36m0\u001b[0m\u001b[0;34m]\u001b[0m \u001b[0;34m!=\u001b[0m \u001b[0my\u001b[0m\u001b[0;34m.\u001b[0m\u001b[0mshape\u001b[0m\u001b[0;34m[\u001b[0m\u001b[0;36m0\u001b[0m\u001b[0;34m]\u001b[0m\u001b[0;34m:\u001b[0m\u001b[0;34m\u001b[0m\u001b[0m\n\u001b[0;32m--> 342\u001b[0;31m             raise ValueError(f\"x and y must have same first dimension, but \"\n\u001b[0m\u001b[1;32m    343\u001b[0m                              f\"have shapes {x.shape} and {y.shape}\")\n\u001b[1;32m    344\u001b[0m         \u001b[0;32mif\u001b[0m \u001b[0mx\u001b[0m\u001b[0;34m.\u001b[0m\u001b[0mndim\u001b[0m \u001b[0;34m>\u001b[0m \u001b[0;36m2\u001b[0m \u001b[0;32mor\u001b[0m \u001b[0my\u001b[0m\u001b[0;34m.\u001b[0m\u001b[0mndim\u001b[0m \u001b[0;34m>\u001b[0m \u001b[0;36m2\u001b[0m\u001b[0;34m:\u001b[0m\u001b[0;34m\u001b[0m\u001b[0m\n",
      "\u001b[0;31mValueError\u001b[0m: x and y must have same first dimension, but have shapes torch.Size([1000]) and (1,)"
     ]
    },
    {
     "data": {
      "image/png": "[encoded data removed]",
      "text/plain": [
       "<Figure size 432x288 with 1 Axes>"
      ]
     },
     "metadata": {
      "needs_background": "light"
     },
     "output_type": "display_data"
    }
   ],
   "source": [
    "fig, ax = plt.subplots()\n",
    "x_test = torch.tensor([i for i in np.linspace(0,1,1000)])\n",
    "\n",
    "ax.plot(x_test, loss(x_test))"
   ]
  },
  {
   "cell_type": "code",
   "execution_count": 244,
   "metadata": {},
   "outputs": [],
   "source": [
    "optimizer = torch.optim.LBFGS(N.parameters(), lr=0.1)\n",
    "\n",
    "def closure():\n",
    "\n",
    "    optimizer.zero_grad()\n",
    "    l = loss(x)\n",
    "    l.backward()\n",
    "    \n",
    "    return l"
   ]
  },
  {
   "cell_type": "code",
   "execution_count": 246,
   "metadata": {},
   "outputs": [
    {
     "name": "stdout",
     "output_type": "stream",
     "text": [
      "loss is tensor(0.0383, grad_fn=<MeanBackward0>)\n",
      "loss is tensor(0.0383, grad_fn=<MeanBackward0>)\n"
     ]
    }
   ],
   "source": [
    "for i in range(2):\n",
    "    optimizer.step(closure)"
   ]
  },
  {
   "cell_type": "markdown",
   "metadata": {},
   "source": [
    "### Plots of results"
   ]
  },
  {
   "cell_type": "code",
   "execution_count": 247,
   "metadata": {},
   "outputs": [
    {
     "data": {
      "image/png": "[encoded data removed]",
      "text/plain": [
       "<Figure size 600x400 with 1 Axes>"
      ]
     },
     "metadata": {
      "needs_background": "light"
     },
     "output_type": "display_data"
    }
   ],
   "source": [
    "with torch.no_grad():\n",
    "    yy = Psi_t(torch.Tensor(x_train)).numpy()  # Neural network\n",
    "yt = np.exp(-x_train**2/2)/(1+x_train+x_train**2)+x_train**2 #f..... of x_train... Analyticas solution\n",
    "\n",
    "\n",
    "fig, ax = plt.subplots(dpi=100)\n",
    "ax.plot(x_train, yt, label='True')\n",
    "ax.plot(x_train, yy, '--', label='Neural network approximation')\n",
    "ax.set_xlabel('$x$')\n",
    "ax.set_ylabel('$Psi(x)$')\n",
    "plt.legend(loc='best');"
   ]
  },
  {
   "cell_type": "markdown",
   "metadata": {},
   "source": [
    "### Example 2 of Lagaris"
   ]
  },
  {
   "cell_type": "markdown",
   "metadata": {},
   "source": [
    "$$ \\psi(x) = \\int_0^x \\left( e^{-s/5}\\cos(s) - \\frac{1}{5}\\psi(s)\\right) \\,ds + \\psi(0)$$\n",
    "\n",
    "with $\\psi(0) = 0$ and $x\\in [0,2]$"
   ]
  },
  {
   "cell_type": "code",
   "execution_count": 178,
   "metadata": {},
   "outputs": [],
   "source": [
    "N = nn.Sequential(nn.Linear(1, 10), nn.Sigmoid(), nn.Linear(10,1, bias=False))\n",
    "\n",
    "Psi_t = lambda x: N(x)\n",
    "f_integrand = lambda x, Psi: torch.exp(x)*torch.cos(x) - 1/5*Psi\n",
    "psi_0 = 1"
   ]
  },
  {
   "cell_type": "code",
   "execution_count": 179,
   "metadata": {},
   "outputs": [],
   "source": [
    "n_points = 100\n",
    "x_train = np.linspace(0, 2, n_points)[:, None]\n",
    "x = torch.Tensor(x_train)\n",
    "x.requires_grad = True\n",
    "\n",
    "\n",
    "n_rectangles = 10\n",
    "x_in_the_integral = np.linspace(0, 2, n_rectangles)[:, None]\n",
    "x_in_the_integral = torch.Tensor(x_in_the_integral)\n",
    "x_in_the_integral.requires_grad = True\n",
    "\n",
    "def Integ(t):\n",
    "    x_truncated_up_to_t = x_in_the_integral[x_in_the_integral<=t]\n",
    "    shape = x_truncated_up_to_t.shape[0]\n",
    "    x_trun = torch.reshape(x_truncated_up_to_t, (shape,1))\n",
    "    \n",
    "    y = Psi_t(x_trun)\n",
    "    integrand = f_integrand(x_trun, y)\n",
    "    integral = torch.trapezoid(integrand[:,0], x_trun[:,0])\n",
    "    \n",
    "    return integral"
   ]
  },
  {
   "cell_type": "code",
   "execution_count": 17,
   "metadata": {},
   "outputs": [
    {
     "data": {
      "text/plain": [
       "tensor(0.1060, grad_fn=<DivBackward1>)"
      ]
     },
     "execution_count": 17,
     "metadata": {},
     "output_type": "execute_result"
    }
   ],
   "source": [
    "Integ(0.1)"
   ]
  },
  {
   "cell_type": "code",
   "execution_count": 18,
   "metadata": {},
   "outputs": [],
   "source": [
    "def loss(x):\n",
    "    \n",
    "    outputs = Psi_t(x) \n",
    "    integrals_vector = torch.tensor([[Integ(i) for i in x]]) \n",
    "    \n",
    "    final_loss = torch.mean( (outputs - integrals_vector)  ** 2)\n",
    "    \n",
    "    print('loss is', final_loss)\n",
    "\n",
    "    return  final_loss"
   ]
  },
  {
   "cell_type": "code",
   "execution_count": 19,
   "metadata": {},
   "outputs": [],
   "source": [
    "optimizer = torch.optim.LBFGS(N.parameters(), lr=.4)\n",
    "\n",
    "def closure():\n",
    "\n",
    "    optimizer.zero_grad()\n",
    "    l = loss(x)\n",
    "    l.backward()\n",
    "    \n",
    "    return l"
   ]
  },
  {
   "cell_type": "code",
   "execution_count": 20,
   "metadata": {},
   "outputs": [
    {
     "name": "stdout",
     "output_type": "stream",
     "text": [
      "loss is tensor(1.8483, grad_fn=<MeanBackward0>)\n",
      "loss is tensor(1.2531, grad_fn=<MeanBackward0>)\n",
      "loss is tensor(0.6450, grad_fn=<MeanBackward0>)\n",
      "loss is tensor(0.4179, grad_fn=<MeanBackward0>)\n",
      "loss is tensor(0.3313, grad_fn=<MeanBackward0>)\n",
      "loss is tensor(0.2972, grad_fn=<MeanBackward0>)\n",
      "loss is tensor(0.2832, grad_fn=<MeanBackward0>)\n",
      "loss is tensor(0.2770, grad_fn=<MeanBackward0>)\n",
      "loss is tensor(0.2741, grad_fn=<MeanBackward0>)\n",
      "loss is tensor(0.2727, grad_fn=<MeanBackward0>)\n",
      "loss is tensor(0.2718, grad_fn=<MeanBackward0>)\n",
      "loss is tensor(0.2713, grad_fn=<MeanBackward0>)\n",
      "loss is tensor(0.2709, grad_fn=<MeanBackward0>)\n",
      "loss is tensor(0.2705, grad_fn=<MeanBackward0>)\n",
      "loss is tensor(0.2701, grad_fn=<MeanBackward0>)\n",
      "loss is tensor(0.2696, grad_fn=<MeanBackward0>)\n",
      "loss is tensor(0.2691, grad_fn=<MeanBackward0>)\n",
      "loss is tensor(0.2686, grad_fn=<MeanBackward0>)\n",
      "loss is tensor(0.2683, grad_fn=<MeanBackward0>)\n",
      "loss is tensor(0.2684, grad_fn=<MeanBackward0>)\n",
      "loss is tensor(0.2686, grad_fn=<MeanBackward0>)\n",
      "loss is tensor(0.2688, grad_fn=<MeanBackward0>)\n",
      "loss is tensor(0.2689, grad_fn=<MeanBackward0>)\n",
      "loss is tensor(0.2690, grad_fn=<MeanBackward0>)\n",
      "loss is tensor(0.2691, grad_fn=<MeanBackward0>)\n",
      "loss is tensor(0.2691, grad_fn=<MeanBackward0>)\n",
      "loss is tensor(0.2691, grad_fn=<MeanBackward0>)\n",
      "loss is tensor(0.2691, grad_fn=<MeanBackward0>)\n",
      "loss is tensor(0.2691, grad_fn=<MeanBackward0>)\n",
      "loss is tensor(0.2691, grad_fn=<MeanBackward0>)\n",
      "loss is tensor(0.2692, grad_fn=<MeanBackward0>)\n",
      "loss is tensor(0.2692, grad_fn=<MeanBackward0>)\n",
      "loss is tensor(0.2692, grad_fn=<MeanBackward0>)\n",
      "loss is tensor(0.2692, grad_fn=<MeanBackward0>)\n",
      "loss is tensor(0.2692, grad_fn=<MeanBackward0>)\n",
      "loss is tensor(0.2692, grad_fn=<MeanBackward0>)\n",
      "loss is tensor(0.2692, grad_fn=<MeanBackward0>)\n",
      "loss is tensor(0.2692, grad_fn=<MeanBackward0>)\n",
      "loss is tensor(0.2692, grad_fn=<MeanBackward0>)\n",
      "loss is tensor(0.2692, grad_fn=<MeanBackward0>)\n",
      "loss is tensor(0.2692, grad_fn=<MeanBackward0>)\n",
      "loss is tensor(0.2692, grad_fn=<MeanBackward0>)\n",
      "loss is tensor(0.2692, grad_fn=<MeanBackward0>)\n",
      "loss is tensor(0.2692, grad_fn=<MeanBackward0>)\n",
      "loss is tensor(0.2692, grad_fn=<MeanBackward0>)\n",
      "loss is tensor(0.2692, grad_fn=<MeanBackward0>)\n",
      "loss is tensor(0.2692, grad_fn=<MeanBackward0>)\n",
      "loss is tensor(0.2693, grad_fn=<MeanBackward0>)\n",
      "loss is tensor(0.2693, grad_fn=<MeanBackward0>)\n",
      "loss is tensor(0.2693, grad_fn=<MeanBackward0>)\n",
      "loss is tensor(0.2693, grad_fn=<MeanBackward0>)\n",
      "loss is tensor(0.2693, grad_fn=<MeanBackward0>)\n",
      "loss is tensor(0.2693, grad_fn=<MeanBackward0>)\n",
      "loss is tensor(0.2693, grad_fn=<MeanBackward0>)\n",
      "loss is tensor(0.2693, grad_fn=<MeanBackward0>)\n",
      "loss is tensor(0.2693, grad_fn=<MeanBackward0>)\n",
      "loss is tensor(0.2693, grad_fn=<MeanBackward0>)\n",
      "loss is tensor(0.2693, grad_fn=<MeanBackward0>)\n",
      "loss is tensor(0.2693, grad_fn=<MeanBackward0>)\n",
      "loss is tensor(0.2693, grad_fn=<MeanBackward0>)\n",
      "loss is tensor(0.2693, grad_fn=<MeanBackward0>)\n"
     ]
    }
   ],
   "source": [
    "for i in range(4):\n",
    "    optimizer.step(closure)"
   ]
  },
  {
   "cell_type": "code",
   "execution_count": 21,
   "metadata": {},
   "outputs": [
    {
     "data": {
      "image/png": "[encoded data removed]",
      "text/plain": [
       "<Figure size 600x400 with 1 Axes>"
      ]
     },
     "metadata": {
      "needs_background": "light"
     },
     "output_type": "display_data"
    }
   ],
   "source": [
    "with torch.no_grad():\n",
    "    yy = Psi_t(torch.Tensor(x_train)).numpy()  # Neural network\n",
    "yt = np.exp(-x_train**2/2)/(1+x_train+x_train**2)+x_train**2 #f..... of x_train... Analyticas solution\n",
    "\n",
    "\n",
    "fig, ax = plt.subplots(dpi=100)\n",
    "ax.plot(x_train, yt, label='True')\n",
    "ax.plot(x_train, yy, '--', label='Neural network approximation')\n",
    "ax.set_xlabel('$x$')\n",
    "ax.set_ylabel('$Psi(x)$')\n",
    "plt.legend(loc='best');"
   ]
  },
  {
   "cell_type": "markdown",
   "metadata": {},
   "source": [
    "# Changing thw way we integrate"
   ]
  },
  {
   "cell_type": "code",
   "execution_count": 3,
   "metadata": {},
   "outputs": [],
   "source": [
    "N = nn.Sequential(nn.Linear(1, 10), nn.Sigmoid(), nn.Linear(10,1, bias=False))\n",
    "\n",
    "Psi_t = lambda x: N(x)\n",
    "f_integrand = lambda x, Psi: torch.exp(x)*torch.cos(x) - 1/5*Psi\n",
    "psi_0 = 1"
   ]
  },
  {
   "cell_type": "code",
   "execution_count": 92,
   "metadata": {},
   "outputs": [],
   "source": [
    "n_points = 100\n",
    "x_train = np.linspace(0, 2, n_points)[:, None]\n",
    "x = torch.Tensor(x_train)\n",
    "x.requires_grad = True\n",
    "\n",
    "\n",
    "\n",
    "def Integ(t, n_rectangles):\n",
    "    ''' Returns the integral between 0 and t, by dividing into n intervals'''\n",
    "    x_in_the_integral = np.linspace(0, t, n_rectangles)[:, None]\n",
    "    x_in_the_integral = torch.Tensor(x_in_the_integral)\n",
    "    \n",
    "    y = Psi_t(x_in_the_integral)\n",
    "    integrand = f_integrand(x_in_the_integral, y)\n",
    "    integral = torch.trapezoid(integrand[:,0], x_in_the_integral[:,0])\n",
    "    \n",
    "    return integral"
   ]
  },
  {
   "cell_type": "code",
   "execution_count": 93,
   "metadata": {},
   "outputs": [
    {
     "data": {
      "text/plain": [
       "tensor(-15233.9424, grad_fn=<DivBackward1>)"
      ]
     },
     "execution_count": 93,
     "metadata": {},
     "output_type": "execute_result"
    }
   ],
   "source": [
    "Integ(10,7000)"
   ]
  },
  {
   "cell_type": "code",
   "execution_count": 114,
   "metadata": {},
   "outputs": [],
   "source": [
    "n_int = 1000\n",
    "\n",
    "def loss(x):\n",
    "    \n",
    "    outputs = Psi_t(x) \n",
    "    integrals_vector = torch.tensor([[Integ(i, n_int) for i in x[:,0].tolist()]]) \n",
    "    \n",
    "    final_loss = torch.mean( (outputs - integrals_vector)  ** 2)\n",
    "    \n",
    "    print('loss is', final_loss)\n",
    "\n",
    "    return  final_loss"
   ]
  },
  {
   "cell_type": "code",
   "execution_count": 115,
   "metadata": {},
   "outputs": [],
   "source": [
    "optimizer = torch.optim.LBFGS(N.parameters())\n",
    "\n",
    "def closure():\n",
    "\n",
    "    optimizer.zero_grad()\n",
    "    l = loss(x)\n",
    "    l.backward()\n",
    "    \n",
    "    return l"
   ]
  },
  {
   "cell_type": "code",
   "execution_count": 146,
   "metadata": {},
   "outputs": [
    {
     "name": "stdout",
     "output_type": "stream",
     "text": [
      "loss is tensor(0.2694, grad_fn=<MeanBackward0>)\n"
     ]
    },
    {
     "data": {
      "text/plain": [
       "tensor(0.2694, grad_fn=<MeanBackward0>)"
      ]
     },
     "execution_count": 146,
     "metadata": {},
     "output_type": "execute_result"
    }
   ],
   "source": [
    "optimizer.step(closure)"
   ]
  },
  {
   "cell_type": "markdown",
   "metadata": {},
   "source": [
    "### Example with low alpha"
   ]
  },
  {
   "cell_type": "markdown",
   "metadata": {},
   "source": [
    "$$\\Psi' = \\alpha \\Psi $$\n",
    "\n"
   ]
  },
  {
   "cell_type": "markdown",
   "metadata": {},
   "source": [
    "$$\\Psi(t) = \\int_0^t \\alpha \\Psi ,ds + 1 $$"
   ]
  },
  {
   "cell_type": "code",
   "execution_count": 20,
   "metadata": {},
   "outputs": [],
   "source": [
    "alpha = 0.4\n",
    "\n",
    "N = nn.Sequential(nn.Linear(1, 10), nn.Sigmoid(), nn.Linear(10,1, bias=False))\n",
    "\n",
    "Psi_t = lambda x: 1+x*N(x)\n",
    "f_integrand = lambda x, Psi: alpha*Psi\n",
    "psi_0 = 1\n",
    "\n",
    "Psi_real = lambda x: torch.exp(alpha*x)"
   ]
  },
  {
   "cell_type": "code",
   "execution_count": 21,
   "metadata": {},
   "outputs": [],
   "source": [
    "n_points = 100\n",
    "\n",
    "x_train = np.linspace(0, 2, n_points)[:, None]\n",
    "x = torch.Tensor(x_train)\n",
    "x.requires_grad = True\n",
    "\n",
    "\n",
    "n_rectangles = 10000\n",
    "x_in_the_integral = np.linspace(0, 2, n_rectangles)[:, None]\n",
    "x_in_the_integral = torch.Tensor(x_in_the_integral)\n",
    "\n",
    "def Integ(t):\n",
    "    x_truncated_up_to_t = x_in_the_integral[x_in_the_integral<=t]\n",
    "    shape = x_truncated_up_to_t.shape[0]\n",
    "    x_trun = torch.reshape(x_truncated_up_to_t, (shape,1))\n",
    "    \n",
    "    y = Psi_t(x_trun)\n",
    "    integrand = f_integrand(x_trun, y)\n",
    "    integral = torch.trapezoid(integrand[:,0], x_trun[:,0])\n",
    "    \n",
    "    return integral"
   ]
  },
  {
   "cell_type": "code",
   "execution_count": 22,
   "metadata": {},
   "outputs": [],
   "source": [
    "def loss(x):\n",
    "    \n",
    "    outputs = Psi_t(x) \n",
    "    integrals_vector = torch.tensor([[Integ(i) for i in x]]) + 1\n",
    "    \n",
    "    final_loss = torch.mean( (outputs - integrals_vector)  ** 2)\n",
    "    \n",
    "    print('loss is', final_loss)\n",
    "\n",
    "    return  final_loss"
   ]
  },
  {
   "cell_type": "code",
   "execution_count": 23,
   "metadata": {},
   "outputs": [],
   "source": [
    "optimizer = torch.optim.LBFGS(N.parameters(), lr=.01)\n",
    "\n",
    "def closure():\n",
    "\n",
    "    optimizer.zero_grad()\n",
    "    l = loss(x)\n",
    "    l.backward()\n",
    "    \n",
    "    return l"
   ]
  },
  {
   "cell_type": "code",
   "execution_count": 29,
   "metadata": {},
   "outputs": [
    {
     "name": "stdout",
     "output_type": "stream",
     "text": [
      "loss is tensor(0.1649, grad_fn=<MeanBackward0>)\n",
      "loss is tensor(0.1649, grad_fn=<MeanBackward0>)\n",
      "loss is tensor(0.1648, grad_fn=<MeanBackward0>)\n",
      "loss is tensor(0.1647, grad_fn=<MeanBackward0>)\n",
      "loss is tensor(0.1645, grad_fn=<MeanBackward0>)\n",
      "loss is tensor(0.1644, grad_fn=<MeanBackward0>)\n",
      "loss is tensor(0.1643, grad_fn=<MeanBackward0>)\n",
      "loss is tensor(0.1642, grad_fn=<MeanBackward0>)\n",
      "loss is tensor(0.1641, grad_fn=<MeanBackward0>)\n",
      "loss is tensor(0.1640, grad_fn=<MeanBackward0>)\n",
      "loss is tensor(0.1639, grad_fn=<MeanBackward0>)\n",
      "loss is tensor(0.1638, grad_fn=<MeanBackward0>)\n",
      "loss is tensor(0.1636, grad_fn=<MeanBackward0>)\n",
      "loss is tensor(0.1635, grad_fn=<MeanBackward0>)\n",
      "loss is tensor(0.1635, grad_fn=<MeanBackward0>)\n",
      "loss is tensor(0.1634, grad_fn=<MeanBackward0>)\n",
      "loss is tensor(0.1633, grad_fn=<MeanBackward0>)\n",
      "loss is tensor(0.1631, grad_fn=<MeanBackward0>)\n",
      "loss is tensor(0.1630, grad_fn=<MeanBackward0>)\n",
      "loss is tensor(0.1628, grad_fn=<MeanBackward0>)\n",
      "loss is tensor(0.1627, grad_fn=<MeanBackward0>)\n",
      "loss is tensor(0.1626, grad_fn=<MeanBackward0>)\n",
      "loss is tensor(0.1625, grad_fn=<MeanBackward0>)\n",
      "loss is tensor(0.1624, grad_fn=<MeanBackward0>)\n",
      "loss is tensor(0.1624, grad_fn=<MeanBackward0>)\n",
      "loss is tensor(0.1623, grad_fn=<MeanBackward0>)\n",
      "loss is tensor(0.1622, grad_fn=<MeanBackward0>)\n",
      "loss is tensor(0.1621, grad_fn=<MeanBackward0>)\n",
      "loss is tensor(0.1621, grad_fn=<MeanBackward0>)\n",
      "loss is tensor(0.1620, grad_fn=<MeanBackward0>)\n",
      "loss is tensor(0.1619, grad_fn=<MeanBackward0>)\n",
      "loss is tensor(0.1618, grad_fn=<MeanBackward0>)\n",
      "loss is tensor(0.1618, grad_fn=<MeanBackward0>)\n",
      "loss is tensor(0.1617, grad_fn=<MeanBackward0>)\n",
      "loss is tensor(0.1617, grad_fn=<MeanBackward0>)\n",
      "loss is tensor(0.1616, grad_fn=<MeanBackward0>)\n",
      "loss is tensor(0.1616, grad_fn=<MeanBackward0>)\n",
      "loss is tensor(0.1615, grad_fn=<MeanBackward0>)\n",
      "loss is tensor(0.1615, grad_fn=<MeanBackward0>)\n",
      "loss is tensor(0.1614, grad_fn=<MeanBackward0>)\n",
      "loss is tensor(0.1614, grad_fn=<MeanBackward0>)\n",
      "loss is tensor(0.1613, grad_fn=<MeanBackward0>)\n",
      "loss is tensor(0.1613, grad_fn=<MeanBackward0>)\n",
      "loss is tensor(0.1612, grad_fn=<MeanBackward0>)\n",
      "loss is tensor(0.1612, grad_fn=<MeanBackward0>)\n",
      "loss is tensor(0.1611, grad_fn=<MeanBackward0>)\n",
      "loss is tensor(0.1611, grad_fn=<MeanBackward0>)\n",
      "loss is tensor(0.1611, grad_fn=<MeanBackward0>)\n",
      "loss is tensor(0.1611, grad_fn=<MeanBackward0>)\n",
      "loss is tensor(0.1610, grad_fn=<MeanBackward0>)\n",
      "loss is tensor(0.1610, grad_fn=<MeanBackward0>)\n",
      "loss is tensor(0.1609, grad_fn=<MeanBackward0>)\n",
      "loss is tensor(0.1609, grad_fn=<MeanBackward0>)\n",
      "loss is tensor(0.1609, grad_fn=<MeanBackward0>)\n",
      "loss is tensor(0.1609, grad_fn=<MeanBackward0>)\n",
      "loss is tensor(0.1608, grad_fn=<MeanBackward0>)\n",
      "loss is tensor(0.1608, grad_fn=<MeanBackward0>)\n",
      "loss is tensor(0.1608, grad_fn=<MeanBackward0>)\n",
      "loss is tensor(0.1607, grad_fn=<MeanBackward0>)\n",
      "loss is tensor(0.1607, grad_fn=<MeanBackward0>)\n"
     ]
    }
   ],
   "source": [
    "for i in range(3):\n",
    "    optimizer.step(closure)"
   ]
  },
  {
   "cell_type": "code",
   "execution_count": null,
   "metadata": {},
   "outputs": [],
   "source": []
  }
 ],
 "metadata": {
  "kernelspec": {
   "display_name": "Python 3",
   "language": "python",
   "name": "python3"
  },
  "language_info": {
   "codemirror_mode": {
    "name": "ipython",
    "version": 3
   },
   "file_extension": ".py",
   "mimetype": "text/x-python",
   "name": "python",
   "nbconvert_exporter": "python",
   "pygments_lexer": "ipython3",
   "version": "3.7.0"
  }
 },
 "nbformat": 4,
 "nbformat_minor": 4
}
