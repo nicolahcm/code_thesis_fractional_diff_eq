{
 "cells": [
  {
   "cell_type": "markdown",
   "metadata": {},
   "source": [
    "# To do: \n",
    "1) test all the lagaris example,\n",
    "\n",
    "2) Test the paper of the Mall with conformable derivatives"
   ]
  },
  {
   "cell_type": "code",
   "execution_count": 2,
   "metadata": {},
   "outputs": [],
   "source": [
    "import torch\n",
    "import torch.nn as nn\n",
    "import matplotlib.pyplot as plt\n",
    "import numpy as np"
   ]
  },
  {
   "cell_type": "markdown",
   "metadata": {},
   "source": [
    "$$ \\frac{d\\psi}{dx} = e^{\\frac{-x}{5}}\\cos(x) - \\frac{\\psi}{5} = f $$ \n",
    "$$ \\psi(0) = A $$"
   ]
  },
  {
   "cell_type": "markdown",
   "metadata": {},
   "source": [
    "### To modify basing on the example:\n",
    "1) A, the initial condition.\n",
    "\n",
    "2) Psi_t, the guess function\n",
    "\n",
    "3) f, on the RHS\n",
    "\n",
    "4) the loss function\n",
    "\n",
    "5) the grid of x's inputs where to train. less important but need to modify"
   ]
  },
  {
   "cell_type": "markdown",
   "metadata": {},
   "source": [
    "### plus, eventually, the Neural network (how many nodes, etc.. etc..), and the optimizer"
   ]
  },
  {
   "cell_type": "markdown",
   "metadata": {},
   "source": [
    "### Example 1"
   ]
  },
  {
   "cell_type": "code",
   "execution_count": 3,
   "metadata": {},
   "outputs": [],
   "source": [
    "N = nn.Sequential(nn.Linear(1, 5), nn.Sigmoid(), nn.Linear(5,1, bias=False))\n",
    "\n",
    "# 1,2,3 here to modify\n",
    "\n",
    "# torch.pow(2,3) = 2^3 = 8\n",
    "\n",
    "A = 1.\n",
    "Psi_t = lambda x: A + x * N(x)  # A is the initial condition. Automatically satisfies init. condit\n",
    "f = lambda x, Psi: torch.pow(x, 3) + 2*x + torch.pow(x,2)*(1+3*torch.pow(x,2))/(1+x+torch.pow(x,3))-Psi*(x + (1+3*torch.pow(x,2))/(1+x+torch.pow(x,3)))"
   ]
  },
  {
   "cell_type": "code",
   "execution_count": 4,
   "metadata": {},
   "outputs": [],
   "source": [
    "# 4 to modify here \n",
    "\n",
    "\n",
    "def loss(x):\n",
    "    \n",
    "    outputs = Psi_t(x) # Here all the system/graph of neural network is applied\n",
    "    \n",
    "    # Psi_t_x ----- is the guess function Psi derivated wrt x\n",
    "    Psi_t_x = torch.autograd.grad(outputs, x, grad_outputs=torch.ones_like(outputs),\n",
    "                        create_graph=True)[0]\n",
    "    \n",
    "    final_loss = torch.mean( ( Psi_t_x - f(x, outputs) )  ** 2)\n",
    "    \n",
    "    print('loss is', final_loss)\n",
    "\n",
    "    return  final_loss"
   ]
  },
  {
   "cell_type": "code",
   "execution_count": 5,
   "metadata": {},
   "outputs": [],
   "source": [
    "# 5 to modify here\n",
    "x_train = np.linspace(0, 2, 100)[:, None]\n",
    "x = torch.Tensor(x_train)\n",
    "x.requires_grad = True"
   ]
  },
  {
   "cell_type": "code",
   "execution_count": 6,
   "metadata": {},
   "outputs": [],
   "source": [
    "optimizer = torch.optim.Adagrad(N.parameters(), lr=0.1, lr_decay=0, weight_decay=0.01, initial_accumulator_value=0, eps=1e-10)\n",
    "\n",
    "def closure():\n",
    "\n",
    "    optimizer.zero_grad()\n",
    "    l = loss(x)\n",
    "    l.backward()\n",
    "    \n",
    "    return l\n"
   ]
  },
  {
   "cell_type": "code",
   "execution_count": 19,
   "metadata": {},
   "outputs": [
    {
     "name": "stdout",
     "output_type": "stream",
     "text": [
      "loss is tensor(2.2361, grad_fn=<MeanBackward0>)\n",
      "loss is tensor(2.2361, grad_fn=<MeanBackward0>)\n",
      "loss is tensor(2.2361, grad_fn=<MeanBackward0>)\n",
      "loss is tensor(2.2361, grad_fn=<MeanBackward0>)\n",
      "loss is tensor(2.2361, grad_fn=<MeanBackward0>)\n",
      "loss is tensor(2.2361, grad_fn=<MeanBackward0>)\n",
      "loss is tensor(2.2361, grad_fn=<MeanBackward0>)\n",
      "loss is tensor(2.2361, grad_fn=<MeanBackward0>)\n",
      "loss is tensor(2.2361, grad_fn=<MeanBackward0>)\n",
      "loss is tensor(2.2361, grad_fn=<MeanBackward0>)\n"
     ]
    }
   ],
   "source": [
    "# Here train the neural network\n",
    "for i in range(10):\n",
    "    optimizer.step(closure)"
   ]
  },
  {
   "cell_type": "markdown",
   "metadata": {},
   "source": [
    "# Drawing the plots"
   ]
  },
  {
   "cell_type": "code",
   "execution_count": 20,
   "metadata": {},
   "outputs": [
    {
     "data": {
      "image/png": "[encoded data removed]",
      "text/plain": [
       "<Figure size 600x400 with 1 Axes>"
      ]
     },
     "metadata": {
      "needs_background": "light"
     },
     "output_type": "display_data"
    }
   ],
   "source": [
    "with torch.no_grad():\n",
    "    yy = Psi_t(torch.Tensor(x_train)).numpy()  # Neural network\n",
    "yt = np.exp(-x_train**2/2)/(1+x_train+x_train**2)+x_train**2 #f..... of x_train... Analyticas solution\n",
    "\n",
    "\n",
    "fig, ax = plt.subplots(dpi=100)\n",
    "ax.plot(x_train, yt, label='True')\n",
    "ax.plot(x_train, yy, '--', label='Neural network approximation')\n",
    "ax.set_xlabel('$x$')\n",
    "ax.set_ylabel('$Psi(x)$')\n",
    "plt.legend(loc='best');"
   ]
  },
  {
   "cell_type": "markdown",
   "metadata": {},
   "source": [
    "### Example 2 already seen. To see example 3 and 4 and we are done"
   ]
  },
  {
   "cell_type": "markdown",
   "metadata": {},
   "source": [
    "### Example 3\n",
    "\n",
    "$$ \\frac{d^2 \\psi}{dx^2} + \\frac{1}{5} \\frac{d\\psi}{dx} = -\\frac{1}{5}e^{-x/5}\\cos(x) - \\psi$$\n",
    "\n",
    "where RHS = f\n",
    "\n",
    "\n",
    "Loss function will be\n",
    "\n",
    "$$ \\sum_{x_i}[\\frac{d^2 \\psi_t}{dx^2} + \\frac{1}{5} \\frac{d\\psi_t}{dx} +\\frac{1}{5}e^{-x/5}\\cos(x) + \\psi_t]^2 $$"
   ]
  },
  {
   "cell_type": "code",
   "execution_count": 110,
   "metadata": {},
   "outputs": [],
   "source": [
    "N = nn.Sequential(nn.Linear(1, 50), nn.Sigmoid(), nn.Linear(50,1, bias=False))\n",
    "\n",
    "\n",
    "Psi_t = lambda x: x + torch.pow(x, 2) * N(x)  # A is the initial condition. Automatically satisfies init. condit\n",
    "f = lambda x, Psi: -1/5*torch.cos(x)*torch.exp(-x/5) - Psi"
   ]
  },
  {
   "cell_type": "code",
   "execution_count": 111,
   "metadata": {},
   "outputs": [],
   "source": [
    "def loss(x):\n",
    "    \n",
    "    outputs = Psi_t(x) \n",
    "    \n",
    "    Psi_t_x = torch.autograd.grad(outputs, x, grad_outputs=torch.ones_like(outputs),\n",
    "                        create_graph=True)[0]\n",
    "    Psi_t_x_x = torch.autograd.grad(Psi_t_x, x, grad_outputs=torch.ones_like(Psi_t_x),\n",
    "                        create_graph=True)[0]\n",
    "    \n",
    "    final_loss = torch.mean( ( Psi_t_x_x + 1/5*Psi_t_x - f(x, outputs) )  ** 2)\n",
    "    \n",
    "    print('loss is', final_loss)\n",
    "\n",
    "    return  final_loss"
   ]
  },
  {
   "cell_type": "code",
   "execution_count": 112,
   "metadata": {},
   "outputs": [],
   "source": [
    "# 5 to modify here\n",
    "x_train = np.linspace(0, 2, 100)[:, None]\n",
    "x = torch.Tensor(x_train)\n",
    "x.requires_grad = True"
   ]
  },
  {
   "cell_type": "code",
   "execution_count": 113,
   "metadata": {},
   "outputs": [],
   "source": [
    "optimizer = torch.optim.Adagrad(N.parameters(), lr=0.1, lr_decay=0, weight_decay=0.01, initial_accumulator_value=0, eps=1e-10)\n",
    "\n",
    "def closure():\n",
    "\n",
    "    optimizer.zero_grad()\n",
    "    l = loss(x)\n",
    "    l.backward()\n",
    "    \n",
    "    return l"
   ]
  },
  {
   "cell_type": "code",
   "execution_count": 131,
   "metadata": {},
   "outputs": [
    {
     "name": "stdout",
     "output_type": "stream",
     "text": [
      "loss is tensor(0.0015, grad_fn=<MeanBackward0>)\n",
      "loss is tensor(0.0015, grad_fn=<MeanBackward0>)\n",
      "loss is tensor(0.0016, grad_fn=<MeanBackward0>)\n",
      "loss is tensor(0.0016, grad_fn=<MeanBackward0>)\n",
      "loss is tensor(0.0016, grad_fn=<MeanBackward0>)\n",
      "loss is tensor(0.0016, grad_fn=<MeanBackward0>)\n",
      "loss is tensor(0.0016, grad_fn=<MeanBackward0>)\n",
      "loss is tensor(0.0016, grad_fn=<MeanBackward0>)\n",
      "loss is tensor(0.0016, grad_fn=<MeanBackward0>)\n",
      "loss is tensor(0.0017, grad_fn=<MeanBackward0>)\n"
     ]
    }
   ],
   "source": [
    "for i in range(10):\n",
    "    optimizer.step(closure)"
   ]
  },
  {
   "cell_type": "code",
   "execution_count": 132,
   "metadata": {},
   "outputs": [
    {
     "data": {
      "image/png": "[encoded data removed]",
      "text/plain": [
       "<Figure size 600x400 with 1 Axes>"
      ]
     },
     "metadata": {
      "needs_background": "light"
     },
     "output_type": "display_data"
    }
   ],
   "source": [
    "with torch.no_grad():\n",
    "    yy = Psi_t(torch.Tensor(x_train)).numpy()  # Neural network\n",
    "yt = np.exp(-x_train/5)*np.sin(x_train)\n",
    "\n",
    "\n",
    "fig, ax = plt.subplots(dpi=100)\n",
    "ax.plot(x_train, yt, label='True')\n",
    "ax.plot(x_train, yy, '--', label='Neural network approximation')\n",
    "ax.set_xlabel('$x$')\n",
    "ax.set_ylabel('$Psi(x)$')\n",
    "plt.legend(loc='best');"
   ]
  },
  {
   "cell_type": "markdown",
   "metadata": {},
   "source": [
    "### Example 4, they use a system of dif eq, cross eq. Need 2 neural networks, but don't know how to do"
   ]
  },
  {
   "cell_type": "code",
   "execution_count": null,
   "metadata": {},
   "outputs": [],
   "source": []
  },
  {
   "cell_type": "code",
   "execution_count": null,
   "metadata": {},
   "outputs": [],
   "source": []
  },
  {
   "cell_type": "code",
   "execution_count": null,
   "metadata": {},
   "outputs": [],
   "source": []
  },
  {
   "cell_type": "code",
   "execution_count": null,
   "metadata": {},
   "outputs": [],
   "source": []
  }
 ],
 "metadata": {
  "kernelspec": {
   "display_name": "Python 3 (ipykernel)",
   "language": "python",
   "name": "python3"
  },
  "language_info": {
   "codemirror_mode": {
    "name": "ipython",
    "version": 3
   },
   "file_extension": ".py",
   "mimetype": "text/x-python",
   "name": "python",
   "nbconvert_exporter": "python",
   "pygments_lexer": "ipython3",
   "version": "3.8.10"
  }
 },
 "nbformat": 4,
 "nbformat_minor": 4
}
