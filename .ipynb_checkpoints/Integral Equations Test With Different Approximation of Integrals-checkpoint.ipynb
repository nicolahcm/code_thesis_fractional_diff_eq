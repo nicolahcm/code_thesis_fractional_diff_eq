{
 "cells": [
  {
   "cell_type": "code",
   "execution_count": 1,
   "metadata": {},
   "outputs": [],
   "source": [
    "import torch\n",
    "import torch.nn as nn\n",
    "import matplotlib.pyplot as plt\n",
    "import numpy as np"
   ]
  },
  {
   "cell_type": "markdown",
   "metadata": {},
   "source": [
    "$$\\Psi' = \\alpha \\Psi $$\n",
    "\n",
    "Solution:\n",
    "\n",
    "$$\\Psi(t) = e^{\\alpha t}$$\n",
    "\n",
    "Integral form:\n",
    "\n",
    "$$\\Psi(t) = \\int_0^t \\alpha \\Psi(s) \\,ds + 1 $$"
   ]
  },
  {
   "cell_type": "markdown",
   "metadata": {},
   "source": [
    "# Let me rewrite the loss function differently, using rectangles now"
   ]
  },
  {
   "cell_type": "code",
   "execution_count": 2,
   "metadata": {},
   "outputs": [],
   "source": [
    "alpha = 1\n",
    "\n",
    "N = nn.Sequential(nn.Linear(1, 15), nn.Sigmoid(), nn.Linear(15,1, bias=False))\n",
    "\n",
    "Psi_t = lambda x: N(x)\n",
    "f_integrand = lambda x, Psi: alpha*Psi\n",
    "psi_0 = 1\n",
    "\n",
    "Psi_real = lambda x: torch.exp(alpha*x)"
   ]
  },
  {
   "cell_type": "code",
   "execution_count": 3,
   "metadata": {},
   "outputs": [],
   "source": [
    "# Training Grid\n",
    "n_points = 1000\n",
    "x_train = np.linspace(0, 2, n_points)[:, None]       # Train from 0 to 2\n",
    "x = torch.Tensor(x_train)\n",
    "x.requires_grad = True\n",
    "\n",
    "delta_x = 2/(n_points-1)"
   ]
  },
  {
   "cell_type": "code",
   "execution_count": 4,
   "metadata": {},
   "outputs": [],
   "source": [
    "def loss(x):\n",
    "    \n",
    "    outputs = N(x)   \n",
    "    sum_heights = N(x)\n",
    "    \n",
    "    for i in range(n_points):                    \n",
    "        sum_heights[i] = torch.sum(outputs[0:i])   #Sum of Heights of the left-rectangles\n",
    "        \n",
    "    final_loss = torch.mean( (outputs - alpha*delta_x*sum_heights - 1)  ** 2)\n",
    "    \n",
    "    print('loss is', final_loss)\n",
    "\n",
    "    return  final_loss"
   ]
  },
  {
   "cell_type": "code",
   "execution_count": 5,
   "metadata": {},
   "outputs": [],
   "source": [
    "optimizer = torch.optim.LBFGS(N.parameters(), lr=0.01) #SGD(N.parameters(), lr=1e-2, momentum=0.9)\n",
    "\n",
    "def closure():\n",
    "    optimizer.zero_grad()\n",
    "    l = loss(x)\n",
    "    l.backward()\n",
    "    # for p in N.parameters():\n",
    "    #    print(\"parameters are:\", p)\n",
    "    #    p.grad  # Access the gradients\n",
    "    \n",
    "    return l"
   ]
  },
  {
   "cell_type": "code",
   "execution_count": 48,
   "metadata": {},
   "outputs": [
    {
     "name": "stdout",
     "output_type": "stream",
     "text": [
      "loss is tensor(0.0004, grad_fn=<MeanBackward0>)\n",
      "loss is tensor(0.0004, grad_fn=<MeanBackward0>)\n",
      "loss is tensor(0.0004, grad_fn=<MeanBackward0>)\n",
      "loss is tensor(0.0004, grad_fn=<MeanBackward0>)\n",
      "loss is tensor(0.0004, grad_fn=<MeanBackward0>)\n",
      "loss is tensor(0.0004, grad_fn=<MeanBackward0>)\n",
      "loss is tensor(0.0004, grad_fn=<MeanBackward0>)\n",
      "loss is tensor(0.0004, grad_fn=<MeanBackward0>)\n",
      "loss is tensor(0.0004, grad_fn=<MeanBackward0>)\n",
      "loss is tensor(0.0004, grad_fn=<MeanBackward0>)\n",
      "loss is tensor(0.0004, grad_fn=<MeanBackward0>)\n",
      "loss is tensor(0.0004, grad_fn=<MeanBackward0>)\n",
      "loss is tensor(0.0004, grad_fn=<MeanBackward0>)\n",
      "loss is tensor(0.0004, grad_fn=<MeanBackward0>)\n",
      "loss is tensor(0.0003, grad_fn=<MeanBackward0>)\n",
      "loss is tensor(0.0003, grad_fn=<MeanBackward0>)\n",
      "loss is tensor(0.0003, grad_fn=<MeanBackward0>)\n",
      "loss is tensor(0.0003, grad_fn=<MeanBackward0>)\n",
      "loss is tensor(0.0003, grad_fn=<MeanBackward0>)\n",
      "loss is tensor(0.0003, grad_fn=<MeanBackward0>)\n"
     ]
    }
   ],
   "source": [
    "for i in range(1):\n",
    "    optimizer.step(closure)"
   ]
  },
  {
   "cell_type": "code",
   "execution_count": 49,
   "metadata": {},
   "outputs": [
    {
     "data": {
      "text/plain": [
       "[<matplotlib.lines.Line2D at 0x7fb0c203c5e0>]"
      ]
     },
     "execution_count": 49,
     "metadata": {},
     "output_type": "execute_result"
    },
    {
     "data": {
      "image/png": "[encoded data removed]",
      "text/plain": [
       "<Figure size 432x288 with 1 Axes>"
      ]
     },
     "metadata": {
      "needs_background": "light"
     },
     "output_type": "display_data"
    }
   ],
   "source": [
    "fig, ax = plt.subplots()\n",
    "xx = x.tolist()\n",
    "yy = Psi_t(x)[:,0].tolist()\n",
    "yt = Psi_real(x).tolist()\n",
    "ax.plot(xx, yy)\n",
    "ax.plot(xx,yt)"
   ]
  },
  {
   "cell_type": "markdown",
   "metadata": {},
   "source": [
    "# It worked with rectangles!!! "
   ]
  },
  {
   "cell_type": "markdown",
   "metadata": {},
   "source": [
    "### Let's try with trapezoids. Maybe I understood, how it computed the gradient there was something not ok,because it computes the gradient through another function in which we apply strange things, which maybe pytorch cannot read. For example where maybe there was dependence on some parameters, butThe function cannot read, it will derivate to 0, because it is as if it is indipendent from that!"
   ]
  },
  {
   "cell_type": "markdown",
   "metadata": {},
   "source": [
    "# Trapezoids"
   ]
  },
  {
   "cell_type": "code",
   "execution_count": 97,
   "metadata": {},
   "outputs": [],
   "source": [
    "alpha = 0.5\n",
    "\n",
    "N = nn.Sequential(nn.Linear(1, 15), nn.Sigmoid(), nn.Linear(15,1, bias=False))\n",
    "\n",
    "Psi_t = lambda x: N(x)\n",
    "f_integrand = lambda x, Psi: alpha*Psi\n",
    "psi_0 = 1\n",
    "\n",
    "Psi_real = lambda x: torch.exp(alpha*x)"
   ]
  },
  {
   "cell_type": "code",
   "execution_count": 98,
   "metadata": {},
   "outputs": [],
   "source": [
    "# Training Grid\n",
    "n_points = 100\n",
    "x_train = np.linspace(0, 2, n_points)[:, None]       # Train from 0 to 2\n",
    "x = torch.Tensor(x_train)\n",
    "x.requires_grad = True\n",
    "\n",
    "delta_x = 2/(n_points-1)"
   ]
  },
  {
   "cell_type": "code",
   "execution_count": 99,
   "metadata": {},
   "outputs": [],
   "source": [
    "def loss(x):\n",
    "    \n",
    "    outputs = N(x) \n",
    "    outputs_copy = N(x)\n",
    "    \n",
    "    for i in range(n_points):\n",
    "        outputs_copy[i] = torch.sum(outputs[0:i+1])\n",
    "        outputs_copy[i] += torch.sum(outputs[1:i])\n",
    "    outputs_copy[0] = 0\n",
    "    \n",
    "    # outputs_copy is the heights of trapezoids (0, f(x1), 2f(x2), 2f(x3), .... , f(xn))\n",
    "        \n",
    "    final_loss = torch.mean( (outputs - alpha*delta_x/2*outputs_copy - 1)  ** 2)\n",
    "    \n",
    "    print('loss is', final_loss)\n",
    "\n",
    "    return  final_loss"
   ]
  },
  {
   "cell_type": "code",
   "execution_count": 131,
   "metadata": {},
   "outputs": [],
   "source": [
    "optimizer = torch.optim.LBFGS(N.parameters(), lr=0.1) #SGD(N.parameters(), lr=1e-2, momentum=0.9)\n",
    "\n",
    "def closure():\n",
    "    optimizer.zero_grad()\n",
    "    l = loss(x)\n",
    "    l.backward()\n",
    "    # for p in N.parameters():\n",
    "    #    print(\"parameters are:\", p)\n",
    "    #    p.grad  # Access the gradients\n",
    "    \n",
    "    return l"
   ]
  },
  {
   "cell_type": "code",
   "execution_count": 143,
   "metadata": {},
   "outputs": [
    {
     "name": "stdout",
     "output_type": "stream",
     "text": [
      "loss is tensor(3.9134e-07, grad_fn=<MeanBackward0>)\n",
      "loss is tensor(3.9060e-07, grad_fn=<MeanBackward0>)\n"
     ]
    }
   ],
   "source": [
    "for i in range(1):\n",
    "    optimizer.step(closure)"
   ]
  },
  {
   "cell_type": "code",
   "execution_count": 147,
   "metadata": {},
   "outputs": [
    {
     "data": {
      "text/plain": [
       "[<matplotlib.lines.Line2D at 0x7fb82fbe5d30>]"
      ]
     },
     "execution_count": 147,
     "metadata": {},
     "output_type": "execute_result"
    },
    {
     "data": {
      "image/png": "[encoded data removed]",
      "text/plain": [
       "<Figure size 432x288 with 1 Axes>"
      ]
     },
     "metadata": {
      "needs_background": "light"
     },
     "output_type": "display_data"
    }
   ],
   "source": [
    "fig, ax = plt.subplots()\n",
    "xx = x.tolist()\n",
    "yy = Psi_t(x)[:,0].tolist()\n",
    "yt = Psi_real(x).tolist()\n",
    "ax.plot(xx, yy, \"x\")\n",
    "ax.plot(xx,yt)"
   ]
  },
  {
   "cell_type": "markdown",
   "metadata": {},
   "source": [
    "# Lagaris "
   ]
  },
  {
   "cell_type": "markdown",
   "metadata": {},
   "source": [
    "$$ \\psi(x) = \\int_0^x \\left( e^{-s/5}\\cos(s) - \\frac{1}{5}\\psi(s)\\right) \\,ds + \\psi(0)$$\n",
    "\n",
    "with $\\psi(0) = 0$ and $x\\in [0,2]$"
   ]
  },
  {
   "cell_type": "code",
   "execution_count": 50,
   "metadata": {},
   "outputs": [],
   "source": [
    "N = nn.Sequential(nn.Linear(1, 15), nn.Sigmoid(), nn.Linear(15,1, bias=False))\n",
    "\n",
    "Psi_t = lambda x: N(x)\n",
    "f_integrand = lambda x, Psi: torch.exp(-x/5)*torch.cos(x) - Psi/5\n",
    "psi_0 = 1\n",
    "\n",
    "Psi_real = lambda x: torch.exp(-x/5)*torch.sin(x)\n",
    "\n",
    "# yt = np.exp(-x_train**2/2)/(1+x_train+x_train**2)+x_train**2"
   ]
  },
  {
   "cell_type": "code",
   "execution_count": 51,
   "metadata": {},
   "outputs": [],
   "source": [
    "# Training Grid\n",
    "n_points = 1000\n",
    "\n",
    "# t between [0,2]\n",
    "x_train = np.linspace(0, 2, n_points)[:, None]       # Train from 0 to 2\n",
    "x = torch.Tensor(x_train)\n",
    "x.requires_grad = True\n",
    "\n",
    "delta_x = 2/(n_points-1)"
   ]
  },
  {
   "cell_type": "code",
   "execution_count": 52,
   "metadata": {},
   "outputs": [],
   "source": [
    "def loss(x):\n",
    "    \n",
    "    outputs = N(x)   \n",
    "    f_to_integrate = f_integrand(x,outputs)\n",
    "    f_to_integrate_copy = f_integrand(x,outputs)\n",
    "    \n",
    "    for i in range(n_points):                    \n",
    "        f_to_integrate_copy[i] = torch.sum(f_to_integrate[0:i])   #Sum of Heights of the left-rectangles\n",
    "        \n",
    "    final_loss = torch.mean( (outputs - delta_x*f_to_integrate_copy )  ** 2)\n",
    "    \n",
    "    print('loss is', final_loss)\n",
    "\n",
    "    return  final_loss"
   ]
  },
  {
   "cell_type": "code",
   "execution_count": 53,
   "metadata": {},
   "outputs": [],
   "source": [
    "optimizer = torch.optim.LBFGS(N.parameters(), lr=0.1) #SGD(N.parameters(), lr=1e-2, momentum=0.9)\n",
    "\n",
    "def closure():\n",
    "    optimizer.zero_grad()\n",
    "    l = loss(x)\n",
    "    l.backward()\n",
    "    # for p in N.parameters():\n",
    "    #    print(\"parameters are:\", p)\n",
    "    #    p.grad  # Access the gradients\n",
    "    \n",
    "    return l"
   ]
  },
  {
   "cell_type": "code",
   "execution_count": 66,
   "metadata": {},
   "outputs": [
    {
     "name": "stdout",
     "output_type": "stream",
     "text": [
      "loss is tensor(8.5220e-06, grad_fn=<MeanBackward0>)\n",
      "loss is tensor(8.2660e-06, grad_fn=<MeanBackward0>)\n",
      "loss is tensor(8.0580e-06, grad_fn=<MeanBackward0>)\n",
      "loss is tensor(7.8781e-06, grad_fn=<MeanBackward0>)\n",
      "loss is tensor(7.7292e-06, grad_fn=<MeanBackward0>)\n",
      "loss is tensor(7.5989e-06, grad_fn=<MeanBackward0>)\n",
      "loss is tensor(7.4877e-06, grad_fn=<MeanBackward0>)\n",
      "loss is tensor(7.3825e-06, grad_fn=<MeanBackward0>)\n",
      "loss is tensor(7.2832e-06, grad_fn=<MeanBackward0>)\n",
      "loss is tensor(7.1917e-06, grad_fn=<MeanBackward0>)\n",
      "loss is tensor(7.1062e-06, grad_fn=<MeanBackward0>)\n",
      "loss is tensor(7.0236e-06, grad_fn=<MeanBackward0>)\n",
      "loss is tensor(6.9492e-06, grad_fn=<MeanBackward0>)\n",
      "loss is tensor(6.8709e-06, grad_fn=<MeanBackward0>)\n",
      "loss is tensor(6.7863e-06, grad_fn=<MeanBackward0>)\n",
      "loss is tensor(6.7047e-06, grad_fn=<MeanBackward0>)\n",
      "loss is tensor(6.6208e-06, grad_fn=<MeanBackward0>)\n",
      "loss is tensor(6.5322e-06, grad_fn=<MeanBackward0>)\n",
      "loss is tensor(6.4387e-06, grad_fn=<MeanBackward0>)\n",
      "loss is tensor(6.3380e-06, grad_fn=<MeanBackward0>)\n"
     ]
    },
    {
     "data": {
      "text/plain": [
       "tensor(8.5220e-06, grad_fn=<MeanBackward0>)"
      ]
     },
     "execution_count": 66,
     "metadata": {},
     "output_type": "execute_result"
    }
   ],
   "source": [
    "\n",
    "optimizer.step(closure)"
   ]
  },
  {
   "cell_type": "code",
   "execution_count": 67,
   "metadata": {},
   "outputs": [
    {
     "data": {
      "text/plain": [
       "[<matplotlib.lines.Line2D at 0x7fb0bbdf2ac0>]"
      ]
     },
     "execution_count": 67,
     "metadata": {},
     "output_type": "execute_result"
    },
    {
     "data": {
      "image/png": "[encoded data removed]",
      "text/plain": [
       "<Figure size 432x288 with 1 Axes>"
      ]
     },
     "metadata": {
      "needs_background": "light"
     },
     "output_type": "display_data"
    }
   ],
   "source": [
    "fig, ax = plt.subplots()\n",
    "xx = x.tolist()\n",
    "yy = Psi_t(x)[:,0].tolist()\n",
    "yt = Psi_real(x).tolist()\n",
    "ax.plot(xx, yy)\n",
    "ax.plot(xx,yt)"
   ]
  },
  {
   "cell_type": "markdown",
   "metadata": {},
   "source": [
    "# With Nelder-Mead method"
   ]
  },
  {
   "cell_type": "code",
   "execution_count": 69,
   "metadata": {},
   "outputs": [],
   "source": [
    "import copy\n",
    "\n",
    "'''\n",
    "    Pure Python/Numpy implementation of the Nelder-Mead algorithm.\n",
    "    Reference: https://en.wikipedia.org/wiki/Nelder%E2%80%93Mead_method\n",
    "'''\n",
    "\n",
    "\n",
    "def nelder_mead(f, x_start,\n",
    "                step=0.1, no_improve_thr=10e-6,\n",
    "                no_improv_break=10, max_iter=0,\n",
    "                alpha=1., gamma=2., rho=-0.5, sigma=0.5):\n",
    "    '''\n",
    "        @param f (function): function to optimize, must return a scalar score\n",
    "            and operate over a numpy array of the same dimensions as x_start\n",
    "        @param x_start (numpy array): initial position\n",
    "        @param step (float): look-around radius in initial step\n",
    "        @no_improv_thr,  no_improv_break (float, int): break after no_improv_break iterations with\n",
    "            an improvement lower than no_improv_thr\n",
    "        @max_iter (int): always break after this number of iterations.\n",
    "            Set it to 0 to loop indefinitely.\n",
    "        @alpha, gamma, rho, sigma (floats): parameters of the algorithm\n",
    "            (see Wikipedia page for reference)\n",
    "        return: tuple (best parameter array, best score)\n",
    "    '''\n",
    "\n",
    "    # init\n",
    "    dim = len(x_start)\n",
    "    prev_best = f(x_start)\n",
    "    no_improv = 0\n",
    "    res = [[x_start, prev_best]]\n",
    "\n",
    "    for i in range(dim):\n",
    "        x = copy.copy(x_start)\n",
    "        x[i] = x[i] + step\n",
    "        score = f(x)\n",
    "        res.append([x, score])\n",
    "\n",
    "    # simplex iter\n",
    "    iters = 0\n",
    "    while 1:\n",
    "        # order\n",
    "        res.sort(key=lambda x: x[1])\n",
    "        best = res[0][1]\n",
    "\n",
    "        # break after max_iter\n",
    "        if max_iter and iters >= max_iter:\n",
    "            return res[0]\n",
    "        iters += 1\n",
    "\n",
    "        # break after no_improv_break iterations with no improvement\n",
    "        print('...best so far:', best)\n",
    "\n",
    "        if best < prev_best - no_improve_thr:\n",
    "            no_improv = 0\n",
    "            prev_best = best\n",
    "        else:\n",
    "            no_improv += 1\n",
    "\n",
    "        if no_improv >= no_improv_break:\n",
    "            return res[0]\n",
    "\n",
    "        # centroid\n",
    "        x0 = [0.] * dim\n",
    "        for tup in res[:-1]:\n",
    "            for i, c in enumerate(tup[0]):\n",
    "                x0[i] += c / (len(res)-1)\n",
    "\n",
    "        # reflection\n",
    "        xr = x0 + alpha*(x0 - res[-1][0])\n",
    "        rscore = f(xr)\n",
    "        if res[0][1] <= rscore < res[-2][1]:\n",
    "            del res[-1]\n",
    "            res.append([xr, rscore])\n",
    "            continue\n",
    "\n",
    "        # expansion\n",
    "        if rscore < res[0][1]:\n",
    "            xe = x0 + gamma*(x0 - res[-1][0])\n",
    "            escore = f(xe)\n",
    "            if escore < rscore:\n",
    "                del res[-1]\n",
    "                res.append([xe, escore])\n",
    "                continue\n",
    "            else:\n",
    "                del res[-1]\n",
    "                res.append([xr, rscore])\n",
    "                continue\n",
    "\n",
    "        # contraction\n",
    "        xc = x0 + rho*(x0 - res[-1][0])\n",
    "        cscore = f(xc)\n",
    "        if cscore < res[-1][1]:\n",
    "            del res[-1]\n",
    "            res.append([xc, cscore])\n",
    "            continue\n",
    "\n",
    "        # reduction\n",
    "        x1 = res[0][0]\n",
    "        nres = []\n",
    "        for tup in res:\n",
    "            redx = x1 + sigma*(tup[0] - x1)\n",
    "            score = f(redx)\n",
    "            nres.append([redx, score])\n",
    "        res = nres\n",
    "\n",
    "\n",
    "if __name__ == \"__main__\":\n",
    "    # test\n",
    "    import math\n",
    "    import numpy as np\n",
    "\n",
    "    def f(x):\n",
    "        return math.sin(x[0]) * math.cos(x[1]) * (1. / (abs(x[2]) + 1))\n",
    "    def g(x):\n",
    "        return x**2+2\n",
    "    \n",
    "    \n",
    "n_points = 10\n",
    "x_train = np.linspace(0, 2, n_points)[:, None]       # Train from 0 to 2\n",
    "x_train = torch.Tensor(x_train)\n",
    "x_train.requires_grad = True\n",
    "\n",
    "n_rectangles = 100\n",
    "\n",
    "def loss_op(fin_weights): \n",
    "    ''' x will be the vector of weights and bias'''\n",
    "\n",
    "    nr_nodes = int(len(fin_weights)/3)\n",
    "    w_i = fin_weights[0:nr_nodes]\n",
    "    u_i = fin_weights[nr_nodes:nr_nodes*2]\n",
    "    v_i = fin_weights[nr_nodes*2:]\n",
    "\n",
    "    # Setting the weights of the Neural network to these new values (in the iteration process of \n",
    "    # the optimization)\n",
    "    with torch.no_grad():\n",
    "        for i in range(nr_nodes):\n",
    "            N[0].weight[i,0] = w_i[i]\n",
    "            N[0].bias[i] = u_i[i]\n",
    "            N[2].weight[0,i] = v_i[i]\n",
    "\n",
    "    outputs = N(x)   \n",
    "    f_to_integrate = f_integrand(x,outputs)\n",
    "    f_to_integrate_copy = f_integrand(x,outputs)\n",
    "    \n",
    "    for i in range(n_points):                    \n",
    "        f_to_integrate_copy[i] = torch.sum(f_to_integrate[0:i])   #Sum of Heights of the left-rectangles\n",
    "        \n",
    "    final_loss = torch.mean( (outputs - delta_x*f_to_integrate_copy )  ** 2)\n",
    "    final_loss = final_loss.tolist()  # Number float and not anymore a tensor\n",
    "    return final_loss\n",
    "        \n",
    "    "
   ]
  },
  {
   "cell_type": "code",
   "execution_count": 277,
   "metadata": {},
   "outputs": [
    {
     "name": "stdout",
     "output_type": "stream",
     "text": [
      "...best so far: 0.0035120875108987093\n",
      "...best so far: 0.0035120875108987093\n",
      "...best so far: 0.0035120875108987093\n",
      "...best so far: 0.0035120875108987093\n",
      "...best so far: 0.0035120875108987093\n",
      "...best so far: 0.0035120875108987093\n",
      "...best so far: 0.0035120875108987093\n",
      "...best so far: 0.0035120875108987093\n",
      "...best so far: 0.0035120875108987093\n",
      "...best so far: 0.0035120875108987093\n",
      "...best so far: 0.0035120875108987093\n",
      "[array([ 1.05131543,  0.7644074 ,  1.41770577, -0.60533729,  0.91966581,\n",
      "        0.30745047,  0.62513936,  0.88082355,  0.90826976, -0.98809481,\n",
      "        2.40547276, -0.54719782,  0.40522757,  0.35094053,  1.36210001,\n",
      "        0.85184199,  0.86900914, -0.44474179,  1.06941426,  0.68923277,\n",
      "       -1.38346159, -0.65451217,  0.68198532,  0.07389359, -0.61322999,\n",
      "        0.32143229,  0.61091459,  1.43378401,  1.80349863, -1.95074809,\n",
      "        0.54715353,  0.63544405, -1.04229867, -1.05282152,  0.32568771,\n",
      "       -0.57448506, -1.03701544, -0.14848088, -0.08839417, -0.41900659,\n",
      "        0.90836984, -0.90849936,  0.65482026,  0.36191672, -0.5029195 ]), 0.0035120875108987093]\n"
     ]
    }
   ],
   "source": [
    "for i in range(1):\n",
    "    w_i = N[0].weight[:,0].tolist()\n",
    "    u_i = N[0].bias.tolist()\n",
    "    v_i = N[2].weight[0,:].tolist()\n",
    "    weig = np.array(w_i + u_i + v_i)\n",
    "\n",
    "    print(nelder_mead(loss_op, weig))"
   ]
  },
  {
   "cell_type": "code",
   "execution_count": 278,
   "metadata": {},
   "outputs": [
    {
     "data": {
      "text/plain": [
       "[<matplotlib.lines.Line2D at 0x7fb0bbc06d90>]"
      ]
     },
     "execution_count": 278,
     "metadata": {},
     "output_type": "execute_result"
    },
    {
     "data": {
      "image/png": "[encoded data removed]",
      "text/plain": [
       "<Figure size 432x288 with 1 Axes>"
      ]
     },
     "metadata": {
      "needs_background": "light"
     },
     "output_type": "display_data"
    }
   ],
   "source": [
    "fig, ax = plt.subplots()\n",
    "xx = x.tolist()\n",
    "yy = Psi_t(x)[:,0].tolist()\n",
    "yt = Psi_real(x).tolist()\n",
    "ax.plot(xx, yy)\n",
    "ax.plot(xx,yt)"
   ]
  },
  {
   "cell_type": "code",
   "execution_count": null,
   "metadata": {},
   "outputs": [],
   "source": []
  }
 ],
 "metadata": {
  "kernelspec": {
   "display_name": "Python 3 (ipykernel)",
   "language": "python",
   "name": "python3"
  },
  "language_info": {
   "codemirror_mode": {
    "name": "ipython",
    "version": 3
   },
   "file_extension": ".py",
   "mimetype": "text/x-python",
   "name": "python",
   "nbconvert_exporter": "python",
   "pygments_lexer": "ipython3",
   "version": "3.8.10"
  }
 },
 "nbformat": 4,
 "nbformat_minor": 4
}
