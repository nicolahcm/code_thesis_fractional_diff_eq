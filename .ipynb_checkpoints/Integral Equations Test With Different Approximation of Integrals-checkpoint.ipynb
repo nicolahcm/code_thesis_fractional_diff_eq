{
 "cells": [
  {
   "cell_type": "code",
   "execution_count": 1,
   "metadata": {},
   "outputs": [],
   "source": [
    "import torch\n",
    "import torch.nn as nn\n",
    "import matplotlib.pyplot as plt\n",
    "import numpy as np"
   ]
  },
  {
   "cell_type": "markdown",
   "metadata": {},
   "source": [
    "$$\\Psi' = \\alpha \\Psi $$\n",
    "\n",
    "Solution:\n",
    "\n",
    "$$\\Psi(t) = e^{\\alpha t}$$\n",
    "\n",
    "Integral form:\n",
    "\n",
    "$$\\Psi(t) = \\int_0^t \\alpha \\Psi(s) \\,ds + 1 $$"
   ]
  },
  {
   "cell_type": "code",
   "execution_count": 2,
   "metadata": {},
   "outputs": [],
   "source": [
    "alpha = 0.4\n",
    "\n",
    "N = nn.Sequential(nn.Linear(1, 25), nn.Sigmoid(), nn.Linear(25,1, bias=False))\n",
    "\n",
    "Psi_t = lambda x: 1+x*N(x)\n",
    "f_integrand = lambda x, Psi: alpha*Psi\n",
    "psi_0 = 1\n",
    "\n",
    "Psi_real = lambda x: torch.exp(alpha*x)"
   ]
  },
  {
   "cell_type": "code",
   "execution_count": 3,
   "metadata": {},
   "outputs": [],
   "source": [
    "# Training Grid\n",
    "n_points = 10\n",
    "x_train = np.linspace(0, 2, n_points)[:, None]       # Train from 0 to 2\n",
    "x = torch.Tensor(x_train)\n",
    "x.requires_grad = True"
   ]
  },
  {
   "cell_type": "code",
   "execution_count": 4,
   "metadata": {},
   "outputs": [],
   "source": [
    "# Different Approximation of integrals\n",
    "def Trapez(t, n_rectangles):\n",
    "    ''' Returns the integral between 0 and t, by dividing into n intervals'''\n",
    "    x_in_the_integral = np.linspace(0, t, n_rectangles)[:, None]\n",
    "    x_in_the_integral = torch.Tensor(x_in_the_integral)\n",
    "    \n",
    "    y = Psi_t(x_in_the_integral)\n",
    "    integrand = f_integrand(x_in_the_integral, y)\n",
    "    integral = torch.trapezoid(integrand[:,0], x_in_the_integral[:,0])\n",
    "    \n",
    "    return integral\n",
    "\n",
    "def Rectangles(t, n_rectangles):\n",
    "    \n",
    "    x_in_the_integral = np.linspace(0, t, n_rectangles)[:, None]\n",
    "    x_in_the_integral = torch.Tensor(x_in_the_integral)\n",
    "    y = Psi_t(x_in_the_integral)\n",
    "    integrand = f_integrand(x_in_the_integral, y)\n",
    "\n",
    "    delta_x = t/(n_rectangles-1) \n",
    "\n",
    "    heights_left_rectangles = integrand[:,0][0:-1]  # We are taking all components except for the last\n",
    "    integral = torch.sum(heights_left_rectangles)*delta_x\n",
    "    \n",
    "    return integral"
   ]
  },
  {
   "cell_type": "markdown",
   "metadata": {},
   "source": [
    "https://discuss.pytorch.org/t/how-to-modify-the-gradient-manually/7483/3"
   ]
  },
  {
   "cell_type": "code",
   "execution_count": 5,
   "metadata": {},
   "outputs": [
    {
     "data": {
      "text/plain": [
       "tensor(0.2132, grad_fn=<MulBackward0>)"
      ]
     },
     "execution_count": 5,
     "metadata": {},
     "output_type": "execute_result"
    }
   ],
   "source": [
    "time = 0.5\n",
    "n_rectangles = 22\n",
    "Rectangles(time,n_rectangles)"
   ]
  },
  {
   "cell_type": "code",
   "execution_count": 6,
   "metadata": {},
   "outputs": [
    {
     "data": {
      "text/plain": [
       "tensor(0.2139, grad_fn=<DivBackward1>)"
      ]
     },
     "execution_count": 6,
     "metadata": {},
     "output_type": "execute_result"
    }
   ],
   "source": [
    "Trapez(time,n_rectangles)"
   ]
  },
  {
   "cell_type": "code",
   "execution_count": null,
   "metadata": {},
   "outputs": [],
   "source": []
  },
  {
   "cell_type": "code",
   "execution_count": null,
   "metadata": {},
   "outputs": [],
   "source": []
  },
  {
   "cell_type": "code",
   "execution_count": null,
   "metadata": {},
   "outputs": [],
   "source": []
  },
  {
   "cell_type": "code",
   "execution_count": null,
   "metadata": {},
   "outputs": [],
   "source": []
  },
  {
   "cell_type": "code",
   "execution_count": 7,
   "metadata": {},
   "outputs": [],
   "source": [
    "n_int = 10\n",
    "\n",
    "def loss(x):\n",
    "    \n",
    "    outputs = Psi_t(x) \n",
    "    integrals_vector = torch.tensor([[Rectangles(i, n_int) for i in x[:,0].tolist()]]) + 1\n",
    "    \n",
    "    final_loss = torch.mean( (outputs - integrals_vector)  ** 2)\n",
    "    \n",
    "    print('loss is', final_loss)\n",
    "\n",
    "    return  final_loss"
   ]
  },
  {
   "cell_type": "code",
   "execution_count": 8,
   "metadata": {},
   "outputs": [],
   "source": [
    "optimizer = torch.optim.Adam(N.parameters(), lr=0.001, betas=(0.9, 0.999), eps=1e-08, weight_decay=0, amsgrad=False)\n",
    "\n",
    "def closure():\n",
    "    optimizer.zero_grad()\n",
    "    l = loss(x)\n",
    "    l.backward()\n",
    "    # for p in N.parameters():\n",
    "    #    print(\"parameters are:\", p)\n",
    "    #    p.grad  # Access the gradients\n",
    "    \n",
    "    return l"
   ]
  },
  {
   "cell_type": "code",
   "execution_count": 16,
   "metadata": {},
   "outputs": [
    {
     "name": "stdout",
     "output_type": "stream",
     "text": [
      "loss is tensor(0.1803, grad_fn=<MeanBackward0>)\n",
      "loss is tensor(0.1803, grad_fn=<MeanBackward0>)\n",
      "loss is tensor(0.1804, grad_fn=<MeanBackward0>)\n",
      "loss is tensor(0.1805, grad_fn=<MeanBackward0>)\n",
      "loss is tensor(0.1805, grad_fn=<MeanBackward0>)\n",
      "loss is tensor(0.1806, grad_fn=<MeanBackward0>)\n",
      "loss is tensor(0.1806, grad_fn=<MeanBackward0>)\n",
      "loss is tensor(0.1807, grad_fn=<MeanBackward0>)\n",
      "loss is tensor(0.1808, grad_fn=<MeanBackward0>)\n",
      "loss is tensor(0.1808, grad_fn=<MeanBackward0>)\n",
      "loss is tensor(0.1809, grad_fn=<MeanBackward0>)\n",
      "loss is tensor(0.1810, grad_fn=<MeanBackward0>)\n",
      "loss is tensor(0.1810, grad_fn=<MeanBackward0>)\n",
      "loss is tensor(0.1811, grad_fn=<MeanBackward0>)\n",
      "loss is tensor(0.1812, grad_fn=<MeanBackward0>)\n",
      "loss is tensor(0.1812, grad_fn=<MeanBackward0>)\n",
      "loss is tensor(0.1813, grad_fn=<MeanBackward0>)\n",
      "loss is tensor(0.1814, grad_fn=<MeanBackward0>)\n",
      "loss is tensor(0.1814, grad_fn=<MeanBackward0>)\n",
      "loss is tensor(0.1815, grad_fn=<MeanBackward0>)\n",
      "loss is tensor(0.1816, grad_fn=<MeanBackward0>)\n",
      "loss is tensor(0.1817, grad_fn=<MeanBackward0>)\n",
      "loss is tensor(0.1817, grad_fn=<MeanBackward0>)\n",
      "loss is tensor(0.1818, grad_fn=<MeanBackward0>)\n",
      "loss is tensor(0.1819, grad_fn=<MeanBackward0>)\n",
      "loss is tensor(0.1819, grad_fn=<MeanBackward0>)\n",
      "loss is tensor(0.1820, grad_fn=<MeanBackward0>)\n",
      "loss is tensor(0.1821, grad_fn=<MeanBackward0>)\n",
      "loss is tensor(0.1822, grad_fn=<MeanBackward0>)\n",
      "loss is tensor(0.1822, grad_fn=<MeanBackward0>)\n"
     ]
    }
   ],
   "source": [
    "for i in range(30):\n",
    "    optimizer.step(closure)"
   ]
  },
  {
   "cell_type": "code",
   "execution_count": 17,
   "metadata": {},
   "outputs": [],
   "source": [
    "# N[0].weight.grad"
   ]
  },
  {
   "cell_type": "code",
   "execution_count": 18,
   "metadata": {},
   "outputs": [
    {
     "data": {
      "text/plain": [
       "[<matplotlib.lines.Line2D at 0x7fea63779160>]"
      ]
     },
     "execution_count": 18,
     "metadata": {},
     "output_type": "execute_result"
    },
    {
     "data": {
      "image/png": "[encoded data removed]",
      "text/plain": [
       "<Figure size 432x288 with 1 Axes>"
      ]
     },
     "metadata": {
      "needs_background": "light"
     },
     "output_type": "display_data"
    }
   ],
   "source": [
    "fig, ax = plt.subplots()\n",
    "xx = x.tolist()\n",
    "yy = Psi_t(x)[:,0].tolist()\n",
    "yt = Psi_real(x).tolist()\n",
    "ax.plot(xx, yy)\n",
    "ax.plot(xx,yt)"
   ]
  },
  {
   "cell_type": "code",
   "execution_count": 37,
   "metadata": {},
   "outputs": [
    {
     "name": "stdout",
     "output_type": "stream",
     "text": [
      "loss is tensor(0.1823, grad_fn=<MeanBackward0>)\n"
     ]
    },
    {
     "ename": "TypeError",
     "evalue": "'float' object is not subscriptable",
     "output_type": "error",
     "traceback": [
      "\u001b[0;31m---------------------------------------------------------------------------\u001b[0m",
      "\u001b[0;31mTypeError\u001b[0m                                 Traceback (most recent call last)",
      "\u001b[0;32m<ipython-input-37-56c95d62304c>\u001b[0m in \u001b[0;36m<module>\u001b[0;34m\u001b[0m\n\u001b[0;32m----> 1\u001b[0;31m \u001b[0mloss\u001b[0m\u001b[0;34m(\u001b[0m\u001b[0mx\u001b[0m\u001b[0;34m)\u001b[0m\u001b[0;34m.\u001b[0m\u001b[0mtolist\u001b[0m\u001b[0;34m(\u001b[0m\u001b[0;34m)\u001b[0m\u001b[0;34m[\u001b[0m\u001b[0;36m0\u001b[0m\u001b[0;34m]\u001b[0m\u001b[0;34m\u001b[0m\u001b[0m\n\u001b[0m",
      "\u001b[0;31mTypeError\u001b[0m: 'float' object is not subscriptable"
     ]
    }
   ],
   "source": [
    "loss(x).tolist()"
   ]
  },
  {
   "cell_type": "code",
   "execution_count": 28,
   "metadata": {},
   "outputs": [
    {
     "name": "stdout",
     "output_type": "stream",
     "text": [
      "...best so far: [11.]\n",
      "...best so far: [9.84]\n",
      "...best so far: [7.76]\n",
      "...best so far: [4.56]\n",
      "...best so far: [2.]\n",
      "...best so far: [2.]\n",
      "...best so far: [2.]\n",
      "...best so far: [2.]\n",
      "...best so far: [2.]\n",
      "...best so far: [2.]\n",
      "...best so far: [2.]\n",
      "...best so far: [2.]\n",
      "...best so far: [2.]\n",
      "...best so far: [2.]\n",
      "...best so far: [2.]\n",
      "[array([-2.66453526e-15]), array([2.])]\n"
     ]
    }
   ],
   "source": [
    "import copy\n",
    "\n",
    "'''\n",
    "    Pure Python/Numpy implementation of the Nelder-Mead algorithm.\n",
    "    Reference: https://en.wikipedia.org/wiki/Nelder%E2%80%93Mead_method\n",
    "'''\n",
    "\n",
    "\n",
    "def nelder_mead(f, x_start,\n",
    "                step=0.1, no_improve_thr=10e-6,\n",
    "                no_improv_break=10, max_iter=0,\n",
    "                alpha=1., gamma=2., rho=-0.5, sigma=0.5):\n",
    "    '''\n",
    "        @param f (function): function to optimize, must return a scalar score\n",
    "            and operate over a numpy array of the same dimensions as x_start\n",
    "        @param x_start (numpy array): initial position\n",
    "        @param step (float): look-around radius in initial step\n",
    "        @no_improv_thr,  no_improv_break (float, int): break after no_improv_break iterations with\n",
    "            an improvement lower than no_improv_thr\n",
    "        @max_iter (int): always break after this number of iterations.\n",
    "            Set it to 0 to loop indefinitely.\n",
    "        @alpha, gamma, rho, sigma (floats): parameters of the algorithm\n",
    "            (see Wikipedia page for reference)\n",
    "        return: tuple (best parameter array, best score)\n",
    "    '''\n",
    "\n",
    "    # init\n",
    "    dim = len(x_start)\n",
    "    prev_best = f(x_start)\n",
    "    no_improv = 0\n",
    "    res = [[x_start, prev_best]]\n",
    "\n",
    "    for i in range(dim):\n",
    "        x = copy.copy(x_start)\n",
    "        x[i] = x[i] + step\n",
    "        score = f(x)\n",
    "        res.append([x, score])\n",
    "\n",
    "    # simplex iter\n",
    "    iters = 0\n",
    "    while 1:\n",
    "        # order\n",
    "        res.sort(key=lambda x: x[1])\n",
    "        best = res[0][1]\n",
    "\n",
    "        # break after max_iter\n",
    "        if max_iter and iters >= max_iter:\n",
    "            return res[0]\n",
    "        iters += 1\n",
    "\n",
    "        # break after no_improv_break iterations with no improvement\n",
    "        print('...best so far:', best)\n",
    "\n",
    "        if best < prev_best - no_improve_thr:\n",
    "            no_improv = 0\n",
    "            prev_best = best\n",
    "        else:\n",
    "            no_improv += 1\n",
    "\n",
    "        if no_improv >= no_improv_break:\n",
    "            return res[0]\n",
    "\n",
    "        # centroid\n",
    "        x0 = [0.] * dim\n",
    "        for tup in res[:-1]:\n",
    "            for i, c in enumerate(tup[0]):\n",
    "                x0[i] += c / (len(res)-1)\n",
    "\n",
    "        # reflection\n",
    "        xr = x0 + alpha*(x0 - res[-1][0])\n",
    "        rscore = f(xr)\n",
    "        if res[0][1] <= rscore < res[-2][1]:\n",
    "            del res[-1]\n",
    "            res.append([xr, rscore])\n",
    "            continue\n",
    "\n",
    "        # expansion\n",
    "        if rscore < res[0][1]:\n",
    "            xe = x0 + gamma*(x0 - res[-1][0])\n",
    "            escore = f(xe)\n",
    "            if escore < rscore:\n",
    "                del res[-1]\n",
    "                res.append([xe, escore])\n",
    "                continue\n",
    "            else:\n",
    "                del res[-1]\n",
    "                res.append([xr, rscore])\n",
    "                continue\n",
    "\n",
    "        # contraction\n",
    "        xc = x0 + rho*(x0 - res[-1][0])\n",
    "        cscore = f(xc)\n",
    "        if cscore < res[-1][1]:\n",
    "            del res[-1]\n",
    "            res.append([xc, cscore])\n",
    "            continue\n",
    "\n",
    "        # reduction\n",
    "        x1 = res[0][0]\n",
    "        nres = []\n",
    "        for tup in res:\n",
    "            redx = x1 + sigma*(tup[0] - x1)\n",
    "            score = f(redx)\n",
    "            nres.append([redx, score])\n",
    "        res = nres\n",
    "\n",
    "\n",
    "if __name__ == \"__main__\":\n",
    "    # test\n",
    "    import math\n",
    "    import numpy as np\n",
    "\n",
    "    def f(x):\n",
    "        return math.sin(x[0]) * math.cos(x[1]) * (1. / (abs(x[2]) + 1))\n",
    "    def g(x):\n",
    "        return x**2+2\n",
    "    def loss_op(x): \n",
    "        w_i = x[0:4]\n",
    "        u_i = x[5:9]\n",
    "        v_i = x[10:14]\n",
    "        \n",
    "        N(x) =...\n",
    "        \n",
    "        n_points = 10\n",
    "        x_train = np.linspace(0, 2, n_points)[:, None]       # Train from 0 to 2\n",
    "        x_train = torch.Tensor(x_train)\n",
    "        x_train.requires_grad = True\n",
    "        \n",
    "        outputs = Psi_t(x_train) \n",
    "        integrals_vector = torch.tensor([[Trapez(i, n_int) for i in x[:,0].tolist()]]) + 1\n",
    "\n",
    "        final_loss = torch.mean( (outputs - integrals_vector)  ** 2). # Tensor\n",
    "        final_loss = final_loss.tolist()  # Number float and not anymore a tensor\n",
    "        \n",
    "    print(nelder_mead(g, np.array([3.])))"
   ]
  },
  {
   "cell_type": "code",
   "execution_count": 57,
   "metadata": {
    "scrolled": true
   },
   "outputs": [
    {
     "ename": "TypeError",
     "evalue": "cannot assign 'torch.FloatTensor' as parameter 'weight' (torch.nn.Parameter or None expected)",
     "output_type": "error",
     "traceback": [
      "\u001b[0;31m---------------------------------------------------------------------------\u001b[0m",
      "\u001b[0;31mTypeError\u001b[0m                                 Traceback (most recent call last)",
      "\u001b[0;32m<ipython-input-57-97b8afa2b9c0>\u001b[0m in \u001b[0;36m<module>\u001b[0;34m\u001b[0m\n\u001b[1;32m      1\u001b[0m \u001b[0marr\u001b[0m \u001b[0;34m=\u001b[0m \u001b[0;34m[\u001b[0m\u001b[0;36m0.1\u001b[0m\u001b[0;34m]\u001b[0m\u001b[0;34m*\u001b[0m\u001b[0;36m15\u001b[0m\u001b[0;34m\u001b[0m\u001b[0m\n\u001b[0;32m----> 2\u001b[0;31m \u001b[0mN\u001b[0m\u001b[0;34m[\u001b[0m\u001b[0;36m0\u001b[0m\u001b[0;34m]\u001b[0m\u001b[0;34m.\u001b[0m\u001b[0mweight\u001b[0m \u001b[0;34m=\u001b[0m \u001b[0mtorch\u001b[0m\u001b[0;34m.\u001b[0m\u001b[0mtensor\u001b[0m\u001b[0;34m(\u001b[0m\u001b[0marr\u001b[0m\u001b[0;34m)\u001b[0m\u001b[0;34m[\u001b[0m\u001b[0;34m:\u001b[0m\u001b[0;34m,\u001b[0m\u001b[0;32mNone\u001b[0m\u001b[0;34m]\u001b[0m\u001b[0;34m\u001b[0m\u001b[0m\n\u001b[0m",
      "\u001b[0;32m~/anaconda3/lib/python3.7/site-packages/torch/nn/modules/module.py\u001b[0m in \u001b[0;36m__setattr__\u001b[0;34m(self, name, value)\u001b[0m\n\u001b[1;32m   1198\u001b[0m                 raise TypeError(\"cannot assign '{}' as parameter '{}' \"\n\u001b[1;32m   1199\u001b[0m                                 \u001b[0;34m\"(torch.nn.Parameter or None expected)\"\u001b[0m\u001b[0;34m\u001b[0m\u001b[0m\n\u001b[0;32m-> 1200\u001b[0;31m                                 .format(torch.typename(value), name))\n\u001b[0m\u001b[1;32m   1201\u001b[0m             \u001b[0mself\u001b[0m\u001b[0;34m.\u001b[0m\u001b[0mregister_parameter\u001b[0m\u001b[0;34m(\u001b[0m\u001b[0mname\u001b[0m\u001b[0;34m,\u001b[0m \u001b[0mvalue\u001b[0m\u001b[0;34m)\u001b[0m\u001b[0;34m\u001b[0m\u001b[0m\n\u001b[1;32m   1202\u001b[0m         \u001b[0;32melse\u001b[0m\u001b[0;34m:\u001b[0m\u001b[0;34m\u001b[0m\u001b[0m\n",
      "\u001b[0;31mTypeError\u001b[0m: cannot assign 'torch.FloatTensor' as parameter 'weight' (torch.nn.Parameter or None expected)"
     ]
    }
   ],
   "source": [
    "arr = [0.1]*15\n",
    "N[0].weight = torch.tensor(arr)[:,None]"
   ]
  },
  {
   "cell_type": "code",
   "execution_count": 55,
   "metadata": {},
   "outputs": [
    {
     "data": {
      "text/plain": [
       "tensor([[0.1000],\n",
       "        [0.1000],\n",
       "        [0.1000],\n",
       "        [0.1000],\n",
       "        [0.1000],\n",
       "        [0.1000],\n",
       "        [0.1000],\n",
       "        [0.1000],\n",
       "        [0.1000],\n",
       "        [0.1000],\n",
       "        [0.1000],\n",
       "        [0.1000],\n",
       "        [0.1000],\n",
       "        [0.1000],\n",
       "        [0.1000]])"
      ]
     },
     "execution_count": 55,
     "metadata": {},
     "output_type": "execute_result"
    }
   ],
   "source": [
    "torch.tensor(arr)[:,None]"
   ]
  },
  {
   "cell_type": "code",
   "execution_count": 41,
   "metadata": {},
   "outputs": [
    {
     "data": {
      "text/plain": [
       "Parameter containing:\n",
       "tensor([[-0.0932],\n",
       "        [-0.2396],\n",
       "        [-0.2376],\n",
       "        [-1.1285],\n",
       "        [ 0.0522],\n",
       "        [ 1.1136],\n",
       "        [ 0.0145],\n",
       "        [ 0.4356],\n",
       "        [ 0.0348],\n",
       "        [ 0.4382],\n",
       "        [ 0.1205],\n",
       "        [-0.7842],\n",
       "        [ 0.4054],\n",
       "        [-0.6163],\n",
       "        [-0.3511],\n",
       "        [ 0.7022],\n",
       "        [ 0.2188],\n",
       "        [-0.5930],\n",
       "        [ 0.1741],\n",
       "        [-0.1410],\n",
       "        [ 0.7332],\n",
       "        [-1.1982],\n",
       "        [ 0.1584],\n",
       "        [ 0.7438],\n",
       "        [ 0.7996]], requires_grad=True)"
      ]
     },
     "execution_count": 41,
     "metadata": {},
     "output_type": "execute_result"
    }
   ],
   "source": [
    "N[0].weight"
   ]
  },
  {
   "cell_type": "code",
   "execution_count": null,
   "metadata": {},
   "outputs": [],
   "source": []
  }
 ],
 "metadata": {
  "kernelspec": {
   "display_name": "Python 3",
   "language": "python",
   "name": "python3"
  },
  "language_info": {
   "codemirror_mode": {
    "name": "ipython",
    "version": 3
   },
   "file_extension": ".py",
   "mimetype": "text/x-python",
   "name": "python",
   "nbconvert_exporter": "python",
   "pygments_lexer": "ipython3",
   "version": "3.7.0"
  }
 },
 "nbformat": 4,
 "nbformat_minor": 4
}
