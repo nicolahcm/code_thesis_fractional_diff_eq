{
 "cells": [
  {
   "cell_type": "markdown",
   "metadata": {
    "id": "ghOOzkl2XuNL"
   },
   "source": [
    "https://www.analyticsvidhya.com/blog/2021/09/ordinary-differential-equations-made-easy-with-deep-learning/"
   ]
  },
  {
   "cell_type": "code",
   "execution_count": 2,
   "metadata": {
    "executionInfo": {
     "elapsed": 6315,
     "status": "ok",
     "timestamp": 1638300736897,
     "user": {
      "displayName": "Dmitry Rokhlin",
      "photoUrl": "https://lh3.googleusercontent.com/a/default-user=s64",
      "userId": "04125091294042394805"
     },
     "user_tz": -180
    },
    "id": "xz_GYq__VN5A"
   },
   "outputs": [],
   "source": [
    "import torch\n",
    "import torch.nn as nn\n",
    "import matplotlib.pyplot as plt\n",
    "import numpy as np\n",
    "\n",
    "## check if GPU is available and use it; otherwise use CPU\n",
    "device = torch.device(\"cuda:0\" if torch.cuda.is_available() else \"cpu\")\n"
   ]
  },
  {
   "cell_type": "markdown",
   "metadata": {
    "id": "_MSBok_ZXo5Q"
   },
   "source": [
    "Lagaris, 1"
   ]
  },
  {
   "cell_type": "code",
   "execution_count": 3,
   "metadata": {
    "executionInfo": {
     "elapsed": 626,
     "status": "ok",
     "timestamp": 1638300752485,
     "user": {
      "displayName": "Dmitry Rokhlin",
      "photoUrl": "https://lh3.googleusercontent.com/a/default-user=s64",
      "userId": "04125091294042394805"
     },
     "user_tz": -180
    },
    "id": "t64dpQtaVXWa"
   },
   "outputs": [],
   "source": [
    "N = nn.Sequential(nn.Linear(1, 50), nn.Sigmoid(), nn.Linear(50,1, bias=False))\n",
    "\n",
    "A = 0.\n",
    "Psi_t = lambda x: A + x * N(x)  # A is the initial condition. Automatically satisfies init. condit\n",
    "f = lambda x, Psi: torch.exp(-x / 5.0) * torch.cos(x) - Psi / 5.0"
   ]
  },
  {
   "cell_type": "markdown",
   "metadata": {},
   "source": [
    "$$ \\frac{d\\psi}{dx} = e^{\\frac{-x}{5}}\\cos(x) - \\frac{\\psi}{5} $$ \n",
    "$$ \\psi(0) = A = 0$$"
   ]
  },
  {
   "cell_type": "markdown",
   "metadata": {},
   "source": [
    "# How To Defins a loss function in Pytorch\n",
    "\n"
   ]
  },
  {
   "cell_type": "code",
   "execution_count": 48,
   "metadata": {},
   "outputs": [],
   "source": [
    "# Very general example of loss function\n",
    "def my_loss(output, target):\n",
    "    loss = torch.mean((output - target)**2)\n",
    "    return loss"
   ]
  },
  {
   "cell_type": "code",
   "execution_count": 74,
   "metadata": {},
   "outputs": [
    {
     "name": "stdout",
     "output_type": "stream",
     "text": [
      "input_1 = tensor([[ 1.1518,  1.3198,  0.2735],\n",
      "        [ 0.5102, -0.8349, -0.0890]], requires_grad=True)\n",
      "target = tensor([[ 1.0114,  0.1692, -1.1725],\n",
      "        [ 0.9730, -0.3134, -0.7242]])\n",
      "output_without_backward= tensor(0.7261, grad_fn=<L1LossBackward>)\n",
      "output_with_backward= tensor(0.7261, grad_fn=<L1LossBackward>)\n"
     ]
    }
   ],
   "source": [
    "# Example of code:\n",
    "\n",
    "mae_loss = torch.nn.L1Loss() # Normal arithmetics loss. If you want to use mean square error: .MSELoss\n",
    "\n",
    "input_1 = torch.randn(2, 3, requires_grad=True)\n",
    "print(\"input_1 =\", input_1)\n",
    "\n",
    "target = torch.randn(2, 3)\n",
    "print(\"target =\", target)\n",
    "\n",
    "output = mae_loss(input_1, target)\n",
    "print(\"output_without_backward=\", output)\n",
    "\n",
    "output.backward()\n",
    "print(\"output_with_backward=\", output)\n",
    "\n"
   ]
  },
  {
   "cell_type": "code",
   "execution_count": 83,
   "metadata": {},
   "outputs": [
    {
     "name": "stdout",
     "output_type": "stream",
     "text": [
      "tensor([[ 0.1667,  0.1667,  0.1667],\n",
      "        [-0.1667, -0.1667,  0.1667]])\n"
     ]
    }
   ],
   "source": [
    "print(input_1.grad) # Yes, is the derivative of the mean square error, wrt each of the input!"
   ]
  },
  {
   "cell_type": "markdown",
   "metadata": {},
   "source": [
    "# About autograd and requires_grad = True\n",
    "Seems that requires_grad = True, and autograd, are needed for recording the history.\n",
    "\n",
    "https://jovian.ai/forum/t/what-is-the-use-of-requires-grad-in-tensors/17718\n",
    "\n",
    "https://pytorch.org/docs/stable/notes/autograd.html#:~:text=Setting%20requires_grad&text=Parameter%60%60%2C%20that%20allows%20for,its%20input%20tensors%20require%20grad. Hard to understand\n",
    "\n",
    "https://pytorch.org/docs/stable/generated/torch.Tensor.requires_grad.html"
   ]
  },
  {
   "cell_type": "markdown",
   "metadata": {},
   "source": [
    "# From \n",
    "https://jovian.ai/forum/t/what-is-the-use-of-requires-grad-in-tensors/17718/2"
   ]
  },
  {
   "cell_type": "markdown",
   "metadata": {},
   "source": [
    "if you set requires_grad to True to any tensor, then PyTorch will automatically track and calculate gradients for that tensor.\n",
    "Now, why is this needed? Any Machine learning model will learn to predict better using an algorithm knows as Backpropagation 13, during backpropagation you need gradients to updates with new weights. This is done with the .backward() method, so during this operation tensors with requires_grad set to True will be used along with the tensor used to call backward() with to calculate the gradients.\n",
    "\n",
    "Example:\n"
   ]
  },
  {
   "cell_type": "code",
   "execution_count": 85,
   "metadata": {},
   "outputs": [
    {
     "name": "stdout",
     "output_type": "stream",
     "text": [
      "tensor(3.)\n"
     ]
    }
   ],
   "source": [
    "x = torch.tensor(1.0, requires_grad = True)\n",
    "z = x ** 3 # z=x^3\n",
    "z.backward() #Computes the gradient \n",
    "print(x.grad.data) # this is dz/dx"
   ]
  },
  {
   "cell_type": "markdown",
   "metadata": {},
   "source": [
    "When requires_grad is set to True for a variable, pytorch tracks every operation on it and when you finally use the backward() method for a tensor which came from operation of some variables you can see the derivative of that final variable w.r.t the variables you set requires grad to True."
   ]
  },
  {
   "cell_type": "code",
   "execution_count": 95,
   "metadata": {},
   "outputs": [
    {
     "name": "stdout",
     "output_type": "stream",
     "text": [
      "tensor(5.)\n",
      "tensor(1.)\n",
      "None\n"
     ]
    }
   ],
   "source": [
    "x = torch.tensor(5)\n",
    "w  = torch.tensor(3.0, requires_grad=True)\n",
    "b = torch.tensor(2.0, requires_grad=True)\n",
    "\n",
    "y = w*x + b  # y is 3*5 + 2 = 17\n",
    "y.backward()\n",
    "\n",
    "print(w.grad) # This returns the derivative of y w.r.t w which is equal to x=5\n",
    "print(b.grad) # This returns the derivative of y w.r.t b which is  1\n",
    "print(x.grad) # This will return None as we haven't set requires_grad to True for the tensor"
   ]
  },
  {
   "cell_type": "markdown",
   "metadata": {},
   "source": [
    "# Weights of the neural network"
   ]
  },
  {
   "cell_type": "code",
   "execution_count": 43,
   "metadata": {},
   "outputs": [
    {
     "data": {
      "text/plain": [
       "tensor([[0.5216],\n",
       "        [0.5041],\n",
       "        [0.5837],\n",
       "        [0.4518],\n",
       "        [0.4812]], grad_fn=<SliceBackward>)"
      ]
     },
     "execution_count": 43,
     "metadata": {},
     "output_type": "execute_result"
    }
   ],
   "source": [
    "N[0].weight[0:5] # Weights of the neural network"
   ]
  },
  {
   "cell_type": "markdown",
   "metadata": {},
   "source": [
    "# To understand: \n",
    "\n",
    "1) input.requires_grad = True\n",
    "\n",
    "2) outputs.backward()\n",
    "\n",
    "3) optimizer = torch.optim.LBFGS(N.parameters())\n",
    "\n",
    "----------- these are the main. Now the less important things: ---------\n",
    "    \n",
    "1) torch.autograd.grad\n",
    "    a) grad_outputs=torch.ones_like(outputs)\n",
    "    b) create_graph=True\n",
    "\n",
    "2) optimizer = torch.optim.LBFGS(N.parameters())\n",
    "    a) optimizer.zero_grad()"
   ]
  },
  {
   "cell_type": "code",
   "execution_count": 13,
   "metadata": {},
   "outputs": [],
   "source": [
    "def loss_example(output_from_neural_networks, target_values):\n",
    "    # ....\n",
    "    return\n",
    "    \n",
    "    # 1) Inputs:\n",
    "        # But eventually we can only set one input in the loss function:\n",
    "        # output_from_neural_networks, without target_values\n",
    "    # 2) "
   ]
  },
  {
   "cell_type": "code",
   "execution_count": null,
   "metadata": {},
   "outputs": [],
   "source": [
    "def loss_example2()"
   ]
  },
  {
   "cell_type": "markdown",
   "metadata": {},
   "source": [
    "# Our Loss function"
   ]
  },
  {
   "cell_type": "code",
   "execution_count": 4,
   "metadata": {
    "executionInfo": {
     "elapsed": 394,
     "status": "ok",
     "timestamp": 1638301143358,
     "user": {
      "displayName": "Dmitry Rokhlin",
      "photoUrl": "https://lh3.googleusercontent.com/a/default-user=s64",
      "userId": "04125091294042394805"
     },
     "user_tz": -180
    },
    "id": "0eZzL2dDWsUv"
   },
   "outputs": [],
   "source": [
    "def loss(x):\n",
    "    ''' will be np.linspace(0, 2, 100)[:, None],  which is, a strange array of numbers equidistant\n",
    "    from 0 to 2.'''\n",
    "\n",
    "    x.requires_grad = True\n",
    "    outputs = Psi_t(x) # Here all the system/graph of neural network is applied\n",
    "    \n",
    "    \n",
    "    # Psi_t_x ----- is the guess function Psi derivated wrt x\n",
    "    Psi_t_x = torch.autograd.grad(outputs, x, grad_outputs=torch.ones_like(outputs),\n",
    "                        create_graph=True)[0]\n",
    "\n",
    "    return  torch.mean( ( Psi_t_x - f(x, outputs) )  ** 2)"
   ]
  },
  {
   "cell_type": "code",
   "execution_count": 8,
   "metadata": {
    "executionInfo": {
     "elapsed": 486,
     "status": "ok",
     "timestamp": 1638301172226,
     "user": {
      "displayName": "Dmitry Rokhlin",
      "photoUrl": "https://lh3.googleusercontent.com/a/default-user=s64",
      "userId": "04125091294042394805"
     },
     "user_tz": -180
    },
    "id": "Riew-gYkW_Kw"
   },
   "outputs": [],
   "source": [
    "optimizer = torch.optim.LBFGS(N.parameters())"
   ]
  },
  {
   "cell_type": "code",
   "execution_count": 9,
   "metadata": {
    "executionInfo": {
     "elapsed": 399,
     "status": "ok",
     "timestamp": 1638301190983,
     "user": {
      "displayName": "Dmitry Rokhlin",
      "photoUrl": "https://lh3.googleusercontent.com/a/default-user=s64",
      "userId": "04125091294042394805"
     },
     "user_tz": -180
    },
    "id": "2jknTJAdXDsH"
   },
   "outputs": [],
   "source": [
    "x = torch.Tensor(np.linspace(0, 2, 100)[:, None]) # x = input of the neural network"
   ]
  },
  {
   "cell_type": "code",
   "execution_count": 30,
   "metadata": {
    "executionInfo": {
     "elapsed": 406,
     "status": "ok",
     "timestamp": 1638301245613,
     "user": {
      "displayName": "Dmitry Rokhlin",
      "photoUrl": "https://lh3.googleusercontent.com/a/default-user=s64",
      "userId": "04125091294042394805"
     },
     "user_tz": -180
    },
    "id": "-n4Y1uBUXQ97"
   },
   "outputs": [
    {
     "ename": "NameError",
     "evalue": "name 'optimizer' is not defined",
     "output_type": "error",
     "traceback": [
      "\u001b[0;31m---------------------------------------------------------------------------\u001b[0m",
      "\u001b[0;31mNameError\u001b[0m                                 Traceback (most recent call last)",
      "\u001b[0;32m<ipython-input-30-f5d00ae08018>\u001b[0m in \u001b[0;36m<module>\u001b[0;34m\u001b[0m\n\u001b[1;32m     10\u001b[0m \u001b[0;31m# Here train the neural network\u001b[0m\u001b[0;34m\u001b[0m\u001b[0;34m\u001b[0m\u001b[0m\n\u001b[1;32m     11\u001b[0m \u001b[0;32mfor\u001b[0m \u001b[0mi\u001b[0m \u001b[0;32min\u001b[0m \u001b[0mrange\u001b[0m\u001b[0;34m(\u001b[0m\u001b[0;36m10\u001b[0m\u001b[0;34m)\u001b[0m\u001b[0;34m:\u001b[0m\u001b[0;34m\u001b[0m\u001b[0m\n\u001b[0;32m---> 12\u001b[0;31m     \u001b[0moptimizer\u001b[0m\u001b[0;34m.\u001b[0m\u001b[0mstep\u001b[0m\u001b[0;34m(\u001b[0m\u001b[0mclosure\u001b[0m\u001b[0;34m)\u001b[0m\u001b[0;34m\u001b[0m\u001b[0m\n\u001b[0m",
      "\u001b[0;31mNameError\u001b[0m: name 'optimizer' is not defined"
     ]
    }
   ],
   "source": [
    "def closure():\n",
    "\n",
    "    optimizer.zero_grad()\n",
    "    l = loss(x)\n",
    "    l.backward()\n",
    "    \n",
    "    return l\n",
    "\n",
    "\n",
    "# Here train the neural network\n",
    "for i in range(10):\n",
    "    optimizer.step(closure)"
   ]
  },
  {
   "cell_type": "code",
   "execution_count": 11,
   "metadata": {
    "colab": {
     "base_uri": "https://localhost:8080/",
     "height": 382
    },
    "executionInfo": {
     "elapsed": 1037,
     "status": "ok",
     "timestamp": 1638301287536,
     "user": {
      "displayName": "Dmitry Rokhlin",
      "photoUrl": "https://lh3.googleusercontent.com/a/default-user=s64",
      "userId": "04125091294042394805"
     },
     "user_tz": -180
    },
    "id": "cX4_GKWeXbGQ",
    "outputId": "2558eca2-1e94-469b-8fa1-032ee857072b"
   },
   "outputs": [
    {
     "data": {
      "image/png": "[encoded data removed]",
      "text/plain": [
       "<Figure size 600x400 with 1 Axes>"
      ]
     },
     "metadata": {
      "needs_background": "light"
     },
     "output_type": "display_data"
    }
   ],
   "source": [
    "xx = np.linspace(0, 2, 100)[:, None]\n",
    "\n",
    "with torch.no_grad():\n",
    "    yy = Psi_t(torch.Tensor(xx)).numpy()\n",
    "yt = np.exp(-xx / 5.0) * np.sin(xx)\n",
    "\n",
    "fig, ax = plt.subplots(dpi=100)\n",
    "ax.plot(xx, yt, label='True')\n",
    "ax.plot(xx, yy, '--', label='Neural network approximation')\n",
    "ax.set_xlabel('$x$')\n",
    "ax.set_ylabel('$Psi(x)$')\n",
    "plt.legend(loc='best');"
   ]
  },
  {
   "cell_type": "markdown",
   "metadata": {
    "id": "hncyphHUXzdP"
   },
   "source": [
    "Lagaris, 2"
   ]
  },
  {
   "cell_type": "code",
   "execution_count": 19,
   "metadata": {
    "executionInfo": {
     "elapsed": 408,
     "status": "ok",
     "timestamp": 1638301421071,
     "user": {
      "displayName": "Dmitry Rokhlin",
      "photoUrl": "https://lh3.googleusercontent.com/a/default-user=s64",
      "userId": "04125091294042394805"
     },
     "user_tz": -180
    },
    "id": "vG5-YXs-X7of"
   },
   "outputs": [],
   "source": [
    "N = nn.Sequential(nn.Linear(1, 50), nn.Sigmoid(), nn.Linear(50,1, bias=False))"
   ]
  },
  {
   "cell_type": "code",
   "execution_count": 20,
   "metadata": {
    "executionInfo": {
     "elapsed": 401,
     "status": "ok",
     "timestamp": 1638301439034,
     "user": {
      "displayName": "Dmitry Rokhlin",
      "photoUrl": "https://lh3.googleusercontent.com/a/default-user=s64",
      "userId": "04125091294042394805"
     },
     "user_tz": -180
    },
    "id": "Vei6EbuKYAPL"
   },
   "outputs": [],
   "source": [
    "A = 0.\n",
    "B = 0."
   ]
  },
  {
   "cell_type": "code",
   "execution_count": 21,
   "metadata": {
    "executionInfo": {
     "elapsed": 395,
     "status": "ok",
     "timestamp": 1638301454130,
     "user": {
      "displayName": "Dmitry Rokhlin",
      "photoUrl": "https://lh3.googleusercontent.com/a/default-user=s64",
      "userId": "04125091294042394805"
     },
     "user_tz": -180
    },
    "id": "6XwVvYfZYD_7"
   },
   "outputs": [],
   "source": [
    "Psi_t = lambda x: A*(1-x) + B * x + (1-x)* x * N(x)"
   ]
  },
  {
   "cell_type": "code",
   "execution_count": 22,
   "metadata": {
    "executionInfo": {
     "elapsed": 383,
     "status": "ok",
     "timestamp": 1638301473437,
     "user": {
      "displayName": "Dmitry Rokhlin",
      "photoUrl": "https://lh3.googleusercontent.com/a/default-user=s64",
      "userId": "04125091294042394805"
     },
     "user_tz": -180
    },
    "id": "4qj8PRmLYIVP"
   },
   "outputs": [],
   "source": [
    "f = lambda x, Psi: -1"
   ]
  },
  {
   "cell_type": "code",
   "execution_count": 23,
   "metadata": {
    "executionInfo": {
     "elapsed": 429,
     "status": "ok",
     "timestamp": 1638301522416,
     "user": {
      "displayName": "Dmitry Rokhlin",
      "photoUrl": "https://lh3.googleusercontent.com/a/default-user=s64",
      "userId": "04125091294042394805"
     },
     "user_tz": -180
    },
    "id": "ukZcD34pYUJv"
   },
   "outputs": [],
   "source": [
    "def loss(x):\n",
    "\n",
    "    x.requires_grad = True\n",
    "    outputs = Psi_t(x)\n",
    "\n",
    "    #we need Psi_x_x \n",
    "    #calculating gradient twice \n",
    "\n",
    "    Psi_t_x = torch.autograd.grad(outputs, x, grad_outputs=torch.ones_like(outputs),\n",
    "                                            create_graph=True)[0]\n",
    "    Psi_t_x_x = torch.autograd.grad(Psi_t_x, x, grad_outputs=torch.ones_like(Psi_t_x),\n",
    "                                            create_graph=True )[0]\n",
    "\n",
    "    return torch.mean((Psi_t_x_x - f(x, outputs)) ** 2)"
   ]
  },
  {
   "cell_type": "code",
   "execution_count": 24,
   "metadata": {
    "executionInfo": {
     "elapsed": 401,
     "status": "ok",
     "timestamp": 1638301535599,
     "user": {
      "displayName": "Dmitry Rokhlin",
      "photoUrl": "https://lh3.googleusercontent.com/a/default-user=s64",
      "userId": "04125091294042394805"
     },
     "user_tz": -180
    },
    "id": "PzGQ7EyeYX30"
   },
   "outputs": [],
   "source": [
    "optimizer = torch.optim.LBFGS(N.parameters())\n",
    "x = torch.Tensor(np.linspace(0, 1, 100)[:, None])"
   ]
  },
  {
   "cell_type": "code",
   "execution_count": 25,
   "metadata": {
    "executionInfo": {
     "elapsed": 393,
     "status": "ok",
     "timestamp": 1638301552942,
     "user": {
      "displayName": "Dmitry Rokhlin",
      "photoUrl": "https://lh3.googleusercontent.com/a/default-user=s64",
      "userId": "04125091294042394805"
     },
     "user_tz": -180
    },
    "id": "2Ga1XOcQYcJH"
   },
   "outputs": [],
   "source": [
    "def closure():\n",
    "    optimizer.zero_grad()\n",
    "    l = loss(x)\n",
    "    l.backward()\n",
    "    return l\n",
    "\n",
    "for i in range(10):\n",
    "    optimizer.step(closure)"
   ]
  },
  {
   "cell_type": "code",
   "execution_count": 26,
   "metadata": {
    "colab": {
     "base_uri": "https://localhost:8080/",
     "height": 382
    },
    "executionInfo": {
     "elapsed": 692,
     "status": "ok",
     "timestamp": 1638301567684,
     "user": {
      "displayName": "Dmitry Rokhlin",
      "photoUrl": "https://lh3.googleusercontent.com/a/default-user=s64",
      "userId": "04125091294042394805"
     },
     "user_tz": -180
    },
    "id": "E6Ev1kRIYfN5",
    "outputId": "a6aeac3e-7a16-4111-d334-1dc4671eb8d2"
   },
   "outputs": [
    {
     "data": {
      "image/png": "[encoded data removed]",
      "text/plain": [
       "<Figure size 600x400 with 1 Axes>"
      ]
     },
     "metadata": {
      "needs_background": "light"
     },
     "output_type": "display_data"
    }
   ],
   "source": [
    "xx = np.linspace(0, 1, 100)[:, None]\n",
    "\n",
    "with torch.no_grad():\n",
    "    yy = Psi_t(torch.Tensor(xx)).numpy()\n",
    "\n",
    "yt = (0.5) * (-xx**2 + xx ) #actual function pts\n",
    "\n",
    "fig, ax = plt.subplots(dpi=100)\n",
    "ax.plot(xx, yt, label='True')\n",
    "ax.plot(xx, yy, '--', label='Neural network approximation')\n",
    "ax.set_xlabel('$x$')\n",
    "ax.set_ylabel('$Psi(x)$')\n",
    "plt.legend(loc='best');"
   ]
  }
 ],
 "metadata": {
  "colab": {
   "authorship_tag": "ABX9TyOhXh5rtScV0JQ7dek+MCV0",
   "name": "Копия блокнота \"Untitled29.ipynb\"",
   "provenance": [
    {
     "file_id": "1U77MbLZz9lKwWXQwtFP93S50ezqGbE_H",
     "timestamp": 1638301709942
    }
   ]
  },
  "kernelspec": {
   "display_name": "Python 3 (ipykernel)",
   "language": "python",
   "name": "python3"
  },
  "language_info": {
   "codemirror_mode": {
    "name": "ipython",
    "version": 3
   },
   "file_extension": ".py",
   "mimetype": "text/x-python",
   "name": "python",
   "nbconvert_exporter": "python",
   "pygments_lexer": "ipython3",
   "version": "3.8.10"
  }
 },
 "nbformat": 4,
 "nbformat_minor": 1
}
