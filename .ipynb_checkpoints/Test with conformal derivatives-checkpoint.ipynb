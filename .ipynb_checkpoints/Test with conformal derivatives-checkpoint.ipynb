{
 "cells": [
  {
   "cell_type": "code",
   "execution_count": 1,
   "metadata": {},
   "outputs": [],
   "source": [
    "import pandas as pd\n",
    "import numpy as np"
   ]
  },
  {
   "cell_type": "markdown",
   "metadata": {},
   "source": [
    "# He uses 3 layers, with the hidden layers that uses 5 nodes"
   ]
  },
  {
   "cell_type": "code",
   "execution_count": 2,
   "metadata": {},
   "outputs": [],
   "source": [
    "def initialize_weights(v0,v1,v2,v3,v4,w0,w1,w2,w3,w4,u0,u1,u2,u3,u4):\n",
    "    return\n",
    "\n",
    "def sigm_fun(x):\n",
    "    return 1/(1+np.exp(-x))\n",
    "\n",
    "def phi_prime(z): #1st derivative\n",
    "    result = np.exp(-z)/((1+np.exp(-z))**2)\n",
    "    return result\n",
    "\n",
    "def phi_second(z): #2nd derivative\n",
    "    first_addend = -np.exp(-z)/((1+np.exp(-z))**2)\n",
    "    second_addend = 2*np.exp(-2*z)/((1+np.exp(-z))**3)\n",
    "    return first_addend + second_addend\n",
    "\n",
    "# Usa *args, come input e spacchetta\n",
    "\n",
    "def compute_neural_network(x,v0,v1,v2,v3,v4,w0,w1,w2,w3,w4,u0,u1,u2,u3,u4):\n",
    "    ''' NN '''\n",
    "    result = v0*sigm_fun(w0*x+u0)\n",
    "    result += v1*sigm_fun(w1*x+u1)\n",
    "    result += v2*sigm_fun(w2*x+u2)\n",
    "    result += v3*sigm_fun(w3*x+u3)\n",
    "    result += v4*sigm_fun(w4*x+u4)\n",
    "    return result"
   ]
  },
  {
   "cell_type": "code",
   "execution_count": 3,
   "metadata": {},
   "outputs": [
    {
     "data": {
      "text/plain": [
       "1.7546861182623799"
      ]
     },
     "execution_count": 3,
     "metadata": {},
     "output_type": "execute_result"
    }
   ],
   "source": [
    "v0,v1,v2,v3,v4,w0,w1,w2,w3,w4,u0,u1,u2,u3,u4 = 0, 0.1, 0.4, 0.5, 1, 2, 0.3, 0.5, 0.6, 0.7, 2, 1, 3, 0.3, 0.5\n",
    "\n",
    "# sampl = np.random.uniform(low=-10, high=10, size=(15,))\n",
    "compute_neural_network(2,v0,v1,v2,v3,v4,w0,w1,w2,w3,w4,u0,u1,u2,u3,u4)"
   ]
  },
  {
   "cell_type": "markdown",
   "metadata": {},
   "source": [
    "Some tricks for writing better code... Later\n",
    "\n",
    "Usa *args, come input e spacchetta\n",
    "\n",
    "def comp_neur_net(x,*weights):\n",
    "    for i in weights:\n",
    "        print(i)\n",
    "\n",
    "comp_neur_net(2,*(v0,v1,v2,v3,v4,w0,w1,w2,w3,w4,u0,u1,u2,u3,u4))\n",
    "\n",
    "----\n",
    "\n",
    "my_vars = {}\n",
    "for i in range(10):\n",
    "    var_name = \"var%d\" % i\n",
    "    my_vars[var_name] = i\n",
    "\n",
    "print(my_vars[\"var2\"])\n",
    "\n",
    "This is equivalent to creating var0 = 0, var1 = 1, and so on."
   ]
  },
  {
   "cell_type": "markdown",
   "metadata": {},
   "source": [
    "# First example in the paper of Mall, Charkaverty"
   ]
  },
  {
   "cell_type": "code",
   "execution_count": 4,
   "metadata": {},
   "outputs": [
    {
     "data": {
      "text/plain": [
       "3.5093722365247597"
      ]
     },
     "execution_count": 4,
     "metadata": {},
     "output_type": "execute_result"
    }
   ],
   "source": [
    "def y_n(x,*weights):\n",
    "    return x*compute_neural_network(x,*weights)\n",
    "y_n(2,*(v0,v1,v2,v3,v4,w0,w1,w2,w3,w4,u0,u1,u2,u3,u4))"
   ]
  },
  {
   "cell_type": "markdown",
   "metadata": {},
   "source": [
    "## 1 Computing E (we need alpha-derivative)\n",
    "\n",
    "we take $10$ equidistant points\n",
    "\n",
    "$$E[weights] = \\sum_{i=1}^{10} [D^\\alpha y_N(x_i,weights) - f(x_i, y_N(x_i,weights))]^2 =$$ \n",
    "\n",
    "$$=\\sum_{i=1}^{10} addend-in-E-w $$\n",
    "how it is named in the code below\n",
    "\n",
    "where \n",
    "\n",
    "$$ D^\\alpha y(x) = x$$\n",
    "\n",
    "so $f(x,weights) = x$\n",
    "\n",
    "then \n",
    "\n",
    "$$ y_N(x,weights) = xN(x,weights)$$\n",
    "\n",
    "Moreover, \n",
    "\n",
    "$$ D_x^\\alpha (N) := D_x^\\alpha N(x,weights) = \\sum_{j=1}^5 v_j \\phi'(w_jx+u_j)w_jx^{1-\\alpha} $$\n",
    "\n",
    "So that we get, if $x_0=0$ (centered in $0$ the initial condition)\n",
    "\n",
    "$$D_x^\\alpha y_N(x,weights) = D_x^\\alpha (xN) = x^{1-\\alpha}N + xD_x^\\alpha (N) $$"
   ]
  },
  {
   "cell_type": "code",
   "execution_count": 5,
   "metadata": {},
   "outputs": [],
   "source": [
    "# 10 equidistant points between 0 and 1 included\n",
    "# np.linspace(0,1,10)"
   ]
  },
  {
   "cell_type": "code",
   "execution_count": 6,
   "metadata": {},
   "outputs": [],
   "source": [
    "def der_alpha_y_N(x,alp,v0,v1,v2,v3,v4,w0,w1,w2,w3,w4,u0,u1,u2,u3,u4): # Depends on the fDe\n",
    "\n",
    "    first_addend = x**(1-alp)*compute_neural_network(x,v0,v1,v2,v3,v4,w0,w1,w2,w3,w4,u0,u1,u2,u3,u4)\n",
    "\n",
    "    def der_alpha_N(alp,x,v0,v1,v2,v3,v4,w0,w1,w2,w3,w4,u0,u1,u2,u3,u4):\n",
    "\n",
    "        tot_sum = v0*phi_prime(w0*x+u0)*w0*x**(1-alp)\n",
    "        tot_sum += v1*phi_prime(w1*x+u1)*w1*x**(1-alp)\n",
    "        tot_sum += v2*phi_prime(w2*x+u2)*w2*x**(1-alp)\n",
    "        tot_sum += v3*phi_prime(w3*x+u3)*w3*x**(1-alp)\n",
    "        tot_sum += v4*phi_prime(w4*x+u4)*w4*x**(1-alp)\n",
    "\n",
    "        return tot_sum\n",
    "\n",
    "    second_addend = x*der_alpha_N(alp,x,v0,v1,v2,v3,v4,w0,w1,w2,w3,w4,u0,u1,u2,u3,u4)\n",
    "\n",
    "    return first_addend + second_addend"
   ]
  },
  {
   "cell_type": "code",
   "execution_count": 7,
   "metadata": {},
   "outputs": [],
   "source": [
    "points_to_evaluate = np.linspace(0,1,10)\n",
    "\n",
    "def E(alp,v0,v1,v2,v3,v4,w0,w1,w2,w3,w4,u0,u1,u2,u3,u4,points_to_evaluate=points_to_evaluate): #E[weights]\n",
    "    ''' \n",
    "    returns the value of E, knowing \n",
    "    alpha, weights of the NN, and the points_to_evaluate.\n",
    "    '''\n",
    "    \n",
    "    def addend_in_E_w(x,alp,v0,v1,v2,v3,v4,w0,w1,w2,w3,w4,u0,u1,u2,u3,u4):\n",
    "        \n",
    "        def f_x_i_y_N(x): # In this special case is x\n",
    "            return x\n",
    "        \n",
    "        return (der_alpha_y_N(x,alp,v0,v1,v2,v3,v4,w0,w1,w2,w3,w4,u0,u1,u2,u3,u4) - f_x_i_y_N(x))**2\n",
    "    \n",
    "    tot_sum = 0\n",
    "    for x in points_to_evaluate:\n",
    "        tot_sum += addend_in_E_w(x,alp,v0,v1,v2,v3,v4,w0,w1,w2,w3,w4,u0,u1,u2,u3,u4)\n",
    "    \n",
    "    return tot_sum\n",
    "\n",
    "# Check again that the function is correct"
   ]
  },
  {
   "cell_type": "code",
   "execution_count": 8,
   "metadata": {},
   "outputs": [
    {
     "data": {
      "text/plain": [
       "3.6615903656728594"
      ]
     },
     "execution_count": 8,
     "metadata": {},
     "output_type": "execute_result"
    }
   ],
   "source": [
    "# alpha = 0.5\n",
    "E(0.5,v0,v1,v2,v3,v4,w0,w1,w2,w3,w4,u0,u1,u2,u3,u4)"
   ]
  },
  {
   "cell_type": "markdown",
   "metadata": {},
   "source": [
    "## 2 Compute partial derivatives of E wrt to the weights "
   ]
  },
  {
   "cell_type": "markdown",
   "metadata": {},
   "source": [
    "We know that \n",
    "$$ D_x^\\alpha (N) := D_x^\\alpha N(x,weights) = \\sum_{j=1}^5 v_j \\phi'(w_jx+u_j)w_jx^{1-\\alpha} $$.\n",
    "\n",
    "Thus"
   ]
  },
  {
   "cell_type": "markdown",
   "metadata": {},
   "source": [
    "## Let's start by computing derivative of E wrt to w_k\n",
    "\n",
    "$$\\frac{\\partial E[weights]}{\\partial w_k} = \\sum_{j=1}^{10} 2[D^\\alpha y_N(x_i,weights) - f(x_i, y_N(x_i,weights))] [\\frac{\\partial D^\\alpha y_N}{\\partial w_k}-\\frac{\\partial f}{\\partial w_k}]$$\n",
    "\n",
    "In the first example in the paper of Mall, $f(x,y_N(x,weights)) = x$. Thus $\\frac{\\partial f}{\\partial w_k}=0$ .\n",
    "\n",
    "Moreover, we use equation 16 from the paper of Mall. We remember that in this particular case we have\n",
    "\n",
    "$$ y_N(x,weights) = xN(x,weights)$$\n",
    "\n",
    "that is \n",
    "\n",
    "$$D_x^\\alpha y_N(x,weights) = D_x^\\alpha (xN) = x^{1-\\alpha}N + xD_x^\\alpha (N) $$\n",
    "\n",
    "so that from eq.16, we get\n",
    "\n",
    "\\begin{equation}\n",
    "\\frac{\\partial D^\\alpha y_N}{\\partial w_k} =x^{1-\\alpha}\\frac{\\partial N}{\\partial w_k} + x\\frac{\\partial D_x^\\alpha (N)}{\\partial w_k} = x^{1-\\alpha}\\frac{\\partial N}{\\partial w_k} + x(v_kx^{1-\\alpha}(\\phi'(w_kx+u_k) + \\phi''(w_kx+u_k) w_kx))\n",
    "\\end{equation}\n",
    "\n",
    "It is left to compute $\\frac{\\partial N}{\\partial w_k}$. We remind that $N=\\sum_{j=1}^5 v_j\\phi(w_jx+u_j)$. So that we get $\\frac{\\partial N}{\\partial w_k}= v_k\\phi'(w_kx+u_k)x$. So that we get \n",
    "\n",
    "$$\\frac{\\partial D^\\alpha y_N}{\\partial w_k} = x^{2-\\alpha}v_k\\phi'(w_kx+u_k) + (v_kx^{2-\\alpha}(\\phi'(w_kx+u_k) + \\phi''(w_kx+u_k) w_kx)) $$\n",
    "\n",
    "And finally\n",
    "\n",
    "$$\\frac{\\partial E}{\\partial w_k} = \\sum_{j=1}^{10} 2[D^\\alpha y_N(x_i,weights) - f(x_i, y_N(x_i,weights))] [\\frac{\\partial D^\\alpha y_N}{\\partial w_k}] $$"
   ]
  },
  {
   "cell_type": "code",
   "execution_count": 10,
   "metadata": {},
   "outputs": [
    {
     "name": "stdout",
     "output_type": "stream",
     "text": [
      "this is the derivative of E wrt to w1, evaluated 0.23162049228826145\n"
     ]
    }
   ],
   "source": [
    "def der_E_wrt_wj(alp,j,v0,v1,v2,v3,v4,w0,w1,w2,w3,w4,u0,u1,u2,u3,u4,points_to_evaluate=points_to_evaluate):\n",
    "    ''' As input, exactly the parameters of the function E'''\n",
    "    \n",
    "    def addend_in_E_wrt_wj(x,j,alp,v0,v1,v2,v3,v4,w0,w1,w2,w3,w4,u0,u1,u2,u3,u4):\n",
    "        \n",
    "        def f_x_i_y_N(x): # In this special case is x\n",
    "            return x\n",
    "        \n",
    "        def der_D_alpha_y_N_wrt_wj(j):\n",
    "            if j==0:\n",
    "                first_addend = x**(2-alp)*v0*phi_prime(w0*x+u0)\n",
    "                second_addend = v0*x**(2-alp)*(phi_prime(w0*x+u0) + phi_second(w0*x+u0)*w0*x)\n",
    "            if j==1:\n",
    "                first_addend = x**(2-alp)*v1*phi_prime(w1*x+u1)\n",
    "                second_addend = v1*x**(2-alp)*(phi_prime(w1*x+u1) + phi_second(w1*x+u1)*w1*x)\n",
    "            if j==2:\n",
    "                first_addend = x**(2-alp)*v2*phi_prime(w2*x+u2)\n",
    "                second_addend = v2*x**(2-alp)*(phi_prime(w2*x+u2) + phi_second(w2*x+u2)*w2*x)\n",
    "            if j==3:\n",
    "                first_addend = x**(2-alp)*v3*phi_prime(w3*x+u3)\n",
    "                second_addend = v3*x**(2-alp)*(phi_prime(w3*x+u3) + phi_second(w3*x+u3)*w3*x)\n",
    "            if j==4:\n",
    "                first_addend = x**(2-alp)*v4*phi_prime(w4*x+u4)\n",
    "                second_addend = v4*x**(2-alp)*(phi_prime(w4*x+u4) + phi_second(w4*x+u4)*w4*x)\n",
    "                \n",
    "            return first_addend + second_addend\n",
    "    \n",
    "        return 2*(der_alpha_y_N(x,alp,v0,v1,v2,v3,v4,w0,w1,w2,w3,w4,u0,u1,u2,u3,u4) - f_x_i_y_N(x))*der_D_alpha_y_N_wrt_wj(j)\n",
    "\n",
    "    tot_sum = 0\n",
    "    for x in points_to_evaluate:\n",
    "        tot_sum += addend_in_E_wrt_wj(x,j,alp,v0,v1,v2,v3,v4,w0,w1,w2,w3,w4,u0,u1,u2,u3,u4)\n",
    "    \n",
    "    return tot_sum\n",
    "\n",
    "# alpha = 0.5, let's derive wrt. j=2 ---> w2\n",
    "\n",
    "j = 1\n",
    "print(\"this is the derivative of E wrt to w%d, evaluated\"%j,\n",
    "     der_E_wrt_wj(0.7,j,v0,v1,v2,v3,v4,w0,w1,w2,w3,w4,u0,u1,u2,u3,u4))"
   ]
  },
  {
   "cell_type": "markdown",
   "metadata": {},
   "source": [
    "## derivative of E wrt to v_k\n",
    "\n",
    "$$\\frac{\\partial E}{\\partial v_k} = \\sum_{j=1}^{10} 2[D^\\alpha y_N(x_i,weights) - f(x_i, y_N(x_i,weights))] [\\frac{\\partial D^\\alpha y_N}{\\partial v_k}] $$"
   ]
  },
  {
   "cell_type": "markdown",
   "metadata": {},
   "source": [
    "Where, $[\\frac{\\partial D^\\alpha y_N}{\\partial v_k}]$ is computed here\n",
    "\n",
    "In our special case, we have\n",
    "\n",
    "$$D_x^\\alpha y_N(x,weights) = D_x^\\alpha (xN) = x^{1-\\alpha}N + xD_x^\\alpha (N) $$\n",
    "\n",
    "So that from eq.17, we get\n",
    "\n",
    "\\begin{equation}\n",
    "\\frac{\\partial D^\\alpha y_N}{\\partial v_k} =x^{1-\\alpha}\\frac{\\partial N}{\\partial v_k} + x\\frac{\\partial D_x^\\alpha (N)}{\\partial v_k} = x^{1-\\alpha}\\frac{\\partial N}{\\partial v_k} + x\\cdot w_k \\cdot x^{1-\\alpha}\\phi'(w_kx+u_k) \n",
    "\\end{equation}\n",
    "\n",
    "It is left to compute $\\frac{\\partial N}{\\partial v_k}$. We remind that $N=\\sum_{j=1}^5 v_j\\phi(w_jx+u_j)$. So that we get $\\frac{\\partial N}{\\partial v_k}=\\phi(w_kx+u_k)$. So that we get \n",
    "\n",
    "$$\\frac{\\partial D^\\alpha y_N}{\\partial v_k} = x^{1-\\alpha}\\phi(w_kx+u_k) + x^{2-\\alpha}\\phi'(w_kx+u_k) w_k$$\n",
    "\n"
   ]
  },
  {
   "cell_type": "code",
   "execution_count": 18,
   "metadata": {},
   "outputs": [
    {
     "name": "stdout",
     "output_type": "stream",
     "text": [
      "this is the derivative of E wrt to v4, evaluated 9.046434251297452\n"
     ]
    }
   ],
   "source": [
    "def der_E_wrt_vj(alp,j,v0,v1,v2,v3,v4,w0,w1,w2,w3,w4,u0,u1,u2,u3,u4,points_to_evaluate=points_to_evaluate):\n",
    "    ''' As input, exactly the parameters of the function E'''\n",
    "    \n",
    "    def addend_in_E_wrt_vj(x,j,alp,v0,v1,v2,v3,v4,w0,w1,w2,w3,w4,u0,u1,u2,u3,u4):\n",
    "        \n",
    "        def f_x_i_y_N(x): # In this special case is x\n",
    "            return x\n",
    "        \n",
    "        def der_D_alpha_y_N_wrt_vj(j):\n",
    "            if j==0:\n",
    "                first_addend = x**(1-alp)*sigm_fun(w0*x+u0)\n",
    "                second_addend = w0*x**(2-alp)*phi_prime(w0*x+u0)\n",
    "            if j==1:\n",
    "                first_addend = x**(1-alp)*sigm_fun(w1*x+u1)\n",
    "                second_addend = w1*x**(2-alp)*phi_prime(w1*x+u1)\n",
    "            if j==2:\n",
    "                first_addend = x**(1-alp)*sigm_fun(w2*x+u2)\n",
    "                second_addend = w2*x**(2-alp)*phi_prime(w2*x+u2)\n",
    "            if j==3:\n",
    "                first_addend = x**(1-alp)*sigm_fun(w3*x+u3)\n",
    "                second_addend = w3*x**(2-alp)*phi_prime(w3*x+u3)\n",
    "            if j==4:\n",
    "                first_addend = x**(1-alp)*sigm_fun(w4*x+u4)\n",
    "                second_addend = w4*x**(2-alp)*phi_prime(w4*x+u4)\n",
    "\n",
    "            return first_addend + second_addend\n",
    "    \n",
    "        return 2*(der_alpha_y_N(x,alp,v0,v1,v2,v3,v4,w0,w1,w2,w3,w4,u0,u1,u2,u3,u4) - f_x_i_y_N(x))*der_D_alpha_y_N_wrt_vj(j)\n",
    "\n",
    "    tot_sum = 0\n",
    "    for x in points_to_evaluate:\n",
    "        tot_sum += addend_in_E_wrt_vj(x,j,alp,v0,v1,v2,v3,v4,w0,w1,w2,w3,w4,u0,u1,u2,u3,u4)\n",
    "    \n",
    "    return tot_sum\n",
    "\n",
    "# alpha = 0.5, let's derive wrt. j=2 ---> v2\n",
    "\n",
    "j = 4\n",
    "print(\"this is the derivative of E wrt to v%d, evaluated\"%j,\n",
    "     der_E_wrt_vj(0.7,j,v0,v1,v2,v3,v4,w0,w1,w2,w3,w4,u0,u1,u2,u3,u4))"
   ]
  },
  {
   "cell_type": "markdown",
   "metadata": {},
   "source": [
    "## derivative of E wrt to u_k\n",
    "\n",
    "$$ \\frac{\\partial E}{\\partial u_k} = \\sum_{j=1}^{10} 2[D^\\alpha y_N(x_i,weights) - f(x_i, y_N(x_i,weights))] [\\frac{\\partial D^\\alpha y_N}{\\partial u_k}] $$"
   ]
  },
  {
   "cell_type": "markdown",
   "metadata": {},
   "source": [
    "Where, $[\\frac{\\partial D^\\alpha y_N}{\\partial u_k}]$ is computed here\n",
    "\n",
    "In our special case, we have\n",
    "\n",
    "$$D_x^\\alpha y_N(x,weights) = D_x^\\alpha (xN) = x^{1-\\alpha}N + xD_x^\\alpha (N) $$\n",
    "\n",
    "So that from eq.18, we get\n",
    "\n",
    "\\begin{equation}\n",
    "\\frac{\\partial D^\\alpha y_N}{\\partial u_k} =x^{1-\\alpha}\\frac{\\partial N}{\\partial u_k} + x\\frac{\\partial D_x^\\alpha (N)}{\\partial u_k} = x^{1-\\alpha}\\frac{\\partial N}{\\partial u_k} + x\\cdot w_k\\cdot v_k \\cdot x^{1-\\alpha}\\phi''(w_kx+u_k) \n",
    "\\end{equation}\n",
    "\n",
    "It is left to compute $\\frac{\\partial N}{\\partial u_k}$. We remind that $N=\\sum_{j=1}^5 v_j\\phi(w_jx+u_j)$. So that we get $\\frac{\\partial N}{\\partial u_k}=v_k \\phi'(w_kx+u_k)$. So that we get \n",
    "\n",
    "$$\\frac{\\partial D^\\alpha y_N}{\\partial u_k} = x^{1-\\alpha}v_k\\phi'(w_kx+u_k) + x^{2-\\alpha}\\phi''(w_kx+u_k) w_k v_k$$\n"
   ]
  },
  {
   "cell_type": "code",
   "execution_count": 23,
   "metadata": {},
   "outputs": [
    {
     "name": "stdout",
     "output_type": "stream",
     "text": [
      "this is the derivative of E wrt to u0, evaluated 0.0\n"
     ]
    }
   ],
   "source": [
    "def der_E_wrt_uj(alp,j,v0,v1,v2,v3,v4,w0,w1,w2,w3,w4,u0,u1,u2,u3,u4,points_to_evaluate=points_to_evaluate):\n",
    "    ''' As input, exactly the parameters of the function E'''\n",
    "    \n",
    "    def addend_in_E_wrt_uj(x,j,alp,v0,v1,v2,v3,v4,w0,w1,w2,w3,w4,u0,u1,u2,u3,u4):\n",
    "        \n",
    "        def f_x_i_y_N(x): # In this special case is x\n",
    "            return x\n",
    "        \n",
    "        def der_D_alpha_y_N_wrt_uj(j):\n",
    "            if j==0:\n",
    "                first_addend = x**(1-alp)*v0*phi_prime(w0*x+u0)\n",
    "                second_addend = w0*v0*x**(2-alp)*phi_second(w0*x+u0)\n",
    "            if j==1:\n",
    "                first_addend = x**(1-alp)*v1*phi_prime(w1*x+u1)\n",
    "                second_addend = w1*v1*x**(2-alp)*phi_second(w1*x+u1)\n",
    "            if j==2:\n",
    "                first_addend = x**(1-alp)*v2*phi_prime(w2*x+u2)\n",
    "                second_addend = w2*v2*x**(2-alp)*phi_second(w2*x+u2)\n",
    "            if j==3:\n",
    "                first_addend = x**(1-alp)*v3*phi_prime(w3*x+u3)\n",
    "                second_addend = w3*v3*x**(2-alp)*phi_second(w3*x+u3)\n",
    "            if j==4:\n",
    "                first_addend = x**(1-alp)*v4*phi_prime(w4*x+u4)\n",
    "                second_addend = w4*v4*x**(2-alp)*phi_second(w4*x+u4)\n",
    "\n",
    "            return first_addend + second_addend\n",
    "    \n",
    "        return 2*(der_alpha_y_N(x,alp,v0,v1,v2,v3,v4,w0,w1,w2,w3,w4,u0,u1,u2,u3,u4) - f_x_i_y_N(x))*der_D_alpha_y_N_wrt_uj(j)\n",
    "\n",
    "    tot_sum = 0\n",
    "    for x in points_to_evaluate:\n",
    "        tot_sum += addend_in_E_wrt_uj(x,j,alp,v0,v1,v2,v3,v4,w0,w1,w2,w3,w4,u0,u1,u2,u3,u4)\n",
    "    \n",
    "    return tot_sum\n",
    "\n",
    "# alpha = 0.5, let's derive wrt. j=2 ---> u2\n",
    "\n",
    "j = 0\n",
    "print(\"this is the derivative of E wrt to u%d, evaluated\"%j,\n",
    "     der_E_wrt_uj(0.7,j,v0,v1,v2,v3,v4,w0,w1,w2,w3,w4,u0,u1,u2,u3,u4))"
   ]
  },
  {
   "cell_type": "markdown",
   "metadata": {},
   "source": [
    "## 3 Update the weights"
   ]
  },
  {
   "cell_type": "code",
   "execution_count": null,
   "metadata": {},
   "outputs": [],
   "source": []
  }
 ],
 "metadata": {
  "kernelspec": {
   "display_name": "Python 3",
   "language": "python",
   "name": "python3"
  },
  "language_info": {
   "codemirror_mode": {
    "name": "ipython",
    "version": 3
   },
   "file_extension": ".py",
   "mimetype": "text/x-python",
   "name": "python",
   "nbconvert_exporter": "python",
   "pygments_lexer": "ipython3",
   "version": "3.7.0"
  }
 },
 "nbformat": 4,
 "nbformat_minor": 4
}
