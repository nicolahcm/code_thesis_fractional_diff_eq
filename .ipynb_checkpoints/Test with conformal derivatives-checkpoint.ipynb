{
 "cells": [
  {
   "cell_type": "code",
   "execution_count": 1,
   "metadata": {},
   "outputs": [],
   "source": [
    "import pandas as pd\n",
    "import numpy as np"
   ]
  },
  {
   "cell_type": "markdown",
   "metadata": {},
   "source": [
    "# He uses 3 layers, with the hidden layers that uses 5 nodes"
   ]
  },
  {
   "cell_type": "code",
   "execution_count": 2,
   "metadata": {},
   "outputs": [],
   "source": [
    "def initialize_weights(v0,v1,v2,v3,v4,w0,w1,w2,w3,w4,u0,u1,u2,u3,u4):\n",
    "    return"
   ]
  },
  {
   "cell_type": "code",
   "execution_count": 3,
   "metadata": {},
   "outputs": [
    {
     "data": {
      "text/plain": [
       "0.9525741268224334"
      ]
     },
     "execution_count": 3,
     "metadata": {},
     "output_type": "execute_result"
    }
   ],
   "source": [
    "def sigm_fun(x):\n",
    "    return 1/(1+np.exp(-x))\n",
    "\n",
    "sigm_fun(3)"
   ]
  },
  {
   "cell_type": "code",
   "execution_count": 4,
   "metadata": {},
   "outputs": [],
   "source": [
    "# Usa *args, come input e spacchetta\n",
    "\n",
    "def compute_neural_network(x,v0,v1,v2,v3,v4,w0,w1,w2,w3,w4,u0,u1,u2,u3,u4):\n",
    "    result = v0*sigm_fun(w0*x+u0)\n",
    "    result += v1*sigm_fun(w1*x+u1)\n",
    "    result += v2*sigm_fun(w2*x+u2)\n",
    "    result += v3*sigm_fun(w3*x+u3)\n",
    "    result += v4*sigm_fun(w4*x+u4)\n",
    "    return result"
   ]
  },
  {
   "cell_type": "code",
   "execution_count": 7,
   "metadata": {},
   "outputs": [
    {
     "data": {
      "text/plain": [
       "1.7546861182623799"
      ]
     },
     "execution_count": 7,
     "metadata": {},
     "output_type": "execute_result"
    }
   ],
   "source": [
    "v0,v1,v2,v3,v4,w0,w1,w2,w3,w4,u0,u1,u2,u3,u4 = 0, 0.1, 0.4, 0.5, 1, 2, 0.3, 0.5, 0.6, 0.7, 2, 1, 3, 0.3, 0.5\n",
    "\n",
    "compute_neural_network(2,v0,v1,v2,v3,v4,w0,w1,w2,w3,w4,u0,u1,u2,u3,u4)"
   ]
  },
  {
   "cell_type": "markdown",
   "metadata": {},
   "source": [
    "Some tricks for writing better code... Later\n",
    "\n",
    "Usa *args, come input e spacchetta\n",
    "\n",
    "def comp_neur_net(x,*weights):\n",
    "    for i in weights:\n",
    "        print(i)\n",
    "\n",
    "comp_neur_net(2,*(v0,v1,v2,v3,v4,w0,w1,w2,w3,w4,u0,u1,u2,u3,u4))\n",
    "\n",
    "----\n",
    "\n",
    "my_vars = {}\n",
    "for i in range(10):\n",
    "    var_name = \"var%d\" % i\n",
    "    my_vars[var_name] = i\n",
    "\n",
    "print(my_vars[\"var2\"])\n",
    "\n",
    "This is equivalent to creating var0 = 0, var1 = 1, and so on."
   ]
  },
  {
   "cell_type": "markdown",
   "metadata": {},
   "source": [
    "# First example in the paper of Mall, Charkaverty"
   ]
  },
  {
   "cell_type": "code",
   "execution_count": 8,
   "metadata": {},
   "outputs": [
    {
     "data": {
      "text/plain": [
       "3.5093722365247597"
      ]
     },
     "execution_count": 8,
     "metadata": {},
     "output_type": "execute_result"
    }
   ],
   "source": [
    "def y_n(x,*weights):\n",
    "    return x*compute_neural_network(x,*weights)\n",
    "y_n(2,*(v0,v1,v2,v3,v4,w0,w1,w2,w3,w4,u0,u1,u2,u3,u4))"
   ]
  },
  {
   "cell_type": "markdown",
   "metadata": {},
   "source": [
    "## 1 Computing E (we need alpha-derivative)\n",
    "\n",
    "we take $10$ equidistant points\n",
    "\n",
    "$$E[weights] = \\sum_{i=1}^{10} [D^\\alpha y_N(x_i,weights) - f(x_i, y_N(x_i,weights))]^2 =$$ \n",
    "\n",
    "$$=\\sum_{i=1}^{10} addend-in-E-w $$\n",
    "how it is named in the code below\n",
    "\n",
    "where \n",
    "\n",
    "$$ D^\\alpha y(x) = x$$\n",
    "\n",
    "so $f(x,weights) = x$\n",
    "\n",
    "then \n",
    "\n",
    "$$ y_N(x,weights) = xN(x,weights)$$\n",
    "\n",
    "Moreover, \n",
    "\n",
    "$$ D_x^\\alpha (N) := D_x^\\alpha N(x,weights) = \\sum_{j=1}^5 v_j \\phi'(w_jx+u_j)w_jx^{1-\\alpha} $$\n",
    "\n",
    "So that we get, if $x_0=0$ (centered in $0$ the initial condition)\n",
    "\n",
    "$$D_x^\\alpha y_N(x,weights) = D_x^\\alpha (xN) = x^{1-\\alpha}N + xD_x^\\alpha (N) $$"
   ]
  },
  {
   "cell_type": "code",
   "execution_count": 10,
   "metadata": {},
   "outputs": [
    {
     "data": {
      "text/plain": [
       "array([0.        , 0.11111111, 0.22222222, 0.33333333, 0.44444444,\n",
       "       0.55555556, 0.66666667, 0.77777778, 0.88888889, 1.        ])"
      ]
     },
     "execution_count": 10,
     "metadata": {},
     "output_type": "execute_result"
    }
   ],
   "source": [
    "# 10 equidistant points between 0 and 1\n",
    "np.linspace(0,1,10)"
   ]
  },
  {
   "cell_type": "code",
   "execution_count": 26,
   "metadata": {},
   "outputs": [],
   "source": [
    "def E(alp,v0,v1,v2,v3,v4,w0,w1,w2,w3,w4,u0,u1,u2,u3,u4): #E[weights]\n",
    "    ''' \n",
    "    returns the value of E, knowing \n",
    "    alpha, weights of the NN, and the points_to_evaluate. Defined as internal parameter just below\n",
    "    '''\n",
    "    \n",
    "    points_to_evaluate = np.linspace(0,1,10)\n",
    "    \n",
    "    \n",
    "    \n",
    "    def addend_in_E_w(x,alp,v0,v1,v2,v3,v4,w0,w1,w2,w3,w4,u0,u1,u2,u3,u4):\n",
    "        def der_alpha_y_N(x,alp,v0,v1,v2,v3,v4,w0,w1,w2,w3,w4,u0,u1,u2,u3,u4):\n",
    "            \n",
    "            first_addend = x**(1-alp)*compute_neural_network(x,v0,v1,v2,v3,v4,w0,w1,w2,w3,w4,u0,u1,u2,u3,u4)\n",
    "            \n",
    "            def der_alpha_N(alp,x,v0,v1,v2,v3,v4,w0,w1,w2,w3,w4,u0,u1,u2,u3,u4):\n",
    "                def phi_prime(z):\n",
    "                    result = np.exp(-z)/((1+np.exp(-x))**2)\n",
    "                    return result\n",
    "                    \n",
    "                tot_sum = v0*phi_prime(w0*x+u0)*w0*x**(1-alp)\n",
    "                tot_sum += v1*phi_prime(w1*x+u1)*w1*x**(1-alp)\n",
    "                tot_sum += v2*phi_prime(w2*x+u2)*w2*x**(1-alp)\n",
    "                tot_sum += v3*phi_prime(w3*x+u3)*w3*x**(1-alp)\n",
    "                tot_sum += v4*phi_prime(w4*x+u4)*w4*x**(1-alp)\n",
    "                \n",
    "                return tot_sum\n",
    "            \n",
    "            second_addend = x*der_alpha_N(alp,x,v0,v1,v2,v3,v4,w0,w1,w2,w3,w4,u0,u1,u2,u3,u4)\n",
    "            \n",
    "            return first_addend + second_addend\n",
    "        \n",
    "        def f_x_i_y_N(x): # In this special case is x\n",
    "            return x\n",
    "        \n",
    "        return (der_alpha_y_N(x,alp,v0,v1,v2,v3,v4,w0,w1,w2,w3,w4,u0,u1,u2,u3,u4) - f_x_i_y_N(x))**2\n",
    "    \n",
    "    tot_sum = 0\n",
    "    for x in points_to_evaluate:\n",
    "        tot_sum += addend_in_E_w(x,alp,v0,v1,v2,v3,v4,w0,w1,w2,w3,w4,u0,u1,u2,u3,u4)\n",
    "    \n",
    "    return tot_sum\n",
    "\n",
    "# Check again that the function is correct"
   ]
  },
  {
   "cell_type": "code",
   "execution_count": 23,
   "metadata": {},
   "outputs": [
    {
     "data": {
      "text/plain": [
       "3.521011956230481"
      ]
     },
     "execution_count": 23,
     "metadata": {},
     "output_type": "execute_result"
    }
   ],
   "source": [
    "# alpha = 0.5\n",
    "E(0.5,v0,v1,v2,v3,v4,w0,w1,w2,w3,w4,u0,u1,u2,u3,u4)"
   ]
  },
  {
   "cell_type": "markdown",
   "metadata": {},
   "source": [
    "## 2 Compute partial derivatives of E wrt to the weights "
   ]
  },
  {
   "cell_type": "markdown",
   "metadata": {},
   "source": [
    "## 3 Update the weights"
   ]
  },
  {
   "cell_type": "code",
   "execution_count": null,
   "metadata": {},
   "outputs": [],
   "source": []
  }
 ],
 "metadata": {
  "kernelspec": {
   "display_name": "Python 3",
   "language": "python",
   "name": "python3"
  },
  "language_info": {
   "codemirror_mode": {
    "name": "ipython",
    "version": 3
   },
   "file_extension": ".py",
   "mimetype": "text/x-python",
   "name": "python",
   "nbconvert_exporter": "python",
   "pygments_lexer": "ipython3",
   "version": "3.7.0"
  }
 },
 "nbformat": 4,
 "nbformat_minor": 4
}
