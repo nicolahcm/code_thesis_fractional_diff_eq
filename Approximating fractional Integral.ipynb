{
 "cells": [
  {
   "cell_type": "code",
   "execution_count": 3,
   "id": "9aa51161",
   "metadata": {},
   "outputs": [],
   "source": [
    "import torch\n",
    "import torch.nn as nn\n",
    "import matplotlib.pyplot as plt\n",
    "import numpy as np\n",
    "import math"
   ]
  },
  {
   "cell_type": "markdown",
   "id": "fb990110",
   "metadata": {},
   "source": [
    "# Definition\n",
    "Given $\\alpha,t>0$ and $f\\in L^1(0,T)$\n",
    "$$I_{\\alpha} f(t) := \\frac{1}{\\Gamma(\\alpha)}\\int_0^t (t-s)^{\\alpha-1}f(s)\\,ds$$\n",
    "for $t\\in(0,T)$.\n",
    "\n",
    "Q1) Notice that if $\\alpha\\ge 1$, it is always finite and well-defined. But if $1>\\alpha>0$? What happens?"
   ]
  },
  {
   "cell_type": "markdown",
   "id": "48079e17",
   "metadata": {},
   "source": [
    "# Approximating the integral with rectangles"
   ]
  },
  {
   "cell_type": "code",
   "execution_count": 13,
   "id": "d5bb4638",
   "metadata": {},
   "outputs": [],
   "source": [
    "alpha = 0.5\n",
    "t = 2"
   ]
  },
  {
   "cell_type": "code",
   "execution_count": 14,
   "id": "3773125d",
   "metadata": {},
   "outputs": [],
   "source": [
    "n_rectangles = 10000000\n",
    "\n",
    "f = lambda s: s  # f(s) = s\n",
    "integrand_f = lambda s,f_s: (t-s)**(alpha-1)*f_s"
   ]
  },
  {
   "cell_type": "code",
   "execution_count": 15,
   "id": "f28cf4d3",
   "metadata": {},
   "outputs": [],
   "source": [
    "x = np.linspace(0,t,n_rectangles)\n",
    "integrands_values = integrand_f(x[:-1],f(x)[:-1])  #[:-1] because last value is infinity\n",
    "\n",
    "delta_x = t/(n_rectangles-1)"
   ]
  },
  {
   "cell_type": "code",
   "execution_count": 16,
   "id": "6937ce44",
   "metadata": {},
   "outputs": [],
   "source": [
    "integral = 1/math.gamma(alpha)*delta_x*np.sum(integrands_values)"
   ]
  },
  {
   "cell_type": "code",
   "execution_count": 17,
   "id": "d02526a3",
   "metadata": {},
   "outputs": [
    {
     "data": {
      "text/plain": [
       "2.126955228523467"
      ]
     },
     "execution_count": 17,
     "metadata": {},
     "output_type": "execute_result"
    }
   ],
   "source": [
    "integral"
   ]
  },
  {
   "cell_type": "markdown",
   "id": "5c8b2484",
   "metadata": {},
   "source": [
    "## Testing with scipy"
   ]
  },
  {
   "cell_type": "code",
   "execution_count": 18,
   "id": "37d1d410",
   "metadata": {},
   "outputs": [],
   "source": [
    "function_integrand = lambda s: (t-s)**(alpha-1)*s"
   ]
  },
  {
   "cell_type": "code",
   "execution_count": 26,
   "id": "e7116e25",
   "metadata": {},
   "outputs": [
    {
     "data": {
      "text/plain": [
       "2.1276921621408595"
      ]
     },
     "execution_count": 26,
     "metadata": {},
     "output_type": "execute_result"
    }
   ],
   "source": [
    "import scipy.integrate as integrate\n",
    "result = integrate.quad(function_integrand, 0, t)\n",
    "result[0]/math.gamma(alpha)"
   ]
  },
  {
   "cell_type": "markdown",
   "id": "b979b0fe",
   "metadata": {},
   "source": [
    "## Other integration methods\n",
    "https://docs.scipy.org/doc/scipy/tutorial/integrate.html"
   ]
  },
  {
   "cell_type": "code",
   "execution_count": 25,
   "id": "688683d2",
   "metadata": {},
   "outputs": [
    {
     "data": {
      "text/plain": [
       "(2.0, 2.220446049250313e-14)"
      ]
     },
     "execution_count": 25,
     "metadata": {},
     "output_type": "execute_result"
    }
   ],
   "source": [
    "integrate.quad(lambda x: x, 0,2)"
   ]
  },
  {
   "cell_type": "markdown",
   "id": "49075dc9",
   "metadata": {},
   "source": [
    "# Package for calculating python integrals fractional\n",
    "https://www.researchgate.net/publication/329399291"
   ]
  },
  {
   "cell_type": "code",
   "execution_count": null,
   "id": "6f77887d",
   "metadata": {},
   "outputs": [],
   "source": []
  },
  {
   "cell_type": "code",
   "execution_count": null,
   "id": "6c94b595",
   "metadata": {},
   "outputs": [],
   "source": []
  },
  {
   "cell_type": "code",
   "execution_count": 5,
   "id": "7047bfcd",
   "metadata": {},
   "outputs": [],
   "source": [
    "a = np.array([1, 2, 4, 7, 0])"
   ]
  },
  {
   "cell_type": "code",
   "execution_count": 8,
   "id": "7353fd37",
   "metadata": {},
   "outputs": [
    {
     "data": {
      "text/plain": [
       "array([ 1,  2,  3, -7])"
      ]
     },
     "execution_count": 8,
     "metadata": {},
     "output_type": "execute_result"
    }
   ],
   "source": [
    "np.diff(a, n=1)"
   ]
  },
  {
   "cell_type": "code",
   "execution_count": null,
   "id": "c7ef3663",
   "metadata": {},
   "outputs": [],
   "source": []
  },
  {
   "cell_type": "code",
   "execution_count": null,
   "id": "c6b66630",
   "metadata": {},
   "outputs": [],
   "source": []
  }
 ],
 "metadata": {
  "kernelspec": {
   "display_name": "Python 3 (ipykernel)",
   "language": "python",
   "name": "python3"
  },
  "language_info": {
   "codemirror_mode": {
    "name": "ipython",
    "version": 3
   },
   "file_extension": ".py",
   "mimetype": "text/x-python",
   "name": "python",
   "nbconvert_exporter": "python",
   "pygments_lexer": "ipython3",
   "version": "3.8.10"
  }
 },
 "nbformat": 4,
 "nbformat_minor": 5
}
