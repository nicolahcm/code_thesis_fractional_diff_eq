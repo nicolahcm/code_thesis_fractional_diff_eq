{
 "cells": [
  {
   "cell_type": "code",
   "execution_count": 1,
   "metadata": {},
   "outputs": [],
   "source": [
    "import pandas as pd\n",
    "import numpy as np"
   ]
  },
  {
   "cell_type": "markdown",
   "metadata": {},
   "source": [
    "# He uses 3 layers, with the hidden layers that uses 5 nodes\n",
    "\n",
    "We will denote by $\\Omega$, the set of weights of the neural Network, that is\n",
    "\n",
    "$$\\Omega = \\left\\{ v0,v1,v2,v3,v4,w0,w1,w2,w3,w4,u0,u1,u2,u3,u4 \\right\\} $$\n",
    "\n",
    "And $$N(x,\\Omega) = \\sum_{j=1}^5 v_j\\phi(w_jx+u_j) $$\n",
    "\n",
    "Where we use $5$ hidden nodes and one hidden layer"
   ]
  },
  {
   "cell_type": "code",
   "execution_count": 2,
   "metadata": {},
   "outputs": [],
   "source": [
    "def initialize_weights(v0,v1,v2,v3,v4,w0,w1,w2,w3,w4,u0,u1,u2,u3,u4):\n",
    "    return\n",
    "\n",
    "def sigm_fun(x):\n",
    "    return 1/(1+np.exp(-x))\n",
    "\n",
    "def phi_prime(z): #1st derivative\n",
    "    result = np.exp(-z)/((1+np.exp(-z))**2)\n",
    "    return result\n",
    "\n",
    "def phi_second(z): #2nd derivative\n",
    "    first_addend = -np.exp(-z)/((1+np.exp(-z))**2)\n",
    "    second_addend = 2*np.exp(-2*z)/((1+np.exp(-z))**3)\n",
    "    return first_addend + second_addend\n",
    "\n",
    "# Usa *args, come input e spacchetta\n",
    "\n",
    "def compute_neural_network(x,v0,v1,v2,v3,v4,w0,w1,w2,w3,w4,u0,u1,u2,u3,u4):\n",
    "    ''' NN '''\n",
    "    result = v0*sigm_fun(w0*x+u0)\n",
    "    result += v1*sigm_fun(w1*x+u1)\n",
    "    result += v2*sigm_fun(w2*x+u2)\n",
    "    result += v3*sigm_fun(w3*x+u3)\n",
    "    result += v4*sigm_fun(w4*x+u4)\n",
    "    return result"
   ]
  },
  {
   "cell_type": "code",
   "execution_count": 3,
   "metadata": {},
   "outputs": [
    {
     "name": "stdout",
     "output_type": "stream",
     "text": [
      "[ 5.42641287 -9.58496101  2.6729647   4.97607765 -0.02985975 -5.50406709\n",
      " -6.0387427   5.21061424 -6.61778327 -8.23320372  3.70719637  9.06786692\n",
      " -9.92103467  0.24384527  6.25241923]\n"
     ]
    }
   ],
   "source": [
    "np.random.seed(10)\n",
    "sampl = np.random.uniform(low=-10, high=10, size=(15,))\n",
    "v0,v1,v2,v3,v4,w0,w1,w2,w3,w4,u0,u1,u2,u3,u4 = sampl\n",
    "print(sampl)"
   ]
  },
  {
   "cell_type": "code",
   "execution_count": 4,
   "metadata": {},
   "outputs": [
    {
     "data": {
      "text/plain": [
       "1.2171753884110106"
      ]
     },
     "execution_count": 4,
     "metadata": {},
     "output_type": "execute_result"
    }
   ],
   "source": [
    "compute_neural_network(2,v0,v1,v2,v3,v4,w0,w1,w2,w3,w4,u0,u1,u2,u3,u4)"
   ]
  },
  {
   "cell_type": "markdown",
   "metadata": {},
   "source": [
    "Some tricks for writing better code... Later\n",
    "\n",
    "Usa *args, come input e spacchetta\n",
    "\n",
    "def comp_neur_net(x,*weights):\n",
    "    for i in weights:\n",
    "        print(i)\n",
    "\n",
    "comp_neur_net(2,*(v0,v1,v2,v3,v4,w0,w1,w2,w3,w4,u0,u1,u2,u3,u4))\n",
    "\n",
    "----\n",
    "\n",
    "my_vars = {}\n",
    "for i in range(10):\n",
    "    var_name = \"var%d\" % i\n",
    "    my_vars[var_name] = i\n",
    "\n",
    "print(my_vars[\"var2\"])\n",
    "\n",
    "This is equivalent to creating var0 = 0, var1 = 1, and so on."
   ]
  },
  {
   "cell_type": "markdown",
   "metadata": {},
   "source": [
    "# First example in the paper of Mall, Charkaverty"
   ]
  },
  {
   "cell_type": "code",
   "execution_count": 5,
   "metadata": {},
   "outputs": [
    {
     "data": {
      "text/plain": [
       "2.434350776822021"
      ]
     },
     "execution_count": 5,
     "metadata": {},
     "output_type": "execute_result"
    }
   ],
   "source": [
    "def y_n(x,*weights):\n",
    "    return x*compute_neural_network(x,*weights)\n",
    "y_n(2,*(v0,v1,v2,v3,v4,w0,w1,w2,w3,w4,u0,u1,u2,u3,u4))"
   ]
  },
  {
   "cell_type": "markdown",
   "metadata": {},
   "source": [
    "## 1 Computing E (we need alpha-derivative)\n",
    "\n",
    "we take $10$ equidistant points\n",
    "\n",
    "$$E[weights] = \\sum_{i=1}^{10} [D^\\alpha y_N(x_i,weights) - f(x_i, y_N(x_i,weights))]^2 =$$ \n",
    "\n",
    "$$=\\sum_{i=1}^{10} addend-in-E-w $$\n",
    "how it is named in the code below\n",
    "\n",
    "where \n",
    "\n",
    "$$ D^\\alpha y(x) = x$$\n",
    "\n",
    "so $f(x,weights) = x$\n",
    "\n",
    "then \n",
    "\n",
    "$$ y_N(x,weights) = xN(x,weights)$$\n",
    "\n",
    "Moreover, \n",
    "\n",
    "$$ D_x^\\alpha (N) := D_x^\\alpha N(x,weights) = \\sum_{j=1}^5 v_j \\phi'(w_jx+u_j)w_jx^{1-\\alpha} $$\n",
    "\n",
    "So that we get, if $x_0=0$ (centered in $0$ the initial condition)\n",
    "\n",
    "$$D_x^\\alpha y_N(x,weights) = D_x^\\alpha (xN) = x^{1-\\alpha}N + xD_x^\\alpha (N) $$"
   ]
  },
  {
   "cell_type": "code",
   "execution_count": 6,
   "metadata": {},
   "outputs": [],
   "source": [
    "# 10 equidistant points between 0 and 1 included\n",
    "# np.linspace(0,1,10)"
   ]
  },
  {
   "cell_type": "code",
   "execution_count": 7,
   "metadata": {},
   "outputs": [],
   "source": [
    "def der_alpha_y_N(x,alp,v0,v1,v2,v3,v4,w0,w1,w2,w3,w4,u0,u1,u2,u3,u4): # Depends on the fDe\n",
    "\n",
    "    first_addend = x**(1-alp)*compute_neural_network(x,v0,v1,v2,v3,v4,w0,w1,w2,w3,w4,u0,u1,u2,u3,u4)\n",
    "\n",
    "    def der_alpha_N(alp,x,v0,v1,v2,v3,v4,w0,w1,w2,w3,w4,u0,u1,u2,u3,u4):\n",
    "\n",
    "        tot_sum = v0*phi_prime(w0*x+u0)*w0*x**(1-alp)\n",
    "        tot_sum += v1*phi_prime(w1*x+u1)*w1*x**(1-alp)\n",
    "        tot_sum += v2*phi_prime(w2*x+u2)*w2*x**(1-alp)\n",
    "        tot_sum += v3*phi_prime(w3*x+u3)*w3*x**(1-alp)\n",
    "        tot_sum += v4*phi_prime(w4*x+u4)*w4*x**(1-alp)\n",
    "\n",
    "        return tot_sum\n",
    "\n",
    "    second_addend = x*der_alpha_N(alp,x,v0,v1,v2,v3,v4,w0,w1,w2,w3,w4,u0,u1,u2,u3,u4)\n",
    "\n",
    "    return first_addend + second_addend"
   ]
  },
  {
   "cell_type": "code",
   "execution_count": 8,
   "metadata": {},
   "outputs": [],
   "source": [
    "points_to_evaluate = np.linspace(0,1,10)\n",
    "\n",
    "def E(alp,v0,v1,v2,v3,v4,w0,w1,w2,w3,w4,u0,u1,u2,u3,u4,points_to_evaluate=points_to_evaluate): #E[weights]\n",
    "    ''' \n",
    "    returns the value of E, knowing \n",
    "    alpha, weights of the NN, and the points_to_evaluate.\n",
    "    '''\n",
    "    \n",
    "    def addend_in_E_w(x,alp,v0,v1,v2,v3,v4,w0,w1,w2,w3,w4,u0,u1,u2,u3,u4):\n",
    "        \n",
    "        def f_x_i_y_N(x): # In this special case is x\n",
    "            return x\n",
    "        \n",
    "        return (der_alpha_y_N(x,alp,v0,v1,v2,v3,v4,w0,w1,w2,w3,w4,u0,u1,u2,u3,u4) - f_x_i_y_N(x))**2\n",
    "    \n",
    "    tot_sum = 0\n",
    "    for x in points_to_evaluate:\n",
    "        tot_sum += addend_in_E_w(x,alp,v0,v1,v2,v3,v4,w0,w1,w2,w3,w4,u0,u1,u2,u3,u4)\n",
    "    \n",
    "    return tot_sum\n",
    "\n",
    "# Check again that the function is correct"
   ]
  },
  {
   "cell_type": "code",
   "execution_count": 9,
   "metadata": {},
   "outputs": [
    {
     "data": {
      "text/plain": [
       "613.610130879954"
      ]
     },
     "execution_count": 9,
     "metadata": {},
     "output_type": "execute_result"
    }
   ],
   "source": [
    "# alpha = 0.5\n",
    "E(0.5,v0,v1,v2,v3,v4,w0,w1,w2,w3,w4,u0,u1,u2,u3,u4)"
   ]
  },
  {
   "cell_type": "markdown",
   "metadata": {},
   "source": [
    "## 2 Compute partial derivatives of E wrt to the weights "
   ]
  },
  {
   "cell_type": "markdown",
   "metadata": {},
   "source": [
    "We know that \n",
    "$$ D_x^\\alpha (N) := D_x^\\alpha N(x,weights) = \\sum_{j=1}^5 v_j \\phi'(w_jx+u_j)w_jx^{1-\\alpha} $$.\n",
    "\n",
    "Thus"
   ]
  },
  {
   "cell_type": "markdown",
   "metadata": {},
   "source": [
    "## Let's start by computing derivative of E wrt to w_k\n",
    "\n",
    "$$\\frac{\\partial E[weights]}{\\partial w_k} = \\sum_{j=1}^{10} 2[D^\\alpha y_N(x_i,weights) - f(x_i, y_N(x_i,weights))] [\\frac{\\partial D^\\alpha y_N}{\\partial w_k}-\\frac{\\partial f}{\\partial w_k}]$$\n",
    "\n",
    "In the first example in the paper of Mall, $f(x,y_N(x,weights)) = x$. Thus $\\frac{\\partial f}{\\partial w_k}=0$ .\n",
    "\n",
    "Moreover, we use equation 16 from the paper of Mall. We remember that in this particular case we have\n",
    "\n",
    "$$ y_N(x,weights) = xN(x,weights)$$\n",
    "\n",
    "that is \n",
    "\n",
    "$$D_x^\\alpha y_N(x,weights) = D_x^\\alpha (xN) = x^{1-\\alpha}N + xD_x^\\alpha (N) $$\n",
    "\n",
    "so that from eq.16, we get\n",
    "\n",
    "\\begin{equation}\n",
    "\\frac{\\partial D^\\alpha y_N}{\\partial w_k} =x^{1-\\alpha}\\frac{\\partial N}{\\partial w_k} + x\\frac{\\partial D_x^\\alpha (N)}{\\partial w_k} = x^{1-\\alpha}\\frac{\\partial N}{\\partial w_k} + x(v_kx^{1-\\alpha}(\\phi'(w_kx+u_k) + \\phi''(w_kx+u_k) w_kx))\n",
    "\\end{equation}\n",
    "\n",
    "It is left to compute $\\frac{\\partial N}{\\partial w_k}$. We remind that $N=\\sum_{j=1}^5 v_j\\phi(w_jx+u_j)$. So that we get $\\frac{\\partial N}{\\partial w_k}= v_k\\phi'(w_kx+u_k)x$. So that we get \n",
    "\n",
    "$$\\frac{\\partial D^\\alpha y_N}{\\partial w_k} = x^{2-\\alpha}v_k\\phi'(w_kx+u_k) + (v_kx^{2-\\alpha}(\\phi'(w_kx+u_k) + \\phi''(w_kx+u_k) w_kx)) $$\n",
    "\n",
    "And finally\n",
    "\n",
    "$$\\frac{\\partial E}{\\partial w_k} = \\sum_{j=1}^{10} 2[D^\\alpha y_N(x_i,weights) - f(x_i, y_N(x_i,weights))] [\\frac{\\partial D^\\alpha y_N}{\\partial w_k}] $$"
   ]
  },
  {
   "cell_type": "code",
   "execution_count": 10,
   "metadata": {},
   "outputs": [
    {
     "name": "stdout",
     "output_type": "stream",
     "text": [
      "this is the derivative of E wrt to w1, evaluated 118.94911984362739\n"
     ]
    }
   ],
   "source": [
    "def der_E_wrt_wj(alp,j,v0,v1,v2,v3,v4,w0,w1,w2,w3,w4,u0,u1,u2,u3,u4,points_to_evaluate=points_to_evaluate):\n",
    "    ''' As input, exactly the parameters of the function E'''\n",
    "    \n",
    "    def addend_in_E_wrt_wj(x,j,alp,v0,v1,v2,v3,v4,w0,w1,w2,w3,w4,u0,u1,u2,u3,u4):\n",
    "        \n",
    "        def f_x_i_y_N(x): # In this special case is x\n",
    "            return x\n",
    "        \n",
    "        def der_D_alpha_y_N_wrt_wj(j):\n",
    "            if j==0:\n",
    "                first_addend = x**(2-alp)*v0*phi_prime(w0*x+u0)\n",
    "                second_addend = v0*x**(2-alp)*(phi_prime(w0*x+u0) + phi_second(w0*x+u0)*w0*x)\n",
    "            if j==1:\n",
    "                first_addend = x**(2-alp)*v1*phi_prime(w1*x+u1)\n",
    "                second_addend = v1*x**(2-alp)*(phi_prime(w1*x+u1) + phi_second(w1*x+u1)*w1*x)\n",
    "            if j==2:\n",
    "                first_addend = x**(2-alp)*v2*phi_prime(w2*x+u2)\n",
    "                second_addend = v2*x**(2-alp)*(phi_prime(w2*x+u2) + phi_second(w2*x+u2)*w2*x)\n",
    "            if j==3:\n",
    "                first_addend = x**(2-alp)*v3*phi_prime(w3*x+u3)\n",
    "                second_addend = v3*x**(2-alp)*(phi_prime(w3*x+u3) + phi_second(w3*x+u3)*w3*x)\n",
    "            if j==4:\n",
    "                first_addend = x**(2-alp)*v4*phi_prime(w4*x+u4)\n",
    "                second_addend = v4*x**(2-alp)*(phi_prime(w4*x+u4) + phi_second(w4*x+u4)*w4*x)\n",
    "                \n",
    "            return first_addend + second_addend\n",
    "    \n",
    "        return 2*(der_alpha_y_N(x,alp,v0,v1,v2,v3,v4,w0,w1,w2,w3,w4,u0,u1,u2,u3,u4) - f_x_i_y_N(x))*der_D_alpha_y_N_wrt_wj(j)\n",
    "\n",
    "    tot_sum = 0\n",
    "    for x in points_to_evaluate:\n",
    "        tot_sum += addend_in_E_wrt_wj(x,j,alp,v0,v1,v2,v3,v4,w0,w1,w2,w3,w4,u0,u1,u2,u3,u4)\n",
    "    \n",
    "    return tot_sum\n",
    "\n",
    "# alpha = 0.5, let's derive wrt. j=2 ---> w2\n",
    "\n",
    "j = 1\n",
    "print(\"this is the derivative of E wrt to w%d, evaluated\"%j,\n",
    "     der_E_wrt_wj(0.7,j,v0,v1,v2,v3,v4,w0,w1,w2,w3,w4,u0,u1,u2,u3,u4))"
   ]
  },
  {
   "cell_type": "markdown",
   "metadata": {},
   "source": [
    "## derivative of E wrt to v_k\n",
    "\n",
    "$$\\frac{\\partial E}{\\partial v_k} = \\sum_{j=1}^{10} 2[D^\\alpha y_N(x_i,weights) - f(x_i, y_N(x_i,weights))] [\\frac{\\partial D^\\alpha y_N}{\\partial v_k}] $$"
   ]
  },
  {
   "cell_type": "markdown",
   "metadata": {},
   "source": [
    "Where, $[\\frac{\\partial D^\\alpha y_N}{\\partial v_k}]$ is computed here\n",
    "\n",
    "In our special case, we have\n",
    "\n",
    "$$D_x^\\alpha y_N(x,weights) = D_x^\\alpha (xN) = x^{1-\\alpha}N + xD_x^\\alpha (N) $$\n",
    "\n",
    "So that from eq.17, we get\n",
    "\n",
    "\\begin{equation}\n",
    "\\frac{\\partial D^\\alpha y_N}{\\partial v_k} =x^{1-\\alpha}\\frac{\\partial N}{\\partial v_k} + x\\frac{\\partial D_x^\\alpha (N)}{\\partial v_k} = x^{1-\\alpha}\\frac{\\partial N}{\\partial v_k} + x\\cdot w_k \\cdot x^{1-\\alpha}\\phi'(w_kx+u_k) \n",
    "\\end{equation}\n",
    "\n",
    "It is left to compute $\\frac{\\partial N}{\\partial v_k}$. We remind that $N=\\sum_{j=1}^5 v_j\\phi(w_jx+u_j)$. So that we get $\\frac{\\partial N}{\\partial v_k}=\\phi(w_kx+u_k)$. So that we get \n",
    "\n",
    "$$\\frac{\\partial D^\\alpha y_N}{\\partial v_k} = x^{1-\\alpha}\\phi(w_kx+u_k) + x^{2-\\alpha}\\phi'(w_kx+u_k) w_k$$\n",
    "\n"
   ]
  },
  {
   "cell_type": "code",
   "execution_count": 11,
   "metadata": {},
   "outputs": [
    {
     "name": "stdout",
     "output_type": "stream",
     "text": [
      "this is the derivative of E wrt to v4, evaluated 53.97863555222551\n"
     ]
    }
   ],
   "source": [
    "def der_E_wrt_vj(alp,j,v0,v1,v2,v3,v4,w0,w1,w2,w3,w4,u0,u1,u2,u3,u4,points_to_evaluate=points_to_evaluate):\n",
    "    ''' As input, exactly the parameters of the function E'''\n",
    "    \n",
    "    def addend_in_E_wrt_vj(x,j,alp,v0,v1,v2,v3,v4,w0,w1,w2,w3,w4,u0,u1,u2,u3,u4):\n",
    "        \n",
    "        def f_x_i_y_N(x): # In this special case is x\n",
    "            return x\n",
    "        \n",
    "        def der_D_alpha_y_N_wrt_vj(j):\n",
    "            if j==0:\n",
    "                first_addend = x**(1-alp)*sigm_fun(w0*x+u0)\n",
    "                second_addend = w0*x**(2-alp)*phi_prime(w0*x+u0)\n",
    "            if j==1:\n",
    "                first_addend = x**(1-alp)*sigm_fun(w1*x+u1)\n",
    "                second_addend = w1*x**(2-alp)*phi_prime(w1*x+u1)\n",
    "            if j==2:\n",
    "                first_addend = x**(1-alp)*sigm_fun(w2*x+u2)\n",
    "                second_addend = w2*x**(2-alp)*phi_prime(w2*x+u2)\n",
    "            if j==3:\n",
    "                first_addend = x**(1-alp)*sigm_fun(w3*x+u3)\n",
    "                second_addend = w3*x**(2-alp)*phi_prime(w3*x+u3)\n",
    "            if j==4:\n",
    "                first_addend = x**(1-alp)*sigm_fun(w4*x+u4)\n",
    "                second_addend = w4*x**(2-alp)*phi_prime(w4*x+u4)\n",
    "\n",
    "            return first_addend + second_addend\n",
    "    \n",
    "        return 2*(der_alpha_y_N(x,alp,v0,v1,v2,v3,v4,w0,w1,w2,w3,w4,u0,u1,u2,u3,u4) - f_x_i_y_N(x))*der_D_alpha_y_N_wrt_vj(j)\n",
    "\n",
    "    tot_sum = 0\n",
    "    for x in points_to_evaluate:\n",
    "        tot_sum += addend_in_E_wrt_vj(x,j,alp,v0,v1,v2,v3,v4,w0,w1,w2,w3,w4,u0,u1,u2,u3,u4)\n",
    "    \n",
    "    return tot_sum\n",
    "\n",
    "# alpha = 0.5, let's derive wrt. j=2 ---> v2\n",
    "\n",
    "j = 4\n",
    "print(\"this is the derivative of E wrt to v%d, evaluated\"%j,\n",
    "     der_E_wrt_vj(0.7,j,v0,v1,v2,v3,v4,w0,w1,w2,w3,w4,u0,u1,u2,u3,u4))"
   ]
  },
  {
   "cell_type": "markdown",
   "metadata": {},
   "source": [
    "## derivative of E wrt to u_k\n",
    "\n",
    "$$ \\frac{\\partial E}{\\partial u_k} = \\sum_{j=1}^{10} 2[D^\\alpha y_N(x_i,weights) - f(x_i, y_N(x_i,weights))] [\\frac{\\partial D^\\alpha y_N}{\\partial u_k}] $$"
   ]
  },
  {
   "cell_type": "markdown",
   "metadata": {},
   "source": [
    "Where, $[\\frac{\\partial D^\\alpha y_N}{\\partial u_k}]$ is computed here\n",
    "\n",
    "In our special case, we have\n",
    "\n",
    "$$D_x^\\alpha y_N(x,weights) = D_x^\\alpha (xN) = x^{1-\\alpha}N + xD_x^\\alpha (N) $$\n",
    "\n",
    "So that from eq.18, we get\n",
    "\n",
    "\\begin{equation}\n",
    "\\frac{\\partial D^\\alpha y_N}{\\partial u_k} =x^{1-\\alpha}\\frac{\\partial N}{\\partial u_k} + x\\frac{\\partial D_x^\\alpha (N)}{\\partial u_k} = x^{1-\\alpha}\\frac{\\partial N}{\\partial u_k} + x\\cdot w_k\\cdot v_k \\cdot x^{1-\\alpha}\\phi''(w_kx+u_k) \n",
    "\\end{equation}\n",
    "\n",
    "It is left to compute $\\frac{\\partial N}{\\partial u_k}$. We remind that $N=\\sum_{j=1}^5 v_j\\phi(w_jx+u_j)$. So that we get $\\frac{\\partial N}{\\partial u_k}=v_k \\phi'(w_kx+u_k)$. So that we get \n",
    "\n",
    "$$\\frac{\\partial D^\\alpha y_N}{\\partial u_k} = x^{1-\\alpha}v_k\\phi'(w_kx+u_k) + x^{2-\\alpha}\\phi''(w_kx+u_k) w_k v_k$$\n"
   ]
  },
  {
   "cell_type": "code",
   "execution_count": 12,
   "metadata": {},
   "outputs": [
    {
     "name": "stdout",
     "output_type": "stream",
     "text": [
      "this is the derivative of E wrt to u0, evaluated -20.784087383094636\n"
     ]
    }
   ],
   "source": [
    "def der_E_wrt_uj(alp,j,v0,v1,v2,v3,v4,w0,w1,w2,w3,w4,u0,u1,u2,u3,u4,points_to_evaluate=points_to_evaluate):\n",
    "    ''' As input, exactly the parameters of the function E'''\n",
    "    \n",
    "    def addend_in_E_wrt_uj(x,j,alp,v0,v1,v2,v3,v4,w0,w1,w2,w3,w4,u0,u1,u2,u3,u4):\n",
    "        \n",
    "        def f_x_i_y_N(x): # In this special case is x\n",
    "            return x\n",
    "        \n",
    "        def der_D_alpha_y_N_wrt_uj(j):\n",
    "            if j==0:\n",
    "                first_addend = x**(1-alp)*v0*phi_prime(w0*x+u0)\n",
    "                second_addend = w0*v0*x**(2-alp)*phi_second(w0*x+u0)\n",
    "            if j==1:\n",
    "                first_addend = x**(1-alp)*v1*phi_prime(w1*x+u1)\n",
    "                second_addend = w1*v1*x**(2-alp)*phi_second(w1*x+u1)\n",
    "            if j==2:\n",
    "                first_addend = x**(1-alp)*v2*phi_prime(w2*x+u2)\n",
    "                second_addend = w2*v2*x**(2-alp)*phi_second(w2*x+u2)\n",
    "            if j==3:\n",
    "                first_addend = x**(1-alp)*v3*phi_prime(w3*x+u3)\n",
    "                second_addend = w3*v3*x**(2-alp)*phi_second(w3*x+u3)\n",
    "            if j==4:\n",
    "                first_addend = x**(1-alp)*v4*phi_prime(w4*x+u4)\n",
    "                second_addend = w4*v4*x**(2-alp)*phi_second(w4*x+u4)\n",
    "\n",
    "            return first_addend + second_addend\n",
    "    \n",
    "        return 2*(der_alpha_y_N(x,alp,v0,v1,v2,v3,v4,w0,w1,w2,w3,w4,u0,u1,u2,u3,u4) - f_x_i_y_N(x))*der_D_alpha_y_N_wrt_uj(j)\n",
    "\n",
    "    tot_sum = 0\n",
    "    for x in points_to_evaluate:\n",
    "        tot_sum += addend_in_E_wrt_uj(x,j,alp,v0,v1,v2,v3,v4,w0,w1,w2,w3,w4,u0,u1,u2,u3,u4)\n",
    "    \n",
    "    return tot_sum\n",
    "\n",
    "# alpha = 0.5, let's derive wrt. j=2 ---> u2\n",
    "\n",
    "j = 0\n",
    "print(\"this is the derivative of E wrt to u%d, evaluated\"%j,\n",
    "     der_E_wrt_uj(0.7,j,v0,v1,v2,v3,v4,w0,w1,w2,w3,w4,u0,u1,u2,u3,u4))"
   ]
  },
  {
   "cell_type": "markdown",
   "metadata": {},
   "source": [
    "## 3 Update the weights"
   ]
  },
  {
   "cell_type": "code",
   "execution_count": 13,
   "metadata": {},
   "outputs": [
    {
     "data": {
      "text/plain": [
       "613.610130879954"
      ]
     },
     "execution_count": 13,
     "metadata": {},
     "output_type": "execute_result"
    }
   ],
   "source": [
    "E(0.5,*[v0,v1,v2,v3,v4,w0,w1,w2,w3,w4,u0,u1,u2,u3,u4])"
   ]
  },
  {
   "cell_type": "code",
   "execution_count": 64,
   "metadata": {},
   "outputs": [],
   "source": [
    "def update_weights(alp,h,v0,v1,v2,v3,v4,w0,w1,w2,w3,w4,u0,u1,u2,u3,u4,points_to_evaluate=points_to_evaluate):\n",
    "    ''' Inputs: alpha, h=learning_rate, Omega, points_to_evaluate.\n",
    "        Output: E, and new weights'''\n",
    "    \n",
    "    old_weights = [v0,v1,v2,v3,v4,w0,w1,w2,w3,w4,u0,u1,u2,u3,u4]\n",
    "    \n",
    "    new_weights = [np.nan]*15  # new weights = [v0',v1',v2',v3',v4',w0',w1',w2',w3',w4',u0',u1',u2',u3',u4']\n",
    "    for j in [0,1,2,3,4]:\n",
    "        vj_new = old_weights[j] - h*der_E_wrt_uj(alp,j,v0,v1,v2,v3,v4,w0,w1,w2,w3,w4,u0,u1,u2,u3,u4)\n",
    "        wj_new = old_weights[5+j] - h*der_E_wrt_wj(alp,j,v0,v1,v2,v3,v4,w0,w1,w2,w3,w4,u0,u1,u2,u3,u4)\n",
    "        uj_new = old_weights[10+j] - h*der_E_wrt_uj(alp,j,v0,v1,v2,v3,v4,w0,w1,w2,w3,w4,u0,u1,u2,u3,u4)\n",
    "        \n",
    "        new_weights[j] = vj_new\n",
    "        new_weights[j+5] = wj_new\n",
    "        new_weights[j+10] = uj_new\n",
    "    \n",
    "    #print(\"old weights = \", old_weights, \"\\n\")\n",
    "    #print(\"new weights = \", new_weights, \"\\n\")\n",
    "    \n",
    "    # Old Value of E and New value\n",
    "    old_val_E = E(alp,*old_weights)\n",
    "    new_val_E = E(alp,*new_weights)\n",
    "    #print(\"old_value_of_E = \", old_val_E)\n",
    "    #print(\"new_value_of_E = \", new_val_E)\n",
    "    \n",
    "    return new_weights, new_val_E, old_val_E\n",
    "        \n",
    "    "
   ]
  },
  {
   "cell_type": "code",
   "execution_count": 65,
   "metadata": {},
   "outputs": [
    {
     "data": {
      "text/plain": [
       "([9.583230341953847,\n",
       "  -32.10538458057768,\n",
       "  3.9061902573584573,\n",
       "  0.6739425636182546,\n",
       "  -0.057765889334950735,\n",
       "  7.942762825009882,\n",
       "  -29.828566673532997,\n",
       "  6.518567993713637,\n",
       "  -8.028253301672148,\n",
       "  -8.293244173152477,\n",
       "  7.864013843974872,\n",
       "  -13.45255664386698,\n",
       "  -8.687809114608761,\n",
       "  -4.05828981943845,\n",
       "  6.224513097655512],\n",
       " 572.4433308641281,\n",
       " 694.622146696717)"
      ]
     },
     "execution_count": 65,
     "metadata": {},
     "output_type": "execute_result"
    }
   ],
   "source": [
    "learn_rate = 0.2\n",
    "alp = 0.7\n",
    "\n",
    "update_weights(alp,learn_rate,v0,v1,v2,v3,v4,w0,w1,w2,w3,w4,u0,u1,u2,u3,u4)"
   ]
  },
  {
   "cell_type": "code",
   "execution_count": 75,
   "metadata": {},
   "outputs": [],
   "source": [
    "def iterate_updation_of_weights(nr_iterations,alp,learn_rate,v0,v1,v2,v3,v4,w0,w1,w2,w3,w4,u0,u1,u2,u3,u4):\n",
    "    \n",
    "    weights = [v0,v1,v2,v3,v4,w0,w1,w2,w3,w4,u0,u1,u2,u3,u4]\n",
    "    \n",
    "    weights_df = pd.DataFrame(data = {\"E/Loss function\": E(alp,*weights), \n",
    "                                  \"weights\": [weights]})\n",
    "    \n",
    "    for i in range(nr_iterations):\n",
    "        weights, new_E, old_E = update_weights(alp,learn_rate,*weights)\n",
    "        \n",
    "        new_weights_df = pd.DataFrame(data = {\"E/Loss function\": new_E, \n",
    "                                  \"weights\": [weights]})\n",
    "        \n",
    "        weights_df = weights_df.append(new_weights_df)\n",
    "    \n",
    "    weights_df.index = list(range(0,nr_iterations+1))\n",
    "    weights_df.index = weights_df.index.rename(\"iteration\")\n",
    "    \n",
    "    weights_df\n",
    "    \n",
    "    return weights_df\n",
    "        \n",
    "        "
   ]
  },
  {
   "cell_type": "code",
   "execution_count": 79,
   "metadata": {},
   "outputs": [
    {
     "data": {
      "text/html": [
       "<div>\n",
       "<style scoped>\n",
       "    .dataframe tbody tr th:only-of-type {\n",
       "        vertical-align: middle;\n",
       "    }\n",
       "\n",
       "    .dataframe tbody tr th {\n",
       "        vertical-align: top;\n",
       "    }\n",
       "\n",
       "    .dataframe thead th {\n",
       "        text-align: right;\n",
       "    }\n",
       "</style>\n",
       "<table border=\"1\" class=\"dataframe\">\n",
       "  <thead>\n",
       "    <tr style=\"text-align: right;\">\n",
       "      <th></th>\n",
       "      <th>E/Loss function</th>\n",
       "      <th>weights</th>\n",
       "    </tr>\n",
       "    <tr>\n",
       "      <th>iteration</th>\n",
       "      <th></th>\n",
       "      <th></th>\n",
       "    </tr>\n",
       "  </thead>\n",
       "  <tbody>\n",
       "    <tr>\n",
       "      <th>0</th>\n",
       "      <td>694.622147</td>\n",
       "      <td>[5.426412865334919, -9.58496101281197, 2.67296...</td>\n",
       "    </tr>\n",
       "    <tr>\n",
       "      <th>1</th>\n",
       "      <td>572.443331</td>\n",
       "      <td>[9.583230341953847, -32.10538458057768, 3.9061...</td>\n",
       "    </tr>\n",
       "    <tr>\n",
       "      <th>2</th>\n",
       "      <td>479.244808</td>\n",
       "      <td>[9.58603843108757, -32.105389003555345, -13.74...</td>\n",
       "    </tr>\n",
       "    <tr>\n",
       "      <th>3</th>\n",
       "      <td>478.347520</td>\n",
       "      <td>[9.588795332677943, -32.10539342511166, -13.74...</td>\n",
       "    </tr>\n",
       "    <tr>\n",
       "      <th>4</th>\n",
       "      <td>478.323105</td>\n",
       "      <td>[9.591553202115637, -32.10539787047095, -13.74...</td>\n",
       "    </tr>\n",
       "    <tr>\n",
       "      <th>5</th>\n",
       "      <td>478.647785</td>\n",
       "      <td>[9.594307047448288, -32.10540232352492, -13.74...</td>\n",
       "    </tr>\n",
       "  </tbody>\n",
       "</table>\n",
       "</div>"
      ],
      "text/plain": [
       "           E/Loss function                                            weights\n",
       "iteration                                                                    \n",
       "0               694.622147  [5.426412865334919, -9.58496101281197, 2.67296...\n",
       "1               572.443331  [9.583230341953847, -32.10538458057768, 3.9061...\n",
       "2               479.244808  [9.58603843108757, -32.105389003555345, -13.74...\n",
       "3               478.347520  [9.588795332677943, -32.10539342511166, -13.74...\n",
       "4               478.323105  [9.591553202115637, -32.10539787047095, -13.74...\n",
       "5               478.647785  [9.594307047448288, -32.10540232352492, -13.74..."
      ]
     },
     "execution_count": 79,
     "metadata": {},
     "output_type": "execute_result"
    }
   ],
   "source": [
    "nr_iterations = 5\n",
    "\n",
    "final_df = iterate_updation_of_weights(nr_iterations,alp,learn_rate,v0,v1,v2,v3,v4,w0,w1,w2,w3,w4,u0,u1,u2,u3,u4)\n",
    "\n",
    "final_df"
   ]
  },
  {
   "cell_type": "code",
   "execution_count": 86,
   "metadata": {},
   "outputs": [],
   "source": [
    "# DON'T RUN THE FOLLOWING. GIVES THE BEST RESULT"
   ]
  },
  {
   "cell_type": "code",
   "execution_count": 90,
   "metadata": {},
   "outputs": [
    {
     "data": {
      "text/html": [
       "<div>\n",
       "<style scoped>\n",
       "    .dataframe tbody tr th:only-of-type {\n",
       "        vertical-align: middle;\n",
       "    }\n",
       "\n",
       "    .dataframe tbody tr th {\n",
       "        vertical-align: top;\n",
       "    }\n",
       "\n",
       "    .dataframe thead th {\n",
       "        text-align: right;\n",
       "    }\n",
       "</style>\n",
       "<table border=\"1\" class=\"dataframe\">\n",
       "  <thead>\n",
       "    <tr style=\"text-align: right;\">\n",
       "      <th></th>\n",
       "      <th>iteration</th>\n",
       "      <th>E/Loss function</th>\n",
       "      <th>weights</th>\n",
       "    </tr>\n",
       "  </thead>\n",
       "  <tbody>\n",
       "    <tr>\n",
       "      <th>4996</th>\n",
       "      <td>4996</td>\n",
       "      <td>0.003928</td>\n",
       "      <td>[-13.469801294269992, -13.535127048417754, 5.8...</td>\n",
       "    </tr>\n",
       "    <tr>\n",
       "      <th>4997</th>\n",
       "      <td>4997</td>\n",
       "      <td>0.003927</td>\n",
       "      <td>[-13.469815100607562, -13.535225404893453, 5.8...</td>\n",
       "    </tr>\n",
       "    <tr>\n",
       "      <th>4998</th>\n",
       "      <td>4998</td>\n",
       "      <td>0.003926</td>\n",
       "      <td>[-13.469828904099295, -13.535323739151933, 5.8...</td>\n",
       "    </tr>\n",
       "    <tr>\n",
       "      <th>4999</th>\n",
       "      <td>4999</td>\n",
       "      <td>0.003925</td>\n",
       "      <td>[-13.469842704746512, -13.535422051202955, 5.8...</td>\n",
       "    </tr>\n",
       "    <tr>\n",
       "      <th>5000</th>\n",
       "      <td>5000</td>\n",
       "      <td>0.003924</td>\n",
       "      <td>[-13.469856502550538, -13.535520341056278, 5.8...</td>\n",
       "    </tr>\n",
       "  </tbody>\n",
       "</table>\n",
       "</div>"
      ],
      "text/plain": [
       "      iteration  E/Loss function  \\\n",
       "4996       4996         0.003928   \n",
       "4997       4997         0.003927   \n",
       "4998       4998         0.003926   \n",
       "4999       4999         0.003925   \n",
       "5000       5000         0.003924   \n",
       "\n",
       "                                                weights  \n",
       "4996  [-13.469801294269992, -13.535127048417754, 5.8...  \n",
       "4997  [-13.469815100607562, -13.535225404893453, 5.8...  \n",
       "4998  [-13.469828904099295, -13.535323739151933, 5.8...  \n",
       "4999  [-13.469842704746512, -13.535422051202955, 5.8...  \n",
       "5000  [-13.469856502550538, -13.535520341056278, 5.8...  "
      ]
     },
     "execution_count": 90,
     "metadata": {},
     "output_type": "execute_result"
    }
   ],
   "source": [
    "learn_rate = 0.01\n",
    "nr_iterations = 5000\n",
    "alp = 0.7\n",
    "\n",
    "np.random.seed(40)\n",
    "sampl = np.random.uniform(low=-10, high=10, size=(15,))\n",
    "v0,v1,v2,v3,v4,w0,w1,w2,w3,w4,u0,u1,u2,u3,u4 = sampl\n",
    "\n",
    "\n",
    "# final_df = iterate_updation_of_weights(nr_iterations,alp,learn_rate,v0,v1,v2,v3,v4,w0,w1,w2,w3,w4,u0,u1,u2,u3,u4)\n",
    "# final_df.to_csv('results_from_tests/best_results_example1_paper.csv')\n",
    "final_df = pd.read_csv('results_from_tests/best_results_example1_paper.csv')\n",
    "\n",
    "final_df.tail()"
   ]
  },
  {
   "cell_type": "code",
   "execution_count": null,
   "metadata": {},
   "outputs": [],
   "source": []
  }
 ],
 "metadata": {
  "kernelspec": {
   "display_name": "Python 3",
   "language": "python",
   "name": "python3"
  },
  "language_info": {
   "codemirror_mode": {
    "name": "ipython",
    "version": 3
   },
   "file_extension": ".py",
   "mimetype": "text/x-python",
   "name": "python",
   "nbconvert_exporter": "python",
   "pygments_lexer": "ipython3",
   "version": "3.7.0"
  }
 },
 "nbformat": 4,
 "nbformat_minor": 4
}
