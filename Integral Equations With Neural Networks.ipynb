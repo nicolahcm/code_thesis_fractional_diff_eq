{
 "cells": [
  {
   "cell_type": "markdown",
   "metadata": {},
   "source": [
    "here we will solve integral equations using neural networks"
   ]
  },
  {
   "cell_type": "code",
   "execution_count": 1,
   "metadata": {},
   "outputs": [],
   "source": [
    "import torch\n",
    "import torch.nn as nn\n",
    "import matplotlib.pyplot as plt\n",
    "import numpy as np"
   ]
  },
  {
   "cell_type": "markdown",
   "metadata": {},
   "source": [
    "# 1st Simple Example"
   ]
  },
  {
   "cell_type": "markdown",
   "metadata": {},
   "source": [
    "$$\\Psi' = \\alpha \\Psi $$\n",
    "\n",
    "Solution:\n",
    "\n",
    "$$\\Psi(t) = e^{\\alpha t}$$\n",
    "\n",
    "Integral form:\n",
    "\n",
    "$$\\Psi(t) = \\int_0^t \\alpha \\Psi(s) \\,ds + 1 $$"
   ]
  },
  {
   "cell_type": "markdown",
   "metadata": {},
   "source": [
    "# Let's write decently the loss function. Approximate integrals with rectangles"
   ]
  },
  {
   "cell_type": "code",
   "execution_count": 25,
   "metadata": {},
   "outputs": [],
   "source": [
    "alpha = 1\n",
    "\n",
    "N = nn.Sequential(nn.Linear(1, 5), nn.Sigmoid(), nn.Linear(5,1, bias=False))\n",
    "\n",
    "Psi_t = lambda x: N(x)\n",
    "f_integrand = lambda x, Psi: alpha*Psi\n",
    "psi_0 = 1\n",
    "\n",
    "Psi_real = lambda x: torch.exp(alpha*x)"
   ]
  },
  {
   "cell_type": "code",
   "execution_count": 26,
   "metadata": {},
   "outputs": [],
   "source": [
    "# Training Grid\n",
    "n_points = 100\n",
    "x_train = np.linspace(0, 2, n_points)[:, None]       # Train from 0 to 2\n",
    "x = torch.Tensor(x_train)\n",
    "x.requires_grad = True\n",
    "\n",
    "delta_x = 2/(n_points-1)"
   ]
  },
  {
   "cell_type": "code",
   "execution_count": 27,
   "metadata": {},
   "outputs": [],
   "source": [
    "def loss(x):\n",
    "    \n",
    "    outputs = N(x)   \n",
    "    sum_heights = N(x)\n",
    "    \n",
    "    for i in range(n_points):                    \n",
    "        sum_heights[i] = torch.sum(outputs[0:i])   #Sum of Heights of the left-rectangles\n",
    "        \n",
    "    final_loss = torch.mean( (outputs - alpha*delta_x*sum_heights - 1)  ** 2)\n",
    "    \n",
    "    print('loss is', final_loss)\n",
    "\n",
    "    return  final_loss"
   ]
  },
  {
   "cell_type": "code",
   "execution_count": 28,
   "metadata": {},
   "outputs": [],
   "source": [
    "optimizer = torch.optim.LBFGS(N.parameters(), lr=0.01) #SGD(N.parameters(), lr=1e-2, momentum=0.9)\n",
    "\n",
    "def closure():\n",
    "    optimizer.zero_grad()\n",
    "    l = loss(x)\n",
    "    l.backward()\n",
    "    # for p in N.parameters():\n",
    "    #    print(\"parameters are:\", p)\n",
    "    #    p.grad  # Access the gradients\n",
    "    \n",
    "    return l"
   ]
  },
  {
   "cell_type": "code",
   "execution_count": 178,
   "metadata": {},
   "outputs": [
    {
     "name": "stdout",
     "output_type": "stream",
     "text": [
      "loss is tensor(7.7550e-05, grad_fn=<MeanBackward0>)\n",
      "loss is tensor(7.7625e-05, grad_fn=<MeanBackward0>)\n",
      "loss is tensor(7.7798e-05, grad_fn=<MeanBackward0>)\n",
      "loss is tensor(7.7951e-05, grad_fn=<MeanBackward0>)\n",
      "loss is tensor(7.8132e-05, grad_fn=<MeanBackward0>)\n",
      "loss is tensor(7.8294e-05, grad_fn=<MeanBackward0>)\n",
      "loss is tensor(7.8486e-05, grad_fn=<MeanBackward0>)\n",
      "loss is tensor(7.8447e-05, grad_fn=<MeanBackward0>)\n",
      "loss is tensor(7.8698e-05, grad_fn=<MeanBackward0>)\n",
      "loss is tensor(7.8810e-05, grad_fn=<MeanBackward0>)\n",
      "loss is tensor(7.9056e-05, grad_fn=<MeanBackward0>)\n",
      "loss is tensor(7.9122e-05, grad_fn=<MeanBackward0>)\n",
      "loss is tensor(7.9131e-05, grad_fn=<MeanBackward0>)\n",
      "loss is tensor(7.9471e-05, grad_fn=<MeanBackward0>)\n",
      "loss is tensor(7.9460e-05, grad_fn=<MeanBackward0>)\n",
      "loss is tensor(7.9662e-05, grad_fn=<MeanBackward0>)\n",
      "loss is tensor(7.9774e-05, grad_fn=<MeanBackward0>)\n",
      "loss is tensor(7.9878e-05, grad_fn=<MeanBackward0>)\n",
      "loss is tensor(8.0140e-05, grad_fn=<MeanBackward0>)\n",
      "loss is tensor(8.0260e-05, grad_fn=<MeanBackward0>)\n"
     ]
    }
   ],
   "source": [
    "for i in range(1):\n",
    "    optimizer.step(closure)"
   ]
  },
  {
   "cell_type": "code",
   "execution_count": 179,
   "metadata": {},
   "outputs": [
    {
     "data": {
      "text/plain": [
       "[<matplotlib.lines.Line2D at 0x7f0b01f604e0>]"
      ]
     },
     "execution_count": 179,
     "metadata": {},
     "output_type": "execute_result"
    },
    {
     "data": {
      "image/png": "[encoded data removed]",
      "text/plain": [
       "<Figure size 432x288 with 1 Axes>"
      ]
     },
     "metadata": {
      "needs_background": "light"
     },
     "output_type": "display_data"
    }
   ],
   "source": [
    "fig, ax = plt.subplots()\n",
    "xx = x.tolist()\n",
    "yy = Psi_t(x)[:,0].tolist()\n",
    "yt = Psi_real(x).tolist()\n",
    "ax.plot(xx, yy)\n",
    "ax.plot(xx,yt)"
   ]
  },
  {
   "cell_type": "markdown",
   "metadata": {},
   "source": [
    "It worked with rectangles!!! \n",
    "Let's try with trapezoids. Maybe I understood, how it computed the gradient there was something not ok,because it computes the gradient through another function in which we apply strange things, which maybe pytorch cannot read. For example where maybe there was dependence on some parameters, butThe function cannot read, it will derivate to 0, because it is as if it is indipendent from that!"
   ]
  },
  {
   "cell_type": "markdown",
   "metadata": {},
   "source": []
  },
  {
   "cell_type": "markdown",
   "metadata": {},
   "source": [
    "## The same example but with Trapezoids"
   ]
  },
  {
   "cell_type": "code",
   "execution_count": 181,
   "metadata": {},
   "outputs": [],
   "source": [
    "alpha = 0.5\n",
    "\n",
    "N = nn.Sequential(nn.Linear(1, 5), nn.Sigmoid(), nn.Linear(5,1, bias=False))\n",
    "\n",
    "Psi_t = lambda x: N(x)\n",
    "f_integrand = lambda x, Psi: alpha*Psi\n",
    "psi_0 = 1\n",
    "\n",
    "Psi_real = lambda x: torch.exp(alpha*x)"
   ]
  },
  {
   "cell_type": "code",
   "execution_count": 183,
   "metadata": {},
   "outputs": [],
   "source": [
    "# Training Grid\n",
    "n_points = 100\n",
    "x_train = np.linspace(0, 2, n_points)[:, None]       # Train from 0 to 2\n",
    "x = torch.Tensor(x_train)\n",
    "x.requires_grad = True\n",
    "\n",
    "delta_x = 2/(n_points-1)"
   ]
  },
  {
   "cell_type": "code",
   "execution_count": 187,
   "metadata": {},
   "outputs": [],
   "source": [
    "def loss(x):\n",
    "    \n",
    "    outputs = N(x) \n",
    "    sum_basis_trapezoids = N(x)\n",
    "    \n",
    "    for i in range(n_points):\n",
    "        sum_basis_trapezoids[i] = torch.sum(outputs[0:i+1])\n",
    "        sum_basis_trapezoids[i] += torch.sum(outputs[1:i])\n",
    "    sum_basis_trapezoids[0] = 0\n",
    "    \n",
    "    # outputs_copy is the heights of trapezoids (0, f(x1), 2f(x2), 2f(x3), .... , f(xn))\n",
    "        \n",
    "    final_loss = torch.mean( (outputs - alpha*delta_x/2*sum_basis_trapezoids - 1)  ** 2)\n",
    "    \n",
    "    print('loss is', final_loss)\n",
    "\n",
    "    return  final_loss"
   ]
  },
  {
   "cell_type": "code",
   "execution_count": 188,
   "metadata": {},
   "outputs": [],
   "source": [
    "optimizer = torch.optim.LBFGS(N.parameters(), lr=0.1) #SGD(N.parameters(), lr=1e-2, momentum=0.9)\n",
    "\n",
    "def closure():\n",
    "    optimizer.zero_grad()\n",
    "    l = loss(x)\n",
    "    l.backward()\n",
    "    # for p in N.parameters():\n",
    "    #    print(\"parameters are:\", p)\n",
    "    #    p.grad  # Access the gradients\n",
    "    \n",
    "    return l"
   ]
  },
  {
   "cell_type": "code",
   "execution_count": 201,
   "metadata": {},
   "outputs": [
    {
     "name": "stdout",
     "output_type": "stream",
     "text": [
      "loss is tensor(8.9895e-08, grad_fn=<MeanBackward0>)\n",
      "loss is tensor(8.5413e-08, grad_fn=<MeanBackward0>)\n",
      "loss is tensor(8.0821e-08, grad_fn=<MeanBackward0>)\n",
      "loss is tensor(7.6526e-08, grad_fn=<MeanBackward0>)\n",
      "loss is tensor(7.2167e-08, grad_fn=<MeanBackward0>)\n",
      "loss is tensor(6.8083e-08, grad_fn=<MeanBackward0>)\n",
      "loss is tensor(6.3995e-08, grad_fn=<MeanBackward0>)\n",
      "loss is tensor(6.0142e-08, grad_fn=<MeanBackward0>)\n",
      "loss is tensor(5.5872e-08, grad_fn=<MeanBackward0>)\n",
      "loss is tensor(5.2221e-08, grad_fn=<MeanBackward0>)\n",
      "loss is tensor(4.8512e-08, grad_fn=<MeanBackward0>)\n",
      "loss is tensor(4.5789e-08, grad_fn=<MeanBackward0>)\n",
      "loss is tensor(4.3064e-08, grad_fn=<MeanBackward0>)\n",
      "loss is tensor(4.0549e-08, grad_fn=<MeanBackward0>)\n",
      "loss is tensor(3.8004e-08, grad_fn=<MeanBackward0>)\n",
      "loss is tensor(3.5020e-08, grad_fn=<MeanBackward0>)\n",
      "loss is tensor(3.2567e-08, grad_fn=<MeanBackward0>)\n",
      "loss is tensor(3.0607e-08, grad_fn=<MeanBackward0>)\n",
      "loss is tensor(2.8847e-08, grad_fn=<MeanBackward0>)\n",
      "loss is tensor(2.7252e-08, grad_fn=<MeanBackward0>)\n"
     ]
    }
   ],
   "source": [
    "for i in range(1):\n",
    "    optimizer.step(closure)"
   ]
  },
  {
   "cell_type": "code",
   "execution_count": 202,
   "metadata": {},
   "outputs": [
    {
     "data": {
      "text/plain": [
       "[<matplotlib.lines.Line2D at 0x7f0b01eee6a0>]"
      ]
     },
     "execution_count": 202,
     "metadata": {},
     "output_type": "execute_result"
    },
    {
     "data": {
      "image/png": "[encoded data removed]",
      "text/plain": [
       "<Figure size 432x288 with 1 Axes>"
      ]
     },
     "metadata": {
      "needs_background": "light"
     },
     "output_type": "display_data"
    }
   ],
   "source": [
    "fig, ax = plt.subplots()\n",
    "xx = x.tolist()\n",
    "yy = Psi_t(x)[:,0].tolist()\n",
    "yt = Psi_real(x).tolist()\n",
    "ax.plot(xx, yy, \"x\")\n",
    "ax.plot(xx,yt)"
   ]
  },
  {
   "cell_type": "markdown",
   "metadata": {},
   "source": [
    "worked really fast.\n",
    "\n",
    "## Obeservations:\n",
    "-1. If we increase the number of points, the computation increases a lot"
   ]
  },
  {
   "cell_type": "code",
   "execution_count": null,
   "metadata": {},
   "outputs": [],
   "source": []
  },
  {
   "cell_type": "markdown",
   "metadata": {},
   "source": [
    "# Replicating an example from Lagaris "
   ]
  },
  {
   "cell_type": "markdown",
   "metadata": {},
   "source": [
    "$$ \\psi(x) = \\int_0^x \\left( e^{-s/5}\\cos(s) - \\frac{1}{5}\\psi(s)\\right) \\,ds + \\psi(0)$$\n",
    "\n",
    "with $\\psi(0) = 0$ and $x\\in [0,2]$"
   ]
  },
  {
   "cell_type": "code",
   "execution_count": 203,
   "metadata": {},
   "outputs": [],
   "source": [
    "N = nn.Sequential(nn.Linear(1, 15), nn.Sigmoid(), nn.Linear(15,1, bias=False))\n",
    "\n",
    "Psi_t = lambda x: N(x)\n",
    "f_integrand = lambda x, Psi: torch.exp(-x/5)*torch.cos(x) - Psi/5\n",
    "psi_0 = 1\n",
    "\n",
    "Psi_real = lambda x: torch.exp(-x/5)*torch.sin(x)"
   ]
  },
  {
   "cell_type": "code",
   "execution_count": 204,
   "metadata": {},
   "outputs": [],
   "source": [
    "# Training Grid\n",
    "n_points = 100\n",
    "\n",
    "# t between [0,2]\n",
    "x_train = np.linspace(0, 2, n_points)[:, None]       # Train from 0 to 2\n",
    "x = torch.Tensor(x_train)\n",
    "x.requires_grad = True\n",
    "\n",
    "delta_x = 2/(n_points-1)"
   ]
  },
  {
   "cell_type": "code",
   "execution_count": 205,
   "metadata": {},
   "outputs": [],
   "source": [
    "def loss(x):\n",
    "    \n",
    "    outputs = N(x)   \n",
    "    f_to_integrate = f_integrand(x,outputs)\n",
    "    heights_f_to_integrate = f_integrand(x,outputs)\n",
    "    \n",
    "    for i in range(n_points):                    \n",
    "        heights_f_to_integrate[i] = torch.sum(f_to_integrate[0:i])   #Sum of Heights of the left-rectangles\n",
    "        \n",
    "    final_loss = torch.mean( (outputs - delta_x*heights_f_to_integrate )  ** 2)\n",
    "    \n",
    "    print('loss is', final_loss)\n",
    "\n",
    "    return  final_loss"
   ]
  },
  {
   "cell_type": "code",
   "execution_count": 206,
   "metadata": {},
   "outputs": [],
   "source": [
    "optimizer = torch.optim.LBFGS(N.parameters(), lr=0.1) #SGD(N.parameters(), lr=1e-2, momentum=0.9)\n",
    "\n",
    "def closure():\n",
    "    optimizer.zero_grad()\n",
    "    l = loss(x)\n",
    "    l.backward()\n",
    "    # for p in N.parameters():\n",
    "    #    print(\"parameters are:\", p)\n",
    "    #    p.grad  # Access the gradients\n",
    "    \n",
    "    return l"
   ]
  },
  {
   "cell_type": "code",
   "execution_count": 236,
   "metadata": {},
   "outputs": [
    {
     "name": "stdout",
     "output_type": "stream",
     "text": [
      "loss is tensor(4.8402e-07, grad_fn=<MeanBackward0>)\n",
      "loss is tensor(4.8376e-07, grad_fn=<MeanBackward0>)\n"
     ]
    },
    {
     "data": {
      "text/plain": [
       "tensor(4.8402e-07, grad_fn=<MeanBackward0>)"
      ]
     },
     "execution_count": 236,
     "metadata": {},
     "output_type": "execute_result"
    }
   ],
   "source": [
    "optimizer.step(closure)"
   ]
  },
  {
   "cell_type": "code",
   "execution_count": 237,
   "metadata": {},
   "outputs": [
    {
     "data": {
      "text/plain": [
       "[<matplotlib.lines.Line2D at 0x7f0b01a45a20>]"
      ]
     },
     "execution_count": 237,
     "metadata": {},
     "output_type": "execute_result"
    },
    {
     "data": {
      "image/png": "[encoded data removed]",
      "text/plain": [
       "<Figure size 432x288 with 1 Axes>"
      ]
     },
     "metadata": {
      "needs_background": "light"
     },
     "output_type": "display_data"
    }
   ],
   "source": [
    "fig, ax = plt.subplots()\n",
    "xx = x.tolist()\n",
    "yy = Psi_t(x)[:,0].tolist()\n",
    "yt = Psi_real(x).tolist()\n",
    "ax.plot(xx, yy)\n",
    "ax.plot(xx,yt)"
   ]
  },
  {
   "cell_type": "markdown",
   "metadata": {},
   "source": [
    "It worked really well"
   ]
  },
  {
   "cell_type": "markdown",
   "metadata": {},
   "source": [
    "# Question: can we use scipy module for integrating in the loss function of pytorch?"
   ]
  },
  {
   "cell_type": "markdown",
   "metadata": {},
   "source": [
    "preliminary: we can use scipy.integrate"
   ]
  },
  {
   "cell_type": "code",
   "execution_count": 2,
   "metadata": {},
   "outputs": [
    {
     "data": {
      "text/plain": [
       "(2.666666666666667, 2.960594732333751e-14)"
      ]
     },
     "execution_count": 2,
     "metadata": {},
     "output_type": "execute_result"
    }
   ],
   "source": [
    "import scipy.integrate as integrate                   # there exist many other methods in scipy to integrate. we \n",
    "                                                      # only try .quad\n",
    "function_to_integrate = lambda s: s**2\n",
    "result = integrate.quad(function_to_integrate, 0, 2)  #integrate between 0 and 2         \n",
    "result # where results[0] is the expected value, and results[1] is the absolute value\n"
   ]
  },
  {
   "cell_type": "markdown",
   "metadata": {},
   "source": [
    "Let's try now in pytorch"
   ]
  },
  {
   "cell_type": "code",
   "execution_count": 3,
   "metadata": {},
   "outputs": [],
   "source": [
    "alpha = 1\n",
    "\n",
    "N = nn.Sequential(nn.Linear(1, 5), nn.Sigmoid(), nn.Linear(5,1, bias=False))\n",
    "\n",
    "Psi_t = lambda x: N(x)\n",
    "f_integrand = lambda x, Psi: alpha*Psi\n",
    "psi_0 = 1\n",
    "Psi_real = lambda x: torch.exp(alpha*x)\n",
    "\n",
    "\n",
    "n_points = 10\n",
    "x_train = np.linspace(0, 2, n_points)[:, None]       # Train from 0 to 2\n",
    "x = torch.Tensor(x_train)\n",
    "x.requires_grad = True"
   ]
  },
  {
   "cell_type": "code",
   "execution_count": 4,
   "metadata": {},
   "outputs": [],
   "source": [
    "def N_asfunc(x):  \n",
    "    ''' takes as input a float and returns a float, instead of a tensor and returning a tensor'''\n",
    "    x = torch.tensor([np.float(x)])\n",
    "    result = N(x)[0].tolist()\n",
    "    return result"
   ]
  },
  {
   "cell_type": "code",
   "execution_count": 5,
   "metadata": {},
   "outputs": [
    {
     "data": {
      "text/plain": [
       "-0.42168354988098145"
      ]
     },
     "execution_count": 5,
     "metadata": {},
     "output_type": "execute_result"
    }
   ],
   "source": [
    "N_asfunc(0)"
   ]
  },
  {
   "cell_type": "code",
   "execution_count": 11,
   "metadata": {},
   "outputs": [
    {
     "data": {
      "text/plain": [
       "tensor([[-0.4217],\n",
       "        [-0.4184],\n",
       "        [-0.4137],\n",
       "        [-0.4076],\n",
       "        [-0.4002],\n",
       "        [-0.3915],\n",
       "        [-0.3817],\n",
       "        [-0.3709],\n",
       "        [-0.3592],\n",
       "        [-0.3469]], grad_fn=<MmBackward0>)"
      ]
     },
     "execution_count": 11,
     "metadata": {},
     "output_type": "execute_result"
    }
   ],
   "source": [
    "outputs = N(x) \n",
    "outputs"
   ]
  },
  {
   "cell_type": "code",
   "execution_count": 25,
   "metadata": {},
   "outputs": [
    {
     "data": {
      "text/plain": [
       "10"
      ]
     },
     "execution_count": 25,
     "metadata": {},
     "output_type": "execute_result"
    }
   ],
   "source": [
    "len(x)"
   ]
  },
  {
   "cell_type": "code",
   "execution_count": 28,
   "metadata": {},
   "outputs": [
    {
     "data": {
      "text/plain": [
       "tensor([[-0.0000],\n",
       "        [-0.0934],\n",
       "        [-0.1858],\n",
       "        [-0.2771],\n",
       "        [-0.3669],\n",
       "        [-0.4549],\n",
       "        [-0.5408],\n",
       "        [-0.6244],\n",
       "        [-0.7056],\n",
       "        [-0.7841]])"
      ]
     },
     "execution_count": 28,
     "metadata": {},
     "output_type": "execute_result"
    }
   ],
   "source": [
    "torch.tensor([integrate.quad(integrand_asfunc, 0, x.tolist()[i][0])[0] for i in range(len(x))])[:,None]"
   ]
  },
  {
   "cell_type": "code",
   "execution_count": 7,
   "metadata": {},
   "outputs": [],
   "source": [
    "def integrand_asfunc(x):\n",
    "    return alpha*N_asfunc(x)"
   ]
  },
  {
   "cell_type": "code",
   "execution_count": 30,
   "metadata": {},
   "outputs": [],
   "source": [
    "def loss(x):\n",
    "    \n",
    "    outputs = N(x)   \n",
    "    tensor_of_integrals = torch.tensor([integrate.quad(integrand_asfunc, 0, x.tolist()[i][0])[0] for i in range(len(x))])[:,None]\n",
    "\n",
    "    final_loss = torch.mean( (outputs - tensor_of_integrals ) ** 2)\n",
    "    \n",
    "    print('loss is', final_loss)\n",
    "\n",
    "    return  final_loss"
   ]
  },
  {
   "cell_type": "code",
   "execution_count": 31,
   "metadata": {},
   "outputs": [],
   "source": [
    "optimizer = torch.optim.LBFGS(N.parameters(), lr=0.01) #SGD(N.parameters(), lr=1e-2, momentum=0.9)\n",
    "\n",
    "def closure():\n",
    "    optimizer.zero_grad()\n",
    "    l = loss(x)\n",
    "    l.backward()\n",
    "    # for p in N.parameters():\n",
    "    #    print(\"parameters are:\", p)\n",
    "    #    p.grad  # Access the gradients\n",
    "    \n",
    "    return l"
   ]
  },
  {
   "cell_type": "code",
   "execution_count": 58,
   "metadata": {},
   "outputs": [
    {
     "name": "stderr",
     "output_type": "stream",
     "text": [
      "/home/nicola/.local/lib/python3.7/site-packages/ipykernel_launcher.py:4: IntegrationWarning: The occurrence of roundoff error is detected, which prevents \n",
      "  the requested tolerance from being achieved.  The error may be \n",
      "  underestimated.\n",
      "  after removing the cwd from sys.path.\n"
     ]
    },
    {
     "name": "stdout",
     "output_type": "stream",
     "text": [
      "loss is tensor(0.0014, grad_fn=<MeanBackward0>)\n",
      "loss is tensor(0.0014, grad_fn=<MeanBackward0>)\n",
      "loss is tensor(0.0014, grad_fn=<MeanBackward0>)\n",
      "loss is tensor(0.0013, grad_fn=<MeanBackward0>)\n",
      "loss is tensor(0.0013, grad_fn=<MeanBackward0>)\n",
      "loss is tensor(0.0012, grad_fn=<MeanBackward0>)\n",
      "loss is tensor(0.0012, grad_fn=<MeanBackward0>)\n",
      "loss is tensor(0.0012, grad_fn=<MeanBackward0>)\n",
      "loss is tensor(0.0012, grad_fn=<MeanBackward0>)\n",
      "loss is tensor(0.0011, grad_fn=<MeanBackward0>)\n",
      "loss is tensor(0.0011, grad_fn=<MeanBackward0>)\n",
      "loss is tensor(0.0011, grad_fn=<MeanBackward0>)\n",
      "loss is tensor(0.0010, grad_fn=<MeanBackward0>)\n",
      "loss is tensor(0.0010, grad_fn=<MeanBackward0>)\n",
      "loss is tensor(0.0010, grad_fn=<MeanBackward0>)\n",
      "loss is tensor(0.0010, grad_fn=<MeanBackward0>)\n",
      "loss is tensor(0.0009, grad_fn=<MeanBackward0>)\n",
      "loss is tensor(0.0009, grad_fn=<MeanBackward0>)\n",
      "loss is tensor(0.0009, grad_fn=<MeanBackward0>)\n",
      "loss is tensor(0.0009, grad_fn=<MeanBackward0>)\n",
      "loss is tensor(0.0008, grad_fn=<MeanBackward0>)\n",
      "loss is tensor(0.0008, grad_fn=<MeanBackward0>)\n",
      "loss is tensor(0.0008, grad_fn=<MeanBackward0>)\n",
      "loss is tensor(0.0008, grad_fn=<MeanBackward0>)\n",
      "loss is tensor(0.0008, grad_fn=<MeanBackward0>)\n",
      "loss is tensor(0.0008, grad_fn=<MeanBackward0>)\n",
      "loss is tensor(0.0007, grad_fn=<MeanBackward0>)\n",
      "loss is tensor(0.0007, grad_fn=<MeanBackward0>)\n",
      "loss is tensor(0.0007, grad_fn=<MeanBackward0>)\n",
      "loss is tensor(0.0007, grad_fn=<MeanBackward0>)\n",
      "loss is tensor(0.0007, grad_fn=<MeanBackward0>)\n",
      "loss is tensor(0.0007, grad_fn=<MeanBackward0>)\n",
      "loss is tensor(0.0006, grad_fn=<MeanBackward0>)\n",
      "loss is tensor(0.0006, grad_fn=<MeanBackward0>)\n",
      "loss is tensor(0.0006, grad_fn=<MeanBackward0>)\n",
      "loss is tensor(0.0006, grad_fn=<MeanBackward0>)\n",
      "loss is tensor(0.0006, grad_fn=<MeanBackward0>)\n",
      "loss is tensor(0.0006, grad_fn=<MeanBackward0>)\n",
      "loss is tensor(0.0006, grad_fn=<MeanBackward0>)\n",
      "loss is tensor(0.0005, grad_fn=<MeanBackward0>)\n",
      "loss is tensor(0.0005, grad_fn=<MeanBackward0>)\n",
      "loss is tensor(0.0005, grad_fn=<MeanBackward0>)\n",
      "loss is tensor(0.0005, grad_fn=<MeanBackward0>)\n",
      "loss is tensor(0.0005, grad_fn=<MeanBackward0>)\n",
      "loss is tensor(0.0005, grad_fn=<MeanBackward0>)\n",
      "loss is tensor(0.0005, grad_fn=<MeanBackward0>)\n",
      "loss is tensor(0.0005, grad_fn=<MeanBackward0>)\n",
      "loss is tensor(0.0005, grad_fn=<MeanBackward0>)\n",
      "loss is tensor(0.0004, grad_fn=<MeanBackward0>)\n",
      "loss is tensor(0.0004, grad_fn=<MeanBackward0>)\n",
      "loss is tensor(0.0004, grad_fn=<MeanBackward0>)\n",
      "loss is tensor(0.0004, grad_fn=<MeanBackward0>)\n",
      "loss is tensor(0.0004, grad_fn=<MeanBackward0>)\n",
      "loss is tensor(0.0004, grad_fn=<MeanBackward0>)\n",
      "loss is tensor(0.0004, grad_fn=<MeanBackward0>)\n",
      "loss is tensor(0.0004, grad_fn=<MeanBackward0>)\n",
      "loss is tensor(0.0004, grad_fn=<MeanBackward0>)\n",
      "loss is tensor(0.0004, grad_fn=<MeanBackward0>)\n",
      "loss is tensor(0.0004, grad_fn=<MeanBackward0>)\n",
      "loss is tensor(0.0004, grad_fn=<MeanBackward0>)\n",
      "loss is tensor(0.0004, grad_fn=<MeanBackward0>)\n",
      "loss is tensor(0.0003, grad_fn=<MeanBackward0>)\n",
      "loss is tensor(0.0003, grad_fn=<MeanBackward0>)\n",
      "loss is tensor(0.0003, grad_fn=<MeanBackward0>)\n",
      "loss is tensor(0.0003, grad_fn=<MeanBackward0>)\n",
      "loss is tensor(0.0003, grad_fn=<MeanBackward0>)\n",
      "loss is tensor(0.0003, grad_fn=<MeanBackward0>)\n",
      "loss is tensor(0.0003, grad_fn=<MeanBackward0>)\n",
      "loss is tensor(0.0003, grad_fn=<MeanBackward0>)\n",
      "loss is tensor(0.0003, grad_fn=<MeanBackward0>)\n",
      "loss is tensor(0.0003, grad_fn=<MeanBackward0>)\n",
      "loss is tensor(0.0003, grad_fn=<MeanBackward0>)\n",
      "loss is tensor(0.0003, grad_fn=<MeanBackward0>)\n",
      "loss is tensor(0.0003, grad_fn=<MeanBackward0>)\n",
      "loss is tensor(0.0003, grad_fn=<MeanBackward0>)\n",
      "loss is tensor(0.0003, grad_fn=<MeanBackward0>)\n",
      "loss is tensor(0.0003, grad_fn=<MeanBackward0>)\n",
      "loss is tensor(0.0003, grad_fn=<MeanBackward0>)\n",
      "loss is tensor(0.0003, grad_fn=<MeanBackward0>)\n",
      "loss is tensor(0.0003, grad_fn=<MeanBackward0>)\n",
      "loss is tensor(0.0002, grad_fn=<MeanBackward0>)\n",
      "loss is tensor(0.0002, grad_fn=<MeanBackward0>)\n",
      "loss is tensor(0.0002, grad_fn=<MeanBackward0>)\n",
      "loss is tensor(0.0002, grad_fn=<MeanBackward0>)\n",
      "loss is tensor(0.0002, grad_fn=<MeanBackward0>)\n",
      "loss is tensor(0.0002, grad_fn=<MeanBackward0>)\n",
      "loss is tensor(0.0002, grad_fn=<MeanBackward0>)\n",
      "loss is tensor(0.0002, grad_fn=<MeanBackward0>)\n",
      "loss is tensor(0.0002, grad_fn=<MeanBackward0>)\n",
      "loss is tensor(0.0002, grad_fn=<MeanBackward0>)\n",
      "loss is tensor(0.0002, grad_fn=<MeanBackward0>)\n",
      "loss is tensor(0.0002, grad_fn=<MeanBackward0>)\n",
      "loss is tensor(0.0002, grad_fn=<MeanBackward0>)\n",
      "loss is tensor(0.0002, grad_fn=<MeanBackward0>)\n",
      "loss is tensor(0.0002, grad_fn=<MeanBackward0>)\n",
      "loss is tensor(0.0002, grad_fn=<MeanBackward0>)\n",
      "loss is tensor(0.0002, grad_fn=<MeanBackward0>)\n",
      "loss is tensor(0.0002, grad_fn=<MeanBackward0>)\n",
      "loss is tensor(0.0002, grad_fn=<MeanBackward0>)\n",
      "loss is tensor(0.0002, grad_fn=<MeanBackward0>)\n",
      "loss is tensor(0.0002, grad_fn=<MeanBackward0>)\n",
      "loss is tensor(0.0002, grad_fn=<MeanBackward0>)\n",
      "loss is tensor(0.0002, grad_fn=<MeanBackward0>)\n",
      "loss is tensor(0.0002, grad_fn=<MeanBackward0>)\n",
      "loss is tensor(0.0002, grad_fn=<MeanBackward0>)\n",
      "loss is tensor(0.0002, grad_fn=<MeanBackward0>)\n",
      "loss is tensor(0.0002, grad_fn=<MeanBackward0>)\n",
      "loss is tensor(0.0002, grad_fn=<MeanBackward0>)\n",
      "loss is tensor(0.0002, grad_fn=<MeanBackward0>)\n",
      "loss is tensor(0.0002, grad_fn=<MeanBackward0>)\n",
      "loss is tensor(0.0002, grad_fn=<MeanBackward0>)\n",
      "loss is tensor(0.0002, grad_fn=<MeanBackward0>)\n",
      "loss is tensor(0.0002, grad_fn=<MeanBackward0>)\n",
      "loss is tensor(0.0002, grad_fn=<MeanBackward0>)\n",
      "loss is tensor(0.0002, grad_fn=<MeanBackward0>)\n",
      "loss is tensor(0.0001, grad_fn=<MeanBackward0>)\n",
      "loss is tensor(0.0001, grad_fn=<MeanBackward0>)\n",
      "loss is tensor(0.0001, grad_fn=<MeanBackward0>)\n",
      "loss is tensor(0.0001, grad_fn=<MeanBackward0>)\n",
      "loss is tensor(0.0001, grad_fn=<MeanBackward0>)\n",
      "loss is tensor(0.0001, grad_fn=<MeanBackward0>)\n",
      "loss is tensor(0.0001, grad_fn=<MeanBackward0>)\n",
      "loss is tensor(0.0001, grad_fn=<MeanBackward0>)\n",
      "loss is tensor(0.0001, grad_fn=<MeanBackward0>)\n",
      "loss is tensor(0.0001, grad_fn=<MeanBackward0>)\n",
      "loss is tensor(0.0001, grad_fn=<MeanBackward0>)\n",
      "loss is tensor(0.0001, grad_fn=<MeanBackward0>)\n",
      "loss is tensor(0.0001, grad_fn=<MeanBackward0>)\n",
      "loss is tensor(0.0001, grad_fn=<MeanBackward0>)\n",
      "loss is tensor(0.0001, grad_fn=<MeanBackward0>)\n",
      "loss is tensor(0.0001, grad_fn=<MeanBackward0>)\n",
      "loss is tensor(0.0001, grad_fn=<MeanBackward0>)\n",
      "loss is tensor(0.0001, grad_fn=<MeanBackward0>)\n",
      "loss is tensor(0.0001, grad_fn=<MeanBackward0>)\n",
      "loss is tensor(0.0001, grad_fn=<MeanBackward0>)\n",
      "loss is tensor(0.0001, grad_fn=<MeanBackward0>)\n",
      "loss is tensor(0.0001, grad_fn=<MeanBackward0>)\n",
      "loss is tensor(0.0001, grad_fn=<MeanBackward0>)\n",
      "loss is tensor(0.0001, grad_fn=<MeanBackward0>)\n",
      "loss is tensor(0.0001, grad_fn=<MeanBackward0>)\n",
      "loss is tensor(0.0001, grad_fn=<MeanBackward0>)\n",
      "loss is tensor(0.0001, grad_fn=<MeanBackward0>)\n",
      "loss is tensor(0.0001, grad_fn=<MeanBackward0>)\n",
      "loss is tensor(0.0001, grad_fn=<MeanBackward0>)\n",
      "loss is tensor(0.0001, grad_fn=<MeanBackward0>)\n",
      "loss is tensor(0.0001, grad_fn=<MeanBackward0>)\n",
      "loss is tensor(0.0001, grad_fn=<MeanBackward0>)\n",
      "loss is tensor(0.0001, grad_fn=<MeanBackward0>)\n",
      "loss is tensor(0.0001, grad_fn=<MeanBackward0>)\n",
      "loss is tensor(0.0001, grad_fn=<MeanBackward0>)\n",
      "loss is tensor(0.0001, grad_fn=<MeanBackward0>)\n",
      "loss is tensor(0.0001, grad_fn=<MeanBackward0>)\n",
      "loss is tensor(9.9286e-05, grad_fn=<MeanBackward0>)\n",
      "loss is tensor(9.8310e-05, grad_fn=<MeanBackward0>)\n",
      "loss is tensor(9.7317e-05, grad_fn=<MeanBackward0>)\n",
      "loss is tensor(9.6309e-05, grad_fn=<MeanBackward0>)\n",
      "loss is tensor(9.5154e-05, grad_fn=<MeanBackward0>)\n",
      "loss is tensor(9.4014e-05, grad_fn=<MeanBackward0>)\n",
      "loss is tensor(9.2909e-05, grad_fn=<MeanBackward0>)\n",
      "loss is tensor(9.1857e-05, grad_fn=<MeanBackward0>)\n",
      "loss is tensor(9.0862e-05, grad_fn=<MeanBackward0>)\n",
      "loss is tensor(8.9932e-05, grad_fn=<MeanBackward0>)\n",
      "loss is tensor(8.9003e-05, grad_fn=<MeanBackward0>)\n",
      "loss is tensor(8.8156e-05, grad_fn=<MeanBackward0>)\n",
      "loss is tensor(8.7302e-05, grad_fn=<MeanBackward0>)\n",
      "loss is tensor(8.6429e-05, grad_fn=<MeanBackward0>)\n",
      "loss is tensor(8.5531e-05, grad_fn=<MeanBackward0>)\n",
      "loss is tensor(8.4526e-05, grad_fn=<MeanBackward0>)\n",
      "loss is tensor(8.3517e-05, grad_fn=<MeanBackward0>)\n",
      "loss is tensor(8.2505e-05, grad_fn=<MeanBackward0>)\n"
     ]
    },
    {
     "name": "stdout",
     "output_type": "stream",
     "text": [
      "loss is tensor(8.1520e-05, grad_fn=<MeanBackward0>)\n",
      "loss is tensor(8.0582e-05, grad_fn=<MeanBackward0>)\n",
      "loss is tensor(7.9702e-05, grad_fn=<MeanBackward0>)\n",
      "loss is tensor(7.8885e-05, grad_fn=<MeanBackward0>)\n",
      "loss is tensor(7.8104e-05, grad_fn=<MeanBackward0>)\n",
      "loss is tensor(7.7338e-05, grad_fn=<MeanBackward0>)\n",
      "loss is tensor(7.6616e-05, grad_fn=<MeanBackward0>)\n",
      "loss is tensor(7.5900e-05, grad_fn=<MeanBackward0>)\n",
      "loss is tensor(7.5186e-05, grad_fn=<MeanBackward0>)\n",
      "loss is tensor(7.4469e-05, grad_fn=<MeanBackward0>)\n",
      "loss is tensor(7.3746e-05, grad_fn=<MeanBackward0>)\n",
      "loss is tensor(7.3010e-05, grad_fn=<MeanBackward0>)\n",
      "loss is tensor(7.2246e-05, grad_fn=<MeanBackward0>)\n",
      "loss is tensor(7.1387e-05, grad_fn=<MeanBackward0>)\n",
      "loss is tensor(7.0609e-05, grad_fn=<MeanBackward0>)\n",
      "loss is tensor(6.9881e-05, grad_fn=<MeanBackward0>)\n",
      "loss is tensor(6.9196e-05, grad_fn=<MeanBackward0>)\n",
      "loss is tensor(6.8538e-05, grad_fn=<MeanBackward0>)\n",
      "loss is tensor(6.7852e-05, grad_fn=<MeanBackward0>)\n",
      "loss is tensor(6.7193e-05, grad_fn=<MeanBackward0>)\n",
      "loss is tensor(6.6532e-05, grad_fn=<MeanBackward0>)\n",
      "loss is tensor(6.5859e-05, grad_fn=<MeanBackward0>)\n",
      "loss is tensor(6.5110e-05, grad_fn=<MeanBackward0>)\n",
      "loss is tensor(6.4441e-05, grad_fn=<MeanBackward0>)\n",
      "loss is tensor(6.3817e-05, grad_fn=<MeanBackward0>)\n",
      "loss is tensor(6.3189e-05, grad_fn=<MeanBackward0>)\n",
      "loss is tensor(6.2554e-05, grad_fn=<MeanBackward0>)\n",
      "loss is tensor(6.1926e-05, grad_fn=<MeanBackward0>)\n",
      "loss is tensor(6.1294e-05, grad_fn=<MeanBackward0>)\n",
      "loss is tensor(6.0633e-05, grad_fn=<MeanBackward0>)\n"
     ]
    }
   ],
   "source": [
    "for i in range(10):\n",
    "    optimizer.step(closure)"
   ]
  },
  {
   "cell_type": "code",
   "execution_count": 59,
   "metadata": {},
   "outputs": [
    {
     "data": {
      "text/plain": [
       "[<matplotlib.lines.Line2D at 0x7fcc8ea19358>]"
      ]
     },
     "execution_count": 59,
     "metadata": {},
     "output_type": "execute_result"
    },
    {
     "data": {
      "image/png": "[encoded data removed]",
      "text/plain": [
       "<Figure size 432x288 with 1 Axes>"
      ]
     },
     "metadata": {
      "needs_background": "light"
     },
     "output_type": "display_data"
    }
   ],
   "source": [
    "fig, ax = plt.subplots()\n",
    "xx = x.tolist()\n",
    "yy = Psi_t(x)[:,0].tolist()\n",
    "yt = Psi_real(x).tolist()\n",
    "ax.plot(xx, yy, \"x\")\n",
    "ax.plot(xx,yt)"
   ]
  },
  {
   "cell_type": "markdown",
   "metadata": {},
   "source": [
    "It doesn't work"
   ]
  },
  {
   "cell_type": "markdown",
   "metadata": {},
   "source": [
    "# Let's try with the package torchquad"
   ]
  },
  {
   "cell_type": "code",
   "execution_count": 77,
   "metadata": {},
   "outputs": [],
   "source": [
    "import sys\n",
    "import os\n",
    "sys.path.append(os.path.join(\".\",\"torchquad-main\"))\n",
    "import torchquad"
   ]
  },
  {
   "cell_type": "code",
   "execution_count": 105,
   "metadata": {},
   "outputs": [
    {
     "name": "stderr",
     "output_type": "stream",
     "text": [
      "23:12:50|TQ-INFO| Computed integral was tensor(2.6683)\n"
     ]
    }
   ],
   "source": [
    "def some_function(x):\n",
    "    return x**2\n",
    "\n",
    "mc = MonteCarlo()\n",
    "\n",
    "# Compute the function integral by sampling 10000 points over domain \n",
    "# integrates between 0 and 2\n",
    "integral_value = mc.integrate(some_function,dim=1,N=1000000,integration_domain = [[0,2]])"
   ]
  },
  {
   "cell_type": "markdown",
   "metadata": {},
   "source": [
    "Problem is that we need to use again torch.tensor, and I doubt it will work in the loss function. Pytorch again \n",
    "won't understand. We need to convert the extreme of the integration_domain from tensors to numbers, and then..."
   ]
  },
  {
   "cell_type": "markdown",
   "metadata": {},
   "source": [
    "# With Nelder-Mead method"
   ]
  },
  {
   "cell_type": "code",
   "execution_count": 333,
   "metadata": {},
   "outputs": [],
   "source": [
    "import copy\n",
    "\n",
    "'''\n",
    "    Pure Python/Numpy implementation of the Nelder-Mead algorithm.\n",
    "    Reference: https://en.wikipedia.org/wiki/Nelder%E2%80%93Mead_method\n",
    "'''\n",
    "\n",
    "\n",
    "def nelder_mead(f, x_start,\n",
    "                step=0.1, no_improve_thr=10e-6,\n",
    "                no_improv_break=10, max_iter=0,\n",
    "                alpha=1., gamma=2., rho=-0.5, sigma=0.5):\n",
    "    '''\n",
    "        @param f (function): function to optimize, must return a scalar score\n",
    "            and operate over a numpy array of the same dimensions as x_start\n",
    "        @param x_start (numpy array): initial position\n",
    "        @param step (float): look-around radius in initial step\n",
    "        @no_improv_thr,  no_improv_break (float, int): break after no_improv_break iterations with\n",
    "            an improvement lower than no_improv_thr\n",
    "        @max_iter (int): always break after this number of iterations.\n",
    "            Set it to 0 to loop indefinitely.\n",
    "        @alpha, gamma, rho, sigma (floats): parameters of the algorithm\n",
    "            (see Wikipedia page for reference)\n",
    "        return: tuple (best parameter array, best score)\n",
    "    '''\n",
    "\n",
    "    # init\n",
    "    dim = len(x_start)\n",
    "    prev_best = f(x_start)\n",
    "    no_improv = 0\n",
    "    res = [[x_start, prev_best]]\n",
    "\n",
    "    for i in range(dim):\n",
    "        x = copy.copy(x_start)\n",
    "        x[i] = x[i] + step\n",
    "        score = f(x)\n",
    "        res.append([x, score])\n",
    "\n",
    "    # simplex iter\n",
    "    iters = 0\n",
    "    while 1:\n",
    "        # order\n",
    "        res.sort(key=lambda x: x[1])\n",
    "        best = res[0][1]\n",
    "\n",
    "        # break after max_iter\n",
    "        if max_iter and iters >= max_iter:\n",
    "            return res[0]\n",
    "        iters += 1\n",
    "\n",
    "        # break after no_improv_break iterations with no improvement\n",
    "        print('...best so far:', best)\n",
    "\n",
    "        if best < prev_best - no_improve_thr:\n",
    "            no_improv = 0\n",
    "            prev_best = best\n",
    "        else:\n",
    "            no_improv += 1\n",
    "\n",
    "        if no_improv >= no_improv_break:\n",
    "            return res[0]\n",
    "\n",
    "        # centroid\n",
    "        x0 = [0.] * dim\n",
    "        for tup in res[:-1]:\n",
    "            for i, c in enumerate(tup[0]):\n",
    "                x0[i] += c / (len(res)-1)\n",
    "\n",
    "        # reflection\n",
    "        xr = x0 + alpha*(x0 - res[-1][0])\n",
    "        rscore = f(xr)\n",
    "        if res[0][1] <= rscore < res[-2][1]:\n",
    "            del res[-1]\n",
    "            res.append([xr, rscore])\n",
    "            continue\n",
    "\n",
    "        # expansion\n",
    "        if rscore < res[0][1]:\n",
    "            xe = x0 + gamma*(x0 - res[-1][0])\n",
    "            escore = f(xe)\n",
    "            if escore < rscore:\n",
    "                del res[-1]\n",
    "                res.append([xe, escore])\n",
    "                continue\n",
    "            else:\n",
    "                del res[-1]\n",
    "                res.append([xr, rscore])\n",
    "                continue\n",
    "\n",
    "        # contraction\n",
    "        xc = x0 + rho*(x0 - res[-1][0])\n",
    "        cscore = f(xc)\n",
    "        if cscore < res[-1][1]:\n",
    "            del res[-1]\n",
    "            res.append([xc, cscore])\n",
    "            continue\n",
    "\n",
    "        # reduction\n",
    "        x1 = res[0][0]\n",
    "        nres = []\n",
    "        for tup in res:\n",
    "            redx = x1 + sigma*(tup[0] - x1)\n",
    "            score = f(redx)\n",
    "            nres.append([redx, score])\n",
    "        res = nres\n",
    "\n",
    "\n",
    "if __name__ == \"__main__\":\n",
    "    # test\n",
    "    import math\n",
    "    import numpy as np\n",
    "\n",
    "    \n",
    "n_points = 10\n",
    "x_train = np.linspace(0, 2, n_points)[:, None]       # Train from 0 to 2\n",
    "x_train = torch.Tensor(x_train)\n",
    "x_train.requires_grad = True\n",
    "\n",
    "\n",
    "def loss_op(fin_weights): \n",
    "    ''' x will be the vector of weights and bias'''\n",
    "\n",
    "    nr_nodes = int(len(fin_weights)/3)\n",
    "    w_i = fin_weights[0:nr_nodes]\n",
    "    u_i = fin_weights[nr_nodes:nr_nodes*2]\n",
    "    v_i = fin_weights[nr_nodes*2:]\n",
    "\n",
    "    # Setting the weights of the Neural network to these new values (in the iteration process of \n",
    "    # the optimization)\n",
    "    with torch.no_grad():\n",
    "        for i in range(nr_nodes):\n",
    "            N[0].weight[i,0] = w_i[i]\n",
    "            N[0].bias[i] = u_i[i]\n",
    "            N[2].weight[0,i] = v_i[i]\n",
    "\n",
    "    outputs = N(x)   \n",
    "    f_to_integrate = f_integrand(x,outputs)\n",
    "    heights_f_to_integrate = f_integrand(x,outputs)\n",
    "    \n",
    "    for i in range(n_points):                    \n",
    "        heights_f_to_integrate[i] = torch.sum(f_to_integrate[0:i])   #Sum of Heights of the left-rectangles\n",
    "        \n",
    "    final_loss = torch.mean( (outputs - delta_x*heights_f_to_integrate )  ** 2)\n",
    "    final_loss = final_loss.tolist()  # Number float and not anymore a tensor\n",
    "    return final_loss\n",
    "        \n",
    "    "
   ]
  },
  {
   "cell_type": "code",
   "execution_count": 337,
   "metadata": {},
   "outputs": [
    {
     "name": "stdout",
     "output_type": "stream",
     "text": [
      "...best so far: 0.003420464461669326\n",
      "...best so far: 0.003420464461669326\n",
      "...best so far: 0.003420464461669326\n",
      "...best so far: 0.003420464461669326\n",
      "...best so far: 0.003420464461669326\n",
      "...best so far: 0.003420464461669326\n",
      "...best so far: 0.003420464461669326\n",
      "...best so far: 0.003420464461669326\n",
      "...best so far: 0.003420464461669326\n",
      "...best so far: 0.003420464461669326\n",
      "...best so far: 0.003420464461669326\n",
      "[array([ 2.3991735 ,  0.8022539 ,  2.03959703,  0.81327921,  1.50482309,\n",
      "        2.85733628, -0.25228292,  0.25503534,  0.98561072,  0.70426893,\n",
      "        0.32308626, -1.05398786,  3.03657866, -2.63719869,  2.39063096,\n",
      "       -0.54464903,  0.84366369, -0.98945355, -0.00550606,  1.51651585,\n",
      "        2.08776975,  0.73210138,  1.93629658,  0.18661892,  0.31712887,\n",
      "        0.56173474,  0.50667632,  2.07447004,  0.51618749,  2.02005005,\n",
      "       -1.9057821 , -1.32584381,  2.92756796, -0.74598569,  0.41511527,\n",
      "        0.41904402,  1.12991488,  1.33012557, -1.69102061, -0.24754898,\n",
      "       -1.13718617,  0.33736974,  0.49435207, -0.44024852,  0.15963389]), 0.003420464461669326]\n",
      "...best so far: 0.003680577501654625\n",
      "...best so far: 0.003680577501654625\n",
      "...best so far: 0.003680577501654625\n",
      "...best so far: 0.003680577501654625\n",
      "...best so far: 0.003680577501654625\n",
      "...best so far: 0.003680577501654625\n",
      "...best so far: 0.003680577501654625\n",
      "...best so far: 0.003680577501654625\n",
      "...best so far: 0.003680577501654625\n",
      "...best so far: 0.003680577501654625\n",
      "...best so far: 0.003680577501654625\n",
      "[array([ 2.40574694e+00,  8.08827221e-01,  2.04617047e+00,  8.19852531e-01,\n",
      "        1.51139641e+00,  2.86390972e+00, -2.45709583e-01,  2.61608660e-01,\n",
      "        9.92184043e-01,  7.10842252e-01,  3.29659581e-01, -1.04741454e+00,\n",
      "        3.04315209e+00, -2.63062525e+00,  2.39720440e+00, -6.38075709e-01,\n",
      "        8.50237012e-01, -9.82880235e-01,  1.06727623e-03,  1.52308917e+00,\n",
      "        2.09434319e+00,  7.38674700e-01,  1.94286990e+00,  1.93192258e-01,\n",
      "        3.23702186e-01,  5.68308055e-01,  5.13249636e-01,  2.08104348e+00,\n",
      "        5.22760808e-01,  2.02662349e+00, -1.90912080e+00, -1.32962310e+00,\n",
      "        3.03414140e+00, -7.39412367e-01,  4.10395324e-01,  4.13297921e-01,\n",
      "        1.13648820e+00,  1.32588625e+00, -1.69393754e+00, -2.50062078e-01,\n",
      "       -1.23505723e+00,  3.43943059e-01,  4.88058448e-01, -4.33675200e-01,\n",
      "        1.54412031e-01]), 0.003680577501654625]\n",
      "...best so far: 0.002990629291161895\n",
      "...best so far: 0.002990629291161895\n",
      "...best so far: 0.002990629291161895\n",
      "...best so far: 0.002990629291161895\n",
      "...best so far: 0.002990629291161895\n",
      "...best so far: 0.002990629291161895\n",
      "...best so far: 0.002990629291161895\n",
      "...best so far: 0.002990629291161895\n",
      "...best so far: 0.002990629291161895\n",
      "...best so far: 0.002990629291161895\n",
      "...best so far: 0.0025629710871726274\n",
      "...best so far: 0.0025629710871726274\n",
      "...best so far: 0.0025629710871726274\n",
      "...best so far: 0.0025629710871726274\n",
      "...best so far: 0.0025629710871726274\n",
      "...best so far: 0.0025629710871726274\n",
      "...best so far: 0.0025629710871726274\n",
      "...best so far: 0.0025629710871726274\n",
      "...best so far: 0.0025629710871726274\n",
      "...best so far: 0.0025629710871726274\n",
      "...best so far: 0.0025629710871726274\n",
      "[array([ 2.41060229,  0.80375512,  2.05350395,  0.81446425,  1.51872976,\n",
      "        2.8712432 , -0.2383762 ,  0.26894205,  0.98577354,  0.71817567,\n",
      "        0.32263824, -1.04008118,  3.05048557, -2.62329177,  2.40453787,\n",
      "       -0.58185343,  0.85519787, -1.07999126,  0.00612906,  1.53042253,\n",
      "        2.10167666,  0.74600812,  1.95020326,  0.19682074,  0.33103557,\n",
      "        0.56248241,  0.52058305,  2.08837696,  0.53009422,  2.03395696,\n",
      "       -1.90178744, -1.32228975,  2.94147487, -0.73207895,  0.41772871,\n",
      "        0.4183597 ,  1.14382156,  1.33321961, -1.68660418, -0.24272869,\n",
      "       -1.22772388,  0.35127645,  0.49309499, -0.42634181,  0.16174542]), 0.0025629710871726274]\n",
      "...best so far: 0.002413518028333783\n",
      "...best so far: 0.002413518028333783\n",
      "...best so far: 0.002413518028333783\n",
      "...best so far: 0.002413518028333783\n",
      "...best so far: 0.002413518028333783\n",
      "...best so far: 0.002413518028333783\n",
      "...best so far: 0.002413518028333783\n",
      "...best so far: 0.002413518028333783\n",
      "...best so far: 0.002413518028333783\n",
      "...best so far: 0.002413518028333783\n",
      "...best so far: 0.002413518028333783\n",
      "[array([ 2.40237427e+00,  8.02539289e-01,  2.05552197e+00,  8.13104689e-01,\n",
      "        1.52074778e+00,  2.87326121e+00, -2.36358166e-01,  2.70960063e-01,\n",
      "        9.84009504e-01,  6.15749240e-01,  3.20706099e-01, -1.03806317e+00,\n",
      "        3.05250359e+00, -2.62127376e+00,  2.40655589e+00, -4.82368791e-01,\n",
      "        8.46038759e-01, -9.85332429e-01, -2.55443435e-03,  1.53244054e+00,\n",
      "        2.10369468e+00,  7.48026133e-01,  1.95222127e+00,  1.96039379e-01,\n",
      "        3.33053589e-01,  5.60879290e-01,  5.22601068e-01,  2.09039497e+00,\n",
      "        5.32112241e-01,  2.03597498e+00, -1.89976943e+00, -1.32027173e+00,\n",
      "        2.94349289e+00, -7.30060935e-01,  4.17374164e-01,  4.19567287e-01,\n",
      "        1.14583957e+00,  1.32615125e+00, -1.68458617e+00, -2.40710661e-01,\n",
      "       -1.22570586e+00,  3.53294462e-01,  4.94293571e-01, -4.33919489e-01,\n",
      "        1.60844967e-01]), 0.002413518028333783]\n",
      "...best so far: 0.002818972570821643\n",
      "...best so far: 0.002818972570821643\n",
      "...best so far: 0.002818972570821643\n",
      "...best so far: 0.002818972570821643\n",
      "...best so far: 0.002818972570821643\n",
      "...best so far: 0.002818972570821643\n",
      "...best so far: 0.002818972570821643\n",
      "...best so far: 0.002818972570821643\n",
      "...best so far: 0.002818972570821643\n",
      "...best so far: 0.002818972570821643\n",
      "...best so far: 0.002818972570821643\n",
      "[array([ 2.40894771,  0.80911261,  2.0620954 ,  0.81967801,  1.5273211 ,\n",
      "        2.87983465, -0.22978483,  0.27753338,  0.99058282,  0.62232256,\n",
      "        0.32727942, -1.03148985,  3.05907702, -2.61470032,  2.41312933,\n",
      "       -0.57579547,  0.85261208, -0.97875911,  0.0040189 ,  1.53901386,\n",
      "        2.11026812,  0.75459945,  1.95879459,  0.20261271,  0.33962691,\n",
      "        0.56745261,  0.52917439,  2.09696841,  0.53868556,  2.04254842,\n",
      "       -1.90310812, -1.32405102,  3.05006633, -0.72348762,  0.41265422,\n",
      "        0.41382119,  1.15241289,  1.32191193, -1.6875031 , -0.33858177,\n",
      "       -1.22821891,  0.35986778,  0.48799995, -0.42734617,  0.15562311]), 0.002818972570821643]\n",
      "...best so far: 0.0036155031993985176\n",
      "...best so far: 0.0036155031993985176\n",
      "...best so far: 0.0036155031993985176\n",
      "...best so far: 0.0036155031993985176\n",
      "...best so far: 0.0036155031993985176\n",
      "...best so far: 0.0036155031993985176\n",
      "...best so far: 0.0036155031993985176\n",
      "...best so far: 0.0036155031993985176\n",
      "...best so far: 0.0036155031993985176\n",
      "...best so far: 0.0036155031993985176\n",
      "...best so far: 0.0036155031993985176\n",
      "[array([ 2.31086683e+00,  8.05008531e-01,  2.06845903e+00,  8.16019356e-01,\n",
      "        1.53368461e+00,  2.88619828e+00, -2.23421291e-01,  2.83896923e-01,\n",
      "        9.85020101e-01,  6.28686130e-01,  3.21186662e-01, -1.02512634e+00,\n",
      "        3.06544065e+00, -2.60833669e+00,  2.41949296e+00, -4.71909964e-01,\n",
      "        8.49485338e-01, -9.72395539e-01,  1.29602291e-03,  1.54537737e+00,\n",
      "        2.11663175e+00,  7.60963023e-01,  1.96515810e+00,  1.97557509e-01,\n",
      "        3.45990449e-01,  5.62883317e-01,  5.35537958e-01,  2.10333204e+00,\n",
      "        5.45049131e-01,  2.04891205e+00, -1.89674461e+00, -1.31768751e+00,\n",
      "        2.95642996e+00, -7.17124045e-01,  4.19017762e-01,  4.20184731e-01,\n",
      "        1.15877640e+00,  1.32827544e+00, -1.68113959e+00, -3.32218230e-01,\n",
      "       -1.22185540e+00,  3.66231322e-01,  4.94363487e-01, -4.20982629e-01,\n",
      "        1.61986649e-01]), 0.0036155031993985176]\n",
      "...best so far: 0.0030610207468271255\n",
      "...best so far: 0.0030610207468271255\n",
      "...best so far: 0.0030610207468271255\n",
      "...best so far: 0.0030610207468271255\n",
      "...best so far: 0.0030610207468271255\n",
      "...best so far: 0.0030610207468271255\n",
      "...best so far: 0.0030610207468271255\n",
      "...best so far: 0.0030610207468271255\n",
      "...best so far: 0.0030183210037648678\n",
      "...best so far: 0.0030183210037648678\n",
      "...best so far: 0.0030183210037648678\n",
      "...best so far: 0.0030183210037648678\n",
      "...best so far: 0.0030183210037648678\n",
      "...best so far: 0.0030183210037648678\n",
      "...best so far: 0.0030183210037648678\n",
      "...best so far: 0.0030183210037648678\n",
      "...best so far: 0.0030183210037648678\n",
      "...best so far: 0.0030183210037648678\n",
      "...best so far: 0.0030183210037648678\n",
      "[array([ 2.32273287,  0.81687445,  2.08032507,  0.82788528,  1.54555053,\n",
      "        2.89806432, -0.21155536,  0.29576284,  0.98696689,  0.64055205,\n",
      "        0.3226926 , -1.01326042,  3.07730669, -2.59647065,  2.431359  ,\n",
      "       -0.56004404,  0.86135126, -1.06497406,  0.01316196,  1.55724329,\n",
      "        2.12849778,  0.77282894,  1.97702402,  0.20715184,  0.35785637,\n",
      "        0.56545977,  0.54740388,  2.11519808,  0.55691505,  2.06077809,\n",
      "       -1.8947907 , -1.3161742 ,  2.968296  , -0.70525813,  0.41959042,\n",
      "        0.41730565,  1.17064232,  1.32932872, -1.67876392, -0.32943871,\n",
      "       -1.31443387,  0.37809724,  0.49090993, -0.40911671,  0.15976055]), 0.0030183210037648678]\n",
      "...best so far: 0.0028126174584031105\n",
      "...best so far: 0.0028126174584031105\n",
      "...best so far: 0.0028126174584031105\n",
      "...best so far: 0.0028126174584031105\n",
      "...best so far: 0.0028126174584031105\n",
      "...best so far: 0.0028126174584031105\n",
      "...best so far: 0.0028126174584031105\n",
      "...best so far: 0.0028126174584031105\n",
      "...best so far: 0.0028126174584031105\n",
      "...best so far: 0.0028126174584031105\n",
      "...best so far: 0.0028126174584031105\n",
      "[array([ 2.32224846,  0.8075856 ,  2.0822134 ,  0.81907201,  1.54743874,\n",
      "        2.89995265, -0.20966709,  0.29765111,  0.98531628,  0.53799587,\n",
      "        0.32088467, -1.01137221,  3.07919502, -2.59458232,  2.43324733,\n",
      "       -0.46077266,  0.85321736, -0.97044498,  0.00545451,  1.5591315 ,\n",
      "        2.13038611,  0.77471721,  1.97891223,  0.20822965,  0.35974464,\n",
      "        0.56403381,  0.54929215,  2.11708641,  0.55880332,  2.06266642,\n",
      "       -1.89290249, -1.31428599,  2.97018433, -0.70336986,  0.41856021,\n",
      "        0.41832852,  1.17253053,  1.32857096, -1.67687571, -0.32755044,\n",
      "       -1.31254566,  0.37998551,  0.49192318, -0.41631487,  0.16082935]), 0.0028126174584031105]\n"
     ]
    },
    {
     "name": "stdout",
     "output_type": "stream",
     "text": [
      "...best so far: 0.003066946752369404\n",
      "...best so far: 0.003066946752369404\n",
      "...best so far: 0.003066946752369404\n",
      "...best so far: 0.003066946752369404\n",
      "...best so far: 0.003066946752369404\n",
      "...best so far: 0.003066946752369404\n",
      "...best so far: 0.003066946752369404\n",
      "...best so far: 0.003066946752369404\n",
      "...best so far: 0.003066946752369404\n",
      "...best so far: 0.003066946752369404\n",
      "...best so far: 0.003066946752369404\n",
      "[array([ 2.3288219 ,  0.81415892,  2.08878684,  0.82564533,  1.55401206,\n",
      "        2.90652609, -0.10309375,  0.30422443,  0.9918896 ,  0.54456919,\n",
      "        0.32745799, -1.00479889,  3.08576846, -2.58800888,  2.43982077,\n",
      "       -0.55419934,  0.85979068, -0.96387166,  0.01202784,  1.56570482,\n",
      "        2.13695955,  0.78129053,  1.98548555,  0.21480298,  0.36631796,\n",
      "        0.57060713,  0.55586547,  2.12365985,  0.56537664,  2.06923985,\n",
      "       -1.89624119, -1.31806529,  2.97675776, -0.69679654,  0.41384026,\n",
      "        0.41258243,  1.17910385,  1.32433164, -1.67979264, -0.42542157,\n",
      "       -1.31505871,  0.38655883,  0.48562956, -0.40974155,  0.15560749]), 0.003066946752369404]\n",
      "...best so far: 0.0024562901817262173\n",
      "...best so far: 0.0024562901817262173\n",
      "...best so far: 0.0024562901817262173\n",
      "...best so far: 0.0024562901817262173\n",
      "...best so far: 0.0024562901817262173\n",
      "...best so far: 0.0024562901817262173\n",
      "...best so far: 0.0024562901817262173\n",
      "...best so far: 0.0024562901817262173\n",
      "...best so far: 0.0024562901817262173\n",
      "...best so far: 0.0024562901817262173\n",
      "...best so far: 0.0024562901817262173\n",
      "[array([ 2.37930179,  0.81313288,  2.09037781,  0.82475817,  1.55560291,\n",
      "        2.90811706, -0.10150286,  0.30581531,  0.9904989 ,  0.5461601 ,\n",
      "        0.3259348 , -1.00320804,  3.08735943, -2.58641791,  2.44141173,\n",
      "       -0.5532555 ,  0.85900903, -0.96228075,  0.01134712,  1.56729567,\n",
      "        2.13855052,  0.78288144,  1.9870764 ,  0.21366066,  0.36790884,\n",
      "        0.56934333,  0.55745637,  2.12525082,  0.56696755,  2.07083082,\n",
      "       -1.89465034, -1.31647444,  2.97834873, -0.69520563,  0.41543114,\n",
      "        0.41417331,  1.1806947 ,  1.32592249, -1.67820179, -0.42383069,\n",
      "       -1.31346786,  0.38814971,  0.48722044, -0.40815067,  0.15719838]), 0.0024562901817262173]\n"
     ]
    }
   ],
   "source": [
    "for i in range(10):\n",
    "    w_i = N[0].weight[:,0].tolist()\n",
    "    u_i = N[0].bias.tolist()\n",
    "    v_i = N[2].weight[0,:].tolist()\n",
    "    weig = np.array(w_i + u_i + v_i)\n",
    "\n",
    "    print(nelder_mead(loss_op, weig))"
   ]
  },
  {
   "cell_type": "code",
   "execution_count": 339,
   "metadata": {},
   "outputs": [
    {
     "data": {
      "text/plain": [
       "[<matplotlib.lines.Line2D at 0x7f0b019015c0>]"
      ]
     },
     "execution_count": 339,
     "metadata": {},
     "output_type": "execute_result"
    },
    {
     "data": {
      "image/png": "[encoded data removed]",
      "text/plain": [
       "<Figure size 432x288 with 1 Axes>"
      ]
     },
     "metadata": {
      "needs_background": "light"
     },
     "output_type": "display_data"
    }
   ],
   "source": [
    "fig, ax = plt.subplots()\n",
    "xx = x.tolist()\n",
    "yy = Psi_t(x)[:,0].tolist()\n",
    "yt = Psi_real(x).tolist()\n",
    "ax.plot(xx, yy)\n",
    "ax.plot(xx,yt)"
   ]
  },
  {
   "cell_type": "markdown",
   "metadata": {},
   "source": [
    "Doesn't seem to work. But it is not important"
   ]
  },
  {
   "cell_type": "code",
   "execution_count": null,
   "metadata": {},
   "outputs": [],
   "source": []
  }
 ],
 "metadata": {
  "kernelspec": {
   "display_name": "Python 3",
   "language": "python",
   "name": "python3"
  },
  "language_info": {
   "codemirror_mode": {
    "name": "ipython",
    "version": 3
   },
   "file_extension": ".py",
   "mimetype": "text/x-python",
   "name": "python",
   "nbconvert_exporter": "python",
   "pygments_lexer": "ipython3",
   "version": "3.7.0"
  }
 },
 "nbformat": 4,
 "nbformat_minor": 4
}
