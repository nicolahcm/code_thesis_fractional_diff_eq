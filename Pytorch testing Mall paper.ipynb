{
 "cells": [
  {
   "cell_type": "code",
   "execution_count": 1,
   "metadata": {},
   "outputs": [],
   "source": [
    "import torch\n",
    "import torch.nn as nn\n",
    "import matplotlib.pyplot as plt\n",
    "import numpy as np"
   ]
  },
  {
   "cell_type": "markdown",
   "metadata": {},
   "source": [
    "# Example 1 in Mall paper with alpha=0.5\n",
    "\n"
   ]
  },
  {
   "cell_type": "code",
   "execution_count": 2,
   "metadata": {},
   "outputs": [],
   "source": [
    "N = nn.Sequential(nn.Linear(1, 5), nn.Sigmoid(), nn.Linear(5,1, bias=False))\n",
    "\n",
    "\n",
    "Psi_t = lambda x: x * N(x)  \n",
    "f = lambda x, Psi: x"
   ]
  },
  {
   "cell_type": "markdown",
   "metadata": {},
   "source": [
    "### We use formula 20 in the paper"
   ]
  },
  {
   "cell_type": "code",
   "execution_count": 3,
   "metadata": {},
   "outputs": [],
   "source": [
    "phi_prime = lambda x: torch.exp(-x)/torch.pow((1+torch.exp(-x)),2)"
   ]
  },
  {
   "cell_type": "code",
   "execution_count": 4,
   "metadata": {},
   "outputs": [],
   "source": [
    "alph = 0.5\n",
    "\n",
    "def loss(x):\n",
    "    \n",
    "    outputs = Psi_t(x) \n",
    "    \n",
    "    wj = N[0].weight.T[0]\n",
    "    uj = N[0].bias\n",
    "    vj = N[2].weight[0]\n",
    "    \n",
    "    D_alpha_N = 0\n",
    "    for j in range(len(wj)):\n",
    "        D_alpha_N += wj[j]*vj[j]*x**(1-alph)*phi_prime(wj[j]*x+uj[j])\n",
    "    \n",
    "    D_alph_y_n = x**(1-alph)*N(x) + D_alpha_N*x          # Vector tensor + scalar tensor = Vector tensor\n",
    "    \n",
    "    final_loss = torch.mean((D_alph_y_n - f(x, outputs))**2)\n",
    "    \n",
    "    print('loss is', final_loss)\n",
    "\n",
    "    return final_loss"
   ]
  },
  {
   "cell_type": "code",
   "execution_count": 5,
   "metadata": {},
   "outputs": [],
   "source": [
    "x_train = np.linspace(0, 1, 10)[:, None]\n",
    "x = torch.Tensor(x_train)\n",
    "x.requires_grad = True"
   ]
  },
  {
   "cell_type": "code",
   "execution_count": 6,
   "metadata": {},
   "outputs": [],
   "source": [
    "optimizer = torch.optim.LBFGS(N.parameters())\n",
    "\n",
    "def closure():\n",
    "\n",
    "    optimizer.zero_grad()\n",
    "    l = loss(x)\n",
    "    l.backward()\n",
    "    \n",
    "    return l"
   ]
  },
  {
   "cell_type": "code",
   "execution_count": 7,
   "metadata": {},
   "outputs": [
    {
     "name": "stdout",
     "output_type": "stream",
     "text": [
      "loss is tensor(0.1040, grad_fn=<MeanBackward0>)\n",
      "loss is tensor(0.0233, grad_fn=<MeanBackward0>)\n",
      "loss is tensor(0.0170, grad_fn=<MeanBackward0>)\n",
      "loss is tensor(0.0167, grad_fn=<MeanBackward0>)\n",
      "loss is tensor(0.0016, grad_fn=<MeanBackward0>)\n",
      "loss is tensor(0.0104, grad_fn=<MeanBackward0>)\n",
      "loss is tensor(0.0005, grad_fn=<MeanBackward0>)\n",
      "loss is tensor(0.0002, grad_fn=<MeanBackward0>)\n",
      "loss is tensor(0.0001, grad_fn=<MeanBackward0>)\n",
      "loss is tensor(0.0001, grad_fn=<MeanBackward0>)\n",
      "loss is tensor(0.0001, grad_fn=<MeanBackward0>)\n",
      "loss is tensor(0.0001, grad_fn=<MeanBackward0>)\n",
      "loss is tensor(0.0001, grad_fn=<MeanBackward0>)\n",
      "loss is tensor(0.0001, grad_fn=<MeanBackward0>)\n",
      "loss is tensor(0.0001, grad_fn=<MeanBackward0>)\n",
      "loss is tensor(9.5649e-05, grad_fn=<MeanBackward0>)\n",
      "loss is tensor(5.9649e-05, grad_fn=<MeanBackward0>)\n",
      "loss is tensor(0.0011, grad_fn=<MeanBackward0>)\n",
      "loss is tensor(5.4240e-05, grad_fn=<MeanBackward0>)\n",
      "loss is tensor(5.2647e-05, grad_fn=<MeanBackward0>)\n",
      "loss is tensor(5.1139e-05, grad_fn=<MeanBackward0>)\n",
      "loss is tensor(4.1979e-05, grad_fn=<MeanBackward0>)\n",
      "loss is tensor(3.8591e-05, grad_fn=<MeanBackward0>)\n",
      "loss is tensor(3.3751e-05, grad_fn=<MeanBackward0>)\n",
      "loss is tensor(2.9055e-05, grad_fn=<MeanBackward0>)\n",
      "loss is tensor(2.3119e-05, grad_fn=<MeanBackward0>)\n",
      "loss is tensor(1.8560e-05, grad_fn=<MeanBackward0>)\n",
      "loss is tensor(1.7070e-05, grad_fn=<MeanBackward0>)\n",
      "loss is tensor(1.6698e-05, grad_fn=<MeanBackward0>)\n",
      "loss is tensor(1.6664e-05, grad_fn=<MeanBackward0>)\n",
      "loss is tensor(1.6646e-05, grad_fn=<MeanBackward0>)\n",
      "loss is tensor(1.6452e-05, grad_fn=<MeanBackward0>)\n",
      "loss is tensor(1.6207e-05, grad_fn=<MeanBackward0>)\n",
      "loss is tensor(1.5785e-05, grad_fn=<MeanBackward0>)\n",
      "loss is tensor(1.5289e-05, grad_fn=<MeanBackward0>)\n",
      "loss is tensor(1.3559e-05, grad_fn=<MeanBackward0>)\n",
      "loss is tensor(1.3551e-05, grad_fn=<MeanBackward0>)\n",
      "loss is tensor(1.2593e-05, grad_fn=<MeanBackward0>)\n",
      "loss is tensor(1.2285e-05, grad_fn=<MeanBackward0>)\n",
      "loss is tensor(1.1589e-05, grad_fn=<MeanBackward0>)\n",
      "loss is tensor(1.1135e-05, grad_fn=<MeanBackward0>)\n",
      "loss is tensor(1.0473e-05, grad_fn=<MeanBackward0>)\n",
      "loss is tensor(1.0134e-05, grad_fn=<MeanBackward0>)\n",
      "loss is tensor(8.2651e-06, grad_fn=<MeanBackward0>)\n",
      "loss is tensor(7.1299e-06, grad_fn=<MeanBackward0>)\n",
      "loss is tensor(6.8520e-06, grad_fn=<MeanBackward0>)\n",
      "loss is tensor(6.0253e-06, grad_fn=<MeanBackward0>)\n",
      "loss is tensor(5.8557e-06, grad_fn=<MeanBackward0>)\n",
      "loss is tensor(4.3249e-06, grad_fn=<MeanBackward0>)\n",
      "loss is tensor(3.7303e-06, grad_fn=<MeanBackward0>)\n",
      "loss is tensor(2.4176e-06, grad_fn=<MeanBackward0>)\n",
      "loss is tensor(2.7752e-06, grad_fn=<MeanBackward0>)\n",
      "loss is tensor(2.2592e-06, grad_fn=<MeanBackward0>)\n",
      "loss is tensor(2.2237e-06, grad_fn=<MeanBackward0>)\n",
      "loss is tensor(1.9951e-06, grad_fn=<MeanBackward0>)\n",
      "loss is tensor(1.6714e-06, grad_fn=<MeanBackward0>)\n",
      "loss is tensor(1.2903e-06, grad_fn=<MeanBackward0>)\n",
      "loss is tensor(8.7430e-07, grad_fn=<MeanBackward0>)\n",
      "loss is tensor(9.6348e-07, grad_fn=<MeanBackward0>)\n",
      "loss is tensor(6.6730e-07, grad_fn=<MeanBackward0>)\n",
      "loss is tensor(6.6100e-07, grad_fn=<MeanBackward0>)\n",
      "loss is tensor(5.6413e-07, grad_fn=<MeanBackward0>)\n",
      "loss is tensor(4.0418e-07, grad_fn=<MeanBackward0>)\n",
      "loss is tensor(3.7749e-07, grad_fn=<MeanBackward0>)\n",
      "loss is tensor(3.5401e-07, grad_fn=<MeanBackward0>)\n",
      "loss is tensor(3.2486e-07, grad_fn=<MeanBackward0>)\n",
      "loss is tensor(2.8748e-07, grad_fn=<MeanBackward0>)\n",
      "loss is tensor(2.6629e-07, grad_fn=<MeanBackward0>)\n",
      "loss is tensor(2.6044e-07, grad_fn=<MeanBackward0>)\n",
      "loss is tensor(2.5836e-07, grad_fn=<MeanBackward0>)\n",
      "loss is tensor(2.5753e-07, grad_fn=<MeanBackward0>)\n",
      "loss is tensor(2.5753e-07, grad_fn=<MeanBackward0>)\n",
      "loss is tensor(2.5753e-07, grad_fn=<MeanBackward0>)\n",
      "loss is tensor(2.5753e-07, grad_fn=<MeanBackward0>)\n",
      "loss is tensor(2.5753e-07, grad_fn=<MeanBackward0>)\n",
      "loss is tensor(2.5753e-07, grad_fn=<MeanBackward0>)\n",
      "loss is tensor(2.5753e-07, grad_fn=<MeanBackward0>)\n"
     ]
    }
   ],
   "source": [
    "# Here train the neural network\n",
    "for i in range(10):\n",
    "    optimizer.step(closure)"
   ]
  },
  {
   "cell_type": "code",
   "execution_count": 8,
   "metadata": {},
   "outputs": [
    {
     "data": {
      "image/png": "[encoded data removed]",
      "text/plain": [
       "<Figure size 600x400 with 1 Axes>"
      ]
     },
     "metadata": {
      "needs_background": "light"
     },
     "output_type": "display_data"
    }
   ],
   "source": [
    "with torch.no_grad():\n",
    "    yy = Psi_t(torch.Tensor(x_train)).numpy()  \n",
    "yt = 2/3*x_train**(3/2)\n",
    "\n",
    "\n",
    "fig, ax = plt.subplots(dpi=100)\n",
    "ax.plot(x_train, yt, label='True')\n",
    "ax.plot(x_train, yy, '--', label='Neural network approximation')\n",
    "ax.set_xlabel('$x$')\n",
    "ax.set_ylabel('$Psi(x)$')\n",
    "plt.legend(loc='best');"
   ]
  },
  {
   "cell_type": "markdown",
   "metadata": {},
   "source": [
    "# Other Examples? 2 and 3?"
   ]
  },
  {
   "cell_type": "code",
   "execution_count": null,
   "metadata": {},
   "outputs": [],
   "source": []
  }
 ],
 "metadata": {
  "kernelspec": {
   "display_name": "Python 3",
   "language": "python",
   "name": "python3"
  },
  "language_info": {
   "codemirror_mode": {
    "name": "ipython",
    "version": 3
   },
   "file_extension": ".py",
   "mimetype": "text/x-python",
   "name": "python",
   "nbconvert_exporter": "python",
   "pygments_lexer": "ipython3",
   "version": "3.7.0"
  }
 },
 "nbformat": 4,
 "nbformat_minor": 5
}
