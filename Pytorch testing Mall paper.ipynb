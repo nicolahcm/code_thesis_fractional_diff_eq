{
 "cells": [
  {
   "cell_type": "code",
   "execution_count": 1,
   "metadata": {},
   "outputs": [],
   "source": [
    "import torch\n",
    "import torch.nn as nn\n",
    "import matplotlib.pyplot as plt\n",
    "import numpy as np"
   ]
  },
  {
   "cell_type": "markdown",
   "metadata": {},
   "source": [
    "# Example 1 in Mall paper with alpha=0.5\n",
    "\n"
   ]
  },
  {
   "cell_type": "code",
   "execution_count": 2,
   "metadata": {},
   "outputs": [],
   "source": [
    "N = nn.Sequential(nn.Linear(1, 5), nn.Sigmoid(), nn.Linear(5,1, bias=False))\n",
    "\n",
    "\n",
    "Psi_t = lambda x: x * N(x)  \n",
    "f = lambda x, Psi: x"
   ]
  },
  {
   "cell_type": "markdown",
   "metadata": {},
   "source": [
    "### We use formula 20 in the paper"
   ]
  },
  {
   "cell_type": "code",
   "execution_count": 3,
   "metadata": {},
   "outputs": [],
   "source": [
    "phi_prime = lambda x: torch.exp(-x)/torch.pow((1+torch.exp(-x)),2)"
   ]
  },
  {
   "cell_type": "code",
   "execution_count": 4,
   "metadata": {},
   "outputs": [],
   "source": [
    "alph = 0.5\n",
    "\n",
    "def loss(x):\n",
    "    \n",
    "    outputs = Psi_t(x) \n",
    "    \n",
    "    wj = N[0].weight.T[0]\n",
    "    uj = N[0].bias\n",
    "    vj = N[2].weight[0]\n",
    "    \n",
    "    D_alpha_N = 0\n",
    "    for j in range(len(wj)):\n",
    "        D_alpha_N += wj[j]*vj[j]*x**(1-alph)*phi_prime(wj[j]*x+uj[j])\n",
    "    \n",
    "    D_alph_y_n = x**(1-alph)*N(x) + D_alpha_N*x          # Vector tensor + scalar tensor = Vector tensor\n",
    "    \n",
    "    final_loss = torch.mean((D_alph_y_n - f(x, outputs))**2)\n",
    "    \n",
    "    print('loss is', final_loss)\n",
    "\n",
    "    return final_loss"
   ]
  },
  {
   "cell_type": "code",
   "execution_count": 5,
   "metadata": {},
   "outputs": [],
   "source": [
    "x_train = np.linspace(0, 1, 10)[:, None]\n",
    "x = torch.Tensor(x_train)\n",
    "x.requires_grad = True"
   ]
  },
  {
   "cell_type": "code",
   "execution_count": 6,
   "metadata": {},
   "outputs": [],
   "source": [
    "optimizer = torch.optim.LBFGS(N.parameters())\n",
    "\n",
    "def closure():\n",
    "\n",
    "    optimizer.zero_grad()\n",
    "    l = loss(x)\n",
    "    l.backward()\n",
    "    \n",
    "    return l"
   ]
  },
  {
   "cell_type": "code",
   "execution_count": 7,
   "metadata": {},
   "outputs": [
    {
     "name": "stdout",
     "output_type": "stream",
     "text": [
      "loss is tensor(0.2098, grad_fn=<MeanBackward0>)\n",
      "loss is tensor(0.0153, grad_fn=<MeanBackward0>)\n",
      "loss is tensor(0.0013, grad_fn=<MeanBackward0>)\n",
      "loss is tensor(0.0012, grad_fn=<MeanBackward0>)\n",
      "loss is tensor(0.0012, grad_fn=<MeanBackward0>)\n",
      "loss is tensor(0.0009, grad_fn=<MeanBackward0>)\n",
      "loss is tensor(0.0005, grad_fn=<MeanBackward0>)\n",
      "loss is tensor(0.0002, grad_fn=<MeanBackward0>)\n",
      "loss is tensor(0.0002, grad_fn=<MeanBackward0>)\n",
      "loss is tensor(0.0002, grad_fn=<MeanBackward0>)\n",
      "loss is tensor(0.0002, grad_fn=<MeanBackward0>)\n",
      "loss is tensor(0.0002, grad_fn=<MeanBackward0>)\n",
      "loss is tensor(0.0002, grad_fn=<MeanBackward0>)\n",
      "loss is tensor(0.0002, grad_fn=<MeanBackward0>)\n",
      "loss is tensor(0.0004, grad_fn=<MeanBackward0>)\n",
      "loss is tensor(0.0002, grad_fn=<MeanBackward0>)\n",
      "loss is tensor(0.0001, grad_fn=<MeanBackward0>)\n",
      "loss is tensor(0.0001, grad_fn=<MeanBackward0>)\n",
      "loss is tensor(0.0001, grad_fn=<MeanBackward0>)\n",
      "loss is tensor(0.0001, grad_fn=<MeanBackward0>)\n",
      "loss is tensor(8.5105e-05, grad_fn=<MeanBackward0>)\n",
      "loss is tensor(0.0004, grad_fn=<MeanBackward0>)\n",
      "loss is tensor(7.6822e-05, grad_fn=<MeanBackward0>)\n",
      "loss is tensor(7.1362e-05, grad_fn=<MeanBackward0>)\n",
      "loss is tensor(8.3449e-05, grad_fn=<MeanBackward0>)\n",
      "loss is tensor(5.9752e-05, grad_fn=<MeanBackward0>)\n",
      "loss is tensor(5.5465e-05, grad_fn=<MeanBackward0>)\n",
      "loss is tensor(5.0294e-05, grad_fn=<MeanBackward0>)\n",
      "loss is tensor(4.5509e-05, grad_fn=<MeanBackward0>)\n",
      "loss is tensor(3.5165e-05, grad_fn=<MeanBackward0>)\n",
      "loss is tensor(2.3920e-05, grad_fn=<MeanBackward0>)\n",
      "loss is tensor(1.9166e-05, grad_fn=<MeanBackward0>)\n",
      "loss is tensor(1.7915e-05, grad_fn=<MeanBackward0>)\n",
      "loss is tensor(1.7569e-05, grad_fn=<MeanBackward0>)\n",
      "loss is tensor(1.7218e-05, grad_fn=<MeanBackward0>)\n",
      "loss is tensor(1.7169e-05, grad_fn=<MeanBackward0>)\n",
      "loss is tensor(1.7129e-05, grad_fn=<MeanBackward0>)\n",
      "loss is tensor(1.7052e-05, grad_fn=<MeanBackward0>)\n",
      "loss is tensor(1.6849e-05, grad_fn=<MeanBackward0>)\n",
      "loss is tensor(1.6442e-05, grad_fn=<MeanBackward0>)\n",
      "loss is tensor(1.5768e-05, grad_fn=<MeanBackward0>)\n",
      "loss is tensor(1.4631e-05, grad_fn=<MeanBackward0>)\n",
      "loss is tensor(1.3237e-05, grad_fn=<MeanBackward0>)\n",
      "loss is tensor(1.0415e-05, grad_fn=<MeanBackward0>)\n",
      "loss is tensor(0.0002, grad_fn=<MeanBackward0>)\n",
      "loss is tensor(1.1899e-05, grad_fn=<MeanBackward0>)\n",
      "loss is tensor(3.6658e-05, grad_fn=<MeanBackward0>)\n",
      "loss is tensor(1.0847e-05, grad_fn=<MeanBackward0>)\n",
      "loss is tensor(1.0363e-05, grad_fn=<MeanBackward0>)\n",
      "loss is tensor(0.0005, grad_fn=<MeanBackward0>)\n",
      "loss is tensor(1.0218e-05, grad_fn=<MeanBackward0>)\n",
      "loss is tensor(1.0084e-05, grad_fn=<MeanBackward0>)\n",
      "loss is tensor(1.5199e-05, grad_fn=<MeanBackward0>)\n",
      "loss is tensor(9.0550e-06, grad_fn=<MeanBackward0>)\n",
      "loss is tensor(8.4812e-06, grad_fn=<MeanBackward0>)\n",
      "loss is tensor(8.5400e-06, grad_fn=<MeanBackward0>)\n",
      "loss is tensor(7.7513e-06, grad_fn=<MeanBackward0>)\n",
      "loss is tensor(7.5501e-06, grad_fn=<MeanBackward0>)\n",
      "loss is tensor(7.1158e-06, grad_fn=<MeanBackward0>)\n",
      "loss is tensor(6.8965e-06, grad_fn=<MeanBackward0>)\n",
      "loss is tensor(6.6919e-06, grad_fn=<MeanBackward0>)\n",
      "loss is tensor(6.6522e-06, grad_fn=<MeanBackward0>)\n",
      "loss is tensor(6.5994e-06, grad_fn=<MeanBackward0>)\n",
      "loss is tensor(6.5072e-06, grad_fn=<MeanBackward0>)\n",
      "loss is tensor(6.3176e-06, grad_fn=<MeanBackward0>)\n",
      "loss is tensor(6.0422e-06, grad_fn=<MeanBackward0>)\n",
      "loss is tensor(6.0421e-06, grad_fn=<MeanBackward0>)\n",
      "loss is tensor(6.0421e-06, grad_fn=<MeanBackward0>)\n",
      "loss is tensor(5.5437e-06, grad_fn=<MeanBackward0>)\n",
      "loss is tensor(5.4403e-06, grad_fn=<MeanBackward0>)\n",
      "loss is tensor(5.2461e-06, grad_fn=<MeanBackward0>)\n",
      "loss is tensor(5.0847e-06, grad_fn=<MeanBackward0>)\n",
      "loss is tensor(4.9982e-06, grad_fn=<MeanBackward0>)\n",
      "loss is tensor(4.9480e-06, grad_fn=<MeanBackward0>)\n",
      "loss is tensor(4.9342e-06, grad_fn=<MeanBackward0>)\n",
      "loss is tensor(4.9204e-06, grad_fn=<MeanBackward0>)\n",
      "loss is tensor(4.9159e-06, grad_fn=<MeanBackward0>)\n",
      "loss is tensor(4.9081e-06, grad_fn=<MeanBackward0>)\n",
      "loss is tensor(4.8927e-06, grad_fn=<MeanBackward0>)\n",
      "loss is tensor(4.8512e-06, grad_fn=<MeanBackward0>)\n",
      "loss is tensor(4.7504e-06, grad_fn=<MeanBackward0>)\n",
      "loss is tensor(4.5383e-06, grad_fn=<MeanBackward0>)\n",
      "loss is tensor(4.5814e-06, grad_fn=<MeanBackward0>)\n",
      "loss is tensor(4.6731e-06, grad_fn=<MeanBackward0>)\n",
      "loss is tensor(4.0309e-06, grad_fn=<MeanBackward0>)\n",
      "loss is tensor(3.7090e-06, grad_fn=<MeanBackward0>)\n",
      "loss is tensor(1.8746e-06, grad_fn=<MeanBackward0>)\n",
      "loss is tensor(3.7915e-06, grad_fn=<MeanBackward0>)\n",
      "loss is tensor(3.7365e-06, grad_fn=<MeanBackward0>)\n",
      "loss is tensor(4.5061e-06, grad_fn=<MeanBackward0>)\n",
      "loss is tensor(1.4137e-06, grad_fn=<MeanBackward0>)\n",
      "loss is tensor(1.0082e-06, grad_fn=<MeanBackward0>)\n",
      "loss is tensor(1.5143e-06, grad_fn=<MeanBackward0>)\n",
      "loss is tensor(6.4214e-07, grad_fn=<MeanBackward0>)\n",
      "loss is tensor(5.1461e-07, grad_fn=<MeanBackward0>)\n",
      "loss is tensor(3.9232e-07, grad_fn=<MeanBackward0>)\n",
      "loss is tensor(2.8971e-07, grad_fn=<MeanBackward0>)\n",
      "loss is tensor(1.9758e-07, grad_fn=<MeanBackward0>)\n",
      "loss is tensor(1.0998e-07, grad_fn=<MeanBackward0>)\n",
      "loss is tensor(8.4582e-08, grad_fn=<MeanBackward0>)\n",
      "loss is tensor(8.2473e-08, grad_fn=<MeanBackward0>)\n",
      "loss is tensor(8.0948e-08, grad_fn=<MeanBackward0>)\n",
      "loss is tensor(8.0246e-08, grad_fn=<MeanBackward0>)\n",
      "loss is tensor(8.0246e-08, grad_fn=<MeanBackward0>)\n",
      "loss is tensor(8.0246e-08, grad_fn=<MeanBackward0>)\n",
      "loss is tensor(8.0246e-08, grad_fn=<MeanBackward0>)\n",
      "loss is tensor(8.0246e-08, grad_fn=<MeanBackward0>)\n"
     ]
    }
   ],
   "source": [
    "# Here train the neural network\n",
    "for i in range(10):\n",
    "    optimizer.step(closure)"
   ]
  },
  {
   "cell_type": "code",
   "execution_count": 8,
   "metadata": {},
   "outputs": [
    {
     "data": {
      "image/png": "[encoded data removed]",
      "text/plain": [
       "<Figure size 600x400 with 1 Axes>"
      ]
     },
     "metadata": {
      "needs_background": "light"
     },
     "output_type": "display_data"
    }
   ],
   "source": [
    "with torch.no_grad():\n",
    "    yy = Psi_t(torch.Tensor(x_train)).numpy()  \n",
    "yt = 2/3*x_train**(3/2)\n",
    "\n",
    "\n",
    "fig, ax = plt.subplots(dpi=100)\n",
    "ax.plot(x_train, yt, label='True')\n",
    "ax.plot(x_train, yy, '--', label='Neural network approximation')\n",
    "ax.set_xlabel('$x$')\n",
    "ax.set_ylabel('$Psi(x)$')\n",
    "plt.legend(loc='best');"
   ]
  },
  {
   "cell_type": "markdown",
   "metadata": {},
   "source": [
    "# Other Examples? 2 and 3?"
   ]
  },
  {
   "cell_type": "code",
   "execution_count": null,
   "metadata": {},
   "outputs": [],
   "source": []
  }
 ],
 "metadata": {
  "kernelspec": {
   "display_name": "Python 3",
   "language": "python",
   "name": "python3"
  },
  "language_info": {
   "codemirror_mode": {
    "name": "ipython",
    "version": 3
   },
   "file_extension": ".py",
   "mimetype": "text/x-python",
   "name": "python",
   "nbconvert_exporter": "python",
   "pygments_lexer": "ipython3",
   "version": "3.7.0"
  }
 },
 "nbformat": 4,
 "nbformat_minor": 5
}
