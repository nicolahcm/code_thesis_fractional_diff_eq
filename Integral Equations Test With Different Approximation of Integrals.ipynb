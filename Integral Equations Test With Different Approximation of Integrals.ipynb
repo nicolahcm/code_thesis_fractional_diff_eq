{
 "cells": [
  {
   "cell_type": "code",
   "execution_count": 7,
   "metadata": {},
   "outputs": [],
   "source": [
    "import torch\n",
    "import torch.nn as nn\n",
    "import matplotlib.pyplot as plt\n",
    "import numpy as np"
   ]
  },
  {
   "cell_type": "markdown",
   "metadata": {},
   "source": [
    "$$\\Psi' = \\alpha \\Psi $$\n",
    "\n",
    "Solution:\n",
    "\n",
    "$$\\Psi(t) = e^{\\alpha t}$$\n",
    "\n",
    "Integral form:\n",
    "\n",
    "$$\\Psi(t) = \\int_0^t \\alpha \\Psi(s) \\,ds + 1 $$"
   ]
  },
  {
   "cell_type": "code",
   "execution_count": 31,
   "metadata": {},
   "outputs": [],
   "source": [
    "alpha = 0.4\n",
    "\n",
    "N = nn.Sequential(nn.Linear(1, 15), nn.Sigmoid(), nn.Linear(15,1, bias=False))\n",
    "\n",
    "Psi_t = lambda x: 1+x*N(x)\n",
    "f_integrand = lambda x, Psi: alpha*Psi\n",
    "psi_0 = 1\n",
    "\n",
    "Psi_real = lambda x: torch.exp(alpha*x)"
   ]
  },
  {
   "cell_type": "code",
   "execution_count": 32,
   "metadata": {},
   "outputs": [],
   "source": [
    "# Training Grid\n",
    "n_points = 10\n",
    "x_train = np.linspace(0, 2, n_points)[:, None]       # Train from 0 to 2\n",
    "x = torch.Tensor(x_train)\n",
    "x.requires_grad = True"
   ]
  },
  {
   "cell_type": "code",
   "execution_count": 33,
   "metadata": {},
   "outputs": [],
   "source": [
    "# Different Approximation of integrals\n",
    "def Trapez(t, n_rectangles):\n",
    "    ''' Returns the integral between 0 and t, by dividing into n intervals'''\n",
    "    x_in_the_integral = np.linspace(0, t, n_rectangles)[:, None]\n",
    "    x_in_the_integral = torch.Tensor(x_in_the_integral)\n",
    "    \n",
    "    y = Psi_t(x_in_the_integral)\n",
    "    integrand = f_integrand(x_in_the_integral, y)\n",
    "    integral = torch.trapezoid(integrand[:,0], x_in_the_integral[:,0])\n",
    "    \n",
    "    return integral\n",
    "\n",
    "def Rectangles(t, n_rectangles):\n",
    "    \n",
    "    x_in_the_integral = np.linspace(0, t, n_rectangles)[:, None]\n",
    "    x_in_the_integral = torch.Tensor(x_in_the_integral)\n",
    "    y = Psi_t(x_in_the_integral)\n",
    "    integrand = f_integrand(x_in_the_integral, y)\n",
    "\n",
    "    delta_x = t/(n_rectangles-1) \n",
    "\n",
    "    heights_left_rectangles = integrand[:,0][0:-1]  # We are taking all components except for the last\n",
    "    integral = torch.sum(heights_left_rectangles)*delta_x\n",
    "    \n",
    "    return integral"
   ]
  },
  {
   "cell_type": "markdown",
   "metadata": {},
   "source": [
    "https://discuss.pytorch.org/t/how-to-modify-the-gradient-manually/7483/3"
   ]
  },
  {
   "cell_type": "code",
   "execution_count": 34,
   "metadata": {},
   "outputs": [
    {
     "data": {
      "text/plain": [
       "tensor(0.1762, grad_fn=<MulBackward0>)"
      ]
     },
     "execution_count": 34,
     "metadata": {},
     "output_type": "execute_result"
    }
   ],
   "source": [
    "time = 0.5\n",
    "n_rectangles = 22\n",
    "Rectangles(time,n_rectangles)"
   ]
  },
  {
   "cell_type": "code",
   "execution_count": 35,
   "metadata": {},
   "outputs": [
    {
     "data": {
      "text/plain": [
       "tensor(0.1751, grad_fn=<DivBackward1>)"
      ]
     },
     "execution_count": 35,
     "metadata": {},
     "output_type": "execute_result"
    }
   ],
   "source": [
    "Trapez(time,n_rectangles)"
   ]
  },
  {
   "cell_type": "code",
   "execution_count": null,
   "metadata": {},
   "outputs": [],
   "source": []
  },
  {
   "cell_type": "code",
   "execution_count": null,
   "metadata": {},
   "outputs": [],
   "source": []
  },
  {
   "cell_type": "code",
   "execution_count": null,
   "metadata": {},
   "outputs": [],
   "source": []
  },
  {
   "cell_type": "code",
   "execution_count": null,
   "metadata": {},
   "outputs": [],
   "source": []
  },
  {
   "cell_type": "code",
   "execution_count": 36,
   "metadata": {},
   "outputs": [],
   "source": [
    "n_int = 10\n",
    "\n",
    "def loss(x):\n",
    "    \n",
    "    outputs = Psi_t(x) \n",
    "    integrals_vector = torch.tensor([[Rectangles(i, n_int) for i in x[:,0].tolist()]]) + 1\n",
    "    \n",
    "    final_loss = torch.mean( (outputs - integrals_vector)  ** 2)\n",
    "    \n",
    "    print('loss is', final_loss)\n",
    "\n",
    "    return  final_loss"
   ]
  },
  {
   "cell_type": "code",
   "execution_count": 38,
   "metadata": {},
   "outputs": [],
   "source": [
    "optimizer = torch.optim.SGD(N.parameters(), lr=1e-2, momentum=0.9)\n",
    "\n",
    "def closure():\n",
    "    optimizer.zero_grad()\n",
    "    l = loss(x)\n",
    "    l.backward()\n",
    "    # for p in N.parameters():\n",
    "    #    print(\"parameters are:\", p)\n",
    "    #    p.grad  # Access the gradients\n",
    "    \n",
    "    return l"
   ]
  },
  {
   "cell_type": "code",
   "execution_count": 62,
   "metadata": {},
   "outputs": [
    {
     "name": "stdout",
     "output_type": "stream",
     "text": [
      "loss is tensor(0.1946, grad_fn=<MeanBackward0>)\n",
      "loss is tensor(0.1946, grad_fn=<MeanBackward0>)\n",
      "loss is tensor(0.1946, grad_fn=<MeanBackward0>)\n",
      "loss is tensor(0.1946, grad_fn=<MeanBackward0>)\n",
      "loss is tensor(0.1946, grad_fn=<MeanBackward0>)\n",
      "loss is tensor(0.1946, grad_fn=<MeanBackward0>)\n",
      "loss is tensor(0.1946, grad_fn=<MeanBackward0>)\n",
      "loss is tensor(0.1946, grad_fn=<MeanBackward0>)\n",
      "loss is tensor(0.1946, grad_fn=<MeanBackward0>)\n",
      "loss is tensor(0.1946, grad_fn=<MeanBackward0>)\n",
      "loss is tensor(0.1946, grad_fn=<MeanBackward0>)\n",
      "loss is tensor(0.1946, grad_fn=<MeanBackward0>)\n",
      "loss is tensor(0.1946, grad_fn=<MeanBackward0>)\n",
      "loss is tensor(0.1946, grad_fn=<MeanBackward0>)\n",
      "loss is tensor(0.1946, grad_fn=<MeanBackward0>)\n",
      "loss is tensor(0.1946, grad_fn=<MeanBackward0>)\n",
      "loss is tensor(0.1946, grad_fn=<MeanBackward0>)\n",
      "loss is tensor(0.1946, grad_fn=<MeanBackward0>)\n",
      "loss is tensor(0.1946, grad_fn=<MeanBackward0>)\n",
      "loss is tensor(0.1946, grad_fn=<MeanBackward0>)\n",
      "loss is tensor(0.1946, grad_fn=<MeanBackward0>)\n",
      "loss is tensor(0.1946, grad_fn=<MeanBackward0>)\n",
      "loss is tensor(0.1946, grad_fn=<MeanBackward0>)\n",
      "loss is tensor(0.1946, grad_fn=<MeanBackward0>)\n",
      "loss is tensor(0.1946, grad_fn=<MeanBackward0>)\n",
      "loss is tensor(0.1946, grad_fn=<MeanBackward0>)\n",
      "loss is tensor(0.1946, grad_fn=<MeanBackward0>)\n",
      "loss is tensor(0.1946, grad_fn=<MeanBackward0>)\n",
      "loss is tensor(0.1946, grad_fn=<MeanBackward0>)\n",
      "loss is tensor(0.1946, grad_fn=<MeanBackward0>)\n"
     ]
    }
   ],
   "source": [
    "for i in range(30):\n",
    "    optimizer.step(closure)"
   ]
  },
  {
   "cell_type": "code",
   "execution_count": 63,
   "metadata": {},
   "outputs": [],
   "source": [
    "# N[0].weight.grad"
   ]
  },
  {
   "cell_type": "code",
   "execution_count": 64,
   "metadata": {},
   "outputs": [
    {
     "data": {
      "text/plain": [
       "[<matplotlib.lines.Line2D at 0x7f5f99be7c18>]"
      ]
     },
     "execution_count": 64,
     "metadata": {},
     "output_type": "execute_result"
    },
    {
     "data": {
      "image/png": "[encoded data removed]",
      "text/plain": [
       "<Figure size 432x288 with 1 Axes>"
      ]
     },
     "metadata": {
      "needs_background": "light"
     },
     "output_type": "display_data"
    }
   ],
   "source": [
    "fig, ax = plt.subplots()\n",
    "xx = x.tolist()\n",
    "yy = Psi_t(x)[:,0].tolist()\n",
    "yt = Psi_real(x).tolist()\n",
    "ax.plot(xx, yy)\n",
    "ax.plot(xx,yt)"
   ]
  },
  {
   "cell_type": "markdown",
   "metadata": {},
   "source": [
    "# Let me rewrite the loss function differently, using rectangles now"
   ]
  },
  {
   "cell_type": "code",
   "execution_count": 273,
   "metadata": {},
   "outputs": [],
   "source": [
    "alpha = 1\n",
    "\n",
    "N = nn.Sequential(nn.Linear(1, 15), nn.Sigmoid(), nn.Linear(15,1, bias=False))\n",
    "\n",
    "Psi_t = lambda x: N(x)\n",
    "f_integrand = lambda x, Psi: alpha*Psi\n",
    "psi_0 = 1\n",
    "\n",
    "Psi_real = lambda x: torch.exp(alpha*x)"
   ]
  },
  {
   "cell_type": "code",
   "execution_count": 274,
   "metadata": {},
   "outputs": [],
   "source": [
    "# Training Grid\n",
    "n_points = 100\n",
    "x_train = np.linspace(0, 2, n_points)[:, None]       # Train from 0 to 2\n",
    "x = torch.Tensor(x_train)\n",
    "x.requires_grad = True\n",
    "\n",
    "delta_x = 2/(n_points-1)"
   ]
  },
  {
   "cell_type": "code",
   "execution_count": 275,
   "metadata": {},
   "outputs": [],
   "source": [
    "def loss(x):\n",
    "    \n",
    "    outputs = N(x) \n",
    "    outputs_copy = N(x)\n",
    "    \n",
    "    for i in range(n_points):\n",
    "        outputs_copy[i] = torch.sum(outputs[0:i])\n",
    "        \n",
    "    final_loss = torch.mean( (outputs - alpha*delta_x*outputs_copy - 1)  ** 2)\n",
    "    \n",
    "    print('loss is', final_loss)\n",
    "\n",
    "    return  final_loss"
   ]
  },
  {
   "cell_type": "code",
   "execution_count": 277,
   "metadata": {},
   "outputs": [],
   "source": [
    "optimizer = torch.optim.LBFGS(N.parameters(), lr=0.01) #SGD(N.parameters(), lr=1e-2, momentum=0.9)\n",
    "\n",
    "def closure():\n",
    "    optimizer.zero_grad()\n",
    "    l = loss(x)\n",
    "    l.backward()\n",
    "    # for p in N.parameters():\n",
    "    #    print(\"parameters are:\", p)\n",
    "    #    p.grad  # Access the gradients\n",
    "    \n",
    "    return l"
   ]
  },
  {
   "cell_type": "code",
   "execution_count": 286,
   "metadata": {},
   "outputs": [
    {
     "name": "stdout",
     "output_type": "stream",
     "text": [
      "loss is tensor(2.2620e-06, grad_fn=<MeanBackward0>)\n",
      "loss is tensor(2.2413e-06, grad_fn=<MeanBackward0>)\n",
      "loss is tensor(2.2220e-06, grad_fn=<MeanBackward0>)\n",
      "loss is tensor(2.2035e-06, grad_fn=<MeanBackward0>)\n",
      "loss is tensor(2.1848e-06, grad_fn=<MeanBackward0>)\n",
      "loss is tensor(2.1658e-06, grad_fn=<MeanBackward0>)\n",
      "loss is tensor(2.1481e-06, grad_fn=<MeanBackward0>)\n",
      "loss is tensor(2.1303e-06, grad_fn=<MeanBackward0>)\n",
      "loss is tensor(2.1127e-06, grad_fn=<MeanBackward0>)\n",
      "loss is tensor(2.0895e-06, grad_fn=<MeanBackward0>)\n",
      "loss is tensor(2.0675e-06, grad_fn=<MeanBackward0>)\n",
      "loss is tensor(2.0507e-06, grad_fn=<MeanBackward0>)\n",
      "loss is tensor(2.0357e-06, grad_fn=<MeanBackward0>)\n",
      "loss is tensor(2.0198e-06, grad_fn=<MeanBackward0>)\n",
      "loss is tensor(2.0045e-06, grad_fn=<MeanBackward0>)\n",
      "loss is tensor(1.9894e-06, grad_fn=<MeanBackward0>)\n",
      "loss is tensor(1.9737e-06, grad_fn=<MeanBackward0>)\n",
      "loss is tensor(1.9590e-06, grad_fn=<MeanBackward0>)\n",
      "loss is tensor(1.9442e-06, grad_fn=<MeanBackward0>)\n",
      "loss is tensor(1.9298e-06, grad_fn=<MeanBackward0>)\n",
      "loss is tensor(1.9153e-06, grad_fn=<MeanBackward0>)\n",
      "loss is tensor(1.9012e-06, grad_fn=<MeanBackward0>)\n",
      "loss is tensor(1.8874e-06, grad_fn=<MeanBackward0>)\n",
      "loss is tensor(1.8743e-06, grad_fn=<MeanBackward0>)\n",
      "loss is tensor(1.8525e-06, grad_fn=<MeanBackward0>)\n",
      "loss is tensor(1.8391e-06, grad_fn=<MeanBackward0>)\n",
      "loss is tensor(1.8258e-06, grad_fn=<MeanBackward0>)\n",
      "loss is tensor(1.8126e-06, grad_fn=<MeanBackward0>)\n",
      "loss is tensor(1.8009e-06, grad_fn=<MeanBackward0>)\n",
      "loss is tensor(1.7881e-06, grad_fn=<MeanBackward0>)\n",
      "loss is tensor(1.7766e-06, grad_fn=<MeanBackward0>)\n",
      "loss is tensor(1.7652e-06, grad_fn=<MeanBackward0>)\n",
      "loss is tensor(1.7534e-06, grad_fn=<MeanBackward0>)\n",
      "loss is tensor(1.7423e-06, grad_fn=<MeanBackward0>)\n",
      "loss is tensor(1.7312e-06, grad_fn=<MeanBackward0>)\n",
      "loss is tensor(1.7204e-06, grad_fn=<MeanBackward0>)\n",
      "loss is tensor(1.7097e-06, grad_fn=<MeanBackward0>)\n",
      "loss is tensor(1.6993e-06, grad_fn=<MeanBackward0>)\n",
      "loss is tensor(1.6888e-06, grad_fn=<MeanBackward0>)\n",
      "loss is tensor(1.6784e-06, grad_fn=<MeanBackward0>)\n",
      "loss is tensor(1.6683e-06, grad_fn=<MeanBackward0>)\n",
      "loss is tensor(1.6586e-06, grad_fn=<MeanBackward0>)\n",
      "loss is tensor(1.6491e-06, grad_fn=<MeanBackward0>)\n",
      "loss is tensor(1.6399e-06, grad_fn=<MeanBackward0>)\n",
      "loss is tensor(1.6308e-06, grad_fn=<MeanBackward0>)\n",
      "loss is tensor(1.6218e-06, grad_fn=<MeanBackward0>)\n",
      "loss is tensor(1.6132e-06, grad_fn=<MeanBackward0>)\n",
      "loss is tensor(1.6042e-06, grad_fn=<MeanBackward0>)\n",
      "loss is tensor(1.5961e-06, grad_fn=<MeanBackward0>)\n",
      "loss is tensor(1.5877e-06, grad_fn=<MeanBackward0>)\n",
      "loss is tensor(1.5798e-06, grad_fn=<MeanBackward0>)\n",
      "loss is tensor(1.5720e-06, grad_fn=<MeanBackward0>)\n",
      "loss is tensor(1.5640e-06, grad_fn=<MeanBackward0>)\n",
      "loss is tensor(1.5566e-06, grad_fn=<MeanBackward0>)\n",
      "loss is tensor(1.5487e-06, grad_fn=<MeanBackward0>)\n",
      "loss is tensor(1.5416e-06, grad_fn=<MeanBackward0>)\n",
      "loss is tensor(1.5344e-06, grad_fn=<MeanBackward0>)\n",
      "loss is tensor(1.5272e-06, grad_fn=<MeanBackward0>)\n",
      "loss is tensor(1.5203e-06, grad_fn=<MeanBackward0>)\n",
      "loss is tensor(1.5139e-06, grad_fn=<MeanBackward0>)\n",
      "loss is tensor(1.5070e-06, grad_fn=<MeanBackward0>)\n",
      "loss is tensor(1.5007e-06, grad_fn=<MeanBackward0>)\n",
      "loss is tensor(1.4940e-06, grad_fn=<MeanBackward0>)\n",
      "loss is tensor(1.4877e-06, grad_fn=<MeanBackward0>)\n",
      "loss is tensor(1.4817e-06, grad_fn=<MeanBackward0>)\n",
      "loss is tensor(1.4756e-06, grad_fn=<MeanBackward0>)\n",
      "loss is tensor(1.4695e-06, grad_fn=<MeanBackward0>)\n",
      "loss is tensor(1.4638e-06, grad_fn=<MeanBackward0>)\n",
      "loss is tensor(1.4578e-06, grad_fn=<MeanBackward0>)\n",
      "loss is tensor(1.4525e-06, grad_fn=<MeanBackward0>)\n",
      "loss is tensor(1.4469e-06, grad_fn=<MeanBackward0>)\n",
      "loss is tensor(1.4416e-06, grad_fn=<MeanBackward0>)\n",
      "loss is tensor(1.4363e-06, grad_fn=<MeanBackward0>)\n",
      "loss is tensor(1.4312e-06, grad_fn=<MeanBackward0>)\n",
      "loss is tensor(1.4261e-06, grad_fn=<MeanBackward0>)\n",
      "loss is tensor(1.4207e-06, grad_fn=<MeanBackward0>)\n",
      "loss is tensor(1.4160e-06, grad_fn=<MeanBackward0>)\n",
      "loss is tensor(1.4113e-06, grad_fn=<MeanBackward0>)\n",
      "loss is tensor(1.4065e-06, grad_fn=<MeanBackward0>)\n",
      "loss is tensor(1.4019e-06, grad_fn=<MeanBackward0>)\n",
      "loss is tensor(1.3972e-06, grad_fn=<MeanBackward0>)\n",
      "loss is tensor(1.3930e-06, grad_fn=<MeanBackward0>)\n",
      "loss is tensor(1.3885e-06, grad_fn=<MeanBackward0>)\n",
      "loss is tensor(1.3842e-06, grad_fn=<MeanBackward0>)\n",
      "loss is tensor(1.3800e-06, grad_fn=<MeanBackward0>)\n",
      "loss is tensor(1.3758e-06, grad_fn=<MeanBackward0>)\n",
      "loss is tensor(1.3716e-06, grad_fn=<MeanBackward0>)\n",
      "loss is tensor(1.3678e-06, grad_fn=<MeanBackward0>)\n",
      "loss is tensor(1.3641e-06, grad_fn=<MeanBackward0>)\n",
      "loss is tensor(1.3601e-06, grad_fn=<MeanBackward0>)\n",
      "loss is tensor(1.3562e-06, grad_fn=<MeanBackward0>)\n",
      "loss is tensor(1.3523e-06, grad_fn=<MeanBackward0>)\n",
      "loss is tensor(1.3489e-06, grad_fn=<MeanBackward0>)\n",
      "loss is tensor(1.3455e-06, grad_fn=<MeanBackward0>)\n",
      "loss is tensor(1.3416e-06, grad_fn=<MeanBackward0>)\n",
      "loss is tensor(1.3384e-06, grad_fn=<MeanBackward0>)\n",
      "loss is tensor(1.3349e-06, grad_fn=<MeanBackward0>)\n",
      "loss is tensor(1.3318e-06, grad_fn=<MeanBackward0>)\n",
      "loss is tensor(1.3287e-06, grad_fn=<MeanBackward0>)\n",
      "loss is tensor(1.3250e-06, grad_fn=<MeanBackward0>)\n",
      "loss is tensor(1.3223e-06, grad_fn=<MeanBackward0>)\n",
      "loss is tensor(1.3192e-06, grad_fn=<MeanBackward0>)\n",
      "loss is tensor(1.3160e-06, grad_fn=<MeanBackward0>)\n",
      "loss is tensor(1.3132e-06, grad_fn=<MeanBackward0>)\n",
      "loss is tensor(1.3101e-06, grad_fn=<MeanBackward0>)\n",
      "loss is tensor(1.3074e-06, grad_fn=<MeanBackward0>)\n",
      "loss is tensor(1.3045e-06, grad_fn=<MeanBackward0>)\n",
      "loss is tensor(1.3016e-06, grad_fn=<MeanBackward0>)\n",
      "loss is tensor(1.2990e-06, grad_fn=<MeanBackward0>)\n",
      "loss is tensor(1.2964e-06, grad_fn=<MeanBackward0>)\n",
      "loss is tensor(1.2936e-06, grad_fn=<MeanBackward0>)\n",
      "loss is tensor(1.2912e-06, grad_fn=<MeanBackward0>)\n",
      "loss is tensor(1.2885e-06, grad_fn=<MeanBackward0>)\n",
      "loss is tensor(1.2860e-06, grad_fn=<MeanBackward0>)\n",
      "loss is tensor(1.2835e-06, grad_fn=<MeanBackward0>)\n",
      "loss is tensor(1.2811e-06, grad_fn=<MeanBackward0>)\n",
      "loss is tensor(1.2789e-06, grad_fn=<MeanBackward0>)\n",
      "loss is tensor(1.2766e-06, grad_fn=<MeanBackward0>)\n",
      "loss is tensor(1.2742e-06, grad_fn=<MeanBackward0>)\n",
      "loss is tensor(1.2720e-06, grad_fn=<MeanBackward0>)\n",
      "loss is tensor(1.2699e-06, grad_fn=<MeanBackward0>)\n",
      "loss is tensor(1.2677e-06, grad_fn=<MeanBackward0>)\n",
      "loss is tensor(1.2656e-06, grad_fn=<MeanBackward0>)\n",
      "loss is tensor(1.2637e-06, grad_fn=<MeanBackward0>)\n",
      "loss is tensor(1.2617e-06, grad_fn=<MeanBackward0>)\n",
      "loss is tensor(1.2592e-06, grad_fn=<MeanBackward0>)\n",
      "loss is tensor(1.2575e-06, grad_fn=<MeanBackward0>)\n",
      "loss is tensor(1.2556e-06, grad_fn=<MeanBackward0>)\n",
      "loss is tensor(1.2536e-06, grad_fn=<MeanBackward0>)\n",
      "loss is tensor(1.2517e-06, grad_fn=<MeanBackward0>)\n",
      "loss is tensor(1.2499e-06, grad_fn=<MeanBackward0>)\n",
      "loss is tensor(1.2481e-06, grad_fn=<MeanBackward0>)\n",
      "loss is tensor(1.2462e-06, grad_fn=<MeanBackward0>)\n",
      "loss is tensor(1.2446e-06, grad_fn=<MeanBackward0>)\n",
      "loss is tensor(1.2428e-06, grad_fn=<MeanBackward0>)\n",
      "loss is tensor(1.2412e-06, grad_fn=<MeanBackward0>)\n",
      "loss is tensor(1.2396e-06, grad_fn=<MeanBackward0>)\n",
      "loss is tensor(1.2379e-06, grad_fn=<MeanBackward0>)\n",
      "loss is tensor(1.2363e-06, grad_fn=<MeanBackward0>)\n",
      "loss is tensor(1.2347e-06, grad_fn=<MeanBackward0>)\n",
      "loss is tensor(1.2331e-06, grad_fn=<MeanBackward0>)\n",
      "loss is tensor(1.2317e-06, grad_fn=<MeanBackward0>)\n",
      "loss is tensor(1.2300e-06, grad_fn=<MeanBackward0>)\n",
      "loss is tensor(1.2288e-06, grad_fn=<MeanBackward0>)\n",
      "loss is tensor(1.2274e-06, grad_fn=<MeanBackward0>)\n",
      "loss is tensor(1.2260e-06, grad_fn=<MeanBackward0>)\n",
      "loss is tensor(1.2245e-06, grad_fn=<MeanBackward0>)\n",
      "loss is tensor(1.2231e-06, grad_fn=<MeanBackward0>)\n",
      "loss is tensor(1.2216e-06, grad_fn=<MeanBackward0>)\n",
      "loss is tensor(1.2203e-06, grad_fn=<MeanBackward0>)\n",
      "loss is tensor(1.2193e-06, grad_fn=<MeanBackward0>)\n",
      "loss is tensor(1.2193e-06, grad_fn=<MeanBackward0>)\n",
      "loss is tensor(1.2181e-06, grad_fn=<MeanBackward0>)\n",
      "loss is tensor(1.2165e-06, grad_fn=<MeanBackward0>)\n",
      "loss is tensor(1.2154e-06, grad_fn=<MeanBackward0>)\n",
      "loss is tensor(1.2145e-06, grad_fn=<MeanBackward0>)\n",
      "loss is tensor(1.2145e-06, grad_fn=<MeanBackward0>)\n",
      "loss is tensor(1.2129e-06, grad_fn=<MeanBackward0>)\n",
      "loss is tensor(1.2119e-06, grad_fn=<MeanBackward0>)\n"
     ]
    }
   ],
   "source": [
    "for i in range(10):\n",
    "    optimizer.step(closure)"
   ]
  },
  {
   "cell_type": "code",
   "execution_count": 287,
   "metadata": {},
   "outputs": [
    {
     "data": {
      "text/plain": [
       "[<matplotlib.lines.Line2D at 0x7f5f8bfc2eb8>]"
      ]
     },
     "execution_count": 287,
     "metadata": {},
     "output_type": "execute_result"
    },
    {
     "data": {
      "image/png": "[encoded data removed]",
      "text/plain": [
       "<Figure size 432x288 with 1 Axes>"
      ]
     },
     "metadata": {
      "needs_background": "light"
     },
     "output_type": "display_data"
    }
   ],
   "source": [
    "fig, ax = plt.subplots()\n",
    "xx = x.tolist()\n",
    "yy = Psi_t(x)[:,0].tolist()\n",
    "yt = Psi_real(x).tolist()\n",
    "ax.plot(xx, yy)\n",
    "ax.plot(xx,yt)"
   ]
  },
  {
   "cell_type": "markdown",
   "metadata": {},
   "source": [
    "# It worked with rectangles!!! "
   ]
  },
  {
   "cell_type": "markdown",
   "metadata": {},
   "source": [
    "### Let's try with trapezoids. Maybe I understood, how it computed the gradient there was something not ok,because it computes the gradient through another function in which we apply strange things, which maybe pytorch cannot read. For example where maybe there was dependence on some parameters, butThe function cannot read, it will derivate to 0, because it is as if it is indipendent from that!"
   ]
  },
  {
   "cell_type": "markdown",
   "metadata": {},
   "source": [
    "# Trapezoids"
   ]
  },
  {
   "cell_type": "code",
   "execution_count": 299,
   "metadata": {},
   "outputs": [],
   "source": [
    "alpha = 0.5\n",
    "\n",
    "N = nn.Sequential(nn.Linear(1, 15), nn.Sigmoid(), nn.Linear(15,1, bias=False))\n",
    "\n",
    "Psi_t = lambda x: N(x)\n",
    "f_integrand = lambda x, Psi: alpha*Psi\n",
    "psi_0 = 1\n",
    "\n",
    "Psi_real = lambda x: torch.exp(alpha*x)"
   ]
  },
  {
   "cell_type": "code",
   "execution_count": 300,
   "metadata": {},
   "outputs": [],
   "source": [
    "# Training Grid\n",
    "n_points = 100\n",
    "x_train = np.linspace(0, 2, n_points)[:, None]       # Train from 0 to 2\n",
    "x = torch.Tensor(x_train)\n",
    "x.requires_grad = True\n",
    "\n",
    "delta_x = 2/(n_points-1)"
   ]
  },
  {
   "cell_type": "code",
   "execution_count": 301,
   "metadata": {},
   "outputs": [],
   "source": [
    "def loss(x):\n",
    "    \n",
    "    outputs = N(x) \n",
    "    outputs_copy = N(x)\n",
    "    \n",
    "    for i in range(n_points):\n",
    "        outputs_copy[i] = torch.sum(outputs[0:i+1])\n",
    "        outputs_copy[i] += torch.sum(outputs[1:i])\n",
    "    outputs_copy[0] = 0\n",
    "        \n",
    "    final_loss = torch.mean( (outputs - alpha*delta_x/2*outputs_copy - 1)  ** 2)\n",
    "    \n",
    "    print('loss is', final_loss)\n",
    "\n",
    "    return  final_loss"
   ]
  },
  {
   "cell_type": "code",
   "execution_count": 302,
   "metadata": {},
   "outputs": [],
   "source": [
    "optimizer = torch.optim.LBFGS(N.parameters(), lr=0.01) #SGD(N.parameters(), lr=1e-2, momentum=0.9)\n",
    "\n",
    "def closure():\n",
    "    optimizer.zero_grad()\n",
    "    l = loss(x)\n",
    "    l.backward()\n",
    "    # for p in N.parameters():\n",
    "    #    print(\"parameters are:\", p)\n",
    "    #    p.grad  # Access the gradients\n",
    "    \n",
    "    return l"
   ]
  },
  {
   "cell_type": "code",
   "execution_count": 339,
   "metadata": {},
   "outputs": [
    {
     "name": "stdout",
     "output_type": "stream",
     "text": [
      "loss is tensor(1.3190e-06, grad_fn=<MeanBackward0>)\n",
      "loss is tensor(1.3183e-06, grad_fn=<MeanBackward0>)\n"
     ]
    }
   ],
   "source": [
    "for i in range(1):\n",
    "    optimizer.step(closure)"
   ]
  },
  {
   "cell_type": "code",
   "execution_count": 348,
   "metadata": {},
   "outputs": [
    {
     "data": {
      "text/plain": [
       "[<matplotlib.lines.Line2D at 0x7f5f8bb42ac8>]"
      ]
     },
     "execution_count": 348,
     "metadata": {},
     "output_type": "execute_result"
    },
    {
     "data": {
      "image/png": "[encoded data removed]",
      "text/plain": [
       "<Figure size 432x288 with 1 Axes>"
      ]
     },
     "metadata": {
      "needs_background": "light"
     },
     "output_type": "display_data"
    }
   ],
   "source": [
    "fig, ax = plt.subplots()\n",
    "xx = x.tolist()\n",
    "yy = Psi_t(x)[:,0].tolist()\n",
    "yt = Psi_real(x).tolist()\n",
    "ax.plot(xx, yy, \"o\")\n",
    "ax.plot(xx,yt, \"x\")"
   ]
  },
  {
   "cell_type": "code",
   "execution_count": null,
   "metadata": {},
   "outputs": [],
   "source": []
  },
  {
   "cell_type": "code",
   "execution_count": 196,
   "metadata": {},
   "outputs": [
    {
     "name": "stdout",
     "output_type": "stream",
     "text": [
      "loss is tensor(0.0031, grad_fn=<MeanBackward0>)\n"
     ]
    },
    {
     "data": {
      "text/plain": [
       "0.003101236652582884"
      ]
     },
     "execution_count": 196,
     "metadata": {},
     "output_type": "execute_result"
    }
   ],
   "source": [
    "loss(x).tolist()"
   ]
  },
  {
   "cell_type": "code",
   "execution_count": 308,
   "metadata": {},
   "outputs": [],
   "source": [
    "import copy\n",
    "\n",
    "'''\n",
    "    Pure Python/Numpy implementation of the Nelder-Mead algorithm.\n",
    "    Reference: https://en.wikipedia.org/wiki/Nelder%E2%80%93Mead_method\n",
    "'''\n",
    "\n",
    "\n",
    "def nelder_mead(f, x_start,\n",
    "                step=0.1, no_improve_thr=10e-6,\n",
    "                no_improv_break=10, max_iter=0,\n",
    "                alpha=1., gamma=2., rho=-0.5, sigma=0.5):\n",
    "    '''\n",
    "        @param f (function): function to optimize, must return a scalar score\n",
    "            and operate over a numpy array of the same dimensions as x_start\n",
    "        @param x_start (numpy array): initial position\n",
    "        @param step (float): look-around radius in initial step\n",
    "        @no_improv_thr,  no_improv_break (float, int): break after no_improv_break iterations with\n",
    "            an improvement lower than no_improv_thr\n",
    "        @max_iter (int): always break after this number of iterations.\n",
    "            Set it to 0 to loop indefinitely.\n",
    "        @alpha, gamma, rho, sigma (floats): parameters of the algorithm\n",
    "            (see Wikipedia page for reference)\n",
    "        return: tuple (best parameter array, best score)\n",
    "    '''\n",
    "\n",
    "    # init\n",
    "    dim = len(x_start)\n",
    "    prev_best = f(x_start)\n",
    "    no_improv = 0\n",
    "    res = [[x_start, prev_best]]\n",
    "\n",
    "    for i in range(dim):\n",
    "        x = copy.copy(x_start)\n",
    "        x[i] = x[i] + step\n",
    "        score = f(x)\n",
    "        res.append([x, score])\n",
    "\n",
    "    # simplex iter\n",
    "    iters = 0\n",
    "    while 1:\n",
    "        # order\n",
    "        res.sort(key=lambda x: x[1])\n",
    "        best = res[0][1]\n",
    "\n",
    "        # break after max_iter\n",
    "        if max_iter and iters >= max_iter:\n",
    "            return res[0]\n",
    "        iters += 1\n",
    "\n",
    "        # break after no_improv_break iterations with no improvement\n",
    "        print('...best so far:', best)\n",
    "\n",
    "        if best < prev_best - no_improve_thr:\n",
    "            no_improv = 0\n",
    "            prev_best = best\n",
    "        else:\n",
    "            no_improv += 1\n",
    "\n",
    "        if no_improv >= no_improv_break:\n",
    "            return res[0]\n",
    "\n",
    "        # centroid\n",
    "        x0 = [0.] * dim\n",
    "        for tup in res[:-1]:\n",
    "            for i, c in enumerate(tup[0]):\n",
    "                x0[i] += c / (len(res)-1)\n",
    "\n",
    "        # reflection\n",
    "        xr = x0 + alpha*(x0 - res[-1][0])\n",
    "        rscore = f(xr)\n",
    "        if res[0][1] <= rscore < res[-2][1]:\n",
    "            del res[-1]\n",
    "            res.append([xr, rscore])\n",
    "            continue\n",
    "\n",
    "        # expansion\n",
    "        if rscore < res[0][1]:\n",
    "            xe = x0 + gamma*(x0 - res[-1][0])\n",
    "            escore = f(xe)\n",
    "            if escore < rscore:\n",
    "                del res[-1]\n",
    "                res.append([xe, escore])\n",
    "                continue\n",
    "            else:\n",
    "                del res[-1]\n",
    "                res.append([xr, rscore])\n",
    "                continue\n",
    "\n",
    "        # contraction\n",
    "        xc = x0 + rho*(x0 - res[-1][0])\n",
    "        cscore = f(xc)\n",
    "        if cscore < res[-1][1]:\n",
    "            del res[-1]\n",
    "            res.append([xc, cscore])\n",
    "            continue\n",
    "\n",
    "        # reduction\n",
    "        x1 = res[0][0]\n",
    "        nres = []\n",
    "        for tup in res:\n",
    "            redx = x1 + sigma*(tup[0] - x1)\n",
    "            score = f(redx)\n",
    "            nres.append([redx, score])\n",
    "        res = nres\n",
    "\n",
    "\n",
    "if __name__ == \"__main__\":\n",
    "    # test\n",
    "    import math\n",
    "    import numpy as np\n",
    "\n",
    "    def f(x):\n",
    "        return math.sin(x[0]) * math.cos(x[1]) * (1. / (abs(x[2]) + 1))\n",
    "    def g(x):\n",
    "        return x**2+2\n",
    "    \n",
    "    \n",
    "n_points = 10\n",
    "x_train = np.linspace(0, 2, n_points)[:, None]       # Train from 0 to 2\n",
    "x_train = torch.Tensor(x_train)\n",
    "x_train.requires_grad = True\n",
    "\n",
    "n_rectangles = 100\n",
    "\n",
    "def loss_op(fin_weights): \n",
    "    ''' x will be the vector of weights and bias'''\n",
    "\n",
    "    nr_nodes = int(len(fin_weights)/3)\n",
    "    w_i = fin_weights[0:nr_nodes]\n",
    "    u_i = fin_weights[nr_nodes:nr_nodes*2]\n",
    "    v_i = fin_weights[nr_nodes*2:]\n",
    "\n",
    "    # Setting the weights of the Neural network to these new values (in the iteration process of \n",
    "    # the optimization)\n",
    "    with torch.no_grad():\n",
    "        for i in range(nr_nodes):\n",
    "            N[0].weight[i,0] = w_i[i]\n",
    "            N[0].bias[i] = u_i[i]\n",
    "            N[2].weight[0,i] = v_i[i]\n",
    "\n",
    "    outputs = Psi_t(x_train) \n",
    "    integrals_vector = torch.tensor([[Trapez(i, n_rectangles) for i in x_train[:,0].tolist()]]) + 1\n",
    "\n",
    "    final_loss = torch.mean( (outputs - integrals_vector) ** 2) # Tensor\n",
    "    final_loss = final_loss.tolist()  # Number float and not anymore a tensor\n",
    "    return final_loss\n",
    "        \n",
    "    "
   ]
  },
  {
   "cell_type": "code",
   "execution_count": 52,
   "metadata": {},
   "outputs": [
    {
     "name": "stdout",
     "output_type": "stream",
     "text": [
      "...best so far: 0.17437827587127686\n",
      "...best so far: 0.17437827587127686\n",
      "...best so far: 0.17437827587127686\n",
      "...best so far: 0.17437827587127686\n",
      "...best so far: 0.17437827587127686\n",
      "...best so far: 0.17437827587127686\n",
      "...best so far: 0.17437827587127686\n",
      "...best so far: 0.17437827587127686\n",
      "...best so far: 0.17437827587127686\n",
      "...best so far: 0.17437827587127686\n",
      "...best so far: 0.17437827587127686\n",
      "[array([ 1.83123693e-01, -6.35103136e-02, -2.80963629e-01,  9.23397839e-01,\n",
      "        8.53447914e-01, -4.53933537e-01, -4.94611621e-01,  5.66517711e-01,\n",
      "       -5.51284030e-02, -4.00110930e-01, -1.46036416e-01, -9.38253641e-01,\n",
      "       -2.46041074e-01, -4.78138834e-01,  2.83698380e-01,  4.87465620e-01,\n",
      "        7.64610946e-01, -7.99506903e-01,  2.19908223e-01,  7.73740590e-01,\n",
      "       -4.14330542e-01,  9.29918110e-01,  1.59455806e-01, -5.02867818e-01,\n",
      "       -3.66801247e-02,  5.75595379e-01, -2.64173537e-01,  7.12486863e-01,\n",
      "       -3.04477364e-01, -4.10297155e-01,  2.55405512e-02,  4.18516025e-02,\n",
      "        1.60903230e-01, -1.55941293e-01,  8.14852938e-02, -8.70317817e-02,\n",
      "        5.51192649e-02, -7.80887753e-02, -1.09645344e-01,  2.09302664e-01,\n",
      "       -7.44236261e-02,  9.70119053e-02,  8.97073299e-02, -4.59278177e-04,\n",
      "        3.73692274e-01]), 0.17437827587127686]\n"
     ]
    }
   ],
   "source": [
    "for i in range(1):\n",
    "    w_i = N[0].weight[:,0].tolist()\n",
    "    u_i = N[0].bias.tolist()\n",
    "    v_i = N[2].weight[0,:].tolist()\n",
    "    weig = np.array(w_i + u_i + v_i)\n",
    "\n",
    "    print(nelder_mead(loss_op, weig))"
   ]
  },
  {
   "cell_type": "code",
   "execution_count": 15,
   "metadata": {},
   "outputs": [
    {
     "ename": "NameError",
     "evalue": "name 'fin_weights' is not defined",
     "output_type": "error",
     "traceback": [
      "\u001b[0;31m---------------------------------------------------------------------------\u001b[0m",
      "\u001b[0;31mNameError\u001b[0m                                 Traceback (most recent call last)",
      "\u001b[0;32m<ipython-input-15-8e8efa2d836b>\u001b[0m in \u001b[0;36m<module>\u001b[0;34m\u001b[0m\n\u001b[0;32m----> 1\u001b[0;31m \u001b[0mnr_nodes\u001b[0m \u001b[0;34m=\u001b[0m \u001b[0mint\u001b[0m\u001b[0;34m(\u001b[0m\u001b[0mlen\u001b[0m\u001b[0;34m(\u001b[0m\u001b[0mfin_weights\u001b[0m\u001b[0;34m)\u001b[0m\u001b[0;34m/\u001b[0m\u001b[0;36m3\u001b[0m\u001b[0;34m)\u001b[0m\u001b[0;34m\u001b[0m\u001b[0m\n\u001b[0m\u001b[1;32m      2\u001b[0m \u001b[0mprint\u001b[0m\u001b[0;34m(\u001b[0m\u001b[0mnr_nodes\u001b[0m\u001b[0;34m)\u001b[0m\u001b[0;34m\u001b[0m\u001b[0m\n\u001b[1;32m      3\u001b[0m \u001b[0mw_i\u001b[0m \u001b[0;34m=\u001b[0m \u001b[0mfin_weights\u001b[0m\u001b[0;34m[\u001b[0m\u001b[0;36m0\u001b[0m\u001b[0;34m:\u001b[0m\u001b[0mnr_nodes\u001b[0m\u001b[0;34m]\u001b[0m\u001b[0;34m\u001b[0m\u001b[0m\n\u001b[1;32m      4\u001b[0m \u001b[0mu_i\u001b[0m \u001b[0;34m=\u001b[0m \u001b[0mfin_weights\u001b[0m\u001b[0;34m[\u001b[0m\u001b[0mnr_nodes\u001b[0m\u001b[0;34m:\u001b[0m\u001b[0mnr_nodes\u001b[0m\u001b[0;34m*\u001b[0m\u001b[0;36m2\u001b[0m\u001b[0;34m]\u001b[0m\u001b[0;34m\u001b[0m\u001b[0m\n\u001b[1;32m      5\u001b[0m \u001b[0mv_i\u001b[0m \u001b[0;34m=\u001b[0m \u001b[0mfin_weights\u001b[0m\u001b[0;34m[\u001b[0m\u001b[0mnr_nodes\u001b[0m\u001b[0;34m*\u001b[0m\u001b[0;36m2\u001b[0m\u001b[0;34m:\u001b[0m\u001b[0;34m]\u001b[0m\u001b[0;34m\u001b[0m\u001b[0m\n",
      "\u001b[0;31mNameError\u001b[0m: name 'fin_weights' is not defined"
     ]
    }
   ],
   "source": [
    "nr_nodes = int(len(fin_weights)/3)\n",
    "print(nr_nodes)\n",
    "w_i = fin_weights[0:nr_nodes]\n",
    "u_i = fin_weights[nr_nodes:nr_nodes*2]\n",
    "v_i = fin_weights[nr_nodes*2:]"
   ]
  },
  {
   "cell_type": "code",
   "execution_count": null,
   "metadata": {},
   "outputs": [],
   "source": [
    "fin_weights[1:2]"
   ]
  },
  {
   "cell_type": "code",
   "execution_count": null,
   "metadata": {},
   "outputs": [],
   "source": [
    "N[0].weight"
   ]
  },
  {
   "cell_type": "code",
   "execution_count": null,
   "metadata": {},
   "outputs": [],
   "source": [
    "N[0].weight.T"
   ]
  },
  {
   "cell_type": "code",
   "execution_count": null,
   "metadata": {},
   "outputs": [],
   "source": [
    "N[0].bias[0]"
   ]
  },
  {
   "cell_type": "code",
   "execution_count": null,
   "metadata": {
    "scrolled": true
   },
   "outputs": [],
   "source": [
    "with torch.no_grad():\n",
    "    # model[0].weight = nn.Parameter(torch.ones_like(model[0].weight))\n",
    "    # model[0].weight[0, 0] = 2.\n",
    "    # model[0].weight.fill_(3.)\n",
    "    N[2].weight[0,1] = 2"
   ]
  },
  {
   "cell_type": "code",
   "execution_count": null,
   "metadata": {},
   "outputs": [],
   "source": []
  }
 ],
 "metadata": {
  "kernelspec": {
   "display_name": "Python 3",
   "language": "python",
   "name": "python3"
  },
  "language_info": {
   "codemirror_mode": {
    "name": "ipython",
    "version": 3
   },
   "file_extension": ".py",
   "mimetype": "text/x-python",
   "name": "python",
   "nbconvert_exporter": "python",
   "pygments_lexer": "ipython3",
   "version": "3.7.0"
  }
 },
 "nbformat": 4,
 "nbformat_minor": 4
}
